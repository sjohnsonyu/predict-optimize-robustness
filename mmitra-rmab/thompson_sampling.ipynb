{
 "cells": [
  {
   "cell_type": "code",
   "execution_count": 1,
   "id": "87e60692-7dce-43e5-9ce0-ae28fa923f93",
   "metadata": {},
   "outputs": [],
   "source": [
    "import numpy as np"
   ]
  },
  {
   "cell_type": "code",
   "execution_count": 2,
   "id": "a45062a4-e8e1-4794-98cc-86fa6a28dca0",
   "metadata": {},
   "outputs": [
    {
     "data": {
      "text/plain": [
       "array([[0.83827092, 0.10069959, 0.45733749],\n",
       "       [0.90912728, 0.5773119 , 0.48081015],\n",
       "       [0.87177905, 0.70381667, 0.27163819],\n",
       "       [0.88502615, 0.94124882, 0.63347013],\n",
       "       [0.12566018, 0.19713529, 0.46502166],\n",
       "       [0.3195895 , 0.37848189, 0.49857022],\n",
       "       [0.79821684, 0.48958423, 0.72435525],\n",
       "       [0.77239531, 0.60370798, 0.31081807],\n",
       "       [0.968208  , 0.10006617, 0.00440264],\n",
       "       [0.11585138, 0.60835569, 0.07284557],\n",
       "       [0.14641277, 0.07567167, 0.72825238],\n",
       "       [0.00382479, 0.35614108, 0.12511695]])"
      ]
     },
     "execution_count": 2,
     "metadata": {},
     "output_type": "execute_result"
    }
   ],
   "source": [
    "features = np.random.rand(12,3)\n",
    "features"
   ]
  },
  {
   "cell_type": "markdown",
   "id": "10f68eb6-72bf-4e34-b78b-52450b135c9a",
   "metadata": {},
   "source": [
    "# Create a restless MAB with N arms\n",
    "\n",
    "Step 1: Cluster all the beneficiaries using the PPF strategy - where we cluster based on the transition probabilities\n",
    "\n",
    "Step 2: Model transition probabilities for each cluster\n",
    "\n",
    "Do this in a way that balances exploration and exploitation via Thompson sampling\n",
    "\n",
    "Start with Prior beliefs for each arm \n",
    "Start with the same belief - Flat/uninformative prior\n",
    "\n",
    "Where each arm is an MDP (MDP cluster)"
   ]
  },
  {
   "cell_type": "code",
   "execution_count": 5,
   "id": "9f27cb8e-d4a5-407b-a788-57821af1b720",
   "metadata": {},
   "outputs": [],
   "source": [
    "import matplotlib.pyplot as plt\n",
    "from pdb import set_trace\n",
    "\n",
    "stationary=True\n",
    "class Bandit():\n",
    "  def __init__(self, arm_count):\n",
    "    \"\"\"\n",
    "    Multi-armed bandit with rewards 1 or 0.\n",
    "    \n",
    "    At initialization, multiple arms are created. The probability of each arm\n",
    "    returning reward 1 if pulled is sampled from Bernouilli(p), where p randomly\n",
    "    chosen from Uniform(0,1) at initialization\n",
    "    \"\"\"\n",
    "    self.arm_count = arm_count\n",
    "    self.generate_thetas()\n",
    "    self.timestep = 0\n",
    "    global stationary\n",
    "    self.stationary=stationary\n",
    "    \n",
    "  def generate_thetas(self):\n",
    "    self.thetas = np.random.uniform(0,1,self.arm_count)\n",
    "  \n",
    "  def get_reward_regret(self, arm):\n",
    "    \"\"\" Returns random reward for arm action. Assumes actions are 0-indexed\n",
    "    Args:\n",
    "      arm is an int\n",
    "    \"\"\"\n",
    "    self.timestep += 1\n",
    "    if (self.stationary==False) and (self.timestep%100 == 0) :\n",
    "      self.generate_thetas()\n",
    "    # Simulate bernouilli sampling\n",
    "    sim = np.random.uniform(0,1,self.arm_count)\n",
    "    rewards = (sim<self.thetas).astype(int)\n",
    "    reward = rewards[arm]\n",
    "    regret = self.thetas.max() - self.thetas[arm]\n",
    "    \n",
    "    return reward, regret"
   ]
  },
  {
   "cell_type": "code",
   "execution_count": null,
   "id": "a1def5ad-6bad-47ce-9bbb-c2a3d49f4896",
   "metadata": {},
   "outputs": [],
   "source": []
  }
 ],
 "metadata": {
  "kernelspec": {
   "display_name": "Python 3 (ipykernel)",
   "language": "python",
   "name": "python3"
  },
  "language_info": {
   "codemirror_mode": {
    "name": "ipython",
    "version": 3
   },
   "file_extension": ".py",
   "mimetype": "text/x-python",
   "name": "python",
   "nbconvert_exporter": "python",
   "pygments_lexer": "ipython3",
   "version": "3.8.11"
  }
 },
 "nbformat": 4,
 "nbformat_minor": 5
}
