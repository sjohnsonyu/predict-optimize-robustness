{
 "cells": [
  {
   "cell_type": "code",
   "execution_count": 1,
   "metadata": {
    "id": "FKJS791dov9f"
   },
   "outputs": [],
   "source": [
    "import argparse\n",
    "import matplotlib.pyplot as plt\n",
    "import numpy as np\n",
    "import pandas as pd\n",
    "import pickle\n",
    "import tqdm \n",
    "import logging\n",
    "np.set_printoptions(suppress=True)\n",
    "import logging\n",
    "logger = logging.getLogger('')\n",
    "logger.setLevel('INFO')\n",
    "logger.info('4')\n",
    "\n",
    "from itertools import combinations\n"
   ]
  },
  {
   "cell_type": "code",
   "execution_count": 2,
   "metadata": {},
   "outputs": [],
   "source": [
    "%load_ext autoreload\n",
    "%autoreload 2"
   ]
  },
  {
   "cell_type": "code",
   "execution_count": 3,
   "metadata": {},
   "outputs": [],
   "source": [
    "from simulator import loadBeneficiaryData, getTopk, takeActions, getWhittleIndex\n",
    "from LP_functions import LP, big_LP, whittle_LP, prob_string_to_prob"
   ]
  },
  {
   "cell_type": "code",
   "execution_count": 4,
   "metadata": {
    "colab": {
     "base_uri": "https://localhost:8080/"
    },
    "executionInfo": {
     "elapsed": 69563,
     "status": "ok",
     "timestamp": 1623909239857,
     "user": {
      "displayName": "Aditya Mate",
      "photoUrl": "https://lh3.googleusercontent.com/a-/AOh14Gieg2LY0l3jg1ZG71DxFJFZiOjxpaCm3f_5l_-5=s64",
      "userId": "01283220110827855464"
     },
     "user_tz": 240
    },
    "id": "lVENHMCJ8KDt",
    "outputId": "432d2059-d283-46ac-bbfe-b9b9b5eec905",
    "scrolled": true
   },
   "outputs": [
    {
     "name": "stderr",
     "output_type": "stream",
     "text": [
      "/Users/vermashresth/opt/anaconda3/lib/python3.8/site-packages/sklearn/base.py:310: UserWarning: Trying to unpickle estimator DecisionTreeClassifier from version 0.23.2 when using version 0.24.2. This might lead to breaking code or invalid results. Use at your own risk.\n",
      "  warnings.warn(\n",
      "/Users/vermashresth/opt/anaconda3/lib/python3.8/site-packages/sklearn/base.py:310: UserWarning: Trying to unpickle estimator RandomForestClassifier from version 0.23.2 when using version 0.24.2. This might lead to breaking code or invalid results. Use at your own risk.\n",
      "  warnings.warn(\n",
      "/Users/vermashresth/opt/anaconda3/lib/python3.8/site-packages/sklearn/base.py:310: UserWarning: Trying to unpickle estimator DecisionTreeClassifier from version 0.23.2 when using version 0.24.2. This might lead to breaking code or invalid results. Use at your own risk.\n",
      "  warnings.warn(\n",
      "/Users/vermashresth/opt/anaconda3/lib/python3.8/site-packages/sklearn/base.py:310: UserWarning: Trying to unpickle estimator RandomForestClassifier from version 0.23.2 when using version 0.24.2. This might lead to breaking code or invalid results. Use at your own risk.\n",
      "  warnings.warn(\n"
     ]
    }
   ],
   "source": [
    "# Load ARMAAN Transitions and pre-computed whittle indices\n",
    "T_data, w, engagement_matrix, cluster_ids = loadBeneficiaryData()\n",
    "\n",
    "# Load policy dumps\n",
    "with open('policy_dump.pkl', 'rb') as fr:\n",
    "  pilot_user_ids, pilot_static_features, cls, cluster_transition_probabilities, m_values, q_values = pickle.load(fr)\n",
    "fr.close()"
   ]
  },
  {
   "cell_type": "code",
   "execution_count": null,
   "metadata": {},
   "outputs": [],
   "source": []
  },
  {
   "cell_type": "markdown",
   "metadata": {},
   "source": [
    "## Get Actions Function\n",
    "### Contains logic for all policies \n",
    "### Policy is numbered 5,6,7,8,9,10"
   ]
  },
  {
   "cell_type": "code",
   "execution_count": null,
   "metadata": {},
   "outputs": [],
   "source": []
  },
  {
   "cell_type": "code",
   "execution_count": 5,
   "metadata": {},
   "outputs": [],
   "source": [
    "def getActions(states, T,k, cluster_ids, arm_pull_history, policy=0, timestep=None,w=None, sim_length=None, available_arms=None\\\n",
    "               , sleeping_constraint=True):\n",
    "  w = np.array(w)\n",
    "  '''\n",
    "  Computes actions to be taken according to the given policy. \n",
    "  See below for more info on policy map\n",
    "\n",
    "  Inputs: \n",
    "    states: A vector of size N with binary values {0,1} respresenting the \\\n",
    "        states of beneficiaries\n",
    "    T: Transition matrix of size Nx2x2x2 \\\n",
    "        (num_beneficiaries x action x starting_state x ending_state)\n",
    "    k: Intervention budget. Assumed to be between 0 and num_of_beneficiaries\n",
    "    policy: Policy to implement. Dictionary: \\\n",
    "        {0: No interventions, 1: intervene on all, 2: random, 3: round-robin,\\\n",
    "        4: myopic, 5: whittle}\n",
    "    timestep: timestep at which function is called (relevant for round robin)\n",
    "    w: Array of size Nx2 storing the whittle indices of arms when they are \\\n",
    "      available. Indexed as w[beneficiary_idx, state] with state=0 => NE state.\n",
    "  available_arms: An array of size N with binary values {0,1}, where 0 denotes\\\n",
    "      sleeping arm and 1 denotes available arm. \n",
    "  sleeping_constraint: Boolean indicating whether to impose frequency constraint\n",
    "  \n",
    "  Outputs:\n",
    "    actions: A vector of size N with binary values {0,1} representing action \\\n",
    "    chosen for each beneficiary  \n",
    "  '''\n",
    "  logger = logging.getLogger('getAct')\n",
    "  logger.setLevel(level)\n",
    "  SOME_LARGE_NUMBER=10000\n",
    "  \n",
    "  N= states.shape[0]\n",
    "  w = np.copy(w)\n",
    "    \n",
    "  if policy==2:\n",
    "    ## select k arms at random\n",
    "    actions=np.zeros(N)\n",
    "    if sleeping_constraint:\n",
    "      actions[np.random.choice(np.where(available_arms)[0],                    \\\n",
    "                          size=min(k,np.sum(available_arms[available_arms>0])),\\\n",
    "                          replace=False)]=1         # with constraint\n",
    "    else:\n",
    "      actions[np.random.choice(np.arange(N), size=k, replace=False)]=1         \\\n",
    "                                                    # without constraint\n",
    "    return actions\n",
    "  if policy==3:\n",
    "    ## select k arms in a round robin fashion\n",
    "    actions=np.zeros(N)\n",
    "    if sleeping_constraint:\n",
    "      if np.sum(available_arms)<=k:\n",
    "        actions[np.where(available_arms)[0]]=1\n",
    "      else:\n",
    "        actions[[(timestep*k+i)%N for i in range(k)]]=1\n",
    "        '''This is assuming that because more arms are available than required,\\\n",
    "        the arms that we would have pulled otherwise would always be available'''\n",
    "    else:\n",
    "      actions[[(timestep*k+i)%N for i in range(k)]]=1\n",
    "    return actions\n",
    "  \n",
    "  ## Baseline Whittle Index Policy (No Fairness)\n",
    "  if policy==5:\n",
    "    ## select k arms according to whittle indices\n",
    "    actions=np.zeros(N)\n",
    "    whittle_indices=w[np.arange(N), states]\n",
    "    if sleeping_constraint:\n",
    "      whittle_indices[np.where(1-available_arms)]=-SOME_LARGE_NUMBER \n",
    "      ## This is preclude sleeping arms from possibility of selection. \n",
    "      ## Setting it to -infty can lead to numerical errors\n",
    "      top_k_whittle=getTopk(whittle_indices, min(k,int(np.sum(available_arms))))\n",
    "    else:\n",
    "      top_k_whittle=getTopk(whittle_indices, k)\n",
    "    top_k_positive_whittle=np.array([idx for idx in top_k_whittle if \\\n",
    "                                     True])\n",
    "    ## Pull only arms with positive whittle indices\n",
    "    if len(top_k_positive_whittle)>0:\n",
    "      actions[top_k_positive_whittle]=1\n",
    "    return actions\n",
    "  \n",
    "  "
   ]
  },
  {
   "cell_type": "code",
   "execution_count": 6,
   "metadata": {
    "id": "yBlgZW3bqHGq"
   },
   "outputs": [],
   "source": [
    "policy_names={0:'Nobody',1:'Everybody', 2:'Random', 3:'RR', \\\n",
    "                4:'Myopic', 5:'Whittle', 6:'Fair Whittle Myopic', 7:'Fair Whittle Non-Myopic',\n",
    "               8:'Baseline Quota', 9:'Big-LP', 9.1:'Big-LP Lump-sum', 10: 'Big-LP-Big-Whittle', 11: 'Dynamic Fair'}\n",
    "    \n",
    "    \n",
    "def runSimulation(args, T=None,w=None, cluster_ids = None, sleeping_constraint=True,\\\n",
    "                  counterExample=False, badf=50):\n",
    "  '''\n",
    "  Runs the simulation for the given set of input arguments and returns rewards\n",
    "\n",
    "  Inputs: \n",
    "    args: All simulations settings\n",
    "    T: Transition matrix if to be used from existing data\n",
    "    w: Whittle indices corresponding to transition matrix\n",
    "    sleeping_constraint: If True, imposes frequency constraint\n",
    "    counterExample: If True and if T is None, then generates T matrix according\n",
    "                    to adversarial example\n",
    "    badf: Percentage of non-recoverable beneficiaries in counterExample\n",
    "\n",
    "  Outputs: \n",
    "    simulated_rewards: Matrix of size num_trials X num_policies. Each entry is \n",
    "                      total raw reward of a policy for that trial\n",
    "    state_record: Engagement matrix of size num_trials X policies X N X L \\\n",
    "                indexed as [trial no.][policy][beneficiary idx][timestep]\n",
    "  '''\n",
    "  logger = logging.getLogger('runSim')\n",
    "  logger.setLevel(level)\n",
    "  E_START_STATE_PROB=0.5\n",
    "  ##### Unpack arguments\n",
    "  L=args.simulation_length\n",
    "  N=args.num_beneficiaries\n",
    "  k=args.num_resources\n",
    "  ntr=args.num_trials\n",
    "  if args.policy<0:\n",
    "    policies=[2, 3, 5]\n",
    "  else:\n",
    "    policies=[args.policy]\n",
    "\n",
    "  state_record=np.zeros((ntr, len(policies),N,L))  # Store the full state\n",
    "                                                   # trajectory\n",
    "  simulated_rewards=np.zeros((ntr, len(policies))) # Store aggregate rewards\n",
    "  history_dict = {i_pol: [] for i_pol in policies}\n",
    "\n",
    "  ##### Iterate over number of independent trials to average over\n",
    "  for tr in range(ntr):\n",
    "    logger.info('\\n\\n')\n",
    "    logger.info('#'*100)\n",
    "    logger.info(f'Trial: {tr}\\n')\n",
    "    \n",
    "        \n",
    "        \n",
    "    exp_armpull_history = {i_pol:[[0]*N] for i_pol in policies}\n",
    "    ## Initialize for each trial\n",
    "    np.random.seed(seed=tr+args.seed_base)\n",
    "     # Random state \\\n",
    "                                                             #initialization                      \n",
    "    \n",
    "    ## For current trial, evaluate all policies\n",
    "    for pol_idx, pol in enumerate(policies):\n",
    "      np.random.seed(seed=tr+args.seed_base)\n",
    "      if args.sigma==-1:\n",
    "        T_noise = gen_trans(T, seed=tr+args.seed_base)\n",
    "      else:\n",
    "        T_noise = add_noise(T, args.sigma, seed=tr+args.seed_base)\n",
    "#         T_noise = add_noise_subsetted(T, args.sigma,\n",
    "#                                       seed=tr+args.seed_base, subset_size=10)\n",
    "\n",
    "#       if pol == 5:\n",
    "#         print('orig: ', T[0])\n",
    "#         print('noisy: ', T_noise[0])\n",
    "#         print('pol: ', pol, ' seed', tr+args.seed_base)\n",
    "#         print('sigma: ', args.sigma, '\\n')\n",
    "      states=np.random.binomial(1, E_START_STATE_PROB, size=N)\n",
    "#       T_noise = add_noise(T, args.sigma)\n",
    "#       w_noise = Parallel(n_jobs=16)(delayed(getWhittleIndex)(T_noise[i]) for i in tqdm(range(len(T_noise))))\n",
    "      ## Iterate over timesteps. Note that if simulation length is L, \n",
    "      ## there are L-1 action decisions to take.\n",
    "      previous_three_actions=[[],[],[]]          # for tracking sleeping arms\n",
    "      for timestep in range(L-1):\n",
    "        ## Put previously pulled arms to sleep\n",
    "        available_arms=np.ones_like(states)\n",
    "        for prev_a in previous_three_actions:\n",
    "          for arm_idx in prev_a:\n",
    "            available_arms[arm_idx]=0\n",
    "        \n",
    "        ## Compute actions\n",
    "        state_record[tr, pol_idx, :, timestep] = np.copy(states)\n",
    "\n",
    "        actions=getActions(states=states, T=T, k=k, cluster_ids=cluster_ids,\n",
    "                           arm_pull_history=exp_armpull_history[pol],\n",
    "                           policy=pol,\n",
    "                           timestep=timestep, w=w,\\\n",
    "                           sim_length=L-1,available_arms=available_arms, \\\n",
    "                           sleeping_constraint=sleeping_constraint)\n",
    "#         assert np.array_equal(T[rand_idx].flatten(), orig_T)\n",
    "#         assert np.array_equal(w[rand_idx].flatten(), orig_w)\n",
    "\n",
    "        exp_armpull_history[pol].append(actions)\n",
    "#         states = np.copy(takeActions(states, T, actions))\n",
    "        states = np.copy(takeActions(states, T_noise, actions))\n",
    "        ## Update prev_actions array\n",
    "        previous_three_actions[timestep%3]=np.where(actions)[0]\n",
    "      \n",
    "      simulated_rewards[tr, pol_idx]=np.mean(np.sum(state_record[tr,pol_idx], \\\n",
    "                                                    axis=1))\n",
    "#       - (T-1)*state_record[tr,pol_idx][:, 0])\n",
    "\n",
    "      logger.info(f'trial{tr} ', \"Reward of policy %s is %s\"%(policy_names[pol], \\\n",
    "                            simulated_rewards[tr,policies.index(pol)]))\n",
    "      history_dict[pol].append(exp_armpull_history[pol])\n",
    "    \n",
    "\n",
    "\n",
    "  ##### Print results and plot the output\n",
    "  for pol in policies: \n",
    "    print(\"Expected reward of policy %s is %s\"%(policy_names[pol], \\\n",
    "                            np.mean(simulated_rewards[:,policies.index(pol)])))\n",
    "  \n",
    "  return simulated_rewards, state_record, {policy_names[pol]: history_dict[pol] for pol in policies}\n",
    "  \n",
    "\n",
    "\n",
    "    \n"
   ]
  },
  {
   "cell_type": "code",
   "execution_count": null,
   "metadata": {},
   "outputs": [],
   "source": []
  },
  {
   "cell_type": "code",
   "execution_count": 7,
   "metadata": {},
   "outputs": [],
   "source": [
    "def getSmallBeneficiaryData(seed, T_data, w, cluster_ids, fair_clusters, ppl_per_cluster=20, cluster_subset_counts=10, shuffle_clusters=False):\n",
    "    np.random.seed(seed)\n",
    "    if shuffle_clusters:\n",
    "        cluster_ids = np.copy(cluster_ids)\n",
    "        np.random.shuffle(cluster_ids)\n",
    "    \n",
    "    subset = pd.DataFrame({'cluster_id':cluster_ids, 'id':np.arange(len(cluster_ids))}).sample(frac=10, replace=True)\n",
    "    \n",
    "    cluster_val_counts = subset['cluster_id'].value_counts()\n",
    "    suff_cluster_ids = np.sort(cluster_val_counts[cluster_val_counts>=ppl_per_cluster].index)\n",
    "    \n",
    "    cluster_subset = list(np.random.choice([i for i in suff_cluster_ids if i not in fair_clusters],\n",
    "                                           cluster_subset_counts-len(fair_clusters),\n",
    "                                           replace=False))+fair_clusters\n",
    "    \n",
    "    subset = subset[subset['cluster_id'].isin(cluster_subset)]\n",
    "    subset = subset.groupby('cluster_id')['id'].head(ppl_per_cluster).values\n",
    "\n",
    "    return T_data[subset, ...], w[subset, ...], np.array(cluster_ids)[subset]\n",
    "\n",
    "def get_lambda_g(args, m_G, ppl_per_cluster, FAIR_CLUSTER_IDS, cluster_ids_small, T_data_small):\n",
    "    cluster_ids_small_o = cluster_ids_small[np.argsort(cluster_ids_small)]\n",
    "    T_data_small_o = T_data_small[np.argsort(cluster_ids_small)]\n",
    "    fair_pulls_dict = {i:0 for i in np.unique(cluster_ids_small_o)}\n",
    "    for FAIR_CLUSTER_ID in FAIR_CLUSTER_IDS:\n",
    "        fair_pulls_dict[FAIR_CLUSTER_ID] = m_G\n",
    "\n",
    "    lambda_G = big_LP(m_C=fair_pulls_dict, ppl_per_cluster=ppl_per_cluster, T = args.simulation_length-1,\n",
    "                      k = args.num_resources,\n",
    "                      transition_prob=T_data_small_o)\n",
    "    return lambda_G\n",
    "\n",
    "def add_noise(two_state_probs, sigma, seed=0, selective_noise=False):\n",
    "    n = len(two_state_probs)\n",
    "    orig = np.copy(two_state_probs)\n",
    "    \n",
    "    noise = np.random.normal(0, sigma, (n, 2, 2, 1))\n",
    "    noise = np.clip(noise, -0.5, 0.5)\n",
    "    \n",
    "    half = two_state_probs[:, :, :, :1]+noise\n",
    "    half[half > 1] = two_state_probs[:, :, :, :1][half > 1]-noise[half > 1]\n",
    "    half[half < 0] = two_state_probs[:, :, :, :1][half < 0]-noise[half < 0]\n",
    "    \n",
    "    if not selective_noise:\n",
    "        return np.concatenate([half, 1-half], axis=3)\n",
    "    else:\n",
    "        new = np.concatenate([half, 1-half], axis=3)\n",
    "        orig[~np.isin(cluster_ids_small, FAIR_CLUSTER_IDS)] = new[~np.isin(cluster_ids_small, FAIR_CLUSTER_IDS)]\n",
    "        return orig\n",
    "    \n",
    "def add_noise(two_state_probs, sigma, seed):\n",
    "    np.random.seed(seed)\n",
    "    epsilon = 0.000001\n",
    "    n = len(two_state_probs)\n",
    "    orig = np.copy(two_state_probs)\n",
    "    half = orig[:, :, :, :1]\n",
    "    half_transformed = np.log((half+epsilon)/(1 + epsilon -half))\n",
    "    noise = np.random.normal(0, sigma, (n, 2, 2, 1))\n",
    "    noisy_transformed = half_transformed + noise\n",
    "    noise_new_half = np.exp(noisy_transformed)/(1+np.exp(noisy_transformed))\n",
    "\n",
    "    \n",
    "    if not selective_noise:\n",
    "        return np.concatenate([noise_new_half, 1-noise_new_half], axis=3)\n",
    "    else:\n",
    "        new = np.concatenate([noise_new_half, 1-noise_new_half], axis=3)\n",
    "        orig[~np.isin(cluster_ids_small, FAIR_CLUSTER_IDS)] = new[~np.isin(cluster_ids_small, FAIR_CLUSTER_IDS)]\n",
    "        return orig\n",
    " \n",
    "def add_noise_subsetted(two_state_probs, sigma, seed, subset_size):\n",
    "    np.random.seed(seed)\n",
    "    subset_clusters = np.random.choice(np.unique(cluster_ids), subset_size)\n",
    "    epsilon = 0.000001\n",
    "    n = len(two_state_probs)\n",
    "    orig = np.copy(two_state_probs)\n",
    "    half = orig[:, :, :, :1]\n",
    "    half_transformed = np.log((half+epsilon)/(1 + epsilon -half))\n",
    "    noise = np.random.normal(0, sigma, (n, 2, 2, 1))\n",
    "    noisy_transformed = half_transformed + noise\n",
    "    noise_new_half = np.exp(noisy_transformed)/(1+np.exp(noisy_transformed))\n",
    "\n",
    "    new = np.concatenate([noise_new_half, 1-noise_new_half], axis=3)\n",
    "    orig[~np.isin(cluster_ids, subset_clusters)] = new[~np.isin(cluster_ids, subset_clusters)]\n",
    "    return orig\n",
    "    \n",
    "def add_noise(two_state_probs, sigma, seed=0, selective_noise=False):\n",
    "    epsilon = 0.000001\n",
    "    n = len(two_state_probs)\n",
    "    orig = np.copy(two_state_probs)\n",
    "    half = orig[:, :, :, :1]\n",
    "    noise = np.random.normal(0, sigma, (n, 2, 2, 1))\n",
    "    noisy = half + noise\n",
    "    noisy = np.clip(noisy, 0.0, 1.0)\n",
    "\n",
    "    \n",
    "    if not selective_noise:\n",
    "        return np.concatenate([noisy, 1-noisy], axis=3)\n",
    "    else:\n",
    "        new = np.concatenate([noisy, 1-noisy], axis=3)\n",
    "        orig[~np.isin(cluster_ids_small, FAIR_CLUSTER_IDS)] = new[~np.isin(cluster_ids_small, FAIR_CLUSTER_IDS)]\n",
    "        return orig\n",
    "\n",
    "def gen_trans(two_state_probs, seed):\n",
    "    np.random.seed(seed)\n",
    "    half = np.random.uniform(0, 1, two_state_probs[:, :, :, :1].shape)\n",
    "    return np.concatenate([half, 1-half], axis=3)"
   ]
  },
  {
   "cell_type": "code",
   "execution_count": 8,
   "metadata": {},
   "outputs": [
    {
     "data": {
      "text/plain": [
       "array([10,  3, 16], dtype=int32)"
      ]
     },
     "execution_count": 8,
     "metadata": {},
     "output_type": "execute_result"
    }
   ],
   "source": [
    "np.random.choice(np.unique(cluster_ids), 3)\n"
   ]
  },
  {
   "cell_type": "code",
   "execution_count": 9,
   "metadata": {},
   "outputs": [
    {
     "data": {
      "text/plain": [
       "(2089.4865769844764, 2335.461455706871)"
      ]
     },
     "execution_count": 9,
     "metadata": {},
     "output_type": "execute_result"
    }
   ],
   "source": [
    "sum([prob_string_to_prob('P(E, A, E)', tr) for tr in T_data]), \\\n",
    "sum([prob_string_to_prob('P(E, A, E)', add_noise(np.array([tr]), 0.2, 100)[0]) for tr in T_data])"
   ]
  },
  {
   "cell_type": "code",
   "execution_count": 10,
   "metadata": {},
   "outputs": [
    {
     "data": {
      "text/plain": [
       "(0.7636738906088751, 0.6791981201205233)"
      ]
     },
     "execution_count": 10,
     "metadata": {},
     "output_type": "execute_result"
    }
   ],
   "source": [
    "tr = T_data[0]\n",
    "prob_string_to_prob('P(E, A, E)', T_data[0]), \\\n",
    "prob_string_to_prob('P(E, A, E)', add_noise(np.array([tr]), 0.2)[0])"
   ]
  },
  {
   "cell_type": "code",
   "execution_count": 11,
   "metadata": {},
   "outputs": [
    {
     "data": {
      "text/plain": [
       "(284.93788819875806, 289.2716642637037)"
      ]
     },
     "execution_count": 11,
     "metadata": {},
     "output_type": "execute_result"
    }
   ],
   "source": [
    "sum([prob_string_to_prob('P(E, A, E)', T_data[200]) for i in range(1000)]),\\\n",
    "sum([prob_string_to_prob('P(E, A, E)', add_noise(np.array([T_data[200]]), 0.2)[0])\\\n",
    "     for i in range(1000)])"
   ]
  },
  {
   "cell_type": "code",
   "execution_count": 12,
   "metadata": {},
   "outputs": [
    {
     "data": {
      "text/plain": [
       "array([[[0.76482158, 0.23517842],\n",
       "        [0.71506211, 0.28493789]],\n",
       "\n",
       "       [[0.61111111, 0.38888889],\n",
       "        [0.22222222, 0.77777778]]])"
      ]
     },
     "execution_count": 12,
     "metadata": {},
     "output_type": "execute_result"
    }
   ],
   "source": [
    "T_data[200]"
   ]
  },
  {
   "cell_type": "code",
   "execution_count": null,
   "metadata": {},
   "outputs": [],
   "source": []
  },
  {
   "cell_type": "markdown",
   "metadata": {},
   "source": [
    "## Get subsetted transition probs"
   ]
  },
  {
   "cell_type": "code",
   "execution_count": 13,
   "metadata": {
    "scrolled": true
   },
   "outputs": [
    {
     "name": "stdout",
     "output_type": "stream",
     "text": [
      "35    2024\n",
      "10     727\n",
      "3      432\n",
      "14     341\n",
      "0      282\n",
      "9      269\n",
      "25     256\n",
      "23     241\n",
      "19     241\n",
      "27     202\n",
      "18     198\n",
      "30     182\n",
      "13     154\n",
      "33     148\n",
      "4      142\n",
      "6      138\n",
      "16     130\n",
      "2      130\n",
      "28     130\n",
      "21     118\n",
      "31     117\n",
      "1      116\n",
      "29      88\n",
      "5       84\n",
      "24      82\n",
      "11      81\n",
      "20      80\n",
      "37      67\n",
      "39      65\n",
      "32      60\n",
      "12      54\n",
      "22      51\n",
      "26      51\n",
      "8       45\n",
      "7       43\n",
      "38      40\n",
      "36      21\n",
      "34      18\n",
      "15      15\n",
      "17       5\n",
      "dtype: int64\n"
     ]
    }
   ],
   "source": [
    "noise=0\n",
    "m_G=40\n",
    "FAIR_CLUSTER_IDS = [10,8]\n",
    "keep_original_transitions = True\n",
    "ppl_per_cluster = 10\n",
    "cluster_subset_counts=20\n",
    "S_G = ppl_per_cluster\n",
    "seed = 74\n",
    "\n",
    "if not keep_original_transitions:\n",
    "    T_data_small, w_small, cluster_ids_small= getSmallBeneficiaryData(seed, T_data, w, cluster_ids,FAIR_CLUSTER_IDS, \n",
    "                                                                      ppl_per_cluster=ppl_per_cluster,\n",
    "                                                                      cluster_subset_counts=cluster_subset_counts)\n",
    "else:\n",
    "    T_data_small, w_small, cluster_ids_small = np.copy(T_data), np.copy(w), np.copy(cluster_ids)\n",
    "\n",
    "if noise:\n",
    "    w_noise_small = []\n",
    "    tr_noise_small = add_noise(T_data_small, noise)\n",
    "    for trans in tqdm.tqdm(tr_noise_small):\n",
    "        w_noise_small.append(getWhittleIndex(trans, sleeping_constraint = False, lambda_g=0))\n",
    "    w_small = np.copy(w_noise_small)\n",
    "    T_data_small = np.copy(tr_noise_small)\n",
    "    \n",
    "print(pd.Series(cluster_ids_small).value_counts())\n",
    "    \n"
   ]
  },
  {
   "cell_type": "code",
   "execution_count": 25,
   "metadata": {
    "scrolled": false
   },
   "outputs": [
    {
     "name": "stdout",
     "output_type": "stream",
     "text": [
      "Expected reward of policy Random is 164.37780386019824\n",
      "Expected reward of policy RR is 164.2722483046427\n",
      "Expected reward of policy Whittle is 175.03811945748566\n",
      "Expected reward of policy Random is 194.80936358894107\n",
      "Expected reward of policy RR is 194.90744653103806\n",
      "Expected reward of policy Whittle is 202.08661971830983\n",
      "Expected reward of policy Random is 274.9704616588419\n",
      "Expected reward of policy RR is 275.1598591549296\n",
      "Expected reward of policy Whittle is 271.69534428795\n",
      "Expected reward of policy Random is 350.2055946791862\n",
      "Expected reward of policy RR is 350.2412754303599\n",
      "Expected reward of policy Whittle is 349.0562597809077\n"
     ]
    },
    {
     "data": {
      "image/png": "[encoded data removed]",
      "text/plain": [
       "<Figure size 864x360 with 1 Axes>"
      ]
     },
     "metadata": {
      "needs_background": "light"
     },
     "output_type": "display_data"
    }
   ],
   "source": [
    "np.set_printoptions(suppress=True)\n",
    "import logging\n",
    "import seaborn as sns\n",
    "logger = logging.getLogger('')\n",
    "logger.setLevel('INFO')\n",
    "logger.info('4')\n",
    "level='WARN'\n",
    "\n",
    "parser = argparse.ArgumentParser(description='Inputs to engagement simulator module')\n",
    "parser.add_argument('-N', '--num_beneficiaries', default=7000, type=int, help='Number of Beneficiaries')\n",
    "parser.add_argument('-k', '--num_resources', default=1400, type=int, help='Number of calls available per day')\n",
    "parser.add_argument('-L', '--simulation_length', default=40, type=int, help='Number of timesteps of simulation')\n",
    "parser.add_argument('-ntr', '--num_trials', default=10, type=int, help='Number of independent trials')\n",
    "parser.add_argument('-s', '--seed_base', default=10, type=int, help='Seedbase for numpy. This is starting seedbase. Simulation will consider the seeds= {seed_base, ... seed_base+ntr-1}')\n",
    "parser.add_argument('-p', '--policy', default=-1, type=int, help='policy to run. default is all policies')\n",
    "parser.add_argument(\"-f\", \"--fff\", help=\"a dummy argument to fool ipython\", default=\"1\")\n",
    "args = parser.parse_args()\n",
    "args.num_resources=250\n",
    "args.simulation_length=700\n",
    "args.num_trials=10\n",
    "big_whittle_list = []\n",
    "\n",
    "plt.figure(figsize=(12, 5))\n",
    "# sns.set_style(\"whitegrid\", {'axes.grid' : True})\n",
    "# sns.set_palette(sns.color_palette(\"hls\", 4))\n",
    "# sns.set_palette(sns.color_palette())\n",
    "# sns.set_palette(sns.color_palette(\"rocket\"))\n",
    "\n",
    "for sigma in [0, 0.3, 1, -1]:\n",
    "    args.sigma=sigma\n",
    "\n",
    "    args.num_beneficiaries=T_data_small.shape[0]\n",
    "\n",
    "    np.set_printoptions(suppress=True)\n",
    "\n",
    "    simulated_rewards, state_record, history= runSimulation(args,T= T_data_small , w=w_small, cluster_ids=cluster_ids_small,\n",
    "                                                  sleeping_constraint=True)\n",
    "    fair_pull_df = pd.DataFrame({policy: np.array(history[policy]).mean(axis=0).sum(axis=0) \n",
    "                             for policy in history.keys()})\n",
    "    fair_pull_df['cluster_id'] = cluster_ids_small\n",
    "\n",
    "    fair_pull_df.groupby('cluster_id').sum()\n",
    "    whittle_list = []\n",
    "    random_list = []\n",
    "    rr_list = []\n",
    "    for cluster in fair_pull_df.groupby('cluster_id').sum().index:\n",
    "        whittle_list.extend([cluster]*int(fair_pull_df.groupby('cluster_id').sum()['Whittle'].loc[cluster]))\n",
    "        random_list.extend([cluster]*int(fair_pull_df.groupby('cluster_id').sum()['Random'].loc[cluster]))\n",
    "        rr_list.extend([cluster]*int(fair_pull_df.groupby('cluster_id').sum()['RR'].loc[cluster]))\n",
    "    big_whittle_list.append(whittle_list)\n",
    "#     if len(big_whittle_list)==1:\n",
    "#         continue\n",
    "#     plt.figure(figsize=(12, 3))\n",
    "#     sns.set_style(\"whitegrid\", {'axes.grid' : False})\n",
    "#     sns.kdeplot(big_whittle_list[0], fill=True, common_norm=True,\n",
    "#                 label=f'sigma-{0}', alpha=0.3, bw_adjust=1)   \n",
    "    sns.kdeplot(whittle_list, fill=True, common_norm=True,\n",
    "                label=f'sigma-{sigma}', alpha=0.8, bw_adjust=0.8)  \n",
    "#     plt.ylim(0, 0.15)\n",
    "    plt.legend()\n",
    "#     plt.show()"
   ]
  },
  {
   "cell_type": "code",
   "execution_count": 754,
   "metadata": {},
   "outputs": [
    {
     "data": {
      "text/plain": [
       "(10, 40, 7668)"
      ]
     },
     "execution_count": 754,
     "metadata": {},
     "output_type": "execute_result"
    }
   ],
   "source": [
    "np.array(history['Whittle']).shape"
   ]
  },
  {
   "cell_type": "code",
   "execution_count": 788,
   "metadata": {},
   "outputs": [
    {
     "name": "stdout",
     "output_type": "stream",
     "text": [
      "[2. 4. 2. 2. 0. 1. 2. 1. 4. 1. 2. 2. 4. 2. 2. 3. 2. 4. 2. 2.]\n",
      "[0. 0. 0. 0. 1. 0. 0. 0. 0. 0. 0. 0. 0. 0. 0. 0. 0. 0. 1. 0.]\n"
     ]
    }
   ],
   "source": [
    "exp = 0\n",
    "t = 30\n",
    "print(state_record[:, 2, ...][exp, :, t:t+4].sum(axis=1)[20:40])\n",
    "print(np.array(history['Whittle'])[exp, t, :][20:40])"
   ]
  },
  {
   "cell_type": "code",
   "execution_count": null,
   "metadata": {},
   "outputs": [],
   "source": []
  },
  {
   "cell_type": "code",
   "execution_count": null,
   "metadata": {},
   "outputs": [],
   "source": [
    "for t in range(40-3):\n",
    "    exp = 0\n",
    "    actions = np.array(history['Whittle'])[exp, t, :]\n",
    "    states = state_record[:, 2, ...][exp, :, t:t+4].sum(axis=1)\n",
    "    intervention_conversion = "
   ]
  },
  {
   "cell_type": "code",
   "execution_count": 795,
   "metadata": {},
   "outputs": [
    {
     "data": {
      "text/plain": [
       "0     258\n",
       "1     163\n",
       "3     195\n",
       "12     68\n",
       "24     66\n",
       "27    282\n",
       "29    125\n",
       "32     50\n",
       "33    166\n",
       "36     30\n",
       "37     91\n",
       "dtype: int64"
      ]
     },
     "execution_count": 795,
     "metadata": {},
     "output_type": "execute_result"
    }
   ],
   "source": [
    "pd.Series(big_whittle_list[3]).value_counts().sort_index()"
   ]
  },
  {
   "cell_type": "code",
   "execution_count": 655,
   "metadata": {},
   "outputs": [
    {
     "data": {
      "text/plain": [
       "((7668, 2, 2, 2), 7668)"
      ]
     },
     "execution_count": 655,
     "metadata": {},
     "output_type": "execute_result"
    }
   ],
   "source": [
    "T_data.shape, len(cluster_ids)"
   ]
  },
  {
   "cell_type": "code",
   "execution_count": 701,
   "metadata": {},
   "outputs": [],
   "source": [
    "whittle_df = pd.DataFrame({'whittle_E': w[:, 0],\n",
    "             'whittle_NE': w[:, 1],\n",
    "             'cluster': cluster_ids}).drop_duplicates()\n"
   ]
  },
  {
   "cell_type": "code",
   "execution_count": 702,
   "metadata": {},
   "outputs": [
    {
     "data": {
      "text/plain": [
       "cluster           3.000000\n",
       "count           204.000000\n",
       "P(E, I, E)        0.250000\n",
       "P(E, I, NE)       0.750000\n",
       "P(NE, I, E)       0.157895\n",
       "P(NE, I, NE)      0.842105\n",
       "P(E, A, E)        0.000000\n",
       "P(E, A, NE)       1.000000\n",
       "P(NE, A, E)       0.180547\n",
       "P(NE, A, NE)      0.819453\n",
       "whittle_E        -0.074402\n",
       "whittle_NE        0.465172\n",
       "Name: 3, dtype: float64"
      ]
     },
     "execution_count": 702,
     "metadata": {},
     "output_type": "execute_result"
    }
   ],
   "source": [
    "pd.merge(cluster_transition_probabilities, whittle_df, how='left').loc[3]"
   ]
  },
  {
   "cell_type": "code",
   "execution_count": 670,
   "metadata": {},
   "outputs": [
    {
     "data": {
      "text/plain": [
       "array([-0.54520416, -0.46795654, -0.45119476, -0.38793945, -0.22155762,\n",
       "       -0.21250916, -0.1570282 , -0.08378601, -0.07807922, -0.07689667,\n",
       "       -0.07536316, -0.03503418, -0.03092957, -0.02336121,  0.00747681,\n",
       "        0.01118469,  0.02032471,  0.0380249 ,  0.05822754,  0.068367  ,\n",
       "        0.0785675 ,  0.09329224,  0.10005188,  0.12039185,  0.1348877 ,\n",
       "        0.13707733,  0.14500427,  0.16575623,  0.2754364 ,  0.28073883,\n",
       "        0.28222656,  0.32649231,  0.33354187,  0.39415741,  0.41239929,\n",
       "        0.46517181,  0.46569824,  0.58795166,  0.59016418,  0.63092804])"
      ]
     },
     "execution_count": 670,
     "metadata": {},
     "output_type": "execute_result"
    }
   ],
   "source": [
    "np.sort(np.unique(w[:, 1]))"
   ]
  },
  {
   "cell_type": "code",
   "execution_count": 302,
   "metadata": {},
   "outputs": [
    {
     "data": {
      "text/plain": [
       "<seaborn.axisgrid.FacetGrid at 0x7f9198c9c400>"
      ]
     },
     "execution_count": 302,
     "metadata": {},
     "output_type": "execute_result"
    },
    {
     "data": {
      "image/png": "[encoded data removed]",
      "text/plain": [
       "<Figure size 720x360 with 5 Axes>"
      ]
     },
     "metadata": {},
     "output_type": "display_data"
    }
   ],
   "source": [
    "# Create the data\n",
    "g = np.repeat([0, 0.3, 0.8, 1.5, 3], [len(whittle_list)]*5)\n",
    "x = np.concatenate(big_whittle_list)\n",
    "df = pd.DataFrame(dict(x=x, g=g))\n",
    "# m = df.g.map(ord)\n",
    "# df[\"x\"] += m\n",
    "\n",
    "# Initialize the FacetGrid object\n",
    "pal = sns.cubehelix_palette(10, rot=-.25, light=.7)\n",
    "g = sns.FacetGrid(df, row=\"g\", hue=\"g\", aspect=10, height=1, palette=pal)\n",
    "\n",
    "# Draw the densities in a few steps\n",
    "g.map(sns.kdeplot, \"x\",\n",
    "      bw_adjust=1, clip_on=False,\n",
    "      fill=True, alpha=1, linewidth=1.5)\n",
    "g.map(sns.kdeplot, \"x\", clip_on=False, color=\"w\", lw=2, bw_adjust=1)\n",
    "\n",
    "# passing color=None to refline() uses the hue mapping\n",
    "# g.refline(y=0, linewidth=2, linestyle=\"-\", color=None, clip_on=False)\n",
    "\n",
    "\n",
    "# Define and use a simple function to label the plot in axes coordinates\n",
    "def label(x, color, label):\n",
    "    ax = plt.gca()\n",
    "    ax.text(0, .2, label, fontweight=\"bold\", color=color,\n",
    "            ha=\"left\", va=\"center\", transform=ax.transAxes)\n",
    "\n",
    "\n",
    "g.map(label, \"x\")\n",
    "\n",
    "# Set the subplots to overlap\n",
    "g.fig.subplots_adjust(hspace=-.0005)\n",
    "\n",
    "# Remove axes details that don't play well with overlap\n",
    "g.set_titles(\"\")\n",
    "g.set(yticks=[], ylabel=\"\")\n",
    "g.despine(bottom=True, left=True)"
   ]
  },
  {
   "cell_type": "code",
   "execution_count": 301,
   "metadata": {},
   "outputs": [
    {
     "data": {
      "text/plain": [
       "0     -179.0\n",
       "1     -108.0\n",
       "2        NaN\n",
       "3     -498.0\n",
       "7      -58.0\n",
       "8       23.0\n",
       "11    -109.0\n",
       "12     -82.0\n",
       "13    -100.0\n",
       "14     -20.0\n",
       "15      30.0\n",
       "18    2090.0\n",
       "19      16.0\n",
       "20     -21.0\n",
       "21     -48.0\n",
       "22     -32.0\n",
       "24       0.0\n",
       "25       NaN\n",
       "27     194.0\n",
       "29     -75.0\n",
       "31     -42.0\n",
       "32       6.0\n",
       "33    -135.0\n",
       "35   -1944.0\n",
       "36     -10.0\n",
       "37     -12.0\n",
       "38      35.0\n",
       "39      -7.0\n",
       "dtype: float64"
      ]
     },
     "execution_count": 301,
     "metadata": {},
     "output_type": "execute_result"
    }
   ],
   "source": [
    "pd.Series(big_whittle_list[0]).value_counts().sort_index() -\\\n",
    "pd.Series(big_whittle_list[2]).value_counts().sort_index()"
   ]
  },
  {
   "cell_type": "code",
   "execution_count": 300,
   "metadata": {},
   "outputs": [
    {
     "data": {
      "text/plain": [
       "35    15033\n",
       "0      4919\n",
       "3      4649\n",
       "27     4066\n",
       "24     3022\n",
       "13     2499\n",
       "39     2415\n",
       "32     2272\n",
       "31     2004\n",
       "21     1598\n",
       "33     1478\n",
       "1      1454\n",
       "19     1128\n",
       "20     1111\n",
       "29      994\n",
       "8       959\n",
       "37      931\n",
       "12      795\n",
       "38      706\n",
       "22      649\n",
       "11      612\n",
       "15      425\n",
       "7       356\n",
       "14      310\n",
       "36      215\n",
       "dtype: int64"
      ]
     },
     "execution_count": 300,
     "metadata": {},
     "output_type": "execute_result"
    }
   ],
   "source": [
    "pd.Series(big_whittle_list[3]).value_counts()"
   ]
  },
  {
   "cell_type": "code",
   "execution_count": null,
   "metadata": {},
   "outputs": [],
   "source": []
  },
  {
   "cell_type": "code",
   "execution_count": null,
   "metadata": {},
   "outputs": [],
   "source": []
  },
  {
   "cell_type": "code",
   "execution_count": 185,
   "metadata": {},
   "outputs": [
    {
     "data": {
      "text/plain": [
       "<AxesSubplot:xlabel='Whittle', ylabel='Density'>"
      ]
     },
     "execution_count": 185,
     "metadata": {},
     "output_type": "execute_result"
    },
    {
     "data": {
      "image/png": "[encoded data removed]",
      "text/plain": [
       "<Figure size 460.8x403.2 with 1 Axes>"
      ]
     },
     "metadata": {},
     "output_type": "display_data"
    }
   ],
   "source": [
    "import seaborn as sns\n",
    "from jupyterthemes import jtplot\n",
    "\n",
    "# choose which theme to inherit plotting style from\n",
    "# onedork | grade3 | oceans16 | chesterish | monokai | solarizedl | solarizedd\n",
    "jtplot.style(theme='grade3')\n",
    "\n",
    "sns.kdeplot(fair_pull_df.groupby('cluster_id').sum()['Whittle'])\n"
   ]
  },
  {
   "cell_type": "code",
   "execution_count": null,
   "metadata": {},
   "outputs": [],
   "source": []
  },
  {
   "cell_type": "code",
   "execution_count": 174,
   "metadata": {},
   "outputs": [],
   "source": [
    "whittle_list = []\n",
    "random_list = []\n",
    "rr_list = []\n",
    "for cluster in fair_pull_df.groupby('cluster_id').sum().index:\n",
    "    whittle_list.extend([cluster]*int(fair_pull_df.groupby('cluster_id').sum()['Whittle'].loc[cluster]))\n",
    "    random_list.extend([cluster]*int(fair_pull_df.groupby('cluster_id').sum()['Random'].loc[cluster]))\n",
    "    rr_list.extend([cluster]*int(fair_pull_df.groupby('cluster_id').sum()['RR'].loc[cluster]))\n",
    "sns.kdeplot(whittle_list)    \n",
    "    "
   ]
  },
  {
   "cell_type": "code",
   "execution_count": null,
   "metadata": {},
   "outputs": [],
   "source": []
  },
  {
   "cell_type": "code",
   "execution_count": 175,
   "metadata": {},
   "outputs": [
    {
     "data": {
      "text/plain": [
       "<AxesSubplot:ylabel='Density'>"
      ]
     },
     "execution_count": 175,
     "metadata": {},
     "output_type": "execute_result"
    },
    {
     "data": {
      "image/png": "[encoded data removed]",
      "text/plain": [
       "<Figure size 460.8x403.2 with 1 Axes>"
      ]
     },
     "metadata": {},
     "output_type": "display_data"
    }
   ],
   "source": []
  },
  {
   "cell_type": "code",
   "execution_count": null,
   "metadata": {},
   "outputs": [],
   "source": []
  },
  {
   "cell_type": "code",
   "execution_count": null,
   "metadata": {},
   "outputs": [],
   "source": []
  },
  {
   "cell_type": "code",
   "execution_count": null,
   "metadata": {},
   "outputs": [],
   "source": []
  },
  {
   "cell_type": "code",
   "execution_count": null,
   "metadata": {},
   "outputs": [],
   "source": []
  },
  {
   "cell_type": "code",
   "execution_count": null,
   "metadata": {},
   "outputs": [],
   "source": []
  },
  {
   "cell_type": "code",
   "execution_count": null,
   "metadata": {},
   "outputs": [],
   "source": []
  },
  {
   "cell_type": "code",
   "execution_count": null,
   "metadata": {},
   "outputs": [],
   "source": []
  },
  {
   "cell_type": "markdown",
   "metadata": {},
   "source": [
    "## Print cluster pulls"
   ]
  },
  {
   "cell_type": "code",
   "execution_count": 305,
   "metadata": {},
   "outputs": [
    {
     "data": {
      "text/html": [
       "<div>\n",
       "<style scoped>\n",
       "    .dataframe tbody tr th:only-of-type {\n",
       "        vertical-align: middle;\n",
       "    }\n",
       "\n",
       "    .dataframe tbody tr th {\n",
       "        vertical-align: top;\n",
       "    }\n",
       "\n",
       "    .dataframe thead th {\n",
       "        text-align: right;\n",
       "    }\n",
       "</style>\n",
       "<table border=\"1\" class=\"dataframe\">\n",
       "  <thead>\n",
       "    <tr style=\"text-align: right;\">\n",
       "      <th></th>\n",
       "      <th>Random</th>\n",
       "      <th>RR</th>\n",
       "      <th>Whittle</th>\n",
       "      <th>Baseline Quota</th>\n",
       "      <th>Big-LP</th>\n",
       "      <th>Big-LP Lump-sum</th>\n",
       "    </tr>\n",
       "    <tr>\n",
       "      <th>cluster_id</th>\n",
       "      <th></th>\n",
       "      <th></th>\n",
       "      <th></th>\n",
       "      <th></th>\n",
       "      <th></th>\n",
       "      <th></th>\n",
       "    </tr>\n",
       "  </thead>\n",
       "  <tbody>\n",
       "    <tr>\n",
       "      <th>1</th>\n",
       "      <td>20.0</td>\n",
       "      <td>20.0</td>\n",
       "      <td>69.0</td>\n",
       "      <td>69.0</td>\n",
       "      <td>65.0</td>\n",
       "      <td>69.0</td>\n",
       "    </tr>\n",
       "    <tr>\n",
       "      <th>3</th>\n",
       "      <td>23.0</td>\n",
       "      <td>23.0</td>\n",
       "      <td>6.0</td>\n",
       "      <td>2.0</td>\n",
       "      <td>0.0</td>\n",
       "      <td>0.0</td>\n",
       "    </tr>\n",
       "    <tr>\n",
       "      <th>8</th>\n",
       "      <td>22.0</td>\n",
       "      <td>21.0</td>\n",
       "      <td>0.0</td>\n",
       "      <td>40.0</td>\n",
       "      <td>40.0</td>\n",
       "      <td>43.0</td>\n",
       "    </tr>\n",
       "    <tr>\n",
       "      <th>10</th>\n",
       "      <td>21.0</td>\n",
       "      <td>25.0</td>\n",
       "      <td>0.0</td>\n",
       "      <td>40.0</td>\n",
       "      <td>40.0</td>\n",
       "      <td>38.0</td>\n",
       "    </tr>\n",
       "    <tr>\n",
       "      <th>13</th>\n",
       "      <td>17.0</td>\n",
       "      <td>22.0</td>\n",
       "      <td>0.0</td>\n",
       "      <td>0.0</td>\n",
       "      <td>0.0</td>\n",
       "      <td>0.0</td>\n",
       "    </tr>\n",
       "    <tr>\n",
       "      <th>14</th>\n",
       "      <td>21.0</td>\n",
       "      <td>27.0</td>\n",
       "      <td>0.0</td>\n",
       "      <td>0.0</td>\n",
       "      <td>0.0</td>\n",
       "      <td>0.0</td>\n",
       "    </tr>\n",
       "    <tr>\n",
       "      <th>15</th>\n",
       "      <td>31.0</td>\n",
       "      <td>20.0</td>\n",
       "      <td>3.0</td>\n",
       "      <td>1.0</td>\n",
       "      <td>0.0</td>\n",
       "      <td>0.0</td>\n",
       "    </tr>\n",
       "    <tr>\n",
       "      <th>17</th>\n",
       "      <td>21.0</td>\n",
       "      <td>20.0</td>\n",
       "      <td>0.0</td>\n",
       "      <td>0.0</td>\n",
       "      <td>0.0</td>\n",
       "      <td>0.0</td>\n",
       "    </tr>\n",
       "    <tr>\n",
       "      <th>18</th>\n",
       "      <td>31.0</td>\n",
       "      <td>22.0</td>\n",
       "      <td>0.0</td>\n",
       "      <td>0.0</td>\n",
       "      <td>0.0</td>\n",
       "      <td>0.0</td>\n",
       "    </tr>\n",
       "    <tr>\n",
       "      <th>19</th>\n",
       "      <td>16.0</td>\n",
       "      <td>21.0</td>\n",
       "      <td>0.0</td>\n",
       "      <td>0.0</td>\n",
       "      <td>0.0</td>\n",
       "      <td>0.0</td>\n",
       "    </tr>\n",
       "    <tr>\n",
       "      <th>20</th>\n",
       "      <td>25.0</td>\n",
       "      <td>21.0</td>\n",
       "      <td>0.0</td>\n",
       "      <td>0.0</td>\n",
       "      <td>0.0</td>\n",
       "      <td>0.0</td>\n",
       "    </tr>\n",
       "    <tr>\n",
       "      <th>22</th>\n",
       "      <td>26.0</td>\n",
       "      <td>21.0</td>\n",
       "      <td>0.0</td>\n",
       "      <td>0.0</td>\n",
       "      <td>0.0</td>\n",
       "      <td>0.0</td>\n",
       "    </tr>\n",
       "    <tr>\n",
       "      <th>23</th>\n",
       "      <td>26.0</td>\n",
       "      <td>24.0</td>\n",
       "      <td>0.0</td>\n",
       "      <td>0.0</td>\n",
       "      <td>0.0</td>\n",
       "      <td>0.0</td>\n",
       "    </tr>\n",
       "    <tr>\n",
       "      <th>25</th>\n",
       "      <td>12.0</td>\n",
       "      <td>20.0</td>\n",
       "      <td>0.0</td>\n",
       "      <td>0.0</td>\n",
       "      <td>0.0</td>\n",
       "      <td>0.0</td>\n",
       "    </tr>\n",
       "    <tr>\n",
       "      <th>27</th>\n",
       "      <td>19.0</td>\n",
       "      <td>23.0</td>\n",
       "      <td>136.0</td>\n",
       "      <td>85.0</td>\n",
       "      <td>91.0</td>\n",
       "      <td>102.0</td>\n",
       "    </tr>\n",
       "    <tr>\n",
       "      <th>29</th>\n",
       "      <td>16.0</td>\n",
       "      <td>20.0</td>\n",
       "      <td>72.0</td>\n",
       "      <td>72.0</td>\n",
       "      <td>72.0</td>\n",
       "      <td>72.0</td>\n",
       "    </tr>\n",
       "    <tr>\n",
       "      <th>31</th>\n",
       "      <td>25.0</td>\n",
       "      <td>23.0</td>\n",
       "      <td>0.0</td>\n",
       "      <td>0.0</td>\n",
       "      <td>0.0</td>\n",
       "      <td>0.0</td>\n",
       "    </tr>\n",
       "    <tr>\n",
       "      <th>32</th>\n",
       "      <td>20.0</td>\n",
       "      <td>20.0</td>\n",
       "      <td>67.0</td>\n",
       "      <td>46.0</td>\n",
       "      <td>47.0</td>\n",
       "      <td>30.0</td>\n",
       "    </tr>\n",
       "    <tr>\n",
       "      <th>36</th>\n",
       "      <td>25.0</td>\n",
       "      <td>21.0</td>\n",
       "      <td>82.0</td>\n",
       "      <td>80.0</td>\n",
       "      <td>80.0</td>\n",
       "      <td>81.0</td>\n",
       "    </tr>\n",
       "    <tr>\n",
       "      <th>39</th>\n",
       "      <td>18.0</td>\n",
       "      <td>21.0</td>\n",
       "      <td>0.0</td>\n",
       "      <td>0.0</td>\n",
       "      <td>0.0</td>\n",
       "      <td>0.0</td>\n",
       "    </tr>\n",
       "  </tbody>\n",
       "</table>\n",
       "</div>"
      ],
      "text/plain": [
       "            Random    RR  Whittle  Baseline Quota  Big-LP  Big-LP Lump-sum\n",
       "cluster_id                                                                \n",
       "1             20.0  20.0     69.0            69.0    65.0             69.0\n",
       "3             23.0  23.0      6.0             2.0     0.0              0.0\n",
       "8             22.0  21.0      0.0            40.0    40.0             43.0\n",
       "10            21.0  25.0      0.0            40.0    40.0             38.0\n",
       "13            17.0  22.0      0.0             0.0     0.0              0.0\n",
       "14            21.0  27.0      0.0             0.0     0.0              0.0\n",
       "15            31.0  20.0      3.0             1.0     0.0              0.0\n",
       "17            21.0  20.0      0.0             0.0     0.0              0.0\n",
       "18            31.0  22.0      0.0             0.0     0.0              0.0\n",
       "19            16.0  21.0      0.0             0.0     0.0              0.0\n",
       "20            25.0  21.0      0.0             0.0     0.0              0.0\n",
       "22            26.0  21.0      0.0             0.0     0.0              0.0\n",
       "23            26.0  24.0      0.0             0.0     0.0              0.0\n",
       "25            12.0  20.0      0.0             0.0     0.0              0.0\n",
       "27            19.0  23.0    136.0            85.0    91.0            102.0\n",
       "29            16.0  20.0     72.0            72.0    72.0             72.0\n",
       "31            25.0  23.0      0.0             0.0     0.0              0.0\n",
       "32            20.0  20.0     67.0            46.0    47.0             30.0\n",
       "36            25.0  21.0     82.0            80.0    80.0             81.0\n",
       "39            18.0  21.0      0.0             0.0     0.0              0.0"
      ]
     },
     "execution_count": 305,
     "metadata": {},
     "output_type": "execute_result"
    }
   ],
   "source": [
    "fair_pull_df = pd.DataFrame({policy: np.array(history[policy]).mean(axis=0).sum(axis=0) \n",
    "                             for policy in history.keys()})\n",
    "fair_pull_df['cluster_id'] = cluster_ids_small\n",
    "\n",
    "fair_pull_df.groupby('cluster_id').sum()"
   ]
  },
  {
   "cell_type": "code",
   "execution_count": null,
   "metadata": {},
   "outputs": [],
   "source": []
  },
  {
   "cell_type": "code",
   "execution_count": null,
   "metadata": {},
   "outputs": [],
   "source": []
  },
  {
   "cell_type": "markdown",
   "metadata": {},
   "source": [
    "## Run Multi Exps"
   ]
  },
  {
   "cell_type": "code",
   "execution_count": 124,
   "metadata": {},
   "outputs": [],
   "source": []
  },
  {
   "cell_type": "code",
   "execution_count": 137,
   "metadata": {},
   "outputs": [
    {
     "name": "stdout",
     "output_type": "stream",
     "text": [
      "640 1.0666666666666667\n"
     ]
    }
   ],
   "source": [
    "from itertools import product\n",
    "\n",
    "m_G_prcnt_exps = [10, 20, 30, 50] # 5\n",
    "FAIR_CLUSTER_IDS_exps = [[10], [35], [10, 35], [10, 8, 35], [10,23,8,35]] # 6 (adding 28 randomly, we can add anything else)\n",
    "horizon_exps = [30, 40] #3\n",
    "resources_exps = [15, 20]\n",
    "noise_exps = [0] #3\n",
    "seed_exps = [62, 58, 19, 74, 21, 84, 57, 33 ] #10\n",
    "ppl_per_cluster_exps = [10]\n",
    "cluster_subset_counts_exps = [20]\n",
    "\n",
    "n_exps = len(list(product(m_G_prcnt_exps, FAIR_CLUSTER_IDS_exps,\n",
    "                                           horizon_exps,\n",
    "                                           resources_exps,\n",
    "                                           ppl_per_cluster_exps,\n",
    "                                           cluster_subset_counts_exps,\n",
    "                                           noise_exps,\n",
    "                                           seed_exps)))\n",
    "print(n_exps, n_exps*6/60/60)"
   ]
  },
  {
   "cell_type": "code",
   "execution_count": 138,
   "metadata": {},
   "outputs": [],
   "source": [
    "tr_noise_small, w_noise_small = np.load('noisy_3_trans.npy'), np.load('noisy_3_whittle.npy')"
   ]
  },
  {
   "cell_type": "code",
   "execution_count": 139,
   "metadata": {
    "scrolled": true
   },
   "outputs": [
    {
     "name": "stderr",
     "output_type": "stream",
     "text": [
      "\r",
      "0it [00:00, ?it/s]"
     ]
    },
    {
     "name": "stdout",
     "output_type": "stream",
     "text": [
      "m_g: 45,fair clusters: [10], timsteps:30\n",
      "k:15, ppl_per_cluster:10, n_clusters:20\n",
      "noise:0, seed:62\n"
     ]
    },
    {
     "name": "stderr",
     "output_type": "stream",
     "text": [
      "\r",
      "1it [00:06,  6.24s/it]"
     ]
    },
    {
     "name": "stdout",
     "output_type": "stream",
     "text": [
      "Expected reward of policy Random is 12.742999999999999\n",
      "Expected reward of policy RR is 12.437999999999999\n",
      "Expected reward of policy Whittle is 13.413999999999998\n",
      "Expected reward of policy Baseline Quota is 13.3255\n",
      "Expected reward of policy Big-LP is 13.312000000000001\n",
      "Expected reward of policy Big-LP Lump-sum is 13.312000000000001\n",
      "m_g: 45,fair clusters: [10], timsteps:30\n",
      "k:15, ppl_per_cluster:10, n_clusters:20\n",
      "noise:0, seed:58\n"
     ]
    },
    {
     "name": "stderr",
     "output_type": "stream",
     "text": [
      "\r",
      "2it [00:11,  5.95s/it]"
     ]
    },
    {
     "name": "stdout",
     "output_type": "stream",
     "text": [
      "Expected reward of policy Random is 11.491499999999998\n",
      "Expected reward of policy RR is 11.434500000000002\n",
      "Expected reward of policy Whittle is 12.621999999999998\n",
      "Expected reward of policy Baseline Quota is 12.514\n",
      "Expected reward of policy Big-LP is 12.522\n",
      "Expected reward of policy Big-LP Lump-sum is 12.522\n",
      "m_g: 45,fair clusters: [10], timsteps:30\n",
      "k:15, ppl_per_cluster:10, n_clusters:20\n",
      "noise:0, seed:19\n"
     ]
    },
    {
     "name": "stderr",
     "output_type": "stream",
     "text": [
      "\r",
      "3it [00:16,  5.72s/it]"
     ]
    },
    {
     "name": "stdout",
     "output_type": "stream",
     "text": [
      "Expected reward of policy Random is 11.966\n",
      "Expected reward of policy RR is 12.046\n",
      "Expected reward of policy Whittle is 13.5435\n",
      "Expected reward of policy Baseline Quota is 13.422999999999998\n",
      "Expected reward of policy Big-LP is 13.4605\n",
      "Expected reward of policy Big-LP Lump-sum is 13.4605\n",
      "m_g: 45,fair clusters: [10], timsteps:30\n",
      "k:15, ppl_per_cluster:10, n_clusters:20\n",
      "noise:0, seed:74\n"
     ]
    },
    {
     "name": "stderr",
     "output_type": "stream",
     "text": [
      "\r",
      "4it [00:22,  5.61s/it]"
     ]
    },
    {
     "name": "stdout",
     "output_type": "stream",
     "text": [
      "Expected reward of policy Random is 11.918000000000001\n",
      "Expected reward of policy RR is 11.8\n",
      "Expected reward of policy Whittle is 13.34\n",
      "Expected reward of policy Baseline Quota is 13.255500000000001\n",
      "Expected reward of policy Big-LP is 13.269\n",
      "Expected reward of policy Big-LP Lump-sum is 13.269\n",
      "m_g: 45,fair clusters: [10], timsteps:30\n",
      "k:15, ppl_per_cluster:10, n_clusters:20\n",
      "noise:0, seed:21\n"
     ]
    },
    {
     "name": "stderr",
     "output_type": "stream",
     "text": [
      "\r",
      "5it [00:27,  5.50s/it]"
     ]
    },
    {
     "name": "stdout",
     "output_type": "stream",
     "text": [
      "Expected reward of policy Random is 9.856000000000002\n",
      "Expected reward of policy RR is 9.760499999999999\n",
      "Expected reward of policy Whittle is 11.006\n",
      "Expected reward of policy Baseline Quota is 10.878\n",
      "Expected reward of policy Big-LP is 10.8785\n",
      "Expected reward of policy Big-LP Lump-sum is 10.8785\n",
      "m_g: 45,fair clusters: [10], timsteps:30\n",
      "k:15, ppl_per_cluster:10, n_clusters:20\n",
      "noise:0, seed:84\n"
     ]
    },
    {
     "name": "stderr",
     "output_type": "stream",
     "text": [
      "\r",
      "6it [00:32,  5.34s/it]"
     ]
    },
    {
     "name": "stdout",
     "output_type": "stream",
     "text": [
      "Expected reward of policy Random is 9.7415\n",
      "Expected reward of policy RR is 9.633\n",
      "Expected reward of policy Whittle is 10.918000000000001\n",
      "Expected reward of policy Baseline Quota is 10.809999999999999\n",
      "Expected reward of policy Big-LP is 10.812999999999999\n",
      "Expected reward of policy Big-LP Lump-sum is 10.812999999999999\n",
      "m_g: 45,fair clusters: [10], timsteps:30\n",
      "k:15, ppl_per_cluster:10, n_clusters:20\n",
      "noise:0, seed:57\n"
     ]
    },
    {
     "name": "stderr",
     "output_type": "stream",
     "text": [
      "\r",
      "7it [00:37,  5.26s/it]"
     ]
    },
    {
     "name": "stdout",
     "output_type": "stream",
     "text": [
      "Expected reward of policy Random is 12.5715\n",
      "Expected reward of policy RR is 12.5595\n",
      "Expected reward of policy Whittle is 13.682500000000001\n",
      "Expected reward of policy Baseline Quota is 13.559500000000003\n",
      "Expected reward of policy Big-LP is 13.578\n",
      "Expected reward of policy Big-LP Lump-sum is 13.578\n",
      "m_g: 45,fair clusters: [10], timsteps:30\n",
      "k:15, ppl_per_cluster:10, n_clusters:20\n",
      "noise:0, seed:33\n"
     ]
    },
    {
     "name": "stderr",
     "output_type": "stream",
     "text": [
      "\r",
      "8it [00:42,  5.17s/it]"
     ]
    },
    {
     "name": "stdout",
     "output_type": "stream",
     "text": [
      "Expected reward of policy Random is 11.108999999999998\n",
      "Expected reward of policy RR is 11.110000000000001\n",
      "Expected reward of policy Whittle is 12.53\n",
      "Expected reward of policy Baseline Quota is 12.423\n",
      "Expected reward of policy Big-LP is 12.435500000000001\n",
      "Expected reward of policy Big-LP Lump-sum is 12.435500000000001\n",
      "m_g: 60,fair clusters: [10], timsteps:30\n",
      "k:20, ppl_per_cluster:10, n_clusters:20\n",
      "noise:0, seed:62\n"
     ]
    },
    {
     "name": "stderr",
     "output_type": "stream",
     "text": [
      "\r",
      "9it [00:47,  5.15s/it]"
     ]
    },
    {
     "name": "stdout",
     "output_type": "stream",
     "text": [
      "Expected reward of policy Random is 12.861500000000001\n",
      "Expected reward of policy RR is 12.5815\n",
      "Expected reward of policy Whittle is 13.7345\n",
      "Expected reward of policy Baseline Quota is 13.631499999999999\n",
      "Expected reward of policy Big-LP is 13.648500000000002\n",
      "Expected reward of policy Big-LP Lump-sum is 13.648500000000002\n",
      "m_g: 60,fair clusters: [10], timsteps:30\n",
      "k:20, ppl_per_cluster:10, n_clusters:20\n",
      "noise:0, seed:58\n"
     ]
    },
    {
     "name": "stderr",
     "output_type": "stream",
     "text": [
      "\r",
      "10it [00:52,  5.22s/it]"
     ]
    },
    {
     "name": "stdout",
     "output_type": "stream",
     "text": [
      "Expected reward of policy Random is 11.649500000000002\n",
      "Expected reward of policy RR is 11.578\n",
      "Expected reward of policy Whittle is 13.031\n",
      "Expected reward of policy Baseline Quota is 12.904\n",
      "Expected reward of policy Big-LP is 12.907\n",
      "Expected reward of policy Big-LP Lump-sum is 12.907\n",
      "m_g: 60,fair clusters: [10], timsteps:30\n",
      "k:20, ppl_per_cluster:10, n_clusters:20\n",
      "noise:0, seed:19\n"
     ]
    },
    {
     "name": "stderr",
     "output_type": "stream",
     "text": [
      "\r",
      "11it [00:57,  5.20s/it]"
     ]
    },
    {
     "name": "stdout",
     "output_type": "stream",
     "text": [
      "Expected reward of policy Random is 12.1745\n",
      "Expected reward of policy RR is 12.138\n",
      "Expected reward of policy Whittle is 13.9585\n",
      "Expected reward of policy Baseline Quota is 13.870500000000002\n",
      "Expected reward of policy Big-LP is 13.870500000000002\n",
      "Expected reward of policy Big-LP Lump-sum is 13.870500000000002\n",
      "m_g: 60,fair clusters: [10], timsteps:30\n",
      "k:20, ppl_per_cluster:10, n_clusters:20\n",
      "noise:0, seed:74\n"
     ]
    },
    {
     "name": "stderr",
     "output_type": "stream",
     "text": [
      "\r",
      "12it [01:03,  5.21s/it]"
     ]
    },
    {
     "name": "stdout",
     "output_type": "stream",
     "text": [
      "Expected reward of policy Random is 12.118500000000001\n",
      "Expected reward of policy RR is 12.1055\n",
      "Expected reward of policy Whittle is 13.684000000000001\n",
      "Expected reward of policy Baseline Quota is 13.5655\n",
      "Expected reward of policy Big-LP is 13.564000000000002\n",
      "Expected reward of policy Big-LP Lump-sum is 13.564000000000002\n",
      "m_g: 60,fair clusters: [10], timsteps:30\n",
      "k:20, ppl_per_cluster:10, n_clusters:20\n",
      "noise:0, seed:21\n"
     ]
    },
    {
     "name": "stderr",
     "output_type": "stream",
     "text": [
      "\r",
      "13it [01:08,  5.27s/it]"
     ]
    },
    {
     "name": "stdout",
     "output_type": "stream",
     "text": [
      "Expected reward of policy Random is 10.007000000000001\n",
      "Expected reward of policy RR is 9.9695\n",
      "Expected reward of policy Whittle is 11.4245\n",
      "Expected reward of policy Baseline Quota is 11.264000000000001\n",
      "Expected reward of policy Big-LP is 11.2625\n",
      "Expected reward of policy Big-LP Lump-sum is 11.2625\n",
      "m_g: 60,fair clusters: [10], timsteps:30\n",
      "k:20, ppl_per_cluster:10, n_clusters:20\n",
      "noise:0, seed:84\n"
     ]
    },
    {
     "name": "stderr",
     "output_type": "stream",
     "text": [
      "\r",
      "14it [01:14,  5.40s/it]"
     ]
    },
    {
     "name": "stdout",
     "output_type": "stream",
     "text": [
      "Expected reward of policy Random is 9.963999999999999\n",
      "Expected reward of policy RR is 9.927499999999998\n",
      "Expected reward of policy Whittle is 11.2765\n",
      "Expected reward of policy Baseline Quota is 11.194500000000001\n",
      "Expected reward of policy Big-LP is 11.167\n",
      "Expected reward of policy Big-LP Lump-sum is 11.167\n",
      "m_g: 60,fair clusters: [10], timsteps:30\n",
      "k:20, ppl_per_cluster:10, n_clusters:20\n",
      "noise:0, seed:57\n"
     ]
    },
    {
     "name": "stderr",
     "output_type": "stream",
     "text": [
      "\r",
      "15it [01:19,  5.45s/it]"
     ]
    },
    {
     "name": "stdout",
     "output_type": "stream",
     "text": [
      "Expected reward of policy Random is 12.714000000000002\n",
      "Expected reward of policy RR is 12.696499999999999\n",
      "Expected reward of policy Whittle is 14.138499999999999\n",
      "Expected reward of policy Baseline Quota is 13.994\n",
      "Expected reward of policy Big-LP is 14.0495\n",
      "Expected reward of policy Big-LP Lump-sum is 14.0495\n",
      "m_g: 60,fair clusters: [10], timsteps:30\n",
      "k:20, ppl_per_cluster:10, n_clusters:20\n",
      "noise:0, seed:33\n"
     ]
    },
    {
     "name": "stderr",
     "output_type": "stream",
     "text": [
      "\r",
      "16it [01:24,  5.36s/it]"
     ]
    },
    {
     "name": "stdout",
     "output_type": "stream",
     "text": [
      "Expected reward of policy Random is 11.237\n",
      "Expected reward of policy RR is 11.302000000000001\n",
      "Expected reward of policy Whittle is 12.821000000000002\n",
      "Expected reward of policy Baseline Quota is 12.725\n",
      "Expected reward of policy Big-LP is 12.753499999999999\n",
      "Expected reward of policy Big-LP Lump-sum is 12.753499999999999\n",
      "m_g: 60,fair clusters: [10], timsteps:40\n",
      "k:15, ppl_per_cluster:10, n_clusters:20\n",
      "noise:0, seed:62\n"
     ]
    },
    {
     "name": "stderr",
     "output_type": "stream",
     "text": [
      "\r",
      "17it [01:30,  5.34s/it]"
     ]
    },
    {
     "name": "stdout",
     "output_type": "stream",
     "text": [
      "Expected reward of policy Random is 17.014999999999997\n",
      "Expected reward of policy RR is 16.718000000000004\n",
      "Expected reward of policy Whittle is 17.987499999999997\n",
      "Expected reward of policy Baseline Quota is 17.8775\n",
      "Expected reward of policy Big-LP is 17.8675\n",
      "Expected reward of policy Big-LP Lump-sum is 17.8675\n",
      "m_g: 60,fair clusters: [10], timsteps:40\n",
      "k:15, ppl_per_cluster:10, n_clusters:20\n",
      "noise:0, seed:58\n"
     ]
    },
    {
     "name": "stderr",
     "output_type": "stream",
     "text": [
      "\r",
      "18it [01:35,  5.36s/it]"
     ]
    },
    {
     "name": "stdout",
     "output_type": "stream",
     "text": [
      "Expected reward of policy Random is 15.355499999999997\n",
      "Expected reward of policy RR is 15.269499999999999\n",
      "Expected reward of policy Whittle is 16.889000000000003\n",
      "Expected reward of policy Baseline Quota is 16.7465\n",
      "Expected reward of policy Big-LP is 16.747\n",
      "Expected reward of policy Big-LP Lump-sum is 16.747\n",
      "m_g: 60,fair clusters: [10], timsteps:40\n",
      "k:15, ppl_per_cluster:10, n_clusters:20\n",
      "noise:0, seed:19\n"
     ]
    },
    {
     "name": "stderr",
     "output_type": "stream",
     "text": [
      "\r",
      "19it [01:40,  5.28s/it]"
     ]
    },
    {
     "name": "stdout",
     "output_type": "stream",
     "text": [
      "Expected reward of policy Random is 16.0205\n",
      "Expected reward of policy RR is 16.145\n",
      "Expected reward of policy Whittle is 18.2655\n",
      "Expected reward of policy Baseline Quota is 18.077499999999997\n",
      "Expected reward of policy Big-LP is 18.1315\n",
      "Expected reward of policy Big-LP Lump-sum is 18.1315\n",
      "m_g: 60,fair clusters: [10], timsteps:40\n",
      "k:15, ppl_per_cluster:10, n_clusters:20\n",
      "noise:0, seed:74\n"
     ]
    },
    {
     "name": "stderr",
     "output_type": "stream",
     "text": [
      "\r",
      "20it [01:46,  5.29s/it]"
     ]
    },
    {
     "name": "stdout",
     "output_type": "stream",
     "text": [
      "Expected reward of policy Random is 15.959999999999999\n",
      "Expected reward of policy RR is 15.848500000000001\n",
      "Expected reward of policy Whittle is 17.929\n",
      "Expected reward of policy Baseline Quota is 17.825\n",
      "Expected reward of policy Big-LP is 17.8295\n",
      "Expected reward of policy Big-LP Lump-sum is 17.8295\n",
      "m_g: 60,fair clusters: [10], timsteps:40\n",
      "k:15, ppl_per_cluster:10, n_clusters:20\n",
      "noise:0, seed:21\n"
     ]
    },
    {
     "name": "stderr",
     "output_type": "stream",
     "text": [
      "\r",
      "21it [01:51,  5.27s/it]"
     ]
    },
    {
     "name": "stdout",
     "output_type": "stream",
     "text": [
      "Expected reward of policy Random is 13.227500000000001\n",
      "Expected reward of policy RR is 13.023\n",
      "Expected reward of policy Whittle is 14.724\n",
      "Expected reward of policy Baseline Quota is 14.5525\n",
      "Expected reward of policy Big-LP is 14.5335\n",
      "Expected reward of policy Big-LP Lump-sum is 14.5335\n",
      "m_g: 60,fair clusters: [10], timsteps:40\n",
      "k:15, ppl_per_cluster:10, n_clusters:20\n",
      "noise:0, seed:84\n"
     ]
    },
    {
     "name": "stderr",
     "output_type": "stream",
     "text": [
      "\r",
      "22it [01:56,  5.24s/it]"
     ]
    },
    {
     "name": "stdout",
     "output_type": "stream",
     "text": [
      "Expected reward of policy Random is 13.055000000000001\n",
      "Expected reward of policy RR is 12.832500000000001\n",
      "Expected reward of policy Whittle is 14.597500000000002\n",
      "Expected reward of policy Baseline Quota is 14.441999999999998\n",
      "Expected reward of policy Big-LP is 14.4525\n",
      "Expected reward of policy Big-LP Lump-sum is 14.4525\n",
      "m_g: 60,fair clusters: [10], timsteps:40\n",
      "k:15, ppl_per_cluster:10, n_clusters:20\n",
      "noise:0, seed:57\n"
     ]
    },
    {
     "name": "stderr",
     "output_type": "stream",
     "text": [
      "\r",
      "23it [02:01,  5.23s/it]"
     ]
    },
    {
     "name": "stdout",
     "output_type": "stream",
     "text": [
      "Expected reward of policy Random is 16.860500000000002\n",
      "Expected reward of policy RR is 16.8365\n",
      "Expected reward of policy Whittle is 18.357\n",
      "Expected reward of policy Baseline Quota is 18.187\n",
      "Expected reward of policy Big-LP is 18.187\n",
      "Expected reward of policy Big-LP Lump-sum is 18.187\n",
      "m_g: 60,fair clusters: [10], timsteps:40\n",
      "k:15, ppl_per_cluster:10, n_clusters:20\n",
      "noise:0, seed:33\n"
     ]
    },
    {
     "name": "stderr",
     "output_type": "stream",
     "text": [
      "\r",
      "24it [02:06,  5.22s/it]"
     ]
    },
    {
     "name": "stdout",
     "output_type": "stream",
     "text": [
      "Expected reward of policy Random is 14.892999999999997\n",
      "Expected reward of policy RR is 14.9445\n",
      "Expected reward of policy Whittle is 16.8245\n",
      "Expected reward of policy Baseline Quota is 16.699\n",
      "Expected reward of policy Big-LP is 16.726499999999998\n",
      "Expected reward of policy Big-LP Lump-sum is 16.726499999999998\n",
      "m_g: 80,fair clusters: [10], timsteps:40\n",
      "k:20, ppl_per_cluster:10, n_clusters:20\n",
      "noise:0, seed:62\n"
     ]
    },
    {
     "name": "stderr",
     "output_type": "stream",
     "text": [
      "\r",
      "25it [02:12,  5.22s/it]"
     ]
    },
    {
     "name": "stdout",
     "output_type": "stream",
     "text": [
      "Expected reward of policy Random is 17.1505\n",
      "Expected reward of policy RR is 16.8505\n",
      "Expected reward of policy Whittle is 18.4065\n",
      "Expected reward of policy Baseline Quota is 18.276999999999997\n",
      "Expected reward of policy Big-LP is 18.2905\n",
      "Expected reward of policy Big-LP Lump-sum is 18.2905\n",
      "m_g: 80,fair clusters: [10], timsteps:40\n",
      "k:20, ppl_per_cluster:10, n_clusters:20\n",
      "noise:0, seed:58\n"
     ]
    },
    {
     "name": "stderr",
     "output_type": "stream",
     "text": [
      "\r",
      "26it [02:17,  5.34s/it]"
     ]
    },
    {
     "name": "stdout",
     "output_type": "stream",
     "text": [
      "Expected reward of policy Random is 15.5545\n",
      "Expected reward of policy RR is 15.459\n",
      "Expected reward of policy Whittle is 17.448\n",
      "Expected reward of policy Baseline Quota is 17.288999999999998\n",
      "Expected reward of policy Big-LP is 17.285999999999998\n",
      "Expected reward of policy Big-LP Lump-sum is 17.285999999999998\n",
      "m_g: 80,fair clusters: [10], timsteps:40\n",
      "k:20, ppl_per_cluster:10, n_clusters:20\n",
      "noise:0, seed:19\n"
     ]
    },
    {
     "name": "stderr",
     "output_type": "stream",
     "text": [
      "\r",
      "27it [02:23,  5.36s/it]"
     ]
    },
    {
     "name": "stdout",
     "output_type": "stream",
     "text": [
      "Expected reward of policy Random is 16.2925\n",
      "Expected reward of policy RR is 16.326999999999998\n",
      "Expected reward of policy Whittle is 18.839\n",
      "Expected reward of policy Baseline Quota is 18.704\n",
      "Expected reward of policy Big-LP is 18.677500000000002\n",
      "Expected reward of policy Big-LP Lump-sum is 18.677500000000002\n",
      "m_g: 80,fair clusters: [10], timsteps:40\n",
      "k:20, ppl_per_cluster:10, n_clusters:20\n",
      "noise:0, seed:74\n"
     ]
    },
    {
     "name": "stderr",
     "output_type": "stream",
     "text": [
      "\r",
      "28it [02:28,  5.37s/it]"
     ]
    },
    {
     "name": "stdout",
     "output_type": "stream",
     "text": [
      "Expected reward of policy Random is 16.2555\n",
      "Expected reward of policy RR is 16.2265\n",
      "Expected reward of policy Whittle is 18.405\n",
      "Expected reward of policy Baseline Quota is 18.2515\n",
      "Expected reward of policy Big-LP is 18.253999999999998\n",
      "Expected reward of policy Big-LP Lump-sum is 18.253999999999998\n",
      "m_g: 80,fair clusters: [10], timsteps:40\n",
      "k:20, ppl_per_cluster:10, n_clusters:20\n",
      "noise:0, seed:21\n"
     ]
    },
    {
     "name": "stderr",
     "output_type": "stream",
     "text": [
      "\r",
      "29it [02:34,  5.46s/it]"
     ]
    },
    {
     "name": "stdout",
     "output_type": "stream",
     "text": [
      "Expected reward of policy Random is 13.434999999999999\n",
      "Expected reward of policy RR is 13.2875\n",
      "Expected reward of policy Whittle is 15.3015\n",
      "Expected reward of policy Baseline Quota is 15.083000000000002\n",
      "Expected reward of policy Big-LP is 15.105\n",
      "Expected reward of policy Big-LP Lump-sum is 15.105\n",
      "m_g: 80,fair clusters: [10], timsteps:40\n",
      "k:20, ppl_per_cluster:10, n_clusters:20\n",
      "noise:0, seed:84\n"
     ]
    },
    {
     "name": "stderr",
     "output_type": "stream",
     "text": [
      "\r",
      "30it [02:39,  5.45s/it]"
     ]
    },
    {
     "name": "stdout",
     "output_type": "stream",
     "text": [
      "Expected reward of policy Random is 13.3275\n",
      "Expected reward of policy RR is 13.3065\n",
      "Expected reward of policy Whittle is 15.097\n",
      "Expected reward of policy Baseline Quota is 14.948000000000002\n",
      "Expected reward of policy Big-LP is 14.941999999999998\n",
      "Expected reward of policy Big-LP Lump-sum is 14.941999999999998\n",
      "m_g: 80,fair clusters: [10], timsteps:40\n",
      "k:20, ppl_per_cluster:10, n_clusters:20\n",
      "noise:0, seed:57\n"
     ]
    },
    {
     "name": "stderr",
     "output_type": "stream",
     "text": [
      "\r",
      "31it [02:45,  5.46s/it]"
     ]
    },
    {
     "name": "stdout",
     "output_type": "stream",
     "text": [
      "Expected reward of policy Random is 17.084500000000002\n",
      "Expected reward of policy RR is 17.044999999999998\n",
      "Expected reward of policy Whittle is 18.9865\n",
      "Expected reward of policy Baseline Quota is 18.788500000000003\n",
      "Expected reward of policy Big-LP is 18.8485\n",
      "Expected reward of policy Big-LP Lump-sum is 18.8485\n",
      "m_g: 80,fair clusters: [10], timsteps:40\n",
      "k:20, ppl_per_cluster:10, n_clusters:20\n",
      "noise:0, seed:33\n"
     ]
    },
    {
     "name": "stderr",
     "output_type": "stream",
     "text": [
      "\r",
      "32it [02:50,  5.39s/it]"
     ]
    },
    {
     "name": "stdout",
     "output_type": "stream",
     "text": [
      "Expected reward of policy Random is 15.093\n",
      "Expected reward of policy RR is 15.133499999999998\n",
      "Expected reward of policy Whittle is 17.2425\n",
      "Expected reward of policy Baseline Quota is 17.118000000000002\n",
      "Expected reward of policy Big-LP is 17.139\n",
      "Expected reward of policy Big-LP Lump-sum is 17.139\n",
      "m_g: 45,fair clusters: [35], timsteps:30\n",
      "k:15, ppl_per_cluster:10, n_clusters:20\n",
      "noise:0, seed:62\n"
     ]
    },
    {
     "name": "stderr",
     "output_type": "stream",
     "text": [
      "\r",
      "33it [02:55,  5.25s/it]"
     ]
    },
    {
     "name": "stdout",
     "output_type": "stream",
     "text": [
      "Expected reward of policy Random is 12.386499999999998\n",
      "Expected reward of policy RR is 12.3105\n",
      "Expected reward of policy Whittle is 13.315999999999999\n",
      "Expected reward of policy Baseline Quota is 13.232\n",
      "Expected reward of policy Big-LP is 13.244\n",
      "Expected reward of policy Big-LP Lump-sum is 13.244\n",
      "m_g: 45,fair clusters: [35], timsteps:30\n",
      "k:15, ppl_per_cluster:10, n_clusters:20\n",
      "noise:0, seed:58\n"
     ]
    },
    {
     "name": "stderr",
     "output_type": "stream",
     "text": [
      "\r",
      "34it [03:00,  5.15s/it]"
     ]
    },
    {
     "name": "stdout",
     "output_type": "stream",
     "text": [
      "Expected reward of policy Random is 11.560999999999998\n",
      "Expected reward of policy RR is 11.6595\n",
      "Expected reward of policy Whittle is 12.924000000000001\n",
      "Expected reward of policy Baseline Quota is 12.844000000000003\n",
      "Expected reward of policy Big-LP is 12.843\n",
      "Expected reward of policy Big-LP Lump-sum is 12.843\n",
      "m_g: 45,fair clusters: [35], timsteps:30\n",
      "k:15, ppl_per_cluster:10, n_clusters:20\n",
      "noise:0, seed:19\n"
     ]
    },
    {
     "name": "stderr",
     "output_type": "stream",
     "text": [
      "\r",
      "35it [03:05,  5.14s/it]"
     ]
    },
    {
     "name": "stdout",
     "output_type": "stream",
     "text": [
      "Expected reward of policy Random is 12.066\n",
      "Expected reward of policy RR is 12.1125\n",
      "Expected reward of policy Whittle is 13.760000000000002\n",
      "Expected reward of policy Baseline Quota is 13.669\n",
      "Expected reward of policy Big-LP is 13.6955\n",
      "Expected reward of policy Big-LP Lump-sum is 13.6955\n",
      "m_g: 45,fair clusters: [35], timsteps:30\n",
      "k:15, ppl_per_cluster:10, n_clusters:20\n",
      "noise:0, seed:74\n"
     ]
    },
    {
     "name": "stderr",
     "output_type": "stream",
     "text": [
      "\r",
      "36it [03:10,  5.07s/it]"
     ]
    },
    {
     "name": "stdout",
     "output_type": "stream",
     "text": [
      "Expected reward of policy Random is 12.852500000000001\n",
      "Expected reward of policy RR is 12.985\n",
      "Expected reward of policy Whittle is 14.3065\n",
      "Expected reward of policy Baseline Quota is 14.2025\n",
      "Expected reward of policy Big-LP is 14.1825\n",
      "Expected reward of policy Big-LP Lump-sum is 14.1825\n",
      "m_g: 45,fair clusters: [35], timsteps:30\n",
      "k:15, ppl_per_cluster:10, n_clusters:20\n",
      "noise:0, seed:21\n"
     ]
    },
    {
     "name": "stderr",
     "output_type": "stream",
     "text": [
      "\r",
      "37it [03:16,  5.36s/it]"
     ]
    },
    {
     "name": "stdout",
     "output_type": "stream",
     "text": [
      "Expected reward of policy Random is 10.8005\n",
      "Expected reward of policy RR is 10.822\n",
      "Expected reward of policy Whittle is 12.192499999999999\n",
      "Expected reward of policy Baseline Quota is 12.1155\n",
      "Expected reward of policy Big-LP is 12.0995\n",
      "Expected reward of policy Big-LP Lump-sum is 12.0995\n",
      "m_g: 45,fair clusters: [35], timsteps:30\n",
      "k:15, ppl_per_cluster:10, n_clusters:20\n",
      "noise:0, seed:84\n"
     ]
    },
    {
     "name": "stderr",
     "output_type": "stream",
     "text": [
      "\r",
      "38it [03:21,  5.26s/it]"
     ]
    },
    {
     "name": "stdout",
     "output_type": "stream",
     "text": [
      "Expected reward of policy Random is 11.208499999999999\n",
      "Expected reward of policy RR is 11.1365\n",
      "Expected reward of policy Whittle is 12.434000000000001\n",
      "Expected reward of policy Baseline Quota is 12.321000000000002\n",
      "Expected reward of policy Big-LP is 12.318999999999999\n",
      "Expected reward of policy Big-LP Lump-sum is 12.318999999999999\n",
      "m_g: 45,fair clusters: [35], timsteps:30\n",
      "k:15, ppl_per_cluster:10, n_clusters:20\n",
      "noise:0, seed:57\n"
     ]
    },
    {
     "name": "stderr",
     "output_type": "stream",
     "text": [
      "\r",
      "39it [03:26,  5.24s/it]"
     ]
    },
    {
     "name": "stdout",
     "output_type": "stream",
     "text": [
      "Expected reward of policy Random is 13.879000000000001\n",
      "Expected reward of policy RR is 13.9055\n",
      "Expected reward of policy Whittle is 14.967999999999998\n",
      "Expected reward of policy Baseline Quota is 14.877499999999998\n",
      "Expected reward of policy Big-LP is 14.892000000000001\n",
      "Expected reward of policy Big-LP Lump-sum is 14.892000000000001\n",
      "m_g: 45,fair clusters: [35], timsteps:30\n",
      "k:15, ppl_per_cluster:10, n_clusters:20\n",
      "noise:0, seed:33\n"
     ]
    },
    {
     "name": "stderr",
     "output_type": "stream",
     "text": [
      "\r",
      "40it [03:31,  5.16s/it]"
     ]
    },
    {
     "name": "stdout",
     "output_type": "stream",
     "text": [
      "Expected reward of policy Random is 12.372\n",
      "Expected reward of policy RR is 12.314499999999999\n",
      "Expected reward of policy Whittle is 13.668500000000003\n",
      "Expected reward of policy Baseline Quota is 13.580000000000002\n",
      "Expected reward of policy Big-LP is 13.5995\n",
      "Expected reward of policy Big-LP Lump-sum is 13.5995\n",
      "m_g: 60,fair clusters: [35], timsteps:30\n",
      "k:20, ppl_per_cluster:10, n_clusters:20\n",
      "noise:0, seed:62\n"
     ]
    },
    {
     "name": "stderr",
     "output_type": "stream",
     "text": [
      "\r",
      "41it [03:36,  5.14s/it]"
     ]
    },
    {
     "name": "stdout",
     "output_type": "stream",
     "text": [
      "Expected reward of policy Random is 12.493500000000001\n",
      "Expected reward of policy RR is 12.4085\n",
      "Expected reward of policy Whittle is 13.6375\n",
      "Expected reward of policy Baseline Quota is 13.534\n",
      "Expected reward of policy Big-LP is 13.5575\n",
      "Expected reward of policy Big-LP Lump-sum is 13.5575\n",
      "m_g: 60,fair clusters: [35], timsteps:30\n",
      "k:20, ppl_per_cluster:10, n_clusters:20\n",
      "noise:0, seed:58\n"
     ]
    },
    {
     "name": "stderr",
     "output_type": "stream",
     "text": [
      "\r",
      "42it [03:41,  5.14s/it]"
     ]
    },
    {
     "name": "stdout",
     "output_type": "stream",
     "text": [
      "Expected reward of policy Random is 11.715000000000002\n",
      "Expected reward of policy RR is 11.7665\n",
      "Expected reward of policy Whittle is 13.3335\n",
      "Expected reward of policy Baseline Quota is 13.222\n",
      "Expected reward of policy Big-LP is 13.208499999999997\n",
      "Expected reward of policy Big-LP Lump-sum is 13.208499999999997\n",
      "m_g: 60,fair clusters: [35], timsteps:30\n",
      "k:20, ppl_per_cluster:10, n_clusters:20\n",
      "noise:0, seed:19\n"
     ]
    },
    {
     "name": "stderr",
     "output_type": "stream",
     "text": [
      "\r",
      "43it [03:46,  5.16s/it]"
     ]
    },
    {
     "name": "stdout",
     "output_type": "stream",
     "text": [
      "Expected reward of policy Random is 12.222\n",
      "Expected reward of policy RR is 12.237499999999999\n",
      "Expected reward of policy Whittle is 14.0375\n",
      "Expected reward of policy Baseline Quota is 13.976999999999999\n",
      "Expected reward of policy Big-LP is 13.996500000000001\n",
      "Expected reward of policy Big-LP Lump-sum is 13.996500000000001\n",
      "m_g: 60,fair clusters: [35], timsteps:30\n",
      "k:20, ppl_per_cluster:10, n_clusters:20\n",
      "noise:0, seed:74\n"
     ]
    },
    {
     "name": "stderr",
     "output_type": "stream",
     "text": [
      "\r",
      "44it [03:51,  5.15s/it]"
     ]
    },
    {
     "name": "stdout",
     "output_type": "stream",
     "text": [
      "Expected reward of policy Random is 12.9725\n",
      "Expected reward of policy RR is 13.120999999999999\n",
      "Expected reward of policy Whittle is 14.617499999999998\n",
      "Expected reward of policy Baseline Quota is 14.547000000000002\n",
      "Expected reward of policy Big-LP is 14.559000000000003\n",
      "Expected reward of policy Big-LP Lump-sum is 14.559000000000003\n",
      "m_g: 60,fair clusters: [35], timsteps:30\n",
      "k:20, ppl_per_cluster:10, n_clusters:20\n",
      "noise:0, seed:21\n"
     ]
    },
    {
     "name": "stderr",
     "output_type": "stream",
     "text": [
      "\r",
      "45it [03:57,  5.17s/it]"
     ]
    },
    {
     "name": "stdout",
     "output_type": "stream",
     "text": [
      "Expected reward of policy Random is 10.969\n",
      "Expected reward of policy RR is 10.918000000000003\n",
      "Expected reward of policy Whittle is 12.587\n",
      "Expected reward of policy Baseline Quota is 12.488\n",
      "Expected reward of policy Big-LP is 12.463000000000001\n",
      "Expected reward of policy Big-LP Lump-sum is 12.463000000000001\n",
      "m_g: 60,fair clusters: [35], timsteps:30\n",
      "k:20, ppl_per_cluster:10, n_clusters:20\n",
      "noise:0, seed:84\n"
     ]
    },
    {
     "name": "stderr",
     "output_type": "stream",
     "text": [
      "\r",
      "46it [04:02,  5.13s/it]"
     ]
    },
    {
     "name": "stdout",
     "output_type": "stream",
     "text": [
      "Expected reward of policy Random is 11.357499999999998\n",
      "Expected reward of policy RR is 11.2985\n",
      "Expected reward of policy Whittle is 12.808000000000002\n",
      "Expected reward of policy Baseline Quota is 12.7175\n",
      "Expected reward of policy Big-LP is 12.68\n",
      "Expected reward of policy Big-LP Lump-sum is 12.68\n",
      "m_g: 60,fair clusters: [35], timsteps:30\n",
      "k:20, ppl_per_cluster:10, n_clusters:20\n",
      "noise:0, seed:57\n"
     ]
    },
    {
     "name": "stderr",
     "output_type": "stream",
     "text": [
      "\r",
      "47it [04:07,  5.16s/it]"
     ]
    },
    {
     "name": "stdout",
     "output_type": "stream",
     "text": [
      "Expected reward of policy Random is 13.998\n",
      "Expected reward of policy RR is 14.078999999999999\n",
      "Expected reward of policy Whittle is 15.383500000000002\n",
      "Expected reward of policy Baseline Quota is 15.241\n",
      "Expected reward of policy Big-LP is 15.238499999999998\n",
      "Expected reward of policy Big-LP Lump-sum is 15.238499999999998\n",
      "m_g: 60,fair clusters: [35], timsteps:30\n",
      "k:20, ppl_per_cluster:10, n_clusters:20\n",
      "noise:0, seed:33\n"
     ]
    },
    {
     "name": "stderr",
     "output_type": "stream",
     "text": [
      "\r",
      "48it [04:12,  5.13s/it]"
     ]
    },
    {
     "name": "stdout",
     "output_type": "stream",
     "text": [
      "Expected reward of policy Random is 12.514500000000002\n",
      "Expected reward of policy RR is 12.516499999999999\n",
      "Expected reward of policy Whittle is 14.016499999999999\n",
      "Expected reward of policy Baseline Quota is 13.936000000000002\n",
      "Expected reward of policy Big-LP is 13.9425\n",
      "Expected reward of policy Big-LP Lump-sum is 13.9425\n",
      "m_g: 60,fair clusters: [35], timsteps:40\n",
      "k:15, ppl_per_cluster:10, n_clusters:20\n",
      "noise:0, seed:62\n"
     ]
    },
    {
     "name": "stderr",
     "output_type": "stream",
     "text": [
      "\r",
      "49it [04:17,  5.12s/it]"
     ]
    },
    {
     "name": "stdout",
     "output_type": "stream",
     "text": [
      "Expected reward of policy Random is 16.576\n",
      "Expected reward of policy RR is 16.55\n",
      "Expected reward of policy Whittle is 17.8945\n",
      "Expected reward of policy Baseline Quota is 17.789499999999997\n",
      "Expected reward of policy Big-LP is 17.8215\n",
      "Expected reward of policy Big-LP Lump-sum is 17.8215\n",
      "m_g: 60,fair clusters: [35], timsteps:40\n",
      "k:15, ppl_per_cluster:10, n_clusters:20\n",
      "noise:0, seed:58\n"
     ]
    },
    {
     "name": "stderr",
     "output_type": "stream",
     "text": [
      "\r",
      "50it [04:22,  5.11s/it]"
     ]
    },
    {
     "name": "stdout",
     "output_type": "stream",
     "text": [
      "Expected reward of policy Random is 15.478500000000002\n",
      "Expected reward of policy RR is 15.550500000000003\n",
      "Expected reward of policy Whittle is 17.249999999999996\n",
      "Expected reward of policy Baseline Quota is 17.159499999999998\n",
      "Expected reward of policy Big-LP is 17.133\n",
      "Expected reward of policy Big-LP Lump-sum is 17.133\n",
      "m_g: 60,fair clusters: [35], timsteps:40\n",
      "k:15, ppl_per_cluster:10, n_clusters:20\n",
      "noise:0, seed:19\n"
     ]
    },
    {
     "name": "stderr",
     "output_type": "stream",
     "text": [
      "\r",
      "51it [04:27,  5.14s/it]"
     ]
    },
    {
     "name": "stdout",
     "output_type": "stream",
     "text": [
      "Expected reward of policy Random is 16.125499999999995\n",
      "Expected reward of policy RR is 16.241000000000003\n",
      "Expected reward of policy Whittle is 18.4775\n",
      "Expected reward of policy Baseline Quota is 18.3595\n",
      "Expected reward of policy Big-LP is 18.404999999999998\n",
      "Expected reward of policy Big-LP Lump-sum is 18.404999999999998\n",
      "m_g: 60,fair clusters: [35], timsteps:40\n",
      "k:15, ppl_per_cluster:10, n_clusters:20\n",
      "noise:0, seed:74\n"
     ]
    },
    {
     "name": "stderr",
     "output_type": "stream",
     "text": [
      "\r",
      "52it [04:33,  5.14s/it]"
     ]
    },
    {
     "name": "stdout",
     "output_type": "stream",
     "text": [
      "Expected reward of policy Random is 17.258999999999997\n",
      "Expected reward of policy RR is 17.4195\n",
      "Expected reward of policy Whittle is 19.2345\n",
      "Expected reward of policy Baseline Quota is 19.094\n",
      "Expected reward of policy Big-LP is 19.083999999999996\n",
      "Expected reward of policy Big-LP Lump-sum is 19.083999999999996\n",
      "m_g: 60,fair clusters: [35], timsteps:40\n",
      "k:15, ppl_per_cluster:10, n_clusters:20\n",
      "noise:0, seed:21\n"
     ]
    },
    {
     "name": "stderr",
     "output_type": "stream",
     "text": [
      "\r",
      "53it [04:38,  5.21s/it]"
     ]
    },
    {
     "name": "stdout",
     "output_type": "stream",
     "text": [
      "Expected reward of policy Random is 14.483999999999998\n",
      "Expected reward of policy RR is 14.538000000000002\n",
      "Expected reward of policy Whittle is 16.4255\n",
      "Expected reward of policy Baseline Quota is 16.306\n",
      "Expected reward of policy Big-LP is 16.271499999999996\n",
      "Expected reward of policy Big-LP Lump-sum is 16.271499999999996\n",
      "m_g: 60,fair clusters: [35], timsteps:40\n",
      "k:15, ppl_per_cluster:10, n_clusters:20\n",
      "noise:0, seed:84\n"
     ]
    },
    {
     "name": "stderr",
     "output_type": "stream",
     "text": [
      "\r",
      "54it [04:43,  5.17s/it]"
     ]
    },
    {
     "name": "stdout",
     "output_type": "stream",
     "text": [
      "Expected reward of policy Random is 14.972999999999995\n",
      "Expected reward of policy RR is 14.804499999999999\n",
      "Expected reward of policy Whittle is 16.704500000000003\n",
      "Expected reward of policy Baseline Quota is 16.553000000000004\n",
      "Expected reward of policy Big-LP is 16.538500000000003\n",
      "Expected reward of policy Big-LP Lump-sum is 16.538500000000003\n",
      "m_g: 60,fair clusters: [35], timsteps:40\n",
      "k:15, ppl_per_cluster:10, n_clusters:20\n",
      "noise:0, seed:57\n"
     ]
    },
    {
     "name": "stderr",
     "output_type": "stream",
     "text": [
      "\r",
      "55it [04:48,  5.19s/it]"
     ]
    },
    {
     "name": "stdout",
     "output_type": "stream",
     "text": [
      "Expected reward of policy Random is 18.714\n",
      "Expected reward of policy RR is 18.7815\n",
      "Expected reward of policy Whittle is 20.1725\n",
      "Expected reward of policy Baseline Quota is 20.0435\n",
      "Expected reward of policy Big-LP is 20.068\n",
      "Expected reward of policy Big-LP Lump-sum is 20.068\n",
      "m_g: 60,fair clusters: [35], timsteps:40\n",
      "k:15, ppl_per_cluster:10, n_clusters:20\n",
      "noise:0, seed:33\n"
     ]
    },
    {
     "name": "stderr",
     "output_type": "stream",
     "text": [
      "\r",
      "56it [04:53,  5.17s/it]"
     ]
    },
    {
     "name": "stdout",
     "output_type": "stream",
     "text": [
      "Expected reward of policy Random is 16.601000000000003\n",
      "Expected reward of policy RR is 16.5685\n",
      "Expected reward of policy Whittle is 18.381999999999998\n",
      "Expected reward of policy Baseline Quota is 18.284999999999997\n",
      "Expected reward of policy Big-LP is 18.297\n",
      "Expected reward of policy Big-LP Lump-sum is 18.297\n",
      "m_g: 80,fair clusters: [35], timsteps:40\n",
      "k:20, ppl_per_cluster:10, n_clusters:20\n",
      "noise:0, seed:62\n"
     ]
    },
    {
     "name": "stderr",
     "output_type": "stream",
     "text": [
      "\r",
      "57it [04:59,  5.18s/it]"
     ]
    },
    {
     "name": "stdout",
     "output_type": "stream",
     "text": [
      "Expected reward of policy Random is 16.740000000000002\n",
      "Expected reward of policy RR is 16.689999999999998\n",
      "Expected reward of policy Whittle is 18.3275\n",
      "Expected reward of policy Baseline Quota is 18.2045\n",
      "Expected reward of policy Big-LP is 18.226\n",
      "Expected reward of policy Big-LP Lump-sum is 18.226\n",
      "m_g: 80,fair clusters: [35], timsteps:40\n",
      "k:20, ppl_per_cluster:10, n_clusters:20\n",
      "noise:0, seed:58\n"
     ]
    },
    {
     "name": "stderr",
     "output_type": "stream",
     "text": [
      "\r",
      "58it [05:04,  5.25s/it]"
     ]
    },
    {
     "name": "stdout",
     "output_type": "stream",
     "text": [
      "Expected reward of policy Random is 15.6805\n",
      "Expected reward of policy RR is 15.722\n",
      "Expected reward of policy Whittle is 17.811\n",
      "Expected reward of policy Baseline Quota is 17.650499999999997\n",
      "Expected reward of policy Big-LP is 17.631500000000003\n",
      "Expected reward of policy Big-LP Lump-sum is 17.631500000000003\n",
      "m_g: 80,fair clusters: [35], timsteps:40\n",
      "k:20, ppl_per_cluster:10, n_clusters:20\n",
      "noise:0, seed:19\n"
     ]
    },
    {
     "name": "stderr",
     "output_type": "stream",
     "text": [
      "\r",
      "59it [05:09,  5.24s/it]"
     ]
    },
    {
     "name": "stdout",
     "output_type": "stream",
     "text": [
      "Expected reward of policy Random is 16.3525\n",
      "Expected reward of policy RR is 16.396\n",
      "Expected reward of policy Whittle is 18.8545\n",
      "Expected reward of policy Baseline Quota is 18.7755\n",
      "Expected reward of policy Big-LP is 18.799500000000002\n",
      "Expected reward of policy Big-LP Lump-sum is 18.799500000000002\n",
      "m_g: 80,fair clusters: [35], timsteps:40\n",
      "k:20, ppl_per_cluster:10, n_clusters:20\n",
      "noise:0, seed:74\n"
     ]
    },
    {
     "name": "stderr",
     "output_type": "stream",
     "text": [
      "\r",
      "60it [05:15,  5.50s/it]"
     ]
    },
    {
     "name": "stdout",
     "output_type": "stream",
     "text": [
      "Expected reward of policy Random is 17.436\n",
      "Expected reward of policy RR is 17.602\n",
      "Expected reward of policy Whittle is 19.656000000000002\n",
      "Expected reward of policy Baseline Quota is 19.572\n",
      "Expected reward of policy Big-LP is 19.610999999999997\n",
      "Expected reward of policy Big-LP Lump-sum is 19.610999999999997\n",
      "m_g: 80,fair clusters: [35], timsteps:40\n",
      "k:20, ppl_per_cluster:10, n_clusters:20\n",
      "noise:0, seed:21\n"
     ]
    },
    {
     "name": "stderr",
     "output_type": "stream",
     "text": [
      "\r",
      "61it [05:21,  5.50s/it]"
     ]
    },
    {
     "name": "stdout",
     "output_type": "stream",
     "text": [
      "Expected reward of policy Random is 14.7105\n",
      "Expected reward of policy RR is 14.647499999999999\n",
      "Expected reward of policy Whittle is 16.959000000000003\n",
      "Expected reward of policy Baseline Quota is 16.825\n",
      "Expected reward of policy Big-LP is 16.787\n",
      "Expected reward of policy Big-LP Lump-sum is 16.787\n",
      "m_g: 80,fair clusters: [35], timsteps:40\n",
      "k:20, ppl_per_cluster:10, n_clusters:20\n",
      "noise:0, seed:84\n"
     ]
    },
    {
     "name": "stderr",
     "output_type": "stream",
     "text": [
      "\r",
      "62it [05:26,  5.44s/it]"
     ]
    },
    {
     "name": "stdout",
     "output_type": "stream",
     "text": [
      "Expected reward of policy Random is 15.180000000000001\n",
      "Expected reward of policy RR is 15.1435\n",
      "Expected reward of policy Whittle is 17.213\n",
      "Expected reward of policy Baseline Quota is 17.080999999999996\n",
      "Expected reward of policy Big-LP is 17.0525\n",
      "Expected reward of policy Big-LP Lump-sum is 17.0525\n",
      "m_g: 80,fair clusters: [35], timsteps:40\n",
      "k:20, ppl_per_cluster:10, n_clusters:20\n",
      "noise:0, seed:57\n"
     ]
    },
    {
     "name": "stderr",
     "output_type": "stream",
     "text": [
      "\r",
      "63it [05:32,  5.43s/it]"
     ]
    },
    {
     "name": "stdout",
     "output_type": "stream",
     "text": [
      "Expected reward of policy Random is 18.878499999999995\n",
      "Expected reward of policy RR is 18.991\n",
      "Expected reward of policy Whittle is 20.7305\n",
      "Expected reward of policy Baseline Quota is 20.541999999999998\n",
      "Expected reward of policy Big-LP is 20.5255\n",
      "Expected reward of policy Big-LP Lump-sum is 20.5255\n",
      "m_g: 80,fair clusters: [35], timsteps:40\n",
      "k:20, ppl_per_cluster:10, n_clusters:20\n",
      "noise:0, seed:33\n"
     ]
    },
    {
     "name": "stderr",
     "output_type": "stream",
     "text": [
      "\r",
      "64it [05:37,  5.40s/it]"
     ]
    },
    {
     "name": "stdout",
     "output_type": "stream",
     "text": [
      "Expected reward of policy Random is 16.791\n",
      "Expected reward of policy RR is 16.817\n",
      "Expected reward of policy Whittle is 18.883999999999997\n",
      "Expected reward of policy Baseline Quota is 18.773500000000002\n",
      "Expected reward of policy Big-LP is 18.779000000000003\n",
      "Expected reward of policy Big-LP Lump-sum is 18.779000000000003\n",
      "m_g: 22,fair clusters: [10, 35], timsteps:30\n",
      "k:15, ppl_per_cluster:10, n_clusters:20\n",
      "noise:0, seed:62\n"
     ]
    },
    {
     "name": "stderr",
     "output_type": "stream",
     "text": [
      "\r",
      "65it [05:42,  5.33s/it]"
     ]
    },
    {
     "name": "stdout",
     "output_type": "stream",
     "text": [
      "Expected reward of policy Random is 12.2655\n",
      "Expected reward of policy RR is 12.174999999999999\n",
      "Expected reward of policy Whittle is 13.2125\n",
      "Expected reward of policy Baseline Quota is 13.132\n",
      "Expected reward of policy Big-LP is 13.127\n",
      "Expected reward of policy Big-LP Lump-sum is 13.129\n",
      "m_g: 22,fair clusters: [10, 35], timsteps:30\n",
      "k:15, ppl_per_cluster:10, n_clusters:20\n",
      "noise:0, seed:58\n"
     ]
    },
    {
     "name": "stderr",
     "output_type": "stream",
     "text": [
      "\r",
      "66it [05:47,  5.23s/it]"
     ]
    },
    {
     "name": "stdout",
     "output_type": "stream",
     "text": [
      "Expected reward of policy Random is 11.5915\n",
      "Expected reward of policy RR is 11.471\n",
      "Expected reward of policy Whittle is 12.544999999999998\n",
      "Expected reward of policy Baseline Quota is 12.471\n",
      "Expected reward of policy Big-LP is 12.505500000000001\n",
      "Expected reward of policy Big-LP Lump-sum is 12.4965\n",
      "m_g: 22,fair clusters: [10, 35], timsteps:30\n",
      "k:15, ppl_per_cluster:10, n_clusters:20\n",
      "noise:0, seed:19\n"
     ]
    },
    {
     "name": "stderr",
     "output_type": "stream",
     "text": [
      "\r",
      "67it [05:52,  5.15s/it]"
     ]
    },
    {
     "name": "stdout",
     "output_type": "stream",
     "text": [
      "Expected reward of policy Random is 11.764\n",
      "Expected reward of policy RR is 11.6035\n",
      "Expected reward of policy Whittle is 13.116999999999999\n",
      "Expected reward of policy Baseline Quota is 13.0345\n",
      "Expected reward of policy Big-LP is 13.022\n",
      "Expected reward of policy Big-LP Lump-sum is 13.019499999999999\n",
      "m_g: 22,fair clusters: [10, 35], timsteps:30\n",
      "k:15, ppl_per_cluster:10, n_clusters:20\n",
      "noise:0, seed:74\n"
     ]
    },
    {
     "name": "stderr",
     "output_type": "stream",
     "text": [
      "\r",
      "68it [05:57,  5.23s/it]"
     ]
    },
    {
     "name": "stdout",
     "output_type": "stream",
     "text": [
      "Expected reward of policy Random is 10.944500000000001\n",
      "Expected reward of policy RR is 10.888499999999999\n",
      "Expected reward of policy Whittle is 12.4375\n",
      "Expected reward of policy Baseline Quota is 12.352\n",
      "Expected reward of policy Big-LP is 12.3185\n",
      "Expected reward of policy Big-LP Lump-sum is 12.3515\n",
      "m_g: 22,fair clusters: [10, 35], timsteps:30\n",
      "k:15, ppl_per_cluster:10, n_clusters:20\n",
      "noise:0, seed:21\n"
     ]
    },
    {
     "name": "stderr",
     "output_type": "stream",
     "text": [
      "\r",
      "69it [06:03,  5.27s/it]"
     ]
    },
    {
     "name": "stdout",
     "output_type": "stream",
     "text": [
      "Expected reward of policy Random is 10.182500000000001\n",
      "Expected reward of policy RR is 10.193500000000002\n",
      "Expected reward of policy Whittle is 10.82\n",
      "Expected reward of policy Baseline Quota is 10.7865\n",
      "Expected reward of policy Big-LP is 10.7835\n",
      "Expected reward of policy Big-LP Lump-sum is 10.7785\n",
      "m_g: 22,fair clusters: [10, 35], timsteps:30\n",
      "k:15, ppl_per_cluster:10, n_clusters:20\n",
      "noise:0, seed:84\n"
     ]
    },
    {
     "name": "stderr",
     "output_type": "stream",
     "text": [
      "\r",
      "70it [06:08,  5.21s/it]"
     ]
    },
    {
     "name": "stdout",
     "output_type": "stream",
     "text": [
      "Expected reward of policy Random is 10.104000000000003\n",
      "Expected reward of policy RR is 10.1435\n",
      "Expected reward of policy Whittle is 11.1845\n",
      "Expected reward of policy Baseline Quota is 11.1135\n",
      "Expected reward of policy Big-LP is 11.133\n",
      "Expected reward of policy Big-LP Lump-sum is 11.1265\n",
      "m_g: 22,fair clusters: [10, 35], timsteps:30\n",
      "k:15, ppl_per_cluster:10, n_clusters:20\n",
      "noise:0, seed:57\n"
     ]
    },
    {
     "name": "stderr",
     "output_type": "stream",
     "text": [
      "\r",
      "71it [06:13,  5.19s/it]"
     ]
    },
    {
     "name": "stdout",
     "output_type": "stream",
     "text": [
      "Expected reward of policy Random is 13.0755\n",
      "Expected reward of policy RR is 12.8845\n",
      "Expected reward of policy Whittle is 14.4165\n",
      "Expected reward of policy Baseline Quota is 14.282499999999999\n",
      "Expected reward of policy Big-LP is 14.291\n",
      "Expected reward of policy Big-LP Lump-sum is 14.3\n",
      "m_g: 22,fair clusters: [10, 35], timsteps:30\n",
      "k:15, ppl_per_cluster:10, n_clusters:20\n",
      "noise:0, seed:33\n"
     ]
    },
    {
     "name": "stderr",
     "output_type": "stream",
     "text": [
      "\r",
      "72it [06:18,  5.16s/it]"
     ]
    },
    {
     "name": "stdout",
     "output_type": "stream",
     "text": [
      "Expected reward of policy Random is 11.4845\n",
      "Expected reward of policy RR is 11.5625\n",
      "Expected reward of policy Whittle is 12.9695\n",
      "Expected reward of policy Baseline Quota is 12.9225\n",
      "Expected reward of policy Big-LP is 12.925999999999998\n",
      "Expected reward of policy Big-LP Lump-sum is 12.9265\n",
      "m_g: 30,fair clusters: [10, 35], timsteps:30\n",
      "k:20, ppl_per_cluster:10, n_clusters:20\n",
      "noise:0, seed:62\n"
     ]
    },
    {
     "name": "stderr",
     "output_type": "stream",
     "text": [
      "\r",
      "73it [06:23,  5.17s/it]"
     ]
    },
    {
     "name": "stdout",
     "output_type": "stream",
     "text": [
      "Expected reward of policy Random is 12.4085\n",
      "Expected reward of policy RR is 12.3815\n",
      "Expected reward of policy Whittle is 13.5365\n",
      "Expected reward of policy Baseline Quota is 13.459\n",
      "Expected reward of policy Big-LP is 13.457999999999998\n",
      "Expected reward of policy Big-LP Lump-sum is 13.444999999999999\n",
      "m_g: 30,fair clusters: [10, 35], timsteps:30\n",
      "k:20, ppl_per_cluster:10, n_clusters:20\n",
      "noise:0, seed:58\n"
     ]
    },
    {
     "name": "stderr",
     "output_type": "stream",
     "text": [
      "\r",
      "74it [06:28,  5.19s/it]"
     ]
    },
    {
     "name": "stdout",
     "output_type": "stream",
     "text": [
      "Expected reward of policy Random is 11.747\n",
      "Expected reward of policy RR is 11.708000000000002\n",
      "Expected reward of policy Whittle is 12.9355\n",
      "Expected reward of policy Baseline Quota is 12.804999999999998\n",
      "Expected reward of policy Big-LP is 12.8285\n",
      "Expected reward of policy Big-LP Lump-sum is 12.828999999999999\n",
      "m_g: 30,fair clusters: [10, 35], timsteps:30\n",
      "k:20, ppl_per_cluster:10, n_clusters:20\n",
      "noise:0, seed:19\n"
     ]
    },
    {
     "name": "stderr",
     "output_type": "stream",
     "text": [
      "\r",
      "75it [06:34,  5.22s/it]"
     ]
    },
    {
     "name": "stdout",
     "output_type": "stream",
     "text": [
      "Expected reward of policy Random is 11.95\n",
      "Expected reward of policy RR is 11.749\n",
      "Expected reward of policy Whittle is 13.641000000000002\n",
      "Expected reward of policy Baseline Quota is 13.494\n",
      "Expected reward of policy Big-LP is 13.513499999999999\n",
      "Expected reward of policy Big-LP Lump-sum is 13.514000000000001\n",
      "m_g: 30,fair clusters: [10, 35], timsteps:30\n",
      "k:20, ppl_per_cluster:10, n_clusters:20\n",
      "noise:0, seed:74\n"
     ]
    },
    {
     "name": "stderr",
     "output_type": "stream",
     "text": [
      "\r",
      "76it [06:39,  5.27s/it]"
     ]
    },
    {
     "name": "stdout",
     "output_type": "stream",
     "text": [
      "Expected reward of policy Random is 11.1165\n",
      "Expected reward of policy RR is 11.187999999999999\n",
      "Expected reward of policy Whittle is 12.791\n",
      "Expected reward of policy Baseline Quota is 12.734000000000002\n",
      "Expected reward of policy Big-LP is 12.7355\n",
      "Expected reward of policy Big-LP Lump-sum is 12.7075\n",
      "m_g: 30,fair clusters: [10, 35], timsteps:30\n",
      "k:20, ppl_per_cluster:10, n_clusters:20\n",
      "noise:0, seed:21\n"
     ]
    },
    {
     "name": "stderr",
     "output_type": "stream",
     "text": [
      "\r",
      "77it [06:45,  5.30s/it]"
     ]
    },
    {
     "name": "stdout",
     "output_type": "stream",
     "text": [
      "Expected reward of policy Random is 10.2825\n",
      "Expected reward of policy RR is 10.2985\n",
      "Expected reward of policy Whittle is 11.114\n",
      "Expected reward of policy Baseline Quota is 11.017000000000001\n",
      "Expected reward of policy Big-LP is 11.047\n",
      "Expected reward of policy Big-LP Lump-sum is 11.041\n",
      "m_g: 30,fair clusters: [10, 35], timsteps:30\n",
      "k:20, ppl_per_cluster:10, n_clusters:20\n",
      "noise:0, seed:84\n"
     ]
    },
    {
     "name": "stderr",
     "output_type": "stream",
     "text": [
      "\r",
      "78it [06:50,  5.24s/it]"
     ]
    },
    {
     "name": "stdout",
     "output_type": "stream",
     "text": [
      "Expected reward of policy Random is 10.2135\n",
      "Expected reward of policy RR is 10.4065\n",
      "Expected reward of policy Whittle is 11.522\n",
      "Expected reward of policy Baseline Quota is 11.4195\n",
      "Expected reward of policy Big-LP is 11.441999999999998\n",
      "Expected reward of policy Big-LP Lump-sum is 11.4375\n",
      "m_g: 30,fair clusters: [10, 35], timsteps:30\n",
      "k:20, ppl_per_cluster:10, n_clusters:20\n",
      "noise:0, seed:57\n"
     ]
    },
    {
     "name": "stderr",
     "output_type": "stream",
     "text": [
      "\r",
      "79it [06:55,  5.27s/it]"
     ]
    },
    {
     "name": "stdout",
     "output_type": "stream",
     "text": [
      "Expected reward of policy Random is 13.2005\n",
      "Expected reward of policy RR is 12.991999999999999\n",
      "Expected reward of policy Whittle is 14.776499999999999\n",
      "Expected reward of policy Baseline Quota is 14.639000000000001\n",
      "Expected reward of policy Big-LP is 14.666\n",
      "Expected reward of policy Big-LP Lump-sum is 14.6945\n",
      "m_g: 30,fair clusters: [10, 35], timsteps:30\n",
      "k:20, ppl_per_cluster:10, n_clusters:20\n",
      "noise:0, seed:33\n"
     ]
    },
    {
     "name": "stderr",
     "output_type": "stream",
     "text": [
      "\r",
      "80it [07:00,  5.25s/it]"
     ]
    },
    {
     "name": "stdout",
     "output_type": "stream",
     "text": [
      "Expected reward of policy Random is 11.617\n",
      "Expected reward of policy RR is 11.727\n",
      "Expected reward of policy Whittle is 13.2005\n",
      "Expected reward of policy Baseline Quota is 13.148000000000001\n",
      "Expected reward of policy Big-LP is 13.1765\n",
      "Expected reward of policy Big-LP Lump-sum is 13.158999999999997\n",
      "m_g: 30,fair clusters: [10, 35], timsteps:40\n",
      "k:15, ppl_per_cluster:10, n_clusters:20\n",
      "noise:0, seed:62\n"
     ]
    },
    {
     "name": "stderr",
     "output_type": "stream",
     "text": [
      "\r",
      "81it [07:06,  5.30s/it]"
     ]
    },
    {
     "name": "stdout",
     "output_type": "stream",
     "text": [
      "Expected reward of policy Random is 16.4615\n",
      "Expected reward of policy RR is 16.4115\n",
      "Expected reward of policy Whittle is 17.7075\n",
      "Expected reward of policy Baseline Quota is 17.6005\n",
      "Expected reward of policy Big-LP is 17.6035\n",
      "Expected reward of policy Big-LP Lump-sum is 17.601000000000003\n",
      "m_g: 30,fair clusters: [10, 35], timsteps:40\n",
      "k:15, ppl_per_cluster:10, n_clusters:20\n",
      "noise:0, seed:58\n"
     ]
    },
    {
     "name": "stderr",
     "output_type": "stream",
     "text": [
      "\r",
      "82it [07:11,  5.27s/it]"
     ]
    },
    {
     "name": "stdout",
     "output_type": "stream",
     "text": [
      "Expected reward of policy Random is 15.49\n",
      "Expected reward of policy RR is 15.360000000000003\n",
      "Expected reward of policy Whittle is 16.823\n",
      "Expected reward of policy Baseline Quota is 16.7265\n",
      "Expected reward of policy Big-LP is 16.752500000000005\n",
      "Expected reward of policy Big-LP Lump-sum is 16.744999999999997\n",
      "m_g: 30,fair clusters: [10, 35], timsteps:40\n",
      "k:15, ppl_per_cluster:10, n_clusters:20\n",
      "noise:0, seed:19\n"
     ]
    },
    {
     "name": "stderr",
     "output_type": "stream",
     "text": [
      "\r",
      "83it [07:16,  5.28s/it]"
     ]
    },
    {
     "name": "stdout",
     "output_type": "stream",
     "text": [
      "Expected reward of policy Random is 15.688999999999998\n",
      "Expected reward of policy RR is 15.607500000000002\n",
      "Expected reward of policy Whittle is 17.6905\n",
      "Expected reward of policy Baseline Quota is 17.506\n",
      "Expected reward of policy Big-LP is 17.557499999999997\n",
      "Expected reward of policy Big-LP Lump-sum is 17.5315\n",
      "m_g: 30,fair clusters: [10, 35], timsteps:40\n",
      "k:15, ppl_per_cluster:10, n_clusters:20\n",
      "noise:0, seed:74\n"
     ]
    },
    {
     "name": "stderr",
     "output_type": "stream",
     "text": [
      "\r",
      "84it [07:22,  5.41s/it]"
     ]
    },
    {
     "name": "stdout",
     "output_type": "stream",
     "text": [
      "Expected reward of policy Random is 14.689000000000002\n",
      "Expected reward of policy RR is 14.559999999999999\n",
      "Expected reward of policy Whittle is 16.705000000000002\n",
      "Expected reward of policy Baseline Quota is 16.561500000000002\n",
      "Expected reward of policy Big-LP is 16.563\n",
      "Expected reward of policy Big-LP Lump-sum is 16.5725\n",
      "m_g: 30,fair clusters: [10, 35], timsteps:40\n",
      "k:15, ppl_per_cluster:10, n_clusters:20\n",
      "noise:0, seed:21\n"
     ]
    },
    {
     "name": "stderr",
     "output_type": "stream",
     "text": [
      "\r",
      "85it [07:27,  5.44s/it]"
     ]
    },
    {
     "name": "stdout",
     "output_type": "stream",
     "text": [
      "Expected reward of policy Random is 13.5935\n",
      "Expected reward of policy RR is 13.625\n",
      "Expected reward of policy Whittle is 14.481\n",
      "Expected reward of policy Baseline Quota is 14.4305\n",
      "Expected reward of policy Big-LP is 14.429000000000002\n",
      "Expected reward of policy Big-LP Lump-sum is 14.4285\n",
      "m_g: 30,fair clusters: [10, 35], timsteps:40\n",
      "k:15, ppl_per_cluster:10, n_clusters:20\n",
      "noise:0, seed:84\n"
     ]
    },
    {
     "name": "stderr",
     "output_type": "stream",
     "text": [
      "\r",
      "86it [07:33,  5.40s/it]"
     ]
    },
    {
     "name": "stdout",
     "output_type": "stream",
     "text": [
      "Expected reward of policy Random is 13.516499999999999\n",
      "Expected reward of policy RR is 13.584\n",
      "Expected reward of policy Whittle is 14.975999999999999\n",
      "Expected reward of policy Baseline Quota is 14.860499999999998\n",
      "Expected reward of policy Big-LP is 14.895999999999997\n",
      "Expected reward of policy Big-LP Lump-sum is 14.886000000000001\n",
      "m_g: 30,fair clusters: [10, 35], timsteps:40\n",
      "k:15, ppl_per_cluster:10, n_clusters:20\n",
      "noise:0, seed:57\n"
     ]
    },
    {
     "name": "stderr",
     "output_type": "stream",
     "text": [
      "\r",
      "87it [07:38,  5.44s/it]"
     ]
    },
    {
     "name": "stdout",
     "output_type": "stream",
     "text": [
      "Expected reward of policy Random is 17.523500000000002\n",
      "Expected reward of policy RR is 17.286499999999997\n",
      "Expected reward of policy Whittle is 19.374000000000002\n",
      "Expected reward of policy Baseline Quota is 19.2055\n",
      "Expected reward of policy Big-LP is 19.240000000000002\n",
      "Expected reward of policy Big-LP Lump-sum is 19.244\n",
      "m_g: 30,fair clusters: [10, 35], timsteps:40\n",
      "k:15, ppl_per_cluster:10, n_clusters:20\n",
      "noise:0, seed:33\n"
     ]
    },
    {
     "name": "stderr",
     "output_type": "stream",
     "text": [
      "\r",
      "88it [07:44,  5.43s/it]"
     ]
    },
    {
     "name": "stdout",
     "output_type": "stream",
     "text": [
      "Expected reward of policy Random is 15.393\n",
      "Expected reward of policy RR is 15.497499999999999\n",
      "Expected reward of policy Whittle is 17.387\n",
      "Expected reward of policy Baseline Quota is 17.3255\n",
      "Expected reward of policy Big-LP is 17.3195\n",
      "Expected reward of policy Big-LP Lump-sum is 17.333499999999997\n",
      "m_g: 40,fair clusters: [10, 35], timsteps:40\n",
      "k:20, ppl_per_cluster:10, n_clusters:20\n",
      "noise:0, seed:62\n"
     ]
    },
    {
     "name": "stderr",
     "output_type": "stream",
     "text": [
      "\r",
      "89it [07:49,  5.44s/it]"
     ]
    },
    {
     "name": "stdout",
     "output_type": "stream",
     "text": [
      "Expected reward of policy Random is 16.6385\n",
      "Expected reward of policy RR is 16.609499999999997\n",
      "Expected reward of policy Whittle is 18.151\n",
      "Expected reward of policy Baseline Quota is 18.0375\n",
      "Expected reward of policy Big-LP is 18.042499999999997\n",
      "Expected reward of policy Big-LP Lump-sum is 18.024\n",
      "m_g: 40,fair clusters: [10, 35], timsteps:40\n",
      "k:20, ppl_per_cluster:10, n_clusters:20\n",
      "noise:0, seed:58\n"
     ]
    },
    {
     "name": "stderr",
     "output_type": "stream",
     "text": [
      "\r",
      "90it [07:55,  5.47s/it]"
     ]
    },
    {
     "name": "stdout",
     "output_type": "stream",
     "text": [
      "Expected reward of policy Random is 15.7185\n",
      "Expected reward of policy RR is 15.6865\n",
      "Expected reward of policy Whittle is 17.3515\n",
      "Expected reward of policy Baseline Quota is 17.180000000000003\n",
      "Expected reward of policy Big-LP is 17.205000000000002\n",
      "Expected reward of policy Big-LP Lump-sum is 17.213\n",
      "m_g: 40,fair clusters: [10, 35], timsteps:40\n",
      "k:20, ppl_per_cluster:10, n_clusters:20\n",
      "noise:0, seed:19\n"
     ]
    },
    {
     "name": "stderr",
     "output_type": "stream",
     "text": [
      "\r",
      "91it [08:00,  5.47s/it]"
     ]
    },
    {
     "name": "stdout",
     "output_type": "stream",
     "text": [
      "Expected reward of policy Random is 15.925999999999998\n",
      "Expected reward of policy RR is 15.814499999999999\n",
      "Expected reward of policy Whittle is 18.3875\n",
      "Expected reward of policy Baseline Quota is 18.175\n",
      "Expected reward of policy Big-LP is 18.2345\n",
      "Expected reward of policy Big-LP Lump-sum is 18.215999999999998\n",
      "m_g: 40,fair clusters: [10, 35], timsteps:40\n",
      "k:20, ppl_per_cluster:10, n_clusters:20\n",
      "noise:0, seed:74\n"
     ]
    },
    {
     "name": "stderr",
     "output_type": "stream",
     "text": [
      "\r",
      "92it [08:06,  5.54s/it]"
     ]
    },
    {
     "name": "stdout",
     "output_type": "stream",
     "text": [
      "Expected reward of policy Random is 14.910500000000003\n",
      "Expected reward of policy RR is 14.972\n",
      "Expected reward of policy Whittle is 17.240000000000002\n",
      "Expected reward of policy Baseline Quota is 17.121499999999997\n",
      "Expected reward of policy Big-LP is 17.110999999999997\n",
      "Expected reward of policy Big-LP Lump-sum is 17.1125\n",
      "m_g: 40,fair clusters: [10, 35], timsteps:40\n",
      "k:20, ppl_per_cluster:10, n_clusters:20\n",
      "noise:0, seed:21\n"
     ]
    },
    {
     "name": "stderr",
     "output_type": "stream",
     "text": [
      "\r",
      "93it [08:11,  5.56s/it]"
     ]
    },
    {
     "name": "stdout",
     "output_type": "stream",
     "text": [
      "Expected reward of policy Random is 13.74\n",
      "Expected reward of policy RR is 13.781\n",
      "Expected reward of policy Whittle is 14.914999999999997\n",
      "Expected reward of policy Baseline Quota is 14.757500000000002\n",
      "Expected reward of policy Big-LP is 14.783499999999998\n",
      "Expected reward of policy Big-LP Lump-sum is 14.7975\n",
      "m_g: 40,fair clusters: [10, 35], timsteps:40\n",
      "k:20, ppl_per_cluster:10, n_clusters:20\n",
      "noise:0, seed:84\n"
     ]
    },
    {
     "name": "stderr",
     "output_type": "stream",
     "text": [
      "\r",
      "94it [08:17,  5.52s/it]"
     ]
    },
    {
     "name": "stdout",
     "output_type": "stream",
     "text": [
      "Expected reward of policy Random is 13.6715\n",
      "Expected reward of policy RR is 13.897499999999999\n",
      "Expected reward of policy Whittle is 15.4275\n",
      "Expected reward of policy Baseline Quota is 15.291\n",
      "Expected reward of policy Big-LP is 15.2965\n",
      "Expected reward of policy Big-LP Lump-sum is 15.308499999999999\n",
      "m_g: 40,fair clusters: [10, 35], timsteps:40\n",
      "k:20, ppl_per_cluster:10, n_clusters:20\n",
      "noise:0, seed:57\n"
     ]
    },
    {
     "name": "stderr",
     "output_type": "stream",
     "text": [
      "\r",
      "95it [08:22,  5.54s/it]"
     ]
    },
    {
     "name": "stdout",
     "output_type": "stream",
     "text": [
      "Expected reward of policy Random is 17.684500000000003\n",
      "Expected reward of policy RR is 17.4955\n",
      "Expected reward of policy Whittle is 19.905499999999996\n",
      "Expected reward of policy Baseline Quota is 19.732\n",
      "Expected reward of policy Big-LP is 19.737\n",
      "Expected reward of policy Big-LP Lump-sum is 19.773500000000002\n",
      "m_g: 40,fair clusters: [10, 35], timsteps:40\n",
      "k:20, ppl_per_cluster:10, n_clusters:20\n",
      "noise:0, seed:33\n"
     ]
    },
    {
     "name": "stderr",
     "output_type": "stream",
     "text": [
      "\r",
      "96it [08:28,  5.51s/it]"
     ]
    },
    {
     "name": "stdout",
     "output_type": "stream",
     "text": [
      "Expected reward of policy Random is 15.588\n",
      "Expected reward of policy RR is 15.701999999999998\n",
      "Expected reward of policy Whittle is 17.711\n",
      "Expected reward of policy Baseline Quota is 17.651\n",
      "Expected reward of policy Big-LP is 17.680500000000002\n",
      "Expected reward of policy Big-LP Lump-sum is 17.659\n",
      "m_g: 15,fair clusters: [10, 8, 35], timsteps:30\n",
      "k:15, ppl_per_cluster:10, n_clusters:20\n",
      "noise:0, seed:62\n"
     ]
    },
    {
     "name": "stderr",
     "output_type": "stream",
     "text": [
      "\r",
      "97it [08:33,  5.41s/it]"
     ]
    },
    {
     "name": "stdout",
     "output_type": "stream",
     "text": [
      "Expected reward of policy Random is 10.350000000000001\n",
      "Expected reward of policy RR is 10.2805\n",
      "Expected reward of policy Whittle is 11.4255\n",
      "Expected reward of policy Baseline Quota is 11.349\n",
      "Expected reward of policy Big-LP is 11.378000000000002\n",
      "Expected reward of policy Big-LP Lump-sum is 11.341000000000001\n",
      "m_g: 15,fair clusters: [10, 8, 35], timsteps:30\n",
      "k:15, ppl_per_cluster:10, n_clusters:20\n",
      "noise:0, seed:58\n"
     ]
    },
    {
     "name": "stderr",
     "output_type": "stream",
     "text": [
      "\r",
      "98it [08:38,  5.38s/it]"
     ]
    },
    {
     "name": "stdout",
     "output_type": "stream",
     "text": [
      "Expected reward of policy Random is 12.658\n",
      "Expected reward of policy RR is 12.6665\n",
      "Expected reward of policy Whittle is 13.544\n",
      "Expected reward of policy Baseline Quota is 13.503\n",
      "Expected reward of policy Big-LP is 13.527000000000001\n",
      "Expected reward of policy Big-LP Lump-sum is 13.522499999999999\n",
      "m_g: 15,fair clusters: [10, 8, 35], timsteps:30\n",
      "k:15, ppl_per_cluster:10, n_clusters:20\n",
      "noise:0, seed:19\n"
     ]
    },
    {
     "name": "stderr",
     "output_type": "stream",
     "text": [
      "\r",
      "99it [08:44,  5.42s/it]"
     ]
    },
    {
     "name": "stdout",
     "output_type": "stream",
     "text": [
      "Expected reward of policy Random is 10.557\n",
      "Expected reward of policy RR is 10.3965\n",
      "Expected reward of policy Whittle is 11.805499999999999\n",
      "Expected reward of policy Baseline Quota is 11.6975\n",
      "Expected reward of policy Big-LP is 11.713999999999999\n",
      "Expected reward of policy Big-LP Lump-sum is 11.707500000000001\n",
      "m_g: 15,fair clusters: [10, 8, 35], timsteps:30\n",
      "k:15, ppl_per_cluster:10, n_clusters:20\n",
      "noise:0, seed:74\n"
     ]
    },
    {
     "name": "stderr",
     "output_type": "stream",
     "text": [
      "\r",
      "100it [08:49,  5.42s/it]"
     ]
    },
    {
     "name": "stdout",
     "output_type": "stream",
     "text": [
      "Expected reward of policy Random is 10.410500000000003\n",
      "Expected reward of policy RR is 10.44\n",
      "Expected reward of policy Whittle is 11.704999999999998\n",
      "Expected reward of policy Baseline Quota is 11.6375\n",
      "Expected reward of policy Big-LP is 11.6735\n",
      "Expected reward of policy Big-LP Lump-sum is 11.684000000000001\n",
      "m_g: 15,fair clusters: [10, 8, 35], timsteps:30\n",
      "k:15, ppl_per_cluster:10, n_clusters:20\n",
      "noise:0, seed:21\n"
     ]
    },
    {
     "name": "stderr",
     "output_type": "stream",
     "text": [
      "\r",
      "101it [08:54,  5.32s/it]"
     ]
    },
    {
     "name": "stdout",
     "output_type": "stream",
     "text": [
      "Expected reward of policy Random is 12.023\n",
      "Expected reward of policy RR is 11.976500000000001\n",
      "Expected reward of policy Whittle is 12.833000000000002\n",
      "Expected reward of policy Baseline Quota is 12.7625\n",
      "Expected reward of policy Big-LP is 12.782\n",
      "Expected reward of policy Big-LP Lump-sum is 12.759000000000002\n",
      "m_g: 15,fair clusters: [10, 8, 35], timsteps:30\n",
      "k:15, ppl_per_cluster:10, n_clusters:20\n",
      "noise:0, seed:84\n"
     ]
    },
    {
     "name": "stderr",
     "output_type": "stream",
     "text": [
      "\r",
      "102it [09:00,  5.31s/it]"
     ]
    },
    {
     "name": "stdout",
     "output_type": "stream",
     "text": [
      "Expected reward of policy Random is 11.1255\n",
      "Expected reward of policy RR is 11.099\n",
      "Expected reward of policy Whittle is 12.5725\n",
      "Expected reward of policy Baseline Quota is 12.490999999999998\n",
      "Expected reward of policy Big-LP is 12.509\n",
      "Expected reward of policy Big-LP Lump-sum is 12.484\n",
      "m_g: 15,fair clusters: [10, 8, 35], timsteps:30\n",
      "k:15, ppl_per_cluster:10, n_clusters:20\n",
      "noise:0, seed:57\n"
     ]
    },
    {
     "name": "stderr",
     "output_type": "stream",
     "text": [
      "\r",
      "103it [09:05,  5.36s/it]"
     ]
    },
    {
     "name": "stdout",
     "output_type": "stream",
     "text": [
      "Expected reward of policy Random is 11.996500000000001\n",
      "Expected reward of policy RR is 11.9405\n",
      "Expected reward of policy Whittle is 13.304000000000002\n",
      "Expected reward of policy Baseline Quota is 13.210000000000003\n",
      "Expected reward of policy Big-LP is 13.2315\n",
      "Expected reward of policy Big-LP Lump-sum is 13.2195\n",
      "m_g: 15,fair clusters: [10, 8, 35], timsteps:30\n",
      "k:15, ppl_per_cluster:10, n_clusters:20\n",
      "noise:0, seed:33\n"
     ]
    },
    {
     "name": "stderr",
     "output_type": "stream",
     "text": [
      "\r",
      "104it [09:10,  5.33s/it]"
     ]
    },
    {
     "name": "stdout",
     "output_type": "stream",
     "text": [
      "Expected reward of policy Random is 9.822500000000002\n",
      "Expected reward of policy RR is 9.8035\n",
      "Expected reward of policy Whittle is 11.325500000000002\n",
      "Expected reward of policy Baseline Quota is 11.234\n",
      "Expected reward of policy Big-LP is 11.2825\n",
      "Expected reward of policy Big-LP Lump-sum is 11.2675\n",
      "m_g: 20,fair clusters: [10, 8, 35], timsteps:30\n",
      "k:20, ppl_per_cluster:10, n_clusters:20\n",
      "noise:0, seed:62\n"
     ]
    },
    {
     "name": "stderr",
     "output_type": "stream",
     "text": [
      "\r",
      "105it [09:17,  5.60s/it]"
     ]
    },
    {
     "name": "stdout",
     "output_type": "stream",
     "text": [
      "Expected reward of policy Random is 10.513000000000002\n",
      "Expected reward of policy RR is 10.466000000000001\n",
      "Expected reward of policy Whittle is 11.782999999999998\n",
      "Expected reward of policy Baseline Quota is 11.694999999999999\n",
      "Expected reward of policy Big-LP is 11.7115\n",
      "Expected reward of policy Big-LP Lump-sum is 11.693\n",
      "m_g: 20,fair clusters: [10, 8, 35], timsteps:30\n",
      "k:20, ppl_per_cluster:10, n_clusters:20\n",
      "noise:0, seed:58\n"
     ]
    },
    {
     "name": "stderr",
     "output_type": "stream",
     "text": [
      "\r",
      "106it [09:22,  5.60s/it]"
     ]
    },
    {
     "name": "stdout",
     "output_type": "stream",
     "text": [
      "Expected reward of policy Random is 12.782\n",
      "Expected reward of policy RR is 12.786\n",
      "Expected reward of policy Whittle is 13.728\n",
      "Expected reward of policy Baseline Quota is 13.687999999999999\n",
      "Expected reward of policy Big-LP is 13.6855\n",
      "Expected reward of policy Big-LP Lump-sum is 13.700999999999999\n",
      "m_g: 20,fair clusters: [10, 8, 35], timsteps:30\n",
      "k:20, ppl_per_cluster:10, n_clusters:20\n",
      "noise:0, seed:19\n"
     ]
    },
    {
     "name": "stderr",
     "output_type": "stream",
     "text": [
      "\r",
      "107it [09:28,  5.65s/it]"
     ]
    },
    {
     "name": "stdout",
     "output_type": "stream",
     "text": [
      "Expected reward of policy Random is 10.722\n",
      "Expected reward of policy RR is 10.5355\n",
      "Expected reward of policy Whittle is 12.149500000000002\n",
      "Expected reward of policy Baseline Quota is 12.084999999999999\n",
      "Expected reward of policy Big-LP is 12.081\n",
      "Expected reward of policy Big-LP Lump-sum is 12.069\n",
      "m_g: 20,fair clusters: [10, 8, 35], timsteps:30\n",
      "k:20, ppl_per_cluster:10, n_clusters:20\n",
      "noise:0, seed:74\n"
     ]
    },
    {
     "name": "stderr",
     "output_type": "stream",
     "text": [
      "\r",
      "108it [09:33,  5.58s/it]"
     ]
    },
    {
     "name": "stdout",
     "output_type": "stream",
     "text": [
      "Expected reward of policy Random is 10.581\n",
      "Expected reward of policy RR is 10.6005\n",
      "Expected reward of policy Whittle is 12.048000000000002\n",
      "Expected reward of policy Baseline Quota is 11.9615\n",
      "Expected reward of policy Big-LP is 12.003499999999999\n",
      "Expected reward of policy Big-LP Lump-sum is 11.999500000000001\n",
      "m_g: 20,fair clusters: [10, 8, 35], timsteps:30\n",
      "k:20, ppl_per_cluster:10, n_clusters:20\n",
      "noise:0, seed:21\n"
     ]
    },
    {
     "name": "stderr",
     "output_type": "stream",
     "text": [
      "\r",
      "109it [09:39,  5.49s/it]"
     ]
    },
    {
     "name": "stdout",
     "output_type": "stream",
     "text": [
      "Expected reward of policy Random is 12.188500000000001\n",
      "Expected reward of policy RR is 12.052499999999998\n",
      "Expected reward of policy Whittle is 13.185500000000001\n",
      "Expected reward of policy Baseline Quota is 13.103\n",
      "Expected reward of policy Big-LP is 13.092499999999998\n",
      "Expected reward of policy Big-LP Lump-sum is 13.0965\n",
      "m_g: 20,fair clusters: [10, 8, 35], timsteps:30\n",
      "k:20, ppl_per_cluster:10, n_clusters:20\n",
      "noise:0, seed:84\n"
     ]
    },
    {
     "name": "stderr",
     "output_type": "stream",
     "text": [
      "\r",
      "110it [09:44,  5.47s/it]"
     ]
    },
    {
     "name": "stdout",
     "output_type": "stream",
     "text": [
      "Expected reward of policy Random is 11.257499999999999\n",
      "Expected reward of policy RR is 11.306999999999999\n",
      "Expected reward of policy Whittle is 12.977\n",
      "Expected reward of policy Baseline Quota is 12.852499999999997\n",
      "Expected reward of policy Big-LP is 12.837\n",
      "Expected reward of policy Big-LP Lump-sum is 12.8495\n",
      "m_g: 20,fair clusters: [10, 8, 35], timsteps:30\n",
      "k:20, ppl_per_cluster:10, n_clusters:20\n",
      "noise:0, seed:57\n"
     ]
    },
    {
     "name": "stderr",
     "output_type": "stream",
     "text": [
      "\r",
      "111it [09:49,  5.45s/it]"
     ]
    },
    {
     "name": "stdout",
     "output_type": "stream",
     "text": [
      "Expected reward of policy Random is 12.139\n",
      "Expected reward of policy RR is 12.111\n",
      "Expected reward of policy Whittle is 13.5255\n",
      "Expected reward of policy Baseline Quota is 13.500499999999999\n",
      "Expected reward of policy Big-LP is 13.520000000000001\n",
      "Expected reward of policy Big-LP Lump-sum is 13.502\n",
      "m_g: 20,fair clusters: [10, 8, 35], timsteps:30\n",
      "k:20, ppl_per_cluster:10, n_clusters:20\n",
      "noise:0, seed:33\n"
     ]
    },
    {
     "name": "stderr",
     "output_type": "stream",
     "text": [
      "\r",
      "112it [09:55,  5.45s/it]"
     ]
    },
    {
     "name": "stdout",
     "output_type": "stream",
     "text": [
      "Expected reward of policy Random is 9.998999999999999\n",
      "Expected reward of policy RR is 9.985\n",
      "Expected reward of policy Whittle is 11.648500000000002\n",
      "Expected reward of policy Baseline Quota is 11.542\n",
      "Expected reward of policy Big-LP is 11.5865\n",
      "Expected reward of policy Big-LP Lump-sum is 11.5725\n",
      "m_g: 20,fair clusters: [10, 8, 35], timsteps:40\n",
      "k:15, ppl_per_cluster:10, n_clusters:20\n",
      "noise:0, seed:62\n"
     ]
    },
    {
     "name": "stderr",
     "output_type": "stream",
     "text": [
      "\r",
      "113it [10:00,  5.43s/it]"
     ]
    },
    {
     "name": "stdout",
     "output_type": "stream",
     "text": [
      "Expected reward of policy Random is 13.858500000000001\n",
      "Expected reward of policy RR is 13.7815\n",
      "Expected reward of policy Whittle is 15.3275\n",
      "Expected reward of policy Baseline Quota is 15.214000000000002\n",
      "Expected reward of policy Big-LP is 15.214000000000002\n",
      "Expected reward of policy Big-LP Lump-sum is 15.2075\n",
      "m_g: 20,fair clusters: [10, 8, 35], timsteps:40\n",
      "k:15, ppl_per_cluster:10, n_clusters:20\n",
      "noise:0, seed:58\n"
     ]
    },
    {
     "name": "stderr",
     "output_type": "stream",
     "text": [
      "\r",
      "114it [10:06,  5.48s/it]"
     ]
    },
    {
     "name": "stdout",
     "output_type": "stream",
     "text": [
      "Expected reward of policy Random is 17.016\n",
      "Expected reward of policy RR is 16.987000000000002\n",
      "Expected reward of policy Whittle is 18.157000000000004\n",
      "Expected reward of policy Baseline Quota is 18.127000000000002\n",
      "Expected reward of policy Big-LP is 18.131999999999998\n",
      "Expected reward of policy Big-LP Lump-sum is 18.127999999999997\n",
      "m_g: 20,fair clusters: [10, 8, 35], timsteps:40\n",
      "k:15, ppl_per_cluster:10, n_clusters:20\n",
      "noise:0, seed:19\n"
     ]
    },
    {
     "name": "stderr",
     "output_type": "stream",
     "text": [
      "\r",
      "115it [10:12,  5.57s/it]"
     ]
    },
    {
     "name": "stdout",
     "output_type": "stream",
     "text": [
      "Expected reward of policy Random is 14.1965\n",
      "Expected reward of policy RR is 13.959\n",
      "Expected reward of policy Whittle is 15.933000000000002\n",
      "Expected reward of policy Baseline Quota is 15.781\n",
      "Expected reward of policy Big-LP is 15.767\n",
      "Expected reward of policy Big-LP Lump-sum is 15.745\n",
      "m_g: 20,fair clusters: [10, 8, 35], timsteps:40\n",
      "k:15, ppl_per_cluster:10, n_clusters:20\n",
      "noise:0, seed:74\n"
     ]
    },
    {
     "name": "stderr",
     "output_type": "stream",
     "text": [
      "\r",
      "116it [10:17,  5.59s/it]"
     ]
    },
    {
     "name": "stdout",
     "output_type": "stream",
     "text": [
      "Expected reward of policy Random is 13.947999999999999\n",
      "Expected reward of policy RR is 13.9495\n",
      "Expected reward of policy Whittle is 15.6935\n",
      "Expected reward of policy Baseline Quota is 15.5735\n",
      "Expected reward of policy Big-LP is 15.649000000000001\n",
      "Expected reward of policy Big-LP Lump-sum is 15.644499999999999\n",
      "m_g: 20,fair clusters: [10, 8, 35], timsteps:40\n",
      "k:15, ppl_per_cluster:10, n_clusters:20\n",
      "noise:0, seed:21\n"
     ]
    },
    {
     "name": "stderr",
     "output_type": "stream",
     "text": [
      "\r",
      "117it [10:23,  5.52s/it]"
     ]
    },
    {
     "name": "stdout",
     "output_type": "stream",
     "text": [
      "Expected reward of policy Random is 16.1485\n",
      "Expected reward of policy RR is 16.0595\n",
      "Expected reward of policy Whittle is 17.217000000000002\n",
      "Expected reward of policy Baseline Quota is 17.1145\n",
      "Expected reward of policy Big-LP is 17.130000000000003\n",
      "Expected reward of policy Big-LP Lump-sum is 17.104000000000003\n",
      "m_g: 20,fair clusters: [10, 8, 35], timsteps:40\n",
      "k:15, ppl_per_cluster:10, n_clusters:20\n",
      "noise:0, seed:84\n"
     ]
    },
    {
     "name": "stderr",
     "output_type": "stream",
     "text": [
      "\r",
      "118it [10:28,  5.51s/it]"
     ]
    },
    {
     "name": "stdout",
     "output_type": "stream",
     "text": [
      "Expected reward of policy Random is 14.836499999999997\n",
      "Expected reward of policy RR is 14.871\n",
      "Expected reward of policy Whittle is 16.833000000000002\n",
      "Expected reward of policy Baseline Quota is 16.731500000000004\n",
      "Expected reward of policy Big-LP is 16.741999999999997\n",
      "Expected reward of policy Big-LP Lump-sum is 16.704500000000003\n",
      "m_g: 20,fair clusters: [10, 8, 35], timsteps:40\n",
      "k:15, ppl_per_cluster:10, n_clusters:20\n",
      "noise:0, seed:57\n"
     ]
    },
    {
     "name": "stderr",
     "output_type": "stream",
     "text": [
      "\r",
      "119it [10:34,  5.57s/it]"
     ]
    },
    {
     "name": "stdout",
     "output_type": "stream",
     "text": [
      "Expected reward of policy Random is 16.059500000000003\n",
      "Expected reward of policy RR is 16.017500000000002\n",
      "Expected reward of policy Whittle is 17.85\n",
      "Expected reward of policy Baseline Quota is 17.753\n",
      "Expected reward of policy Big-LP is 17.752000000000002\n",
      "Expected reward of policy Big-LP Lump-sum is 17.7295\n",
      "m_g: 20,fair clusters: [10, 8, 35], timsteps:40\n",
      "k:15, ppl_per_cluster:10, n_clusters:20\n",
      "noise:0, seed:33\n"
     ]
    },
    {
     "name": "stderr",
     "output_type": "stream",
     "text": [
      "\r",
      "120it [10:39,  5.57s/it]"
     ]
    },
    {
     "name": "stdout",
     "output_type": "stream",
     "text": [
      "Expected reward of policy Random is 13.1615\n",
      "Expected reward of policy RR is 13.098500000000001\n",
      "Expected reward of policy Whittle is 15.2075\n",
      "Expected reward of policy Baseline Quota is 15.061999999999998\n",
      "Expected reward of policy Big-LP is 15.136499999999998\n",
      "Expected reward of policy Big-LP Lump-sum is 15.138\n",
      "m_g: 26,fair clusters: [10, 8, 35], timsteps:40\n",
      "k:20, ppl_per_cluster:10, n_clusters:20\n",
      "noise:0, seed:62\n"
     ]
    },
    {
     "name": "stderr",
     "output_type": "stream",
     "text": [
      "\r",
      "121it [10:45,  5.58s/it]"
     ]
    },
    {
     "name": "stdout",
     "output_type": "stream",
     "text": [
      "Expected reward of policy Random is 14.095499999999998\n",
      "Expected reward of policy RR is 13.980500000000001\n",
      "Expected reward of policy Whittle is 15.8085\n",
      "Expected reward of policy Baseline Quota is 15.695500000000001\n",
      "Expected reward of policy Big-LP is 15.6925\n",
      "Expected reward of policy Big-LP Lump-sum is 15.698999999999998\n",
      "m_g: 26,fair clusters: [10, 8, 35], timsteps:40\n",
      "k:20, ppl_per_cluster:10, n_clusters:20\n",
      "noise:0, seed:58\n"
     ]
    },
    {
     "name": "stderr",
     "output_type": "stream",
     "text": [
      "\r",
      "122it [10:51,  5.64s/it]"
     ]
    },
    {
     "name": "stdout",
     "output_type": "stream",
     "text": [
      "Expected reward of policy Random is 17.187500000000004\n",
      "Expected reward of policy RR is 17.1235\n",
      "Expected reward of policy Whittle is 18.4095\n",
      "Expected reward of policy Baseline Quota is 18.355000000000004\n",
      "Expected reward of policy Big-LP is 18.35\n",
      "Expected reward of policy Big-LP Lump-sum is 18.3705\n",
      "m_g: 26,fair clusters: [10, 8, 35], timsteps:40\n",
      "k:20, ppl_per_cluster:10, n_clusters:20\n",
      "noise:0, seed:19\n"
     ]
    },
    {
     "name": "stderr",
     "output_type": "stream",
     "text": [
      "\r",
      "123it [10:57,  5.70s/it]"
     ]
    },
    {
     "name": "stdout",
     "output_type": "stream",
     "text": [
      "Expected reward of policy Random is 14.407999999999998\n",
      "Expected reward of policy RR is 14.1565\n",
      "Expected reward of policy Whittle is 16.4035\n",
      "Expected reward of policy Baseline Quota is 16.278\n",
      "Expected reward of policy Big-LP is 16.285000000000004\n",
      "Expected reward of policy Big-LP Lump-sum is 16.305\n",
      "m_g: 26,fair clusters: [10, 8, 35], timsteps:40\n",
      "k:20, ppl_per_cluster:10, n_clusters:20\n",
      "noise:0, seed:74\n"
     ]
    },
    {
     "name": "stderr",
     "output_type": "stream",
     "text": [
      "\r",
      "124it [11:02,  5.71s/it]"
     ]
    },
    {
     "name": "stdout",
     "output_type": "stream",
     "text": [
      "Expected reward of policy Random is 14.1695\n",
      "Expected reward of policy RR is 14.1375\n",
      "Expected reward of policy Whittle is 16.115\n",
      "Expected reward of policy Baseline Quota is 16.020500000000002\n",
      "Expected reward of policy Big-LP is 16.05\n",
      "Expected reward of policy Big-LP Lump-sum is 16.066000000000003\n",
      "m_g: 26,fair clusters: [10, 8, 35], timsteps:40\n",
      "k:20, ppl_per_cluster:10, n_clusters:20\n",
      "noise:0, seed:21\n"
     ]
    },
    {
     "name": "stderr",
     "output_type": "stream",
     "text": [
      "\r",
      "125it [11:08,  5.67s/it]"
     ]
    },
    {
     "name": "stdout",
     "output_type": "stream",
     "text": [
      "Expected reward of policy Random is 16.3425\n",
      "Expected reward of policy RR is 16.1515\n",
      "Expected reward of policy Whittle is 17.700499999999998\n",
      "Expected reward of policy Baseline Quota is 17.561500000000002\n",
      "Expected reward of policy Big-LP is 17.538999999999998\n",
      "Expected reward of policy Big-LP Lump-sum is 17.544000000000004\n",
      "m_g: 26,fair clusters: [10, 8, 35], timsteps:40\n",
      "k:20, ppl_per_cluster:10, n_clusters:20\n",
      "noise:0, seed:84\n"
     ]
    },
    {
     "name": "stderr",
     "output_type": "stream",
     "text": [
      "\r",
      "126it [11:14,  5.83s/it]"
     ]
    },
    {
     "name": "stdout",
     "output_type": "stream",
     "text": [
      "Expected reward of policy Random is 15.021\n",
      "Expected reward of policy RR is 15.126\n",
      "Expected reward of policy Whittle is 17.4105\n",
      "Expected reward of policy Baseline Quota is 17.2175\n",
      "Expected reward of policy Big-LP is 17.21\n",
      "Expected reward of policy Big-LP Lump-sum is 17.240000000000002\n",
      "m_g: 26,fair clusters: [10, 8, 35], timsteps:40\n",
      "k:20, ppl_per_cluster:10, n_clusters:20\n",
      "noise:0, seed:57\n"
     ]
    },
    {
     "name": "stderr",
     "output_type": "stream",
     "text": [
      "\r",
      "127it [11:20,  5.85s/it]"
     ]
    },
    {
     "name": "stdout",
     "output_type": "stream",
     "text": [
      "Expected reward of policy Random is 16.287\n",
      "Expected reward of policy RR is 16.237000000000002\n",
      "Expected reward of policy Whittle is 18.163000000000004\n",
      "Expected reward of policy Baseline Quota is 18.130000000000003\n",
      "Expected reward of policy Big-LP is 18.149\n",
      "Expected reward of policy Big-LP Lump-sum is 18.1385\n",
      "m_g: 26,fair clusters: [10, 8, 35], timsteps:40\n",
      "k:20, ppl_per_cluster:10, n_clusters:20\n",
      "noise:0, seed:33\n"
     ]
    },
    {
     "name": "stderr",
     "output_type": "stream",
     "text": [
      "\r",
      "128it [11:26,  5.87s/it]"
     ]
    },
    {
     "name": "stdout",
     "output_type": "stream",
     "text": [
      "Expected reward of policy Random is 13.381\n",
      "Expected reward of policy RR is 13.355\n",
      "Expected reward of policy Whittle is 15.638\n",
      "Expected reward of policy Baseline Quota is 15.507\n",
      "Expected reward of policy Big-LP is 15.5555\n",
      "Expected reward of policy Big-LP Lump-sum is 15.543000000000001\n",
      "m_g: 11,fair clusters: [10, 23, 8, 35], timsteps:30\n",
      "k:15, ppl_per_cluster:10, n_clusters:20\n",
      "noise:0, seed:62\n"
     ]
    },
    {
     "name": "stderr",
     "output_type": "stream",
     "text": [
      "\r",
      "129it [11:31,  5.71s/it]"
     ]
    },
    {
     "name": "stdout",
     "output_type": "stream",
     "text": [
      "Expected reward of policy Random is 11.262500000000001\n",
      "Expected reward of policy RR is 11.247499999999999\n",
      "Expected reward of policy Whittle is 12.702000000000002\n",
      "Expected reward of policy Baseline Quota is 12.626500000000002\n",
      "Expected reward of policy Big-LP is 12.658000000000001\n",
      "Expected reward of policy Big-LP Lump-sum is 12.6455\n",
      "m_g: 11,fair clusters: [10, 23, 8, 35], timsteps:30\n",
      "k:15, ppl_per_cluster:10, n_clusters:20\n",
      "noise:0, seed:58\n"
     ]
    },
    {
     "name": "stderr",
     "output_type": "stream",
     "text": [
      "\r",
      "130it [11:37,  5.61s/it]"
     ]
    },
    {
     "name": "stdout",
     "output_type": "stream",
     "text": [
      "Expected reward of policy Random is 12.995\n",
      "Expected reward of policy RR is 12.912\n",
      "Expected reward of policy Whittle is 14.035\n",
      "Expected reward of policy Baseline Quota is 13.976500000000001\n",
      "Expected reward of policy Big-LP is 14.007500000000002\n",
      "Expected reward of policy Big-LP Lump-sum is 14.005500000000001\n",
      "m_g: 11,fair clusters: [10, 23, 8, 35], timsteps:30\n",
      "k:15, ppl_per_cluster:10, n_clusters:20\n",
      "noise:0, seed:19\n"
     ]
    },
    {
     "name": "stderr",
     "output_type": "stream",
     "text": [
      "\r",
      "131it [11:42,  5.61s/it]"
     ]
    },
    {
     "name": "stdout",
     "output_type": "stream",
     "text": [
      "Expected reward of policy Random is 9.4445\n",
      "Expected reward of policy RR is 9.4625\n",
      "Expected reward of policy Whittle is 10.8055\n",
      "Expected reward of policy Baseline Quota is 10.742500000000001\n",
      "Expected reward of policy Big-LP is 10.723499999999998\n",
      "Expected reward of policy Big-LP Lump-sum is 10.722999999999999\n",
      "m_g: 11,fair clusters: [10, 23, 8, 35], timsteps:30\n",
      "k:15, ppl_per_cluster:10, n_clusters:20\n",
      "noise:0, seed:74\n"
     ]
    },
    {
     "name": "stderr",
     "output_type": "stream",
     "text": [
      "\r",
      "132it [11:48,  5.57s/it]"
     ]
    },
    {
     "name": "stdout",
     "output_type": "stream",
     "text": [
      "Expected reward of policy Random is 11.035\n",
      "Expected reward of policy RR is 11.078500000000002\n",
      "Expected reward of policy Whittle is 12.1125\n",
      "Expected reward of policy Baseline Quota is 12.076999999999998\n",
      "Expected reward of policy Big-LP is 12.0995\n",
      "Expected reward of policy Big-LP Lump-sum is 12.081000000000001\n",
      "m_g: 11,fair clusters: [10, 23, 8, 35], timsteps:30\n",
      "k:15, ppl_per_cluster:10, n_clusters:20\n",
      "noise:0, seed:21\n"
     ]
    },
    {
     "name": "stderr",
     "output_type": "stream",
     "text": [
      "\r",
      "133it [11:53,  5.48s/it]"
     ]
    },
    {
     "name": "stdout",
     "output_type": "stream",
     "text": [
      "Expected reward of policy Random is 11.753499999999999\n",
      "Expected reward of policy RR is 11.4905\n",
      "Expected reward of policy Whittle is 12.421000000000003\n",
      "Expected reward of policy Baseline Quota is 12.3425\n",
      "Expected reward of policy Big-LP is 12.3505\n",
      "Expected reward of policy Big-LP Lump-sum is 12.345000000000002\n",
      "m_g: 11,fair clusters: [10, 23, 8, 35], timsteps:30\n",
      "k:15, ppl_per_cluster:10, n_clusters:20\n",
      "noise:0, seed:84\n"
     ]
    },
    {
     "name": "stderr",
     "output_type": "stream",
     "text": [
      "\r",
      "134it [11:59,  5.48s/it]"
     ]
    },
    {
     "name": "stdout",
     "output_type": "stream",
     "text": [
      "Expected reward of policy Random is 10.008500000000002\n",
      "Expected reward of policy RR is 10.011\n",
      "Expected reward of policy Whittle is 11.272\n",
      "Expected reward of policy Baseline Quota is 11.183499999999999\n",
      "Expected reward of policy Big-LP is 11.243\n",
      "Expected reward of policy Big-LP Lump-sum is 11.222\n",
      "m_g: 11,fair clusters: [10, 23, 8, 35], timsteps:30\n",
      "k:15, ppl_per_cluster:10, n_clusters:20\n",
      "noise:0, seed:57\n"
     ]
    },
    {
     "name": "stderr",
     "output_type": "stream",
     "text": [
      "\r",
      "135it [12:04,  5.50s/it]"
     ]
    },
    {
     "name": "stdout",
     "output_type": "stream",
     "text": [
      "Expected reward of policy Random is 11.892999999999999\n",
      "Expected reward of policy RR is 11.769499999999999\n",
      "Expected reward of policy Whittle is 12.5075\n",
      "Expected reward of policy Baseline Quota is 12.482500000000002\n",
      "Expected reward of policy Big-LP is 12.493\n",
      "Expected reward of policy Big-LP Lump-sum is 12.489500000000001\n",
      "m_g: 11,fair clusters: [10, 23, 8, 35], timsteps:30\n",
      "k:15, ppl_per_cluster:10, n_clusters:20\n",
      "noise:0, seed:33\n"
     ]
    },
    {
     "name": "stderr",
     "output_type": "stream",
     "text": [
      "\r",
      "136it [12:09,  5.46s/it]"
     ]
    },
    {
     "name": "stdout",
     "output_type": "stream",
     "text": [
      "Expected reward of policy Random is 10.22\n",
      "Expected reward of policy RR is 10.1305\n",
      "Expected reward of policy Whittle is 11.6255\n",
      "Expected reward of policy Baseline Quota is 11.513499999999999\n",
      "Expected reward of policy Big-LP is 11.519\n",
      "Expected reward of policy Big-LP Lump-sum is 11.467000000000002\n",
      "m_g: 15,fair clusters: [10, 23, 8, 35], timsteps:30\n",
      "k:20, ppl_per_cluster:10, n_clusters:20\n",
      "noise:0, seed:62\n"
     ]
    },
    {
     "name": "stderr",
     "output_type": "stream",
     "text": [
      "\r",
      "137it [12:15,  5.52s/it]"
     ]
    },
    {
     "name": "stdout",
     "output_type": "stream",
     "text": [
      "Expected reward of policy Random is 11.4345\n",
      "Expected reward of policy RR is 11.368\n",
      "Expected reward of policy Whittle is 13.0605\n",
      "Expected reward of policy Baseline Quota is 12.9585\n",
      "Expected reward of policy Big-LP is 12.963\n",
      "Expected reward of policy Big-LP Lump-sum is 12.9575\n",
      "m_g: 15,fair clusters: [10, 23, 8, 35], timsteps:30\n",
      "k:20, ppl_per_cluster:10, n_clusters:20\n",
      "noise:0, seed:58\n"
     ]
    },
    {
     "name": "stderr",
     "output_type": "stream",
     "text": [
      "\r",
      "138it [12:21,  5.50s/it]"
     ]
    },
    {
     "name": "stdout",
     "output_type": "stream",
     "text": [
      "Expected reward of policy Random is 13.116000000000003\n",
      "Expected reward of policy RR is 13.0395\n",
      "Expected reward of policy Whittle is 14.2375\n",
      "Expected reward of policy Baseline Quota is 14.217500000000001\n",
      "Expected reward of policy Big-LP is 14.226999999999999\n",
      "Expected reward of policy Big-LP Lump-sum is 14.220500000000001\n",
      "m_g: 15,fair clusters: [10, 23, 8, 35], timsteps:30\n",
      "k:20, ppl_per_cluster:10, n_clusters:20\n",
      "noise:0, seed:19\n"
     ]
    },
    {
     "name": "stderr",
     "output_type": "stream",
     "text": [
      "\r",
      "139it [12:26,  5.61s/it]"
     ]
    },
    {
     "name": "stdout",
     "output_type": "stream",
     "text": [
      "Expected reward of policy Random is 9.5995\n",
      "Expected reward of policy RR is 9.595000000000002\n",
      "Expected reward of policy Whittle is 11.174999999999999\n",
      "Expected reward of policy Baseline Quota is 11.060999999999998\n",
      "Expected reward of policy Big-LP is 11.092\n",
      "Expected reward of policy Big-LP Lump-sum is 11.072500000000002\n",
      "m_g: 15,fair clusters: [10, 23, 8, 35], timsteps:30\n",
      "k:20, ppl_per_cluster:10, n_clusters:20\n",
      "noise:0, seed:74\n"
     ]
    },
    {
     "name": "stderr",
     "output_type": "stream",
     "text": [
      "\r",
      "140it [12:32,  5.63s/it]"
     ]
    },
    {
     "name": "stdout",
     "output_type": "stream",
     "text": [
      "Expected reward of policy Random is 11.1875\n",
      "Expected reward of policy RR is 11.26\n",
      "Expected reward of policy Whittle is 12.3065\n",
      "Expected reward of policy Baseline Quota is 12.267999999999999\n",
      "Expected reward of policy Big-LP is 12.2545\n",
      "Expected reward of policy Big-LP Lump-sum is 12.286\n",
      "m_g: 15,fair clusters: [10, 23, 8, 35], timsteps:30\n",
      "k:20, ppl_per_cluster:10, n_clusters:20\n",
      "noise:0, seed:21\n"
     ]
    },
    {
     "name": "stderr",
     "output_type": "stream",
     "text": [
      "\r",
      "141it [12:38,  5.63s/it]"
     ]
    },
    {
     "name": "stdout",
     "output_type": "stream",
     "text": [
      "Expected reward of policy Random is 11.904\n",
      "Expected reward of policy RR is 11.7025\n",
      "Expected reward of policy Whittle is 12.7645\n",
      "Expected reward of policy Baseline Quota is 12.6755\n",
      "Expected reward of policy Big-LP is 12.679999999999998\n",
      "Expected reward of policy Big-LP Lump-sum is 12.655999999999999\n",
      "m_g: 15,fair clusters: [10, 23, 8, 35], timsteps:30\n",
      "k:20, ppl_per_cluster:10, n_clusters:20\n",
      "noise:0, seed:84\n"
     ]
    },
    {
     "name": "stderr",
     "output_type": "stream",
     "text": [
      "\r",
      "142it [12:43,  5.62s/it]"
     ]
    },
    {
     "name": "stdout",
     "output_type": "stream",
     "text": [
      "Expected reward of policy Random is 10.172\n",
      "Expected reward of policy RR is 10.220500000000003\n",
      "Expected reward of policy Whittle is 11.4845\n",
      "Expected reward of policy Baseline Quota is 11.4325\n",
      "Expected reward of policy Big-LP is 11.4615\n",
      "Expected reward of policy Big-LP Lump-sum is 11.4585\n",
      "m_g: 15,fair clusters: [10, 23, 8, 35], timsteps:30\n",
      "k:20, ppl_per_cluster:10, n_clusters:20\n",
      "noise:0, seed:57\n"
     ]
    },
    {
     "name": "stderr",
     "output_type": "stream",
     "text": [
      "\r",
      "143it [12:49,  5.64s/it]"
     ]
    },
    {
     "name": "stdout",
     "output_type": "stream",
     "text": [
      "Expected reward of policy Random is 12.007000000000001\n",
      "Expected reward of policy RR is 11.818499999999998\n",
      "Expected reward of policy Whittle is 12.718\n",
      "Expected reward of policy Baseline Quota is 12.658999999999999\n",
      "Expected reward of policy Big-LP is 12.6755\n",
      "Expected reward of policy Big-LP Lump-sum is 12.669\n",
      "m_g: 15,fair clusters: [10, 23, 8, 35], timsteps:30\n",
      "k:20, ppl_per_cluster:10, n_clusters:20\n",
      "noise:0, seed:33\n"
     ]
    },
    {
     "name": "stderr",
     "output_type": "stream",
     "text": [
      "\r",
      "144it [12:54,  5.59s/it]"
     ]
    },
    {
     "name": "stdout",
     "output_type": "stream",
     "text": [
      "Expected reward of policy Random is 10.389999999999999\n",
      "Expected reward of policy RR is 10.375499999999999\n",
      "Expected reward of policy Whittle is 12.024000000000001\n",
      "Expected reward of policy Baseline Quota is 11.880500000000001\n",
      "Expected reward of policy Big-LP is 11.9145\n",
      "Expected reward of policy Big-LP Lump-sum is 11.916500000000001\n",
      "m_g: 15,fair clusters: [10, 23, 8, 35], timsteps:40\n",
      "k:15, ppl_per_cluster:10, n_clusters:20\n",
      "noise:0, seed:62\n"
     ]
    },
    {
     "name": "stderr",
     "output_type": "stream",
     "text": [
      "\r",
      "145it [13:00,  5.58s/it]"
     ]
    },
    {
     "name": "stdout",
     "output_type": "stream",
     "text": [
      "Expected reward of policy Random is 15.1595\n",
      "Expected reward of policy RR is 15.076500000000001\n",
      "Expected reward of policy Whittle is 17.052\n",
      "Expected reward of policy Baseline Quota is 16.97\n",
      "Expected reward of policy Big-LP is 16.9795\n",
      "Expected reward of policy Big-LP Lump-sum is 16.979999999999997\n",
      "m_g: 15,fair clusters: [10, 23, 8, 35], timsteps:40\n",
      "k:15, ppl_per_cluster:10, n_clusters:20\n",
      "noise:0, seed:58\n"
     ]
    },
    {
     "name": "stderr",
     "output_type": "stream",
     "text": [
      "\r",
      "146it [13:06,  5.60s/it]"
     ]
    },
    {
     "name": "stdout",
     "output_type": "stream",
     "text": [
      "Expected reward of policy Random is 17.444\n",
      "Expected reward of policy RR is 17.335\n",
      "Expected reward of policy Whittle is 18.845499999999998\n",
      "Expected reward of policy Baseline Quota is 18.774\n",
      "Expected reward of policy Big-LP is 18.814500000000002\n",
      "Expected reward of policy Big-LP Lump-sum is 18.813\n",
      "m_g: 15,fair clusters: [10, 23, 8, 35], timsteps:40\n",
      "k:15, ppl_per_cluster:10, n_clusters:20\n",
      "noise:0, seed:19\n"
     ]
    },
    {
     "name": "stderr",
     "output_type": "stream",
     "text": [
      "\r",
      "147it [13:12,  5.75s/it]"
     ]
    },
    {
     "name": "stdout",
     "output_type": "stream",
     "text": [
      "Expected reward of policy Random is 12.6425\n",
      "Expected reward of policy RR is 12.629999999999999\n",
      "Expected reward of policy Whittle is 14.462500000000002\n",
      "Expected reward of policy Baseline Quota is 14.354999999999999\n",
      "Expected reward of policy Big-LP is 14.341999999999999\n",
      "Expected reward of policy Big-LP Lump-sum is 14.303\n",
      "m_g: 15,fair clusters: [10, 23, 8, 35], timsteps:40\n",
      "k:15, ppl_per_cluster:10, n_clusters:20\n",
      "noise:0, seed:74\n"
     ]
    },
    {
     "name": "stderr",
     "output_type": "stream",
     "text": [
      "\r",
      "148it [13:18,  5.90s/it]"
     ]
    },
    {
     "name": "stdout",
     "output_type": "stream",
     "text": [
      "Expected reward of policy Random is 14.810999999999998\n",
      "Expected reward of policy RR is 14.795499999999999\n",
      "Expected reward of policy Whittle is 16.228\n",
      "Expected reward of policy Baseline Quota is 16.1655\n",
      "Expected reward of policy Big-LP is 16.197000000000003\n",
      "Expected reward of policy Big-LP Lump-sum is 16.187500000000004\n",
      "m_g: 15,fair clusters: [10, 23, 8, 35], timsteps:40\n",
      "k:15, ppl_per_cluster:10, n_clusters:20\n",
      "noise:0, seed:21\n"
     ]
    },
    {
     "name": "stderr",
     "output_type": "stream",
     "text": [
      "\r",
      "149it [13:24,  5.80s/it]"
     ]
    },
    {
     "name": "stdout",
     "output_type": "stream",
     "text": [
      "Expected reward of policy Random is 15.803999999999998\n",
      "Expected reward of policy RR is 15.378499999999999\n",
      "Expected reward of policy Whittle is 16.641\n",
      "Expected reward of policy Baseline Quota is 16.542\n",
      "Expected reward of policy Big-LP is 16.528000000000002\n",
      "Expected reward of policy Big-LP Lump-sum is 16.5425\n",
      "m_g: 15,fair clusters: [10, 23, 8, 35], timsteps:40\n",
      "k:15, ppl_per_cluster:10, n_clusters:20\n",
      "noise:0, seed:84\n"
     ]
    },
    {
     "name": "stderr",
     "output_type": "stream",
     "text": [
      "\r",
      "150it [13:29,  5.74s/it]"
     ]
    },
    {
     "name": "stdout",
     "output_type": "stream",
     "text": [
      "Expected reward of policy Random is 13.377\n",
      "Expected reward of policy RR is 13.372499999999999\n",
      "Expected reward of policy Whittle is 15.0685\n",
      "Expected reward of policy Baseline Quota is 14.9465\n",
      "Expected reward of policy Big-LP is 15.015\n",
      "Expected reward of policy Big-LP Lump-sum is 15.017\n",
      "m_g: 15,fair clusters: [10, 23, 8, 35], timsteps:40\n",
      "k:15, ppl_per_cluster:10, n_clusters:20\n",
      "noise:0, seed:57\n"
     ]
    },
    {
     "name": "stderr",
     "output_type": "stream",
     "text": [
      "\r",
      "151it [13:35,  5.76s/it]"
     ]
    },
    {
     "name": "stdout",
     "output_type": "stream",
     "text": [
      "Expected reward of policy Random is 15.889\n",
      "Expected reward of policy RR is 15.782999999999998\n",
      "Expected reward of policy Whittle is 16.791500000000003\n",
      "Expected reward of policy Baseline Quota is 16.7355\n",
      "Expected reward of policy Big-LP is 16.7685\n",
      "Expected reward of policy Big-LP Lump-sum is 16.7595\n",
      "m_g: 15,fair clusters: [10, 23, 8, 35], timsteps:40\n",
      "k:15, ppl_per_cluster:10, n_clusters:20\n",
      "noise:0, seed:33\n"
     ]
    },
    {
     "name": "stderr",
     "output_type": "stream",
     "text": [
      "\r",
      "152it [13:41,  5.68s/it]"
     ]
    },
    {
     "name": "stdout",
     "output_type": "stream",
     "text": [
      "Expected reward of policy Random is 13.744\n",
      "Expected reward of policy RR is 13.523000000000001\n",
      "Expected reward of policy Whittle is 15.602500000000001\n",
      "Expected reward of policy Baseline Quota is 15.437999999999999\n",
      "Expected reward of policy Big-LP is 15.484499999999997\n",
      "Expected reward of policy Big-LP Lump-sum is 15.4455\n",
      "m_g: 20,fair clusters: [10, 23, 8, 35], timsteps:40\n",
      "k:20, ppl_per_cluster:10, n_clusters:20\n",
      "noise:0, seed:62\n"
     ]
    },
    {
     "name": "stderr",
     "output_type": "stream",
     "text": [
      "\r",
      "153it [13:46,  5.73s/it]"
     ]
    },
    {
     "name": "stdout",
     "output_type": "stream",
     "text": [
      "Expected reward of policy Random is 15.386000000000001\n",
      "Expected reward of policy RR is 15.249\n",
      "Expected reward of policy Whittle is 17.547\n",
      "Expected reward of policy Baseline Quota is 17.410000000000004\n",
      "Expected reward of policy Big-LP is 17.3955\n",
      "Expected reward of policy Big-LP Lump-sum is 17.406\n",
      "m_g: 20,fair clusters: [10, 23, 8, 35], timsteps:40\n",
      "k:20, ppl_per_cluster:10, n_clusters:20\n",
      "noise:0, seed:58\n"
     ]
    },
    {
     "name": "stderr",
     "output_type": "stream",
     "text": [
      "\r",
      "154it [13:52,  5.72s/it]"
     ]
    },
    {
     "name": "stdout",
     "output_type": "stream",
     "text": [
      "Expected reward of policy Random is 17.603\n",
      "Expected reward of policy RR is 17.458499999999997\n",
      "Expected reward of policy Whittle is 19.116500000000002\n",
      "Expected reward of policy Baseline Quota is 19.074999999999996\n",
      "Expected reward of policy Big-LP is 19.109500000000004\n",
      "Expected reward of policy Big-LP Lump-sum is 19.104\n",
      "m_g: 20,fair clusters: [10, 23, 8, 35], timsteps:40\n",
      "k:20, ppl_per_cluster:10, n_clusters:20\n",
      "noise:0, seed:19\n"
     ]
    },
    {
     "name": "stderr",
     "output_type": "stream",
     "text": [
      "\r",
      "155it [13:58,  5.86s/it]"
     ]
    },
    {
     "name": "stdout",
     "output_type": "stream",
     "text": [
      "Expected reward of policy Random is 12.847\n",
      "Expected reward of policy RR is 12.787999999999998\n",
      "Expected reward of policy Whittle is 14.944999999999999\n",
      "Expected reward of policy Baseline Quota is 14.782500000000002\n",
      "Expected reward of policy Big-LP is 14.845499999999998\n",
      "Expected reward of policy Big-LP Lump-sum is 14.810999999999998\n",
      "m_g: 20,fair clusters: [10, 23, 8, 35], timsteps:40\n",
      "k:20, ppl_per_cluster:10, n_clusters:20\n",
      "noise:0, seed:74\n"
     ]
    },
    {
     "name": "stderr",
     "output_type": "stream",
     "text": [
      "\r",
      "156it [14:04,  5.88s/it]"
     ]
    },
    {
     "name": "stdout",
     "output_type": "stream",
     "text": [
      "Expected reward of policy Random is 15.008000000000001\n",
      "Expected reward of policy RR is 15.007000000000001\n",
      "Expected reward of policy Whittle is 16.487000000000002\n",
      "Expected reward of policy Baseline Quota is 16.428500000000003\n",
      "Expected reward of policy Big-LP is 16.43\n",
      "Expected reward of policy Big-LP Lump-sum is 16.4515\n",
      "m_g: 20,fair clusters: [10, 23, 8, 35], timsteps:40\n",
      "k:20, ppl_per_cluster:10, n_clusters:20\n",
      "noise:0, seed:21\n"
     ]
    },
    {
     "name": "stderr",
     "output_type": "stream",
     "text": [
      "\r",
      "157it [14:10,  5.83s/it]"
     ]
    },
    {
     "name": "stdout",
     "output_type": "stream",
     "text": [
      "Expected reward of policy Random is 15.982\n",
      "Expected reward of policy RR is 15.627500000000001\n",
      "Expected reward of policy Whittle is 17.127499999999998\n",
      "Expected reward of policy Baseline Quota is 16.988500000000002\n",
      "Expected reward of policy Big-LP is 16.9785\n",
      "Expected reward of policy Big-LP Lump-sum is 16.98\n",
      "m_g: 20,fair clusters: [10, 23, 8, 35], timsteps:40\n",
      "k:20, ppl_per_cluster:10, n_clusters:20\n",
      "noise:0, seed:84\n"
     ]
    },
    {
     "name": "stderr",
     "output_type": "stream",
     "text": [
      "\r",
      "158it [14:16,  5.82s/it]"
     ]
    },
    {
     "name": "stdout",
     "output_type": "stream",
     "text": [
      "Expected reward of policy Random is 13.580000000000002\n",
      "Expected reward of policy RR is 13.666999999999998\n",
      "Expected reward of policy Whittle is 15.357499999999998\n",
      "Expected reward of policy Baseline Quota is 15.305999999999997\n",
      "Expected reward of policy Big-LP is 15.325\n",
      "Expected reward of policy Big-LP Lump-sum is 15.3185\n",
      "m_g: 20,fair clusters: [10, 23, 8, 35], timsteps:40\n",
      "k:20, ppl_per_cluster:10, n_clusters:20\n",
      "noise:0, seed:57\n"
     ]
    },
    {
     "name": "stderr",
     "output_type": "stream",
     "text": [
      "\r",
      "159it [14:22,  5.86s/it]"
     ]
    },
    {
     "name": "stdout",
     "output_type": "stream",
     "text": [
      "Expected reward of policy Random is 16.0445\n",
      "Expected reward of policy RR is 15.904499999999999\n",
      "Expected reward of policy Whittle is 17.0875\n",
      "Expected reward of policy Baseline Quota is 17.0075\n",
      "Expected reward of policy Big-LP is 17.036\n",
      "Expected reward of policy Big-LP Lump-sum is 17.0365\n",
      "m_g: 20,fair clusters: [10, 23, 8, 35], timsteps:40\n",
      "k:20, ppl_per_cluster:10, n_clusters:20\n",
      "noise:0, seed:33\n"
     ]
    },
    {
     "name": "stderr",
     "output_type": "stream",
     "text": [
      "\r",
      "160it [14:27,  5.83s/it]"
     ]
    },
    {
     "name": "stdout",
     "output_type": "stream",
     "text": [
      "Expected reward of policy Random is 13.98\n",
      "Expected reward of policy RR is 13.865\n",
      "Expected reward of policy Whittle is 16.140499999999996\n",
      "Expected reward of policy Baseline Quota is 15.976500000000001\n",
      "Expected reward of policy Big-LP is 16.008499999999998\n",
      "Expected reward of policy Big-LP Lump-sum is 15.988499999999998\n",
      "m_g: 90,fair clusters: [10], timsteps:30\n",
      "k:15, ppl_per_cluster:10, n_clusters:20\n",
      "noise:0, seed:62\n"
     ]
    },
    {
     "name": "stderr",
     "output_type": "stream",
     "text": [
      "\r",
      "161it [14:32,  5.61s/it]"
     ]
    },
    {
     "name": "stdout",
     "output_type": "stream",
     "text": [
      "Expected reward of policy Random is 12.742999999999999\n",
      "Expected reward of policy RR is 12.437999999999999\n",
      "Expected reward of policy Whittle is 13.413999999999998\n",
      "Expected reward of policy Baseline Quota is 13.237\n",
      "Expected reward of policy Big-LP is 13.23\n",
      "Expected reward of policy Big-LP Lump-sum is 13.23\n",
      "m_g: 90,fair clusters: [10], timsteps:30\n",
      "k:15, ppl_per_cluster:10, n_clusters:20\n",
      "noise:0, seed:58\n"
     ]
    },
    {
     "name": "stderr",
     "output_type": "stream",
     "text": [
      "\r",
      "162it [14:38,  5.52s/it]"
     ]
    },
    {
     "name": "stdout",
     "output_type": "stream",
     "text": [
      "Expected reward of policy Random is 11.491499999999998\n",
      "Expected reward of policy RR is 11.434500000000002\n",
      "Expected reward of policy Whittle is 12.621999999999998\n",
      "Expected reward of policy Baseline Quota is 12.410499999999999\n",
      "Expected reward of policy Big-LP is 12.3965\n",
      "Expected reward of policy Big-LP Lump-sum is 12.3965\n",
      "m_g: 90,fair clusters: [10], timsteps:30\n",
      "k:15, ppl_per_cluster:10, n_clusters:20\n",
      "noise:0, seed:19\n"
     ]
    },
    {
     "name": "stderr",
     "output_type": "stream",
     "text": [
      "\r",
      "163it [14:43,  5.39s/it]"
     ]
    },
    {
     "name": "stdout",
     "output_type": "stream",
     "text": [
      "Expected reward of policy Random is 11.966\n",
      "Expected reward of policy RR is 12.046\n",
      "Expected reward of policy Whittle is 13.5435\n",
      "Expected reward of policy Baseline Quota is 13.298999999999998\n",
      "Expected reward of policy Big-LP is 13.3405\n",
      "Expected reward of policy Big-LP Lump-sum is 13.3405\n",
      "m_g: 90,fair clusters: [10], timsteps:30\n",
      "k:15, ppl_per_cluster:10, n_clusters:20\n",
      "noise:0, seed:74\n"
     ]
    },
    {
     "name": "stderr",
     "output_type": "stream",
     "text": [
      "\r",
      "164it [14:48,  5.34s/it]"
     ]
    },
    {
     "name": "stdout",
     "output_type": "stream",
     "text": [
      "Expected reward of policy Random is 11.918000000000001\n",
      "Expected reward of policy RR is 11.8\n",
      "Expected reward of policy Whittle is 13.34\n",
      "Expected reward of policy Baseline Quota is 13.195000000000002\n",
      "Expected reward of policy Big-LP is 13.164499999999999\n",
      "Expected reward of policy Big-LP Lump-sum is 13.164499999999999\n",
      "m_g: 90,fair clusters: [10], timsteps:30\n",
      "k:15, ppl_per_cluster:10, n_clusters:20\n",
      "noise:0, seed:21\n"
     ]
    },
    {
     "name": "stderr",
     "output_type": "stream",
     "text": [
      "\r",
      "165it [14:53,  5.30s/it]"
     ]
    },
    {
     "name": "stdout",
     "output_type": "stream",
     "text": [
      "Expected reward of policy Random is 9.856000000000002\n",
      "Expected reward of policy RR is 9.760499999999999\n",
      "Expected reward of policy Whittle is 11.006\n",
      "Expected reward of policy Baseline Quota is 10.745500000000002\n",
      "Expected reward of policy Big-LP is 10.742500000000001\n",
      "Expected reward of policy Big-LP Lump-sum is 10.742500000000001\n",
      "m_g: 90,fair clusters: [10], timsteps:30\n",
      "k:15, ppl_per_cluster:10, n_clusters:20\n",
      "noise:0, seed:84\n"
     ]
    },
    {
     "name": "stderr",
     "output_type": "stream",
     "text": [
      "\r",
      "166it [14:58,  5.22s/it]"
     ]
    },
    {
     "name": "stdout",
     "output_type": "stream",
     "text": [
      "Expected reward of policy Random is 9.7415\n",
      "Expected reward of policy RR is 9.633\n",
      "Expected reward of policy Whittle is 10.918000000000001\n",
      "Expected reward of policy Baseline Quota is 10.714499999999997\n",
      "Expected reward of policy Big-LP is 10.700000000000001\n",
      "Expected reward of policy Big-LP Lump-sum is 10.700000000000001\n",
      "m_g: 90,fair clusters: [10], timsteps:30\n",
      "k:15, ppl_per_cluster:10, n_clusters:20\n",
      "noise:0, seed:57\n"
     ]
    },
    {
     "name": "stderr",
     "output_type": "stream",
     "text": [
      "\r",
      "167it [15:04,  5.21s/it]"
     ]
    },
    {
     "name": "stdout",
     "output_type": "stream",
     "text": [
      "Expected reward of policy Random is 12.5715\n",
      "Expected reward of policy RR is 12.5595\n",
      "Expected reward of policy Whittle is 13.682500000000001\n",
      "Expected reward of policy Baseline Quota is 13.440999999999999\n",
      "Expected reward of policy Big-LP is 13.458999999999998\n",
      "Expected reward of policy Big-LP Lump-sum is 13.458999999999998\n",
      "m_g: 90,fair clusters: [10], timsteps:30\n",
      "k:15, ppl_per_cluster:10, n_clusters:20\n",
      "noise:0, seed:33\n"
     ]
    },
    {
     "name": "stderr",
     "output_type": "stream",
     "text": [
      "\r",
      "168it [15:09,  5.18s/it]"
     ]
    },
    {
     "name": "stdout",
     "output_type": "stream",
     "text": [
      "Expected reward of policy Random is 11.108999999999998\n",
      "Expected reward of policy RR is 11.110000000000001\n",
      "Expected reward of policy Whittle is 12.53\n",
      "Expected reward of policy Baseline Quota is 12.3475\n",
      "Expected reward of policy Big-LP is 12.366\n",
      "Expected reward of policy Big-LP Lump-sum is 12.366\n",
      "m_g: 120,fair clusters: [10], timsteps:30\n",
      "k:20, ppl_per_cluster:10, n_clusters:20\n",
      "noise:0, seed:62\n"
     ]
    },
    {
     "name": "stderr",
     "output_type": "stream",
     "text": [
      "\r",
      "169it [15:14,  5.36s/it]"
     ]
    },
    {
     "name": "stdout",
     "output_type": "stream",
     "text": [
      "Expected reward of policy Random is 12.861500000000001\n",
      "Expected reward of policy RR is 12.5815\n",
      "Expected reward of policy Whittle is 13.7345\n",
      "Expected reward of policy Baseline Quota is 13.541500000000003\n",
      "Expected reward of policy Big-LP is 13.557999999999998\n",
      "Expected reward of policy Big-LP Lump-sum is 13.557999999999998\n",
      "m_g: 120,fair clusters: [10], timsteps:30\n",
      "k:20, ppl_per_cluster:10, n_clusters:20\n",
      "noise:0, seed:58\n"
     ]
    },
    {
     "name": "stderr",
     "output_type": "stream",
     "text": [
      "\r",
      "170it [15:20,  5.42s/it]"
     ]
    },
    {
     "name": "stdout",
     "output_type": "stream",
     "text": [
      "Expected reward of policy Random is 11.649500000000002\n",
      "Expected reward of policy RR is 11.578\n",
      "Expected reward of policy Whittle is 13.031\n",
      "Expected reward of policy Baseline Quota is 12.800999999999998\n",
      "Expected reward of policy Big-LP is 12.7835\n",
      "Expected reward of policy Big-LP Lump-sum is 12.7835\n",
      "m_g: 120,fair clusters: [10], timsteps:30\n",
      "k:20, ppl_per_cluster:10, n_clusters:20\n",
      "noise:0, seed:19\n"
     ]
    },
    {
     "name": "stderr",
     "output_type": "stream",
     "text": [
      "\r",
      "171it [15:25,  5.38s/it]"
     ]
    },
    {
     "name": "stdout",
     "output_type": "stream",
     "text": [
      "Expected reward of policy Random is 12.1745\n",
      "Expected reward of policy RR is 12.138\n",
      "Expected reward of policy Whittle is 13.9585\n",
      "Expected reward of policy Baseline Quota is 13.716000000000003\n",
      "Expected reward of policy Big-LP is 13.7255\n",
      "Expected reward of policy Big-LP Lump-sum is 13.7255\n",
      "m_g: 120,fair clusters: [10], timsteps:30\n",
      "k:20, ppl_per_cluster:10, n_clusters:20\n",
      "noise:0, seed:74\n"
     ]
    },
    {
     "name": "stderr",
     "output_type": "stream",
     "text": [
      "\r",
      "172it [15:31,  5.35s/it]"
     ]
    },
    {
     "name": "stdout",
     "output_type": "stream",
     "text": [
      "Expected reward of policy Random is 12.118500000000001\n",
      "Expected reward of policy RR is 12.1055\n",
      "Expected reward of policy Whittle is 13.684000000000001\n",
      "Expected reward of policy Baseline Quota is 13.469500000000002\n",
      "Expected reward of policy Big-LP is 13.469\n",
      "Expected reward of policy Big-LP Lump-sum is 13.469\n",
      "m_g: 120,fair clusters: [10], timsteps:30\n",
      "k:20, ppl_per_cluster:10, n_clusters:20\n",
      "noise:0, seed:21\n"
     ]
    },
    {
     "name": "stderr",
     "output_type": "stream",
     "text": [
      "\r",
      "173it [15:36,  5.40s/it]"
     ]
    },
    {
     "name": "stdout",
     "output_type": "stream",
     "text": [
      "Expected reward of policy Random is 10.007000000000001\n",
      "Expected reward of policy RR is 9.9695\n",
      "Expected reward of policy Whittle is 11.4245\n",
      "Expected reward of policy Baseline Quota is 11.123500000000002\n",
      "Expected reward of policy Big-LP is 11.139500000000002\n",
      "Expected reward of policy Big-LP Lump-sum is 11.139500000000002\n",
      "m_g: 120,fair clusters: [10], timsteps:30\n",
      "k:20, ppl_per_cluster:10, n_clusters:20\n",
      "noise:0, seed:84\n"
     ]
    },
    {
     "name": "stderr",
     "output_type": "stream",
     "text": [
      "\r",
      "174it [15:41,  5.32s/it]"
     ]
    },
    {
     "name": "stdout",
     "output_type": "stream",
     "text": [
      "Expected reward of policy Random is 9.963999999999999\n",
      "Expected reward of policy RR is 9.927499999999998\n",
      "Expected reward of policy Whittle is 11.2765\n",
      "Expected reward of policy Baseline Quota is 11.0505\n",
      "Expected reward of policy Big-LP is 11.0445\n",
      "Expected reward of policy Big-LP Lump-sum is 11.0445\n",
      "m_g: 120,fair clusters: [10], timsteps:30\n",
      "k:20, ppl_per_cluster:10, n_clusters:20\n",
      "noise:0, seed:57\n"
     ]
    },
    {
     "name": "stderr",
     "output_type": "stream",
     "text": [
      "\r",
      "175it [15:47,  5.34s/it]"
     ]
    },
    {
     "name": "stdout",
     "output_type": "stream",
     "text": [
      "Expected reward of policy Random is 12.714000000000002\n",
      "Expected reward of policy RR is 12.696499999999999\n",
      "Expected reward of policy Whittle is 14.138499999999999\n",
      "Expected reward of policy Baseline Quota is 13.813000000000002\n",
      "Expected reward of policy Big-LP is 13.8405\n",
      "Expected reward of policy Big-LP Lump-sum is 13.8405\n",
      "m_g: 120,fair clusters: [10], timsteps:30\n",
      "k:20, ppl_per_cluster:10, n_clusters:20\n",
      "noise:0, seed:33\n"
     ]
    },
    {
     "name": "stderr",
     "output_type": "stream",
     "text": [
      "\r",
      "176it [15:52,  5.29s/it]"
     ]
    },
    {
     "name": "stdout",
     "output_type": "stream",
     "text": [
      "Expected reward of policy Random is 11.237\n",
      "Expected reward of policy RR is 11.302000000000001\n",
      "Expected reward of policy Whittle is 12.821000000000002\n",
      "Expected reward of policy Baseline Quota is 12.6465\n",
      "Expected reward of policy Big-LP is 12.659500000000001\n",
      "Expected reward of policy Big-LP Lump-sum is 12.659500000000001\n",
      "m_g: 120,fair clusters: [10], timsteps:40\n",
      "k:15, ppl_per_cluster:10, n_clusters:20\n",
      "noise:0, seed:62\n"
     ]
    },
    {
     "name": "stderr",
     "output_type": "stream",
     "text": [
      "\r",
      "177it [15:57,  5.30s/it]"
     ]
    },
    {
     "name": "stdout",
     "output_type": "stream",
     "text": [
      "Expected reward of policy Random is 17.014999999999997\n",
      "Expected reward of policy RR is 16.718000000000004\n",
      "Expected reward of policy Whittle is 17.987499999999997\n",
      "Expected reward of policy Baseline Quota is 17.741000000000003\n",
      "Expected reward of policy Big-LP is 17.749000000000002\n",
      "Expected reward of policy Big-LP Lump-sum is 17.749000000000002\n",
      "m_g: 120,fair clusters: [10], timsteps:40\n",
      "k:15, ppl_per_cluster:10, n_clusters:20\n",
      "noise:0, seed:58\n"
     ]
    },
    {
     "name": "stderr",
     "output_type": "stream",
     "text": [
      "\r",
      "178it [16:03,  5.36s/it]"
     ]
    },
    {
     "name": "stdout",
     "output_type": "stream",
     "text": [
      "Expected reward of policy Random is 15.355499999999997\n",
      "Expected reward of policy RR is 15.269499999999999\n",
      "Expected reward of policy Whittle is 16.889000000000003\n",
      "Expected reward of policy Baseline Quota is 16.6035\n",
      "Expected reward of policy Big-LP is 16.566499999999998\n",
      "Expected reward of policy Big-LP Lump-sum is 16.566499999999998\n",
      "m_g: 120,fair clusters: [10], timsteps:40\n",
      "k:15, ppl_per_cluster:10, n_clusters:20\n",
      "noise:0, seed:19\n"
     ]
    },
    {
     "name": "stderr",
     "output_type": "stream",
     "text": [
      "\r",
      "179it [16:08,  5.34s/it]"
     ]
    },
    {
     "name": "stdout",
     "output_type": "stream",
     "text": [
      "Expected reward of policy Random is 16.0205\n",
      "Expected reward of policy RR is 16.145\n",
      "Expected reward of policy Whittle is 18.2655\n",
      "Expected reward of policy Baseline Quota is 17.923000000000002\n",
      "Expected reward of policy Big-LP is 17.919999999999998\n",
      "Expected reward of policy Big-LP Lump-sum is 17.919999999999998\n",
      "m_g: 120,fair clusters: [10], timsteps:40\n",
      "k:15, ppl_per_cluster:10, n_clusters:20\n",
      "noise:0, seed:74\n"
     ]
    },
    {
     "name": "stderr",
     "output_type": "stream",
     "text": [
      "\r",
      "180it [16:13,  5.37s/it]"
     ]
    },
    {
     "name": "stdout",
     "output_type": "stream",
     "text": [
      "Expected reward of policy Random is 15.959999999999999\n",
      "Expected reward of policy RR is 15.848500000000001\n",
      "Expected reward of policy Whittle is 17.929\n",
      "Expected reward of policy Baseline Quota is 17.73\n",
      "Expected reward of policy Big-LP is 17.713\n",
      "Expected reward of policy Big-LP Lump-sum is 17.713\n",
      "m_g: 120,fair clusters: [10], timsteps:40\n",
      "k:15, ppl_per_cluster:10, n_clusters:20\n",
      "noise:0, seed:21\n"
     ]
    },
    {
     "name": "stderr",
     "output_type": "stream",
     "text": [
      "\r",
      "181it [16:19,  5.38s/it]"
     ]
    },
    {
     "name": "stdout",
     "output_type": "stream",
     "text": [
      "Expected reward of policy Random is 13.227500000000001\n",
      "Expected reward of policy RR is 13.023\n",
      "Expected reward of policy Whittle is 14.724\n",
      "Expected reward of policy Baseline Quota is 14.351500000000001\n",
      "Expected reward of policy Big-LP is 14.3475\n",
      "Expected reward of policy Big-LP Lump-sum is 14.3475\n",
      "m_g: 120,fair clusters: [10], timsteps:40\n",
      "k:15, ppl_per_cluster:10, n_clusters:20\n",
      "noise:0, seed:84\n"
     ]
    },
    {
     "name": "stderr",
     "output_type": "stream",
     "text": [
      "\r",
      "182it [16:24,  5.30s/it]"
     ]
    },
    {
     "name": "stdout",
     "output_type": "stream",
     "text": [
      "Expected reward of policy Random is 13.055000000000001\n",
      "Expected reward of policy RR is 12.832500000000001\n",
      "Expected reward of policy Whittle is 14.597500000000002\n",
      "Expected reward of policy Baseline Quota is 14.3225\n",
      "Expected reward of policy Big-LP is 14.322\n",
      "Expected reward of policy Big-LP Lump-sum is 14.322\n",
      "m_g: 120,fair clusters: [10], timsteps:40\n",
      "k:15, ppl_per_cluster:10, n_clusters:20\n",
      "noise:0, seed:57\n"
     ]
    },
    {
     "name": "stderr",
     "output_type": "stream",
     "text": [
      "\r",
      "183it [16:29,  5.33s/it]"
     ]
    },
    {
     "name": "stdout",
     "output_type": "stream",
     "text": [
      "Expected reward of policy Random is 16.860500000000002\n",
      "Expected reward of policy RR is 16.8365\n",
      "Expected reward of policy Whittle is 18.357\n",
      "Expected reward of policy Baseline Quota is 18.0385\n",
      "Expected reward of policy Big-LP is 18.053\n",
      "Expected reward of policy Big-LP Lump-sum is 18.053\n",
      "m_g: 120,fair clusters: [10], timsteps:40\n",
      "k:15, ppl_per_cluster:10, n_clusters:20\n",
      "noise:0, seed:33\n"
     ]
    },
    {
     "name": "stderr",
     "output_type": "stream",
     "text": [
      "\r",
      "184it [16:35,  5.33s/it]"
     ]
    },
    {
     "name": "stdout",
     "output_type": "stream",
     "text": [
      "Expected reward of policy Random is 14.892999999999997\n",
      "Expected reward of policy RR is 14.9445\n",
      "Expected reward of policy Whittle is 16.8245\n",
      "Expected reward of policy Baseline Quota is 16.594\n",
      "Expected reward of policy Big-LP is 16.602\n",
      "Expected reward of policy Big-LP Lump-sum is 16.602\n",
      "m_g: 160,fair clusters: [10], timsteps:40\n",
      "k:20, ppl_per_cluster:10, n_clusters:20\n",
      "noise:0, seed:62\n"
     ]
    },
    {
     "name": "stderr",
     "output_type": "stream",
     "text": [
      "\r",
      "185it [16:40,  5.37s/it]"
     ]
    },
    {
     "name": "stdout",
     "output_type": "stream",
     "text": [
      "Expected reward of policy Random is 17.1505\n",
      "Expected reward of policy RR is 16.8505\n",
      "Expected reward of policy Whittle is 18.4065\n",
      "Expected reward of policy Baseline Quota is 18.1685\n",
      "Expected reward of policy Big-LP is 18.168\n",
      "Expected reward of policy Big-LP Lump-sum is 18.168\n",
      "m_g: 160,fair clusters: [10], timsteps:40\n",
      "k:20, ppl_per_cluster:10, n_clusters:20\n",
      "noise:0, seed:58\n"
     ]
    },
    {
     "name": "stderr",
     "output_type": "stream",
     "text": [
      "\r",
      "186it [16:46,  5.46s/it]"
     ]
    },
    {
     "name": "stdout",
     "output_type": "stream",
     "text": [
      "Expected reward of policy Random is 15.5545\n",
      "Expected reward of policy RR is 15.459\n",
      "Expected reward of policy Whittle is 17.448\n",
      "Expected reward of policy Baseline Quota is 17.125500000000002\n",
      "Expected reward of policy Big-LP is 17.103\n",
      "Expected reward of policy Big-LP Lump-sum is 17.103\n",
      "m_g: 160,fair clusters: [10], timsteps:40\n",
      "k:20, ppl_per_cluster:10, n_clusters:20\n",
      "noise:0, seed:19\n"
     ]
    },
    {
     "name": "stderr",
     "output_type": "stream",
     "text": [
      "\r",
      "187it [16:51,  5.48s/it]"
     ]
    },
    {
     "name": "stdout",
     "output_type": "stream",
     "text": [
      "Expected reward of policy Random is 16.2925\n",
      "Expected reward of policy RR is 16.326999999999998\n",
      "Expected reward of policy Whittle is 18.839\n",
      "Expected reward of policy Baseline Quota is 18.503999999999998\n",
      "Expected reward of policy Big-LP is 18.5075\n",
      "Expected reward of policy Big-LP Lump-sum is 18.5075\n",
      "m_g: 160,fair clusters: [10], timsteps:40\n",
      "k:20, ppl_per_cluster:10, n_clusters:20\n",
      "noise:0, seed:74\n"
     ]
    },
    {
     "name": "stderr",
     "output_type": "stream",
     "text": [
      "\r",
      "188it [16:57,  5.53s/it]"
     ]
    },
    {
     "name": "stdout",
     "output_type": "stream",
     "text": [
      "Expected reward of policy Random is 16.2555\n",
      "Expected reward of policy RR is 16.2265\n",
      "Expected reward of policy Whittle is 18.405\n",
      "Expected reward of policy Baseline Quota is 18.103499999999997\n",
      "Expected reward of policy Big-LP is 18.106\n",
      "Expected reward of policy Big-LP Lump-sum is 18.106\n",
      "m_g: 160,fair clusters: [10], timsteps:40\n",
      "k:20, ppl_per_cluster:10, n_clusters:20\n",
      "noise:0, seed:21\n"
     ]
    },
    {
     "name": "stderr",
     "output_type": "stream",
     "text": [
      "\r",
      "189it [17:03,  5.68s/it]"
     ]
    },
    {
     "name": "stdout",
     "output_type": "stream",
     "text": [
      "Expected reward of policy Random is 13.434999999999999\n",
      "Expected reward of policy RR is 13.2875\n",
      "Expected reward of policy Whittle is 15.3015\n",
      "Expected reward of policy Baseline Quota is 14.879\n",
      "Expected reward of policy Big-LP is 14.931999999999997\n",
      "Expected reward of policy Big-LP Lump-sum is 14.931999999999997\n",
      "m_g: 160,fair clusters: [10], timsteps:40\n",
      "k:20, ppl_per_cluster:10, n_clusters:20\n",
      "noise:0, seed:84\n"
     ]
    },
    {
     "name": "stderr",
     "output_type": "stream",
     "text": [
      "\r",
      "190it [17:09,  5.67s/it]"
     ]
    },
    {
     "name": "stdout",
     "output_type": "stream",
     "text": [
      "Expected reward of policy Random is 13.3275\n",
      "Expected reward of policy RR is 13.3065\n",
      "Expected reward of policy Whittle is 15.097\n",
      "Expected reward of policy Baseline Quota is 14.790499999999998\n",
      "Expected reward of policy Big-LP is 14.773999999999997\n",
      "Expected reward of policy Big-LP Lump-sum is 14.773999999999997\n",
      "m_g: 160,fair clusters: [10], timsteps:40\n",
      "k:20, ppl_per_cluster:10, n_clusters:20\n",
      "noise:0, seed:57\n"
     ]
    },
    {
     "name": "stderr",
     "output_type": "stream",
     "text": [
      "\r",
      "191it [17:15,  5.95s/it]"
     ]
    },
    {
     "name": "stdout",
     "output_type": "stream",
     "text": [
      "Expected reward of policy Random is 17.084500000000002\n",
      "Expected reward of policy RR is 17.044999999999998\n",
      "Expected reward of policy Whittle is 18.9865\n",
      "Expected reward of policy Baseline Quota is 18.554499999999997\n",
      "Expected reward of policy Big-LP is 18.560499999999998\n",
      "Expected reward of policy Big-LP Lump-sum is 18.560499999999998\n",
      "m_g: 160,fair clusters: [10], timsteps:40\n",
      "k:20, ppl_per_cluster:10, n_clusters:20\n",
      "noise:0, seed:33\n"
     ]
    },
    {
     "name": "stderr",
     "output_type": "stream",
     "text": [
      "\r",
      "192it [17:21,  5.95s/it]"
     ]
    },
    {
     "name": "stdout",
     "output_type": "stream",
     "text": [
      "Expected reward of policy Random is 15.093\n",
      "Expected reward of policy RR is 15.133499999999998\n",
      "Expected reward of policy Whittle is 17.2425\n",
      "Expected reward of policy Baseline Quota is 16.998\n",
      "Expected reward of policy Big-LP is 17.000999999999998\n",
      "Expected reward of policy Big-LP Lump-sum is 17.000999999999998\n",
      "m_g: 90,fair clusters: [35], timsteps:30\n",
      "k:15, ppl_per_cluster:10, n_clusters:20\n",
      "noise:0, seed:62\n"
     ]
    },
    {
     "name": "stderr",
     "output_type": "stream",
     "text": [
      "\r",
      "193it [17:27,  5.81s/it]"
     ]
    },
    {
     "name": "stdout",
     "output_type": "stream",
     "text": [
      "Expected reward of policy Random is 12.386499999999998\n",
      "Expected reward of policy RR is 12.3105\n",
      "Expected reward of policy Whittle is 13.315999999999999\n",
      "Expected reward of policy Baseline Quota is 13.163500000000003\n",
      "Expected reward of policy Big-LP is 13.1535\n",
      "Expected reward of policy Big-LP Lump-sum is 13.1535\n",
      "m_g: 90,fair clusters: [35], timsteps:30\n",
      "k:15, ppl_per_cluster:10, n_clusters:20\n",
      "noise:0, seed:58\n"
     ]
    },
    {
     "name": "stderr",
     "output_type": "stream",
     "text": [
      "\r",
      "194it [17:32,  5.64s/it]"
     ]
    },
    {
     "name": "stdout",
     "output_type": "stream",
     "text": [
      "Expected reward of policy Random is 11.560999999999998\n",
      "Expected reward of policy RR is 11.6595\n",
      "Expected reward of policy Whittle is 12.924000000000001\n",
      "Expected reward of policy Baseline Quota is 12.7535\n",
      "Expected reward of policy Big-LP is 12.749500000000001\n",
      "Expected reward of policy Big-LP Lump-sum is 12.749500000000001\n",
      "m_g: 90,fair clusters: [35], timsteps:30\n",
      "k:15, ppl_per_cluster:10, n_clusters:20\n",
      "noise:0, seed:19\n"
     ]
    },
    {
     "name": "stderr",
     "output_type": "stream",
     "text": [
      "\r",
      "195it [17:37,  5.56s/it]"
     ]
    },
    {
     "name": "stdout",
     "output_type": "stream",
     "text": [
      "Expected reward of policy Random is 12.066\n",
      "Expected reward of policy RR is 12.1125\n",
      "Expected reward of policy Whittle is 13.760000000000002\n",
      "Expected reward of policy Baseline Quota is 13.550999999999998\n",
      "Expected reward of policy Big-LP is 13.553999999999998\n",
      "Expected reward of policy Big-LP Lump-sum is 13.553999999999998\n",
      "m_g: 90,fair clusters: [35], timsteps:30\n",
      "k:15, ppl_per_cluster:10, n_clusters:20\n",
      "noise:0, seed:74\n"
     ]
    },
    {
     "name": "stderr",
     "output_type": "stream",
     "text": [
      "\r",
      "196it [17:43,  5.51s/it]"
     ]
    },
    {
     "name": "stdout",
     "output_type": "stream",
     "text": [
      "Expected reward of policy Random is 12.852500000000001\n",
      "Expected reward of policy RR is 12.985\n",
      "Expected reward of policy Whittle is 14.3065\n",
      "Expected reward of policy Baseline Quota is 14.0435\n",
      "Expected reward of policy Big-LP is 14.0995\n",
      "Expected reward of policy Big-LP Lump-sum is 14.0995\n",
      "m_g: 90,fair clusters: [35], timsteps:30\n",
      "k:15, ppl_per_cluster:10, n_clusters:20\n",
      "noise:0, seed:21\n"
     ]
    },
    {
     "name": "stderr",
     "output_type": "stream",
     "text": [
      "\r",
      "197it [17:48,  5.45s/it]"
     ]
    },
    {
     "name": "stdout",
     "output_type": "stream",
     "text": [
      "Expected reward of policy Random is 10.8005\n",
      "Expected reward of policy RR is 10.822\n",
      "Expected reward of policy Whittle is 12.192499999999999\n",
      "Expected reward of policy Baseline Quota is 11.9765\n",
      "Expected reward of policy Big-LP is 11.9695\n",
      "Expected reward of policy Big-LP Lump-sum is 11.9695\n",
      "m_g: 90,fair clusters: [35], timsteps:30\n",
      "k:15, ppl_per_cluster:10, n_clusters:20\n",
      "noise:0, seed:84\n"
     ]
    },
    {
     "name": "stderr",
     "output_type": "stream",
     "text": [
      "\r",
      "198it [17:53,  5.38s/it]"
     ]
    },
    {
     "name": "stdout",
     "output_type": "stream",
     "text": [
      "Expected reward of policy Random is 11.208499999999999\n",
      "Expected reward of policy RR is 11.1365\n",
      "Expected reward of policy Whittle is 12.434000000000001\n",
      "Expected reward of policy Baseline Quota is 12.2035\n",
      "Expected reward of policy Big-LP is 12.1635\n",
      "Expected reward of policy Big-LP Lump-sum is 12.1635\n",
      "m_g: 90,fair clusters: [35], timsteps:30\n",
      "k:15, ppl_per_cluster:10, n_clusters:20\n",
      "noise:0, seed:57\n"
     ]
    },
    {
     "name": "stderr",
     "output_type": "stream",
     "text": [
      "\r",
      "199it [17:58,  5.36s/it]"
     ]
    },
    {
     "name": "stdout",
     "output_type": "stream",
     "text": [
      "Expected reward of policy Random is 13.879000000000001\n",
      "Expected reward of policy RR is 13.9055\n",
      "Expected reward of policy Whittle is 14.967999999999998\n",
      "Expected reward of policy Baseline Quota is 14.802000000000001\n",
      "Expected reward of policy Big-LP is 14.785\n",
      "Expected reward of policy Big-LP Lump-sum is 14.785\n",
      "m_g: 90,fair clusters: [35], timsteps:30\n",
      "k:15, ppl_per_cluster:10, n_clusters:20\n",
      "noise:0, seed:33\n"
     ]
    },
    {
     "name": "stderr",
     "output_type": "stream",
     "text": [
      "\r",
      "200it [18:04,  5.35s/it]"
     ]
    },
    {
     "name": "stdout",
     "output_type": "stream",
     "text": [
      "Expected reward of policy Random is 12.372\n",
      "Expected reward of policy RR is 12.314499999999999\n",
      "Expected reward of policy Whittle is 13.668500000000003\n",
      "Expected reward of policy Baseline Quota is 13.487\n",
      "Expected reward of policy Big-LP is 13.4875\n",
      "Expected reward of policy Big-LP Lump-sum is 13.4875\n",
      "m_g: 120,fair clusters: [35], timsteps:30\n",
      "k:20, ppl_per_cluster:10, n_clusters:20\n",
      "noise:0, seed:62\n"
     ]
    },
    {
     "name": "stderr",
     "output_type": "stream",
     "text": [
      "\r",
      "201it [18:09,  5.35s/it]"
     ]
    },
    {
     "name": "stdout",
     "output_type": "stream",
     "text": [
      "Expected reward of policy Random is 12.493500000000001\n",
      "Expected reward of policy RR is 12.4085\n",
      "Expected reward of policy Whittle is 13.6375\n",
      "Expected reward of policy Baseline Quota is 13.4275\n",
      "Expected reward of policy Big-LP is 13.445000000000002\n",
      "Expected reward of policy Big-LP Lump-sum is 13.445000000000002\n",
      "m_g: 120,fair clusters: [35], timsteps:30\n",
      "k:20, ppl_per_cluster:10, n_clusters:20\n",
      "noise:0, seed:58\n"
     ]
    },
    {
     "name": "stderr",
     "output_type": "stream",
     "text": [
      "\r",
      "202it [18:14,  5.33s/it]"
     ]
    },
    {
     "name": "stdout",
     "output_type": "stream",
     "text": [
      "Expected reward of policy Random is 11.715000000000002\n",
      "Expected reward of policy RR is 11.7665\n",
      "Expected reward of policy Whittle is 13.3335\n",
      "Expected reward of policy Baseline Quota is 13.072\n",
      "Expected reward of policy Big-LP is 13.061499999999999\n",
      "Expected reward of policy Big-LP Lump-sum is 13.061499999999999\n",
      "m_g: 120,fair clusters: [35], timsteps:30\n",
      "k:20, ppl_per_cluster:10, n_clusters:20\n",
      "noise:0, seed:19\n"
     ]
    },
    {
     "name": "stderr",
     "output_type": "stream",
     "text": [
      "\r",
      "203it [18:20,  5.34s/it]"
     ]
    },
    {
     "name": "stdout",
     "output_type": "stream",
     "text": [
      "Expected reward of policy Random is 12.222\n",
      "Expected reward of policy RR is 12.237499999999999\n",
      "Expected reward of policy Whittle is 14.0375\n",
      "Expected reward of policy Baseline Quota is 13.911999999999997\n",
      "Expected reward of policy Big-LP is 13.923000000000002\n",
      "Expected reward of policy Big-LP Lump-sum is 13.923000000000002\n",
      "m_g: 120,fair clusters: [35], timsteps:30\n",
      "k:20, ppl_per_cluster:10, n_clusters:20\n",
      "noise:0, seed:74\n"
     ]
    },
    {
     "name": "stderr",
     "output_type": "stream",
     "text": [
      "\r",
      "204it [18:25,  5.37s/it]"
     ]
    },
    {
     "name": "stdout",
     "output_type": "stream",
     "text": [
      "Expected reward of policy Random is 12.9725\n",
      "Expected reward of policy RR is 13.120999999999999\n",
      "Expected reward of policy Whittle is 14.617499999999998\n",
      "Expected reward of policy Baseline Quota is 14.448500000000001\n",
      "Expected reward of policy Big-LP is 14.4375\n",
      "Expected reward of policy Big-LP Lump-sum is 14.4375\n",
      "m_g: 120,fair clusters: [35], timsteps:30\n",
      "k:20, ppl_per_cluster:10, n_clusters:20\n",
      "noise:0, seed:21\n"
     ]
    },
    {
     "name": "stderr",
     "output_type": "stream",
     "text": [
      "\r",
      "205it [18:31,  5.40s/it]"
     ]
    },
    {
     "name": "stdout",
     "output_type": "stream",
     "text": [
      "Expected reward of policy Random is 10.969\n",
      "Expected reward of policy RR is 10.918000000000003\n",
      "Expected reward of policy Whittle is 12.587\n",
      "Expected reward of policy Baseline Quota is 12.3365\n",
      "Expected reward of policy Big-LP is 12.3155\n",
      "Expected reward of policy Big-LP Lump-sum is 12.3155\n",
      "m_g: 120,fair clusters: [35], timsteps:30\n",
      "k:20, ppl_per_cluster:10, n_clusters:20\n",
      "noise:0, seed:84\n"
     ]
    },
    {
     "name": "stderr",
     "output_type": "stream",
     "text": [
      "\r",
      "206it [18:36,  5.37s/it]"
     ]
    },
    {
     "name": "stdout",
     "output_type": "stream",
     "text": [
      "Expected reward of policy Random is 11.357499999999998\n",
      "Expected reward of policy RR is 11.2985\n",
      "Expected reward of policy Whittle is 12.808000000000002\n",
      "Expected reward of policy Baseline Quota is 12.5675\n",
      "Expected reward of policy Big-LP is 12.5955\n",
      "Expected reward of policy Big-LP Lump-sum is 12.5955\n",
      "m_g: 120,fair clusters: [35], timsteps:30\n",
      "k:20, ppl_per_cluster:10, n_clusters:20\n",
      "noise:0, seed:57\n"
     ]
    },
    {
     "name": "stderr",
     "output_type": "stream",
     "text": [
      "\r",
      "207it [18:41,  5.42s/it]"
     ]
    },
    {
     "name": "stdout",
     "output_type": "stream",
     "text": [
      "Expected reward of policy Random is 13.998\n",
      "Expected reward of policy RR is 14.078999999999999\n",
      "Expected reward of policy Whittle is 15.383500000000002\n",
      "Expected reward of policy Baseline Quota is 15.091999999999999\n",
      "Expected reward of policy Big-LP is 15.081999999999999\n",
      "Expected reward of policy Big-LP Lump-sum is 15.081999999999999\n",
      "m_g: 120,fair clusters: [35], timsteps:30\n",
      "k:20, ppl_per_cluster:10, n_clusters:20\n",
      "noise:0, seed:33\n"
     ]
    },
    {
     "name": "stderr",
     "output_type": "stream",
     "text": [
      "\r",
      "208it [18:47,  5.42s/it]"
     ]
    },
    {
     "name": "stdout",
     "output_type": "stream",
     "text": [
      "Expected reward of policy Random is 12.514500000000002\n",
      "Expected reward of policy RR is 12.516499999999999\n",
      "Expected reward of policy Whittle is 14.016499999999999\n",
      "Expected reward of policy Baseline Quota is 13.816500000000001\n",
      "Expected reward of policy Big-LP is 13.803999999999998\n",
      "Expected reward of policy Big-LP Lump-sum is 13.803999999999998\n",
      "m_g: 120,fair clusters: [35], timsteps:40\n",
      "k:15, ppl_per_cluster:10, n_clusters:20\n",
      "noise:0, seed:62\n"
     ]
    },
    {
     "name": "stderr",
     "output_type": "stream",
     "text": [
      "\r",
      "209it [18:52,  5.45s/it]"
     ]
    },
    {
     "name": "stdout",
     "output_type": "stream",
     "text": [
      "Expected reward of policy Random is 16.576\n",
      "Expected reward of policy RR is 16.55\n",
      "Expected reward of policy Whittle is 17.8945\n",
      "Expected reward of policy Baseline Quota is 17.699999999999996\n",
      "Expected reward of policy Big-LP is 17.697\n",
      "Expected reward of policy Big-LP Lump-sum is 17.697\n",
      "m_g: 120,fair clusters: [35], timsteps:40\n",
      "k:15, ppl_per_cluster:10, n_clusters:20\n",
      "noise:0, seed:58\n"
     ]
    },
    {
     "name": "stderr",
     "output_type": "stream",
     "text": [
      "\r",
      "210it [18:58,  5.47s/it]"
     ]
    },
    {
     "name": "stdout",
     "output_type": "stream",
     "text": [
      "Expected reward of policy Random is 15.478500000000002\n",
      "Expected reward of policy RR is 15.550500000000003\n",
      "Expected reward of policy Whittle is 17.249999999999996\n",
      "Expected reward of policy Baseline Quota is 17.0385\n",
      "Expected reward of policy Big-LP is 17.019\n",
      "Expected reward of policy Big-LP Lump-sum is 17.019\n",
      "m_g: 120,fair clusters: [35], timsteps:40\n",
      "k:15, ppl_per_cluster:10, n_clusters:20\n",
      "noise:0, seed:19\n"
     ]
    },
    {
     "name": "stderr",
     "output_type": "stream",
     "text": [
      "\r",
      "211it [19:04,  5.52s/it]"
     ]
    },
    {
     "name": "stdout",
     "output_type": "stream",
     "text": [
      "Expected reward of policy Random is 16.125499999999995\n",
      "Expected reward of policy RR is 16.241000000000003\n",
      "Expected reward of policy Whittle is 18.4775\n",
      "Expected reward of policy Baseline Quota is 18.222\n",
      "Expected reward of policy Big-LP is 18.241500000000002\n",
      "Expected reward of policy Big-LP Lump-sum is 18.241500000000002\n",
      "m_g: 120,fair clusters: [35], timsteps:40\n",
      "k:15, ppl_per_cluster:10, n_clusters:20\n",
      "noise:0, seed:74\n"
     ]
    },
    {
     "name": "stderr",
     "output_type": "stream",
     "text": [
      "\r",
      "212it [19:09,  5.54s/it]"
     ]
    },
    {
     "name": "stdout",
     "output_type": "stream",
     "text": [
      "Expected reward of policy Random is 17.258999999999997\n",
      "Expected reward of policy RR is 17.4195\n",
      "Expected reward of policy Whittle is 19.2345\n",
      "Expected reward of policy Baseline Quota is 18.86\n",
      "Expected reward of policy Big-LP is 18.946999999999996\n",
      "Expected reward of policy Big-LP Lump-sum is 18.946999999999996\n",
      "m_g: 120,fair clusters: [35], timsteps:40\n",
      "k:15, ppl_per_cluster:10, n_clusters:20\n",
      "noise:0, seed:21\n"
     ]
    },
    {
     "name": "stderr",
     "output_type": "stream",
     "text": [
      "\r",
      "213it [19:16,  5.80s/it]"
     ]
    },
    {
     "name": "stdout",
     "output_type": "stream",
     "text": [
      "Expected reward of policy Random is 14.483999999999998\n",
      "Expected reward of policy RR is 14.538000000000002\n",
      "Expected reward of policy Whittle is 16.4255\n",
      "Expected reward of policy Baseline Quota is 16.0935\n",
      "Expected reward of policy Big-LP is 16.078\n",
      "Expected reward of policy Big-LP Lump-sum is 16.078\n",
      "m_g: 120,fair clusters: [35], timsteps:40\n",
      "k:15, ppl_per_cluster:10, n_clusters:20\n",
      "noise:0, seed:84\n"
     ]
    },
    {
     "name": "stderr",
     "output_type": "stream",
     "text": [
      "\r",
      "214it [19:21,  5.75s/it]"
     ]
    },
    {
     "name": "stdout",
     "output_type": "stream",
     "text": [
      "Expected reward of policy Random is 14.972999999999995\n",
      "Expected reward of policy RR is 14.804499999999999\n",
      "Expected reward of policy Whittle is 16.704500000000003\n",
      "Expected reward of policy Baseline Quota is 16.3515\n",
      "Expected reward of policy Big-LP is 16.343\n",
      "Expected reward of policy Big-LP Lump-sum is 16.343\n",
      "m_g: 120,fair clusters: [35], timsteps:40\n",
      "k:15, ppl_per_cluster:10, n_clusters:20\n",
      "noise:0, seed:57\n"
     ]
    },
    {
     "name": "stderr",
     "output_type": "stream",
     "text": [
      "\r",
      "215it [19:27,  5.77s/it]"
     ]
    },
    {
     "name": "stdout",
     "output_type": "stream",
     "text": [
      "Expected reward of policy Random is 18.714\n",
      "Expected reward of policy RR is 18.7815\n",
      "Expected reward of policy Whittle is 20.1725\n",
      "Expected reward of policy Baseline Quota is 19.945\n",
      "Expected reward of policy Big-LP is 19.933\n",
      "Expected reward of policy Big-LP Lump-sum is 19.933\n",
      "m_g: 120,fair clusters: [35], timsteps:40\n",
      "k:15, ppl_per_cluster:10, n_clusters:20\n",
      "noise:0, seed:33\n"
     ]
    },
    {
     "name": "stderr",
     "output_type": "stream",
     "text": [
      "\r",
      "216it [19:32,  5.67s/it]"
     ]
    },
    {
     "name": "stdout",
     "output_type": "stream",
     "text": [
      "Expected reward of policy Random is 16.601000000000003\n",
      "Expected reward of policy RR is 16.5685\n",
      "Expected reward of policy Whittle is 18.381999999999998\n",
      "Expected reward of policy Baseline Quota is 18.148500000000002\n",
      "Expected reward of policy Big-LP is 18.143\n",
      "Expected reward of policy Big-LP Lump-sum is 18.143\n",
      "m_g: 160,fair clusters: [35], timsteps:40\n",
      "k:20, ppl_per_cluster:10, n_clusters:20\n",
      "noise:0, seed:62\n"
     ]
    },
    {
     "name": "stderr",
     "output_type": "stream",
     "text": [
      "\r",
      "217it [19:38,  5.66s/it]"
     ]
    },
    {
     "name": "stdout",
     "output_type": "stream",
     "text": [
      "Expected reward of policy Random is 16.740000000000002\n",
      "Expected reward of policy RR is 16.689999999999998\n",
      "Expected reward of policy Whittle is 18.3275\n",
      "Expected reward of policy Baseline Quota is 18.07\n",
      "Expected reward of policy Big-LP is 18.0805\n",
      "Expected reward of policy Big-LP Lump-sum is 18.0805\n",
      "m_g: 160,fair clusters: [35], timsteps:40\n",
      "k:20, ppl_per_cluster:10, n_clusters:20\n",
      "noise:0, seed:58\n"
     ]
    },
    {
     "name": "stderr",
     "output_type": "stream",
     "text": [
      "\r",
      "218it [19:44,  5.64s/it]"
     ]
    },
    {
     "name": "stdout",
     "output_type": "stream",
     "text": [
      "Expected reward of policy Random is 15.6805\n",
      "Expected reward of policy RR is 15.722\n",
      "Expected reward of policy Whittle is 17.811\n",
      "Expected reward of policy Baseline Quota is 17.445999999999998\n",
      "Expected reward of policy Big-LP is 17.43\n",
      "Expected reward of policy Big-LP Lump-sum is 17.43\n",
      "m_g: 160,fair clusters: [35], timsteps:40\n",
      "k:20, ppl_per_cluster:10, n_clusters:20\n",
      "noise:0, seed:19\n"
     ]
    },
    {
     "name": "stderr",
     "output_type": "stream",
     "text": [
      "\r",
      "219it [19:49,  5.69s/it]"
     ]
    },
    {
     "name": "stdout",
     "output_type": "stream",
     "text": [
      "Expected reward of policy Random is 16.3525\n",
      "Expected reward of policy RR is 16.396\n",
      "Expected reward of policy Whittle is 18.8545\n",
      "Expected reward of policy Baseline Quota is 18.688\n",
      "Expected reward of policy Big-LP is 18.6945\n",
      "Expected reward of policy Big-LP Lump-sum is 18.6945\n",
      "m_g: 160,fair clusters: [35], timsteps:40\n",
      "k:20, ppl_per_cluster:10, n_clusters:20\n",
      "noise:0, seed:74\n"
     ]
    },
    {
     "name": "stderr",
     "output_type": "stream",
     "text": [
      "\r",
      "220it [19:55,  5.67s/it]"
     ]
    },
    {
     "name": "stdout",
     "output_type": "stream",
     "text": [
      "Expected reward of policy Random is 17.436\n",
      "Expected reward of policy RR is 17.602\n",
      "Expected reward of policy Whittle is 19.656000000000002\n",
      "Expected reward of policy Baseline Quota is 19.424\n",
      "Expected reward of policy Big-LP is 19.445\n",
      "Expected reward of policy Big-LP Lump-sum is 19.445\n",
      "m_g: 160,fair clusters: [35], timsteps:40\n",
      "k:20, ppl_per_cluster:10, n_clusters:20\n",
      "noise:0, seed:21\n"
     ]
    },
    {
     "name": "stderr",
     "output_type": "stream",
     "text": [
      "\r",
      "221it [20:01,  5.72s/it]"
     ]
    },
    {
     "name": "stdout",
     "output_type": "stream",
     "text": [
      "Expected reward of policy Random is 14.7105\n",
      "Expected reward of policy RR is 14.647499999999999\n",
      "Expected reward of policy Whittle is 16.959000000000003\n",
      "Expected reward of policy Baseline Quota is 16.612000000000002\n",
      "Expected reward of policy Big-LP is 16.599\n",
      "Expected reward of policy Big-LP Lump-sum is 16.599\n",
      "m_g: 160,fair clusters: [35], timsteps:40\n",
      "k:20, ppl_per_cluster:10, n_clusters:20\n",
      "noise:0, seed:84\n"
     ]
    },
    {
     "name": "stderr",
     "output_type": "stream",
     "text": [
      "\r",
      "222it [20:07,  5.68s/it]"
     ]
    },
    {
     "name": "stdout",
     "output_type": "stream",
     "text": [
      "Expected reward of policy Random is 15.180000000000001\n",
      "Expected reward of policy RR is 15.1435\n",
      "Expected reward of policy Whittle is 17.213\n",
      "Expected reward of policy Baseline Quota is 16.8855\n",
      "Expected reward of policy Big-LP is 16.905\n",
      "Expected reward of policy Big-LP Lump-sum is 16.905\n",
      "m_g: 160,fair clusters: [35], timsteps:40\n",
      "k:20, ppl_per_cluster:10, n_clusters:20\n",
      "noise:0, seed:57\n"
     ]
    },
    {
     "name": "stderr",
     "output_type": "stream",
     "text": [
      "\r",
      "223it [20:12,  5.72s/it]"
     ]
    },
    {
     "name": "stdout",
     "output_type": "stream",
     "text": [
      "Expected reward of policy Random is 18.878499999999995\n",
      "Expected reward of policy RR is 18.991\n",
      "Expected reward of policy Whittle is 20.7305\n",
      "Expected reward of policy Baseline Quota is 20.3355\n",
      "Expected reward of policy Big-LP is 20.3335\n",
      "Expected reward of policy Big-LP Lump-sum is 20.3335\n",
      "m_g: 160,fair clusters: [35], timsteps:40\n",
      "k:20, ppl_per_cluster:10, n_clusters:20\n",
      "noise:0, seed:33\n"
     ]
    },
    {
     "name": "stderr",
     "output_type": "stream",
     "text": [
      "\r",
      "224it [20:18,  5.73s/it]"
     ]
    },
    {
     "name": "stdout",
     "output_type": "stream",
     "text": [
      "Expected reward of policy Random is 16.791\n",
      "Expected reward of policy RR is 16.817\n",
      "Expected reward of policy Whittle is 18.883999999999997\n",
      "Expected reward of policy Baseline Quota is 18.5965\n",
      "Expected reward of policy Big-LP is 18.575\n",
      "Expected reward of policy Big-LP Lump-sum is 18.575\n",
      "m_g: 45,fair clusters: [10, 35], timsteps:30\n",
      "k:15, ppl_per_cluster:10, n_clusters:20\n",
      "noise:0, seed:62\n"
     ]
    },
    {
     "name": "stderr",
     "output_type": "stream",
     "text": [
      "\r",
      "225it [20:24,  5.66s/it]"
     ]
    },
    {
     "name": "stdout",
     "output_type": "stream",
     "text": [
      "Expected reward of policy Random is 12.2655\n",
      "Expected reward of policy RR is 12.174999999999999\n",
      "Expected reward of policy Whittle is 13.2125\n",
      "Expected reward of policy Baseline Quota is 13.029000000000002\n",
      "Expected reward of policy Big-LP is 13.035499999999999\n",
      "Expected reward of policy Big-LP Lump-sum is 13.0215\n",
      "m_g: 45,fair clusters: [10, 35], timsteps:30\n",
      "k:15, ppl_per_cluster:10, n_clusters:20\n",
      "noise:0, seed:58\n"
     ]
    },
    {
     "name": "stderr",
     "output_type": "stream",
     "text": [
      "\r",
      "226it [20:29,  5.57s/it]"
     ]
    },
    {
     "name": "stdout",
     "output_type": "stream",
     "text": [
      "Expected reward of policy Random is 11.5915\n",
      "Expected reward of policy RR is 11.471\n",
      "Expected reward of policy Whittle is 12.544999999999998\n",
      "Expected reward of policy Baseline Quota is 12.3845\n",
      "Expected reward of policy Big-LP is 12.4045\n",
      "Expected reward of policy Big-LP Lump-sum is 12.386500000000002\n",
      "m_g: 45,fair clusters: [10, 35], timsteps:30\n",
      "k:15, ppl_per_cluster:10, n_clusters:20\n",
      "noise:0, seed:19\n"
     ]
    },
    {
     "name": "stderr",
     "output_type": "stream",
     "text": [
      "\r",
      "227it [20:34,  5.53s/it]"
     ]
    },
    {
     "name": "stdout",
     "output_type": "stream",
     "text": [
      "Expected reward of policy Random is 11.764\n",
      "Expected reward of policy RR is 11.6035\n",
      "Expected reward of policy Whittle is 13.116999999999999\n",
      "Expected reward of policy Baseline Quota is 12.885000000000002\n",
      "Expected reward of policy Big-LP is 12.874500000000001\n",
      "Expected reward of policy Big-LP Lump-sum is 12.861\n",
      "m_g: 45,fair clusters: [10, 35], timsteps:30\n",
      "k:15, ppl_per_cluster:10, n_clusters:20\n",
      "noise:0, seed:74\n"
     ]
    },
    {
     "name": "stderr",
     "output_type": "stream",
     "text": [
      "\r",
      "228it [20:40,  5.59s/it]"
     ]
    },
    {
     "name": "stdout",
     "output_type": "stream",
     "text": [
      "Expected reward of policy Random is 10.944500000000001\n",
      "Expected reward of policy RR is 10.888499999999999\n",
      "Expected reward of policy Whittle is 12.4375\n",
      "Expected reward of policy Baseline Quota is 12.2215\n",
      "Expected reward of policy Big-LP is 12.1805\n",
      "Expected reward of policy Big-LP Lump-sum is 12.185\n",
      "m_g: 45,fair clusters: [10, 35], timsteps:30\n",
      "k:15, ppl_per_cluster:10, n_clusters:20\n",
      "noise:0, seed:21\n"
     ]
    },
    {
     "name": "stderr",
     "output_type": "stream",
     "text": [
      "\r",
      "229it [20:46,  5.64s/it]"
     ]
    },
    {
     "name": "stdout",
     "output_type": "stream",
     "text": [
      "Expected reward of policy Random is 10.182500000000001\n",
      "Expected reward of policy RR is 10.193500000000002\n",
      "Expected reward of policy Whittle is 10.82\n",
      "Expected reward of policy Baseline Quota is 10.747000000000002\n",
      "Expected reward of policy Big-LP is 10.771\n",
      "Expected reward of policy Big-LP Lump-sum is 10.762\n",
      "m_g: 45,fair clusters: [10, 35], timsteps:30\n",
      "k:15, ppl_per_cluster:10, n_clusters:20\n",
      "noise:0, seed:84\n"
     ]
    },
    {
     "name": "stderr",
     "output_type": "stream",
     "text": [
      "\r",
      "230it [20:51,  5.56s/it]"
     ]
    },
    {
     "name": "stdout",
     "output_type": "stream",
     "text": [
      "Expected reward of policy Random is 10.104000000000003\n",
      "Expected reward of policy RR is 10.1435\n",
      "Expected reward of policy Whittle is 11.1845\n",
      "Expected reward of policy Baseline Quota is 11.037\n",
      "Expected reward of policy Big-LP is 11.060500000000001\n",
      "Expected reward of policy Big-LP Lump-sum is 11.0325\n",
      "m_g: 45,fair clusters: [10, 35], timsteps:30\n",
      "k:15, ppl_per_cluster:10, n_clusters:20\n",
      "noise:0, seed:57\n"
     ]
    },
    {
     "name": "stderr",
     "output_type": "stream",
     "text": [
      "\r",
      "231it [20:57,  5.60s/it]"
     ]
    },
    {
     "name": "stdout",
     "output_type": "stream",
     "text": [
      "Expected reward of policy Random is 13.0755\n",
      "Expected reward of policy RR is 12.8845\n",
      "Expected reward of policy Whittle is 14.4165\n",
      "Expected reward of policy Baseline Quota is 14.166\n",
      "Expected reward of policy Big-LP is 14.1825\n",
      "Expected reward of policy Big-LP Lump-sum is 14.228\n",
      "m_g: 45,fair clusters: [10, 35], timsteps:30\n",
      "k:15, ppl_per_cluster:10, n_clusters:20\n",
      "noise:0, seed:33\n"
     ]
    },
    {
     "name": "stderr",
     "output_type": "stream",
     "text": [
      "\r",
      "232it [21:03,  5.62s/it]"
     ]
    },
    {
     "name": "stdout",
     "output_type": "stream",
     "text": [
      "Expected reward of policy Random is 11.4845\n",
      "Expected reward of policy RR is 11.5625\n",
      "Expected reward of policy Whittle is 12.9695\n",
      "Expected reward of policy Baseline Quota is 12.8025\n",
      "Expected reward of policy Big-LP is 12.838\n",
      "Expected reward of policy Big-LP Lump-sum is 12.829999999999998\n",
      "m_g: 60,fair clusters: [10, 35], timsteps:30\n",
      "k:20, ppl_per_cluster:10, n_clusters:20\n",
      "noise:0, seed:62\n"
     ]
    },
    {
     "name": "stderr",
     "output_type": "stream",
     "text": [
      "\r",
      "233it [21:08,  5.63s/it]"
     ]
    },
    {
     "name": "stdout",
     "output_type": "stream",
     "text": [
      "Expected reward of policy Random is 12.4085\n",
      "Expected reward of policy RR is 12.3815\n",
      "Expected reward of policy Whittle is 13.5365\n",
      "Expected reward of policy Baseline Quota is 13.326999999999998\n",
      "Expected reward of policy Big-LP is 13.358\n",
      "Expected reward of policy Big-LP Lump-sum is 13.341\n",
      "m_g: 60,fair clusters: [10, 35], timsteps:30\n",
      "k:20, ppl_per_cluster:10, n_clusters:20\n",
      "noise:0, seed:58\n"
     ]
    },
    {
     "name": "stderr",
     "output_type": "stream",
     "text": [
      "\r",
      "234it [21:15,  5.83s/it]"
     ]
    },
    {
     "name": "stdout",
     "output_type": "stream",
     "text": [
      "Expected reward of policy Random is 11.747\n",
      "Expected reward of policy RR is 11.708000000000002\n",
      "Expected reward of policy Whittle is 12.9355\n",
      "Expected reward of policy Baseline Quota is 12.687999999999999\n",
      "Expected reward of policy Big-LP is 12.7135\n",
      "Expected reward of policy Big-LP Lump-sum is 12.699\n",
      "m_g: 60,fair clusters: [10, 35], timsteps:30\n",
      "k:20, ppl_per_cluster:10, n_clusters:20\n",
      "noise:0, seed:19\n"
     ]
    },
    {
     "name": "stderr",
     "output_type": "stream",
     "text": [
      "\r",
      "235it [21:21,  5.91s/it]"
     ]
    },
    {
     "name": "stdout",
     "output_type": "stream",
     "text": [
      "Expected reward of policy Random is 11.95\n",
      "Expected reward of policy RR is 11.749\n",
      "Expected reward of policy Whittle is 13.641000000000002\n",
      "Expected reward of policy Baseline Quota is 13.347\n",
      "Expected reward of policy Big-LP is 13.335999999999999\n",
      "Expected reward of policy Big-LP Lump-sum is 13.3215\n",
      "m_g: 60,fair clusters: [10, 35], timsteps:30\n",
      "k:20, ppl_per_cluster:10, n_clusters:20\n",
      "noise:0, seed:74\n"
     ]
    },
    {
     "name": "stderr",
     "output_type": "stream",
     "text": [
      "\r",
      "236it [21:27,  6.07s/it]"
     ]
    },
    {
     "name": "stdout",
     "output_type": "stream",
     "text": [
      "Expected reward of policy Random is 11.1165\n",
      "Expected reward of policy RR is 11.187999999999999\n",
      "Expected reward of policy Whittle is 12.791\n",
      "Expected reward of policy Baseline Quota is 12.611500000000001\n",
      "Expected reward of policy Big-LP is 12.557\n",
      "Expected reward of policy Big-LP Lump-sum is 12.555\n",
      "m_g: 60,fair clusters: [10, 35], timsteps:30\n",
      "k:20, ppl_per_cluster:10, n_clusters:20\n",
      "noise:0, seed:21\n"
     ]
    },
    {
     "name": "stderr",
     "output_type": "stream",
     "text": [
      "\r",
      "237it [21:33,  6.16s/it]"
     ]
    },
    {
     "name": "stdout",
     "output_type": "stream",
     "text": [
      "Expected reward of policy Random is 10.2825\n",
      "Expected reward of policy RR is 10.2985\n",
      "Expected reward of policy Whittle is 11.114\n",
      "Expected reward of policy Baseline Quota is 10.9265\n",
      "Expected reward of policy Big-LP is 10.973499999999998\n",
      "Expected reward of policy Big-LP Lump-sum is 10.9525\n",
      "m_g: 60,fair clusters: [10, 35], timsteps:30\n",
      "k:20, ppl_per_cluster:10, n_clusters:20\n",
      "noise:0, seed:84\n"
     ]
    },
    {
     "name": "stderr",
     "output_type": "stream",
     "text": [
      "\r",
      "238it [21:40,  6.14s/it]"
     ]
    },
    {
     "name": "stdout",
     "output_type": "stream",
     "text": [
      "Expected reward of policy Random is 10.2135\n",
      "Expected reward of policy RR is 10.4065\n",
      "Expected reward of policy Whittle is 11.522\n",
      "Expected reward of policy Baseline Quota is 11.299999999999999\n",
      "Expected reward of policy Big-LP is 11.34\n",
      "Expected reward of policy Big-LP Lump-sum is 11.306999999999999\n",
      "m_g: 60,fair clusters: [10, 35], timsteps:30\n",
      "k:20, ppl_per_cluster:10, n_clusters:20\n",
      "noise:0, seed:57\n"
     ]
    },
    {
     "name": "stderr",
     "output_type": "stream",
     "text": [
      "\r",
      "239it [21:46,  6.15s/it]"
     ]
    },
    {
     "name": "stdout",
     "output_type": "stream",
     "text": [
      "Expected reward of policy Random is 13.2005\n",
      "Expected reward of policy RR is 12.991999999999999\n",
      "Expected reward of policy Whittle is 14.776499999999999\n",
      "Expected reward of policy Baseline Quota is 14.5215\n",
      "Expected reward of policy Big-LP is 14.559999999999999\n",
      "Expected reward of policy Big-LP Lump-sum is 14.5585\n",
      "m_g: 60,fair clusters: [10, 35], timsteps:30\n",
      "k:20, ppl_per_cluster:10, n_clusters:20\n",
      "noise:0, seed:33\n"
     ]
    },
    {
     "name": "stderr",
     "output_type": "stream",
     "text": [
      "\r",
      "240it [21:52,  6.15s/it]"
     ]
    },
    {
     "name": "stdout",
     "output_type": "stream",
     "text": [
      "Expected reward of policy Random is 11.617\n",
      "Expected reward of policy RR is 11.727\n",
      "Expected reward of policy Whittle is 13.2005\n",
      "Expected reward of policy Baseline Quota is 13.100999999999999\n",
      "Expected reward of policy Big-LP is 13.103\n",
      "Expected reward of policy Big-LP Lump-sum is 13.114\n",
      "m_g: 60,fair clusters: [10, 35], timsteps:40\n",
      "k:15, ppl_per_cluster:10, n_clusters:20\n",
      "noise:0, seed:62\n"
     ]
    },
    {
     "name": "stderr",
     "output_type": "stream",
     "text": [
      "\r",
      "241it [21:58,  6.16s/it]"
     ]
    },
    {
     "name": "stdout",
     "output_type": "stream",
     "text": [
      "Expected reward of policy Random is 16.4615\n",
      "Expected reward of policy RR is 16.4115\n",
      "Expected reward of policy Whittle is 17.7075\n",
      "Expected reward of policy Baseline Quota is 17.485\n",
      "Expected reward of policy Big-LP is 17.4745\n",
      "Expected reward of policy Big-LP Lump-sum is 17.4775\n",
      "m_g: 60,fair clusters: [10, 35], timsteps:40\n",
      "k:15, ppl_per_cluster:10, n_clusters:20\n",
      "noise:0, seed:58\n"
     ]
    },
    {
     "name": "stderr",
     "output_type": "stream",
     "text": [
      "\r",
      "242it [22:04,  6.12s/it]"
     ]
    },
    {
     "name": "stdout",
     "output_type": "stream",
     "text": [
      "Expected reward of policy Random is 15.49\n",
      "Expected reward of policy RR is 15.360000000000003\n",
      "Expected reward of policy Whittle is 16.823\n",
      "Expected reward of policy Baseline Quota is 16.6125\n",
      "Expected reward of policy Big-LP is 16.625\n",
      "Expected reward of policy Big-LP Lump-sum is 16.595\n",
      "m_g: 60,fair clusters: [10, 35], timsteps:40\n",
      "k:15, ppl_per_cluster:10, n_clusters:20\n",
      "noise:0, seed:19\n"
     ]
    },
    {
     "name": "stderr",
     "output_type": "stream",
     "text": [
      "\r",
      "243it [22:10,  6.10s/it]"
     ]
    },
    {
     "name": "stdout",
     "output_type": "stream",
     "text": [
      "Expected reward of policy Random is 15.688999999999998\n",
      "Expected reward of policy RR is 15.607500000000002\n",
      "Expected reward of policy Whittle is 17.6905\n",
      "Expected reward of policy Baseline Quota is 17.3855\n",
      "Expected reward of policy Big-LP is 17.353\n",
      "Expected reward of policy Big-LP Lump-sum is 17.3425\n",
      "m_g: 60,fair clusters: [10, 35], timsteps:40\n",
      "k:15, ppl_per_cluster:10, n_clusters:20\n",
      "noise:0, seed:74\n"
     ]
    },
    {
     "name": "stderr",
     "output_type": "stream",
     "text": [
      "\r",
      "244it [22:17,  6.18s/it]"
     ]
    },
    {
     "name": "stdout",
     "output_type": "stream",
     "text": [
      "Expected reward of policy Random is 14.689000000000002\n",
      "Expected reward of policy RR is 14.559999999999999\n",
      "Expected reward of policy Whittle is 16.705000000000002\n",
      "Expected reward of policy Baseline Quota is 16.392500000000002\n",
      "Expected reward of policy Big-LP is 16.3635\n",
      "Expected reward of policy Big-LP Lump-sum is 16.3645\n",
      "m_g: 60,fair clusters: [10, 35], timsteps:40\n",
      "k:15, ppl_per_cluster:10, n_clusters:20\n",
      "noise:0, seed:21\n"
     ]
    },
    {
     "name": "stderr",
     "output_type": "stream",
     "text": [
      "\r",
      "245it [22:23,  6.23s/it]"
     ]
    },
    {
     "name": "stdout",
     "output_type": "stream",
     "text": [
      "Expected reward of policy Random is 13.5935\n",
      "Expected reward of policy RR is 13.625\n",
      "Expected reward of policy Whittle is 14.481\n",
      "Expected reward of policy Baseline Quota is 14.3495\n",
      "Expected reward of policy Big-LP is 14.388\n",
      "Expected reward of policy Big-LP Lump-sum is 14.388\n",
      "m_g: 60,fair clusters: [10, 35], timsteps:40\n",
      "k:15, ppl_per_cluster:10, n_clusters:20\n",
      "noise:0, seed:84\n"
     ]
    },
    {
     "name": "stderr",
     "output_type": "stream",
     "text": [
      "\r",
      "246it [22:29,  6.14s/it]"
     ]
    },
    {
     "name": "stdout",
     "output_type": "stream",
     "text": [
      "Expected reward of policy Random is 13.516499999999999\n",
      "Expected reward of policy RR is 13.584\n",
      "Expected reward of policy Whittle is 14.975999999999999\n",
      "Expected reward of policy Baseline Quota is 14.807999999999998\n",
      "Expected reward of policy Big-LP is 14.811000000000002\n",
      "Expected reward of policy Big-LP Lump-sum is 14.7975\n",
      "m_g: 60,fair clusters: [10, 35], timsteps:40\n",
      "k:15, ppl_per_cluster:10, n_clusters:20\n",
      "noise:0, seed:57\n"
     ]
    },
    {
     "name": "stderr",
     "output_type": "stream",
     "text": [
      "\r",
      "247it [22:35,  6.14s/it]"
     ]
    },
    {
     "name": "stdout",
     "output_type": "stream",
     "text": [
      "Expected reward of policy Random is 17.523500000000002\n",
      "Expected reward of policy RR is 17.286499999999997\n",
      "Expected reward of policy Whittle is 19.374000000000002\n",
      "Expected reward of policy Baseline Quota is 19.055500000000002\n",
      "Expected reward of policy Big-LP is 19.065\n",
      "Expected reward of policy Big-LP Lump-sum is 19.102999999999998\n",
      "m_g: 60,fair clusters: [10, 35], timsteps:40\n",
      "k:15, ppl_per_cluster:10, n_clusters:20\n",
      "noise:0, seed:33\n"
     ]
    },
    {
     "name": "stderr",
     "output_type": "stream",
     "text": [
      "\r",
      "248it [22:41,  6.11s/it]"
     ]
    },
    {
     "name": "stdout",
     "output_type": "stream",
     "text": [
      "Expected reward of policy Random is 15.393\n",
      "Expected reward of policy RR is 15.497499999999999\n",
      "Expected reward of policy Whittle is 17.387\n",
      "Expected reward of policy Baseline Quota is 17.1915\n",
      "Expected reward of policy Big-LP is 17.2035\n",
      "Expected reward of policy Big-LP Lump-sum is 17.2085\n",
      "m_g: 80,fair clusters: [10, 35], timsteps:40\n",
      "k:20, ppl_per_cluster:10, n_clusters:20\n",
      "noise:0, seed:62\n"
     ]
    },
    {
     "name": "stderr",
     "output_type": "stream",
     "text": [
      "\r",
      "249it [22:47,  6.12s/it]"
     ]
    },
    {
     "name": "stdout",
     "output_type": "stream",
     "text": [
      "Expected reward of policy Random is 16.6385\n",
      "Expected reward of policy RR is 16.609499999999997\n",
      "Expected reward of policy Whittle is 18.151\n",
      "Expected reward of policy Baseline Quota is 17.876\n",
      "Expected reward of policy Big-LP is 17.889999999999997\n",
      "Expected reward of policy Big-LP Lump-sum is 17.886499999999998\n",
      "m_g: 80,fair clusters: [10, 35], timsteps:40\n",
      "k:20, ppl_per_cluster:10, n_clusters:20\n",
      "noise:0, seed:58\n"
     ]
    },
    {
     "name": "stderr",
     "output_type": "stream",
     "text": [
      "\r",
      "250it [22:53,  6.12s/it]"
     ]
    },
    {
     "name": "stdout",
     "output_type": "stream",
     "text": [
      "Expected reward of policy Random is 15.7185\n",
      "Expected reward of policy RR is 15.6865\n",
      "Expected reward of policy Whittle is 17.3515\n",
      "Expected reward of policy Baseline Quota is 17.0215\n",
      "Expected reward of policy Big-LP is 17.0375\n",
      "Expected reward of policy Big-LP Lump-sum is 17.034\n",
      "m_g: 80,fair clusters: [10, 35], timsteps:40\n",
      "k:20, ppl_per_cluster:10, n_clusters:20\n",
      "noise:0, seed:19\n"
     ]
    },
    {
     "name": "stderr",
     "output_type": "stream",
     "text": [
      "\r",
      "251it [22:59,  6.15s/it]"
     ]
    },
    {
     "name": "stdout",
     "output_type": "stream",
     "text": [
      "Expected reward of policy Random is 15.925999999999998\n",
      "Expected reward of policy RR is 15.814499999999999\n",
      "Expected reward of policy Whittle is 18.3875\n",
      "Expected reward of policy Baseline Quota is 17.9765\n",
      "Expected reward of policy Big-LP is 17.966\n",
      "Expected reward of policy Big-LP Lump-sum is 17.9695\n",
      "m_g: 80,fair clusters: [10, 35], timsteps:40\n",
      "k:20, ppl_per_cluster:10, n_clusters:20\n",
      "noise:0, seed:74\n"
     ]
    },
    {
     "name": "stderr",
     "output_type": "stream",
     "text": [
      "\r",
      "252it [23:06,  6.21s/it]"
     ]
    },
    {
     "name": "stdout",
     "output_type": "stream",
     "text": [
      "Expected reward of policy Random is 14.910500000000003\n",
      "Expected reward of policy RR is 14.972\n",
      "Expected reward of policy Whittle is 17.240000000000002\n",
      "Expected reward of policy Baseline Quota is 16.9435\n",
      "Expected reward of policy Big-LP is 16.8935\n",
      "Expected reward of policy Big-LP Lump-sum is 16.872\n",
      "m_g: 80,fair clusters: [10, 35], timsteps:40\n",
      "k:20, ppl_per_cluster:10, n_clusters:20\n",
      "noise:0, seed:21\n"
     ]
    },
    {
     "name": "stderr",
     "output_type": "stream",
     "text": [
      "\r",
      "253it [23:13,  6.38s/it]"
     ]
    },
    {
     "name": "stdout",
     "output_type": "stream",
     "text": [
      "Expected reward of policy Random is 13.74\n",
      "Expected reward of policy RR is 13.781\n",
      "Expected reward of policy Whittle is 14.914999999999997\n",
      "Expected reward of policy Baseline Quota is 14.628499999999999\n",
      "Expected reward of policy Big-LP is 14.6775\n",
      "Expected reward of policy Big-LP Lump-sum is 14.657499999999999\n",
      "m_g: 80,fair clusters: [10, 35], timsteps:40\n",
      "k:20, ppl_per_cluster:10, n_clusters:20\n",
      "noise:0, seed:84\n"
     ]
    },
    {
     "name": "stderr",
     "output_type": "stream",
     "text": [
      "\r",
      "254it [23:19,  6.43s/it]"
     ]
    },
    {
     "name": "stdout",
     "output_type": "stream",
     "text": [
      "Expected reward of policy Random is 13.6715\n",
      "Expected reward of policy RR is 13.897499999999999\n",
      "Expected reward of policy Whittle is 15.4275\n",
      "Expected reward of policy Baseline Quota is 15.135\n",
      "Expected reward of policy Big-LP is 15.1535\n",
      "Expected reward of policy Big-LP Lump-sum is 15.139000000000001\n",
      "m_g: 80,fair clusters: [10, 35], timsteps:40\n",
      "k:20, ppl_per_cluster:10, n_clusters:20\n",
      "noise:0, seed:57\n"
     ]
    },
    {
     "name": "stderr",
     "output_type": "stream",
     "text": [
      "\r",
      "255it [23:26,  6.51s/it]"
     ]
    },
    {
     "name": "stdout",
     "output_type": "stream",
     "text": [
      "Expected reward of policy Random is 17.684500000000003\n",
      "Expected reward of policy RR is 17.4955\n",
      "Expected reward of policy Whittle is 19.905499999999996\n",
      "Expected reward of policy Baseline Quota is 19.539499999999997\n",
      "Expected reward of policy Big-LP is 19.560499999999998\n",
      "Expected reward of policy Big-LP Lump-sum is 19.585\n",
      "m_g: 80,fair clusters: [10, 35], timsteps:40\n",
      "k:20, ppl_per_cluster:10, n_clusters:20\n",
      "noise:0, seed:33\n"
     ]
    },
    {
     "name": "stderr",
     "output_type": "stream",
     "text": [
      "\r",
      "256it [23:32,  6.51s/it]"
     ]
    },
    {
     "name": "stdout",
     "output_type": "stream",
     "text": [
      "Expected reward of policy Random is 15.588\n",
      "Expected reward of policy RR is 15.701999999999998\n",
      "Expected reward of policy Whittle is 17.711\n",
      "Expected reward of policy Baseline Quota is 17.573500000000003\n",
      "Expected reward of policy Big-LP is 17.5885\n",
      "Expected reward of policy Big-LP Lump-sum is 17.5755\n",
      "m_g: 30,fair clusters: [10, 8, 35], timsteps:30\n",
      "k:15, ppl_per_cluster:10, n_clusters:20\n",
      "noise:0, seed:62\n"
     ]
    },
    {
     "name": "stderr",
     "output_type": "stream",
     "text": [
      "\r",
      "257it [23:38,  6.37s/it]"
     ]
    },
    {
     "name": "stdout",
     "output_type": "stream",
     "text": [
      "Expected reward of policy Random is 10.350000000000001\n",
      "Expected reward of policy RR is 10.2805\n",
      "Expected reward of policy Whittle is 11.4255\n",
      "Expected reward of policy Baseline Quota is 11.2865\n",
      "Expected reward of policy Big-LP is 11.285\n",
      "Expected reward of policy Big-LP Lump-sum is 11.278499999999998\n",
      "m_g: 30,fair clusters: [10, 8, 35], timsteps:30\n",
      "k:15, ppl_per_cluster:10, n_clusters:20\n",
      "noise:0, seed:58\n"
     ]
    },
    {
     "name": "stderr",
     "output_type": "stream",
     "text": [
      "\r",
      "258it [23:45,  6.33s/it]"
     ]
    },
    {
     "name": "stdout",
     "output_type": "stream",
     "text": [
      "Expected reward of policy Random is 12.658\n",
      "Expected reward of policy RR is 12.6665\n",
      "Expected reward of policy Whittle is 13.544\n",
      "Expected reward of policy Baseline Quota is 13.494\n",
      "Expected reward of policy Big-LP is 13.489500000000001\n",
      "Expected reward of policy Big-LP Lump-sum is 13.497000000000003\n",
      "m_g: 30,fair clusters: [10, 8, 35], timsteps:30\n",
      "k:15, ppl_per_cluster:10, n_clusters:20\n",
      "noise:0, seed:19\n"
     ]
    },
    {
     "name": "stderr",
     "output_type": "stream",
     "text": [
      "\r",
      "259it [23:51,  6.37s/it]"
     ]
    },
    {
     "name": "stdout",
     "output_type": "stream",
     "text": [
      "Expected reward of policy Random is 10.557\n",
      "Expected reward of policy RR is 10.3965\n",
      "Expected reward of policy Whittle is 11.805499999999999\n",
      "Expected reward of policy Baseline Quota is 11.602\n",
      "Expected reward of policy Big-LP is 11.602\n",
      "Expected reward of policy Big-LP Lump-sum is 11.570500000000001\n",
      "m_g: 30,fair clusters: [10, 8, 35], timsteps:30\n",
      "k:15, ppl_per_cluster:10, n_clusters:20\n",
      "noise:0, seed:74\n"
     ]
    },
    {
     "name": "stderr",
     "output_type": "stream",
     "text": [
      "\r",
      "260it [23:57,  6.33s/it]"
     ]
    },
    {
     "name": "stdout",
     "output_type": "stream",
     "text": [
      "Expected reward of policy Random is 10.410500000000003\n",
      "Expected reward of policy RR is 10.44\n",
      "Expected reward of policy Whittle is 11.704999999999998\n",
      "Expected reward of policy Baseline Quota is 11.568\n",
      "Expected reward of policy Big-LP is 11.628000000000002\n",
      "Expected reward of policy Big-LP Lump-sum is 11.577\n",
      "m_g: 30,fair clusters: [10, 8, 35], timsteps:30\n",
      "k:15, ppl_per_cluster:10, n_clusters:20\n",
      "noise:0, seed:21\n"
     ]
    },
    {
     "name": "stderr",
     "output_type": "stream",
     "text": [
      "\r",
      "261it [24:03,  6.21s/it]"
     ]
    },
    {
     "name": "stdout",
     "output_type": "stream",
     "text": [
      "Expected reward of policy Random is 12.023\n",
      "Expected reward of policy RR is 11.976500000000001\n",
      "Expected reward of policy Whittle is 12.833000000000002\n",
      "Expected reward of policy Baseline Quota is 12.693000000000001\n",
      "Expected reward of policy Big-LP is 12.695500000000001\n",
      "Expected reward of policy Big-LP Lump-sum is 12.718499999999999\n",
      "m_g: 30,fair clusters: [10, 8, 35], timsteps:30\n",
      "k:15, ppl_per_cluster:10, n_clusters:20\n",
      "noise:0, seed:84\n"
     ]
    },
    {
     "name": "stderr",
     "output_type": "stream",
     "text": [
      "\r",
      "262it [24:09,  6.18s/it]"
     ]
    },
    {
     "name": "stdout",
     "output_type": "stream",
     "text": [
      "Expected reward of policy Random is 11.1255\n",
      "Expected reward of policy RR is 11.099\n",
      "Expected reward of policy Whittle is 12.5725\n",
      "Expected reward of policy Baseline Quota is 12.4045\n",
      "Expected reward of policy Big-LP is 12.4265\n",
      "Expected reward of policy Big-LP Lump-sum is 12.397\n",
      "m_g: 30,fair clusters: [10, 8, 35], timsteps:30\n",
      "k:15, ppl_per_cluster:10, n_clusters:20\n",
      "noise:0, seed:57\n"
     ]
    },
    {
     "name": "stderr",
     "output_type": "stream",
     "text": [
      "\r",
      "263it [24:16,  6.18s/it]"
     ]
    },
    {
     "name": "stdout",
     "output_type": "stream",
     "text": [
      "Expected reward of policy Random is 11.996500000000001\n",
      "Expected reward of policy RR is 11.9405\n",
      "Expected reward of policy Whittle is 13.304000000000002\n",
      "Expected reward of policy Baseline Quota is 13.136499999999998\n",
      "Expected reward of policy Big-LP is 13.139500000000002\n",
      "Expected reward of policy Big-LP Lump-sum is 13.0845\n",
      "m_g: 30,fair clusters: [10, 8, 35], timsteps:30\n",
      "k:15, ppl_per_cluster:10, n_clusters:20\n",
      "noise:0, seed:33\n"
     ]
    },
    {
     "name": "stderr",
     "output_type": "stream",
     "text": [
      "\r",
      "264it [24:22,  6.12s/it]"
     ]
    },
    {
     "name": "stdout",
     "output_type": "stream",
     "text": [
      "Expected reward of policy Random is 9.822500000000002\n",
      "Expected reward of policy RR is 9.8035\n",
      "Expected reward of policy Whittle is 11.325500000000002\n",
      "Expected reward of policy Baseline Quota is 11.169\n",
      "Expected reward of policy Big-LP is 11.2135\n",
      "Expected reward of policy Big-LP Lump-sum is 11.2265\n",
      "m_g: 40,fair clusters: [10, 8, 35], timsteps:30\n",
      "k:20, ppl_per_cluster:10, n_clusters:20\n",
      "noise:0, seed:62\n"
     ]
    },
    {
     "name": "stderr",
     "output_type": "stream",
     "text": [
      "\r",
      "265it [24:28,  6.15s/it]"
     ]
    },
    {
     "name": "stdout",
     "output_type": "stream",
     "text": [
      "Expected reward of policy Random is 10.513000000000002\n",
      "Expected reward of policy RR is 10.466000000000001\n",
      "Expected reward of policy Whittle is 11.782999999999998\n",
      "Expected reward of policy Baseline Quota is 11.617500000000001\n",
      "Expected reward of policy Big-LP is 11.594000000000001\n",
      "Expected reward of policy Big-LP Lump-sum is 11.5825\n",
      "m_g: 40,fair clusters: [10, 8, 35], timsteps:30\n",
      "k:20, ppl_per_cluster:10, n_clusters:20\n",
      "noise:0, seed:58\n"
     ]
    },
    {
     "name": "stderr",
     "output_type": "stream",
     "text": [
      "\r",
      "266it [24:34,  6.15s/it]"
     ]
    },
    {
     "name": "stdout",
     "output_type": "stream",
     "text": [
      "Expected reward of policy Random is 12.782\n",
      "Expected reward of policy RR is 12.786\n",
      "Expected reward of policy Whittle is 13.728\n",
      "Expected reward of policy Baseline Quota is 13.677000000000001\n",
      "Expected reward of policy Big-LP is 13.6685\n",
      "Expected reward of policy Big-LP Lump-sum is 13.667499999999999\n",
      "m_g: 40,fair clusters: [10, 8, 35], timsteps:30\n",
      "k:20, ppl_per_cluster:10, n_clusters:20\n",
      "noise:0, seed:19\n"
     ]
    },
    {
     "name": "stderr",
     "output_type": "stream",
     "text": [
      "\r",
      "267it [24:40,  6.28s/it]"
     ]
    },
    {
     "name": "stdout",
     "output_type": "stream",
     "text": [
      "Expected reward of policy Random is 10.722\n",
      "Expected reward of policy RR is 10.5355\n",
      "Expected reward of policy Whittle is 12.149500000000002\n",
      "Expected reward of policy Baseline Quota is 11.9845\n",
      "Expected reward of policy Big-LP is 11.954\n",
      "Expected reward of policy Big-LP Lump-sum is 11.93\n",
      "m_g: 40,fair clusters: [10, 8, 35], timsteps:30\n",
      "k:20, ppl_per_cluster:10, n_clusters:20\n",
      "noise:0, seed:74\n"
     ]
    },
    {
     "name": "stderr",
     "output_type": "stream",
     "text": [
      "\r",
      "268it [24:47,  6.28s/it]"
     ]
    },
    {
     "name": "stdout",
     "output_type": "stream",
     "text": [
      "Expected reward of policy Random is 10.581\n",
      "Expected reward of policy RR is 10.6005\n",
      "Expected reward of policy Whittle is 12.048000000000002\n",
      "Expected reward of policy Baseline Quota is 11.874\n",
      "Expected reward of policy Big-LP is 11.901\n",
      "Expected reward of policy Big-LP Lump-sum is 11.89\n",
      "m_g: 40,fair clusters: [10, 8, 35], timsteps:30\n",
      "k:20, ppl_per_cluster:10, n_clusters:20\n",
      "noise:0, seed:21\n"
     ]
    },
    {
     "name": "stderr",
     "output_type": "stream",
     "text": [
      "\r",
      "269it [24:53,  6.20s/it]"
     ]
    },
    {
     "name": "stdout",
     "output_type": "stream",
     "text": [
      "Expected reward of policy Random is 12.188500000000001\n",
      "Expected reward of policy RR is 12.052499999999998\n",
      "Expected reward of policy Whittle is 13.185500000000001\n",
      "Expected reward of policy Baseline Quota is 12.998500000000002\n",
      "Expected reward of policy Big-LP is 13.005500000000001\n",
      "Expected reward of policy Big-LP Lump-sum is 12.9905\n",
      "m_g: 40,fair clusters: [10, 8, 35], timsteps:30\n",
      "k:20, ppl_per_cluster:10, n_clusters:20\n",
      "noise:0, seed:84\n"
     ]
    },
    {
     "name": "stderr",
     "output_type": "stream",
     "text": [
      "\r",
      "270it [24:59,  6.20s/it]"
     ]
    },
    {
     "name": "stdout",
     "output_type": "stream",
     "text": [
      "Expected reward of policy Random is 11.257499999999999\n",
      "Expected reward of policy RR is 11.306999999999999\n",
      "Expected reward of policy Whittle is 12.977\n",
      "Expected reward of policy Baseline Quota is 12.7335\n",
      "Expected reward of policy Big-LP is 12.7425\n",
      "Expected reward of policy Big-LP Lump-sum is 12.727500000000001\n",
      "m_g: 40,fair clusters: [10, 8, 35], timsteps:30\n",
      "k:20, ppl_per_cluster:10, n_clusters:20\n",
      "noise:0, seed:57\n"
     ]
    },
    {
     "name": "stderr",
     "output_type": "stream",
     "text": [
      "\r",
      "271it [25:05,  6.25s/it]"
     ]
    },
    {
     "name": "stdout",
     "output_type": "stream",
     "text": [
      "Expected reward of policy Random is 12.139\n",
      "Expected reward of policy RR is 12.111\n",
      "Expected reward of policy Whittle is 13.5255\n",
      "Expected reward of policy Baseline Quota is 13.467499999999998\n",
      "Expected reward of policy Big-LP is 13.45\n",
      "Expected reward of policy Big-LP Lump-sum is 13.388500000000002\n",
      "m_g: 40,fair clusters: [10, 8, 35], timsteps:30\n",
      "k:20, ppl_per_cluster:10, n_clusters:20\n",
      "noise:0, seed:33\n"
     ]
    },
    {
     "name": "stderr",
     "output_type": "stream",
     "text": [
      "\r",
      "272it [25:12,  6.27s/it]"
     ]
    },
    {
     "name": "stdout",
     "output_type": "stream",
     "text": [
      "Expected reward of policy Random is 9.998999999999999\n",
      "Expected reward of policy RR is 9.985\n",
      "Expected reward of policy Whittle is 11.648500000000002\n",
      "Expected reward of policy Baseline Quota is 11.4645\n",
      "Expected reward of policy Big-LP is 11.4675\n",
      "Expected reward of policy Big-LP Lump-sum is 11.486\n",
      "m_g: 40,fair clusters: [10, 8, 35], timsteps:40\n",
      "k:15, ppl_per_cluster:10, n_clusters:20\n",
      "noise:0, seed:62\n"
     ]
    },
    {
     "name": "stderr",
     "output_type": "stream",
     "text": [
      "\r",
      "273it [25:18,  6.43s/it]"
     ]
    },
    {
     "name": "stdout",
     "output_type": "stream",
     "text": [
      "Expected reward of policy Random is 13.858500000000001\n",
      "Expected reward of policy RR is 13.7815\n",
      "Expected reward of policy Whittle is 15.3275\n",
      "Expected reward of policy Baseline Quota is 15.13\n",
      "Expected reward of policy Big-LP is 15.128\n",
      "Expected reward of policy Big-LP Lump-sum is 15.0725\n",
      "m_g: 40,fair clusters: [10, 8, 35], timsteps:40\n",
      "k:15, ppl_per_cluster:10, n_clusters:20\n",
      "noise:0, seed:58\n"
     ]
    },
    {
     "name": "stderr",
     "output_type": "stream",
     "text": [
      "\r",
      "274it [25:25,  6.57s/it]"
     ]
    },
    {
     "name": "stdout",
     "output_type": "stream",
     "text": [
      "Expected reward of policy Random is 17.016\n",
      "Expected reward of policy RR is 16.987000000000002\n",
      "Expected reward of policy Whittle is 18.157000000000004\n",
      "Expected reward of policy Baseline Quota is 18.092000000000002\n",
      "Expected reward of policy Big-LP is 18.091\n",
      "Expected reward of policy Big-LP Lump-sum is 18.097500000000004\n",
      "m_g: 40,fair clusters: [10, 8, 35], timsteps:40\n",
      "k:15, ppl_per_cluster:10, n_clusters:20\n",
      "noise:0, seed:19\n"
     ]
    },
    {
     "name": "stderr",
     "output_type": "stream",
     "text": [
      "\r",
      "275it [25:32,  6.69s/it]"
     ]
    },
    {
     "name": "stdout",
     "output_type": "stream",
     "text": [
      "Expected reward of policy Random is 14.1965\n",
      "Expected reward of policy RR is 13.959\n",
      "Expected reward of policy Whittle is 15.933000000000002\n",
      "Expected reward of policy Baseline Quota is 15.639\n",
      "Expected reward of policy Big-LP is 15.6375\n",
      "Expected reward of policy Big-LP Lump-sum is 15.607000000000003\n",
      "m_g: 40,fair clusters: [10, 8, 35], timsteps:40\n",
      "k:15, ppl_per_cluster:10, n_clusters:20\n",
      "noise:0, seed:74\n"
     ]
    },
    {
     "name": "stderr",
     "output_type": "stream",
     "text": [
      "\r",
      "276it [25:39,  6.69s/it]"
     ]
    },
    {
     "name": "stdout",
     "output_type": "stream",
     "text": [
      "Expected reward of policy Random is 13.947999999999999\n",
      "Expected reward of policy RR is 13.9495\n",
      "Expected reward of policy Whittle is 15.6935\n",
      "Expected reward of policy Baseline Quota is 15.498000000000001\n",
      "Expected reward of policy Big-LP is 15.547000000000002\n",
      "Expected reward of policy Big-LP Lump-sum is 15.522000000000002\n",
      "m_g: 40,fair clusters: [10, 8, 35], timsteps:40\n",
      "k:15, ppl_per_cluster:10, n_clusters:20\n",
      "noise:0, seed:21\n"
     ]
    },
    {
     "name": "stderr",
     "output_type": "stream",
     "text": [
      "\r",
      "277it [25:45,  6.58s/it]"
     ]
    },
    {
     "name": "stdout",
     "output_type": "stream",
     "text": [
      "Expected reward of policy Random is 16.1485\n",
      "Expected reward of policy RR is 16.0595\n",
      "Expected reward of policy Whittle is 17.217000000000002\n",
      "Expected reward of policy Baseline Quota is 17.014\n",
      "Expected reward of policy Big-LP is 17.0265\n",
      "Expected reward of policy Big-LP Lump-sum is 17.050000000000004\n",
      "m_g: 40,fair clusters: [10, 8, 35], timsteps:40\n",
      "k:15, ppl_per_cluster:10, n_clusters:20\n",
      "noise:0, seed:84\n"
     ]
    },
    {
     "name": "stderr",
     "output_type": "stream",
     "text": [
      "\r",
      "278it [25:52,  6.52s/it]"
     ]
    },
    {
     "name": "stdout",
     "output_type": "stream",
     "text": [
      "Expected reward of policy Random is 14.836499999999997\n",
      "Expected reward of policy RR is 14.871\n",
      "Expected reward of policy Whittle is 16.833000000000002\n",
      "Expected reward of policy Baseline Quota is 16.613\n",
      "Expected reward of policy Big-LP is 16.615\n",
      "Expected reward of policy Big-LP Lump-sum is 16.609\n",
      "m_g: 40,fair clusters: [10, 8, 35], timsteps:40\n",
      "k:15, ppl_per_cluster:10, n_clusters:20\n",
      "noise:0, seed:57\n"
     ]
    },
    {
     "name": "stderr",
     "output_type": "stream",
     "text": [
      "\r",
      "279it [25:58,  6.49s/it]"
     ]
    },
    {
     "name": "stdout",
     "output_type": "stream",
     "text": [
      "Expected reward of policy Random is 16.059500000000003\n",
      "Expected reward of policy RR is 16.017500000000002\n",
      "Expected reward of policy Whittle is 17.85\n",
      "Expected reward of policy Baseline Quota is 17.627\n",
      "Expected reward of policy Big-LP is 17.6245\n",
      "Expected reward of policy Big-LP Lump-sum is 17.570500000000003\n",
      "m_g: 40,fair clusters: [10, 8, 35], timsteps:40\n",
      "k:15, ppl_per_cluster:10, n_clusters:20\n",
      "noise:0, seed:33\n"
     ]
    },
    {
     "name": "stderr",
     "output_type": "stream",
     "text": [
      "\r",
      "280it [26:04,  6.44s/it]"
     ]
    },
    {
     "name": "stdout",
     "output_type": "stream",
     "text": [
      "Expected reward of policy Random is 13.1615\n",
      "Expected reward of policy RR is 13.098500000000001\n",
      "Expected reward of policy Whittle is 15.2075\n",
      "Expected reward of policy Baseline Quota is 14.992500000000001\n",
      "Expected reward of policy Big-LP is 15.059000000000001\n",
      "Expected reward of policy Big-LP Lump-sum is 15.0415\n",
      "m_g: 53,fair clusters: [10, 8, 35], timsteps:40\n",
      "k:20, ppl_per_cluster:10, n_clusters:20\n",
      "noise:0, seed:62\n"
     ]
    },
    {
     "name": "stderr",
     "output_type": "stream",
     "text": [
      "\r",
      "281it [26:11,  6.46s/it]"
     ]
    },
    {
     "name": "stdout",
     "output_type": "stream",
     "text": [
      "Expected reward of policy Random is 14.095499999999998\n",
      "Expected reward of policy RR is 13.980500000000001\n",
      "Expected reward of policy Whittle is 15.8085\n",
      "Expected reward of policy Baseline Quota is 15.568999999999999\n",
      "Expected reward of policy Big-LP is 15.547000000000002\n",
      "Expected reward of policy Big-LP Lump-sum is 15.555000000000001\n",
      "m_g: 53,fair clusters: [10, 8, 35], timsteps:40\n",
      "k:20, ppl_per_cluster:10, n_clusters:20\n",
      "noise:0, seed:58\n"
     ]
    },
    {
     "name": "stderr",
     "output_type": "stream",
     "text": [
      "\r",
      "282it [26:17,  6.48s/it]"
     ]
    },
    {
     "name": "stdout",
     "output_type": "stream",
     "text": [
      "Expected reward of policy Random is 17.187500000000004\n",
      "Expected reward of policy RR is 17.1235\n",
      "Expected reward of policy Whittle is 18.4095\n",
      "Expected reward of policy Baseline Quota is 18.322\n",
      "Expected reward of policy Big-LP is 18.312499999999996\n",
      "Expected reward of policy Big-LP Lump-sum is 18.318\n",
      "m_g: 53,fair clusters: [10, 8, 35], timsteps:40\n",
      "k:20, ppl_per_cluster:10, n_clusters:20\n",
      "noise:0, seed:19\n"
     ]
    },
    {
     "name": "stderr",
     "output_type": "stream",
     "text": [
      "\r",
      "283it [26:24,  6.60s/it]"
     ]
    },
    {
     "name": "stdout",
     "output_type": "stream",
     "text": [
      "Expected reward of policy Random is 14.407999999999998\n",
      "Expected reward of policy RR is 14.1565\n",
      "Expected reward of policy Whittle is 16.4035\n",
      "Expected reward of policy Baseline Quota is 16.131\n",
      "Expected reward of policy Big-LP is 16.1355\n",
      "Expected reward of policy Big-LP Lump-sum is 16.0895\n",
      "m_g: 53,fair clusters: [10, 8, 35], timsteps:40\n",
      "k:20, ppl_per_cluster:10, n_clusters:20\n",
      "noise:0, seed:74\n"
     ]
    },
    {
     "name": "stderr",
     "output_type": "stream",
     "text": [
      "\r",
      "284it [26:31,  6.59s/it]"
     ]
    },
    {
     "name": "stdout",
     "output_type": "stream",
     "text": [
      "Expected reward of policy Random is 14.1695\n",
      "Expected reward of policy RR is 14.1375\n",
      "Expected reward of policy Whittle is 16.115\n",
      "Expected reward of policy Baseline Quota is 15.912\n",
      "Expected reward of policy Big-LP is 15.9635\n",
      "Expected reward of policy Big-LP Lump-sum is 15.927000000000001\n",
      "m_g: 53,fair clusters: [10, 8, 35], timsteps:40\n",
      "k:20, ppl_per_cluster:10, n_clusters:20\n",
      "noise:0, seed:21\n"
     ]
    },
    {
     "name": "stderr",
     "output_type": "stream",
     "text": [
      "\r",
      "285it [26:37,  6.55s/it]"
     ]
    },
    {
     "name": "stdout",
     "output_type": "stream",
     "text": [
      "Expected reward of policy Random is 16.3425\n",
      "Expected reward of policy RR is 16.1515\n",
      "Expected reward of policy Whittle is 17.700499999999998\n",
      "Expected reward of policy Baseline Quota is 17.445500000000003\n",
      "Expected reward of policy Big-LP is 17.436500000000002\n",
      "Expected reward of policy Big-LP Lump-sum is 17.4295\n",
      "m_g: 53,fair clusters: [10, 8, 35], timsteps:40\n",
      "k:20, ppl_per_cluster:10, n_clusters:20\n",
      "noise:0, seed:84\n"
     ]
    },
    {
     "name": "stderr",
     "output_type": "stream",
     "text": [
      "\r",
      "286it [26:44,  6.55s/it]"
     ]
    },
    {
     "name": "stdout",
     "output_type": "stream",
     "text": [
      "Expected reward of policy Random is 15.021\n",
      "Expected reward of policy RR is 15.126\n",
      "Expected reward of policy Whittle is 17.4105\n",
      "Expected reward of policy Baseline Quota is 17.0315\n",
      "Expected reward of policy Big-LP is 17.058500000000002\n",
      "Expected reward of policy Big-LP Lump-sum is 17.0505\n",
      "m_g: 53,fair clusters: [10, 8, 35], timsteps:40\n",
      "k:20, ppl_per_cluster:10, n_clusters:20\n",
      "noise:0, seed:57\n"
     ]
    },
    {
     "name": "stderr",
     "output_type": "stream",
     "text": [
      "\r",
      "287it [26:51,  6.59s/it]"
     ]
    },
    {
     "name": "stdout",
     "output_type": "stream",
     "text": [
      "Expected reward of policy Random is 16.287\n",
      "Expected reward of policy RR is 16.237000000000002\n",
      "Expected reward of policy Whittle is 18.163000000000004\n",
      "Expected reward of policy Baseline Quota is 18.065499999999997\n",
      "Expected reward of policy Big-LP is 18.0875\n",
      "Expected reward of policy Big-LP Lump-sum is 17.9985\n",
      "m_g: 53,fair clusters: [10, 8, 35], timsteps:40\n",
      "k:20, ppl_per_cluster:10, n_clusters:20\n",
      "noise:0, seed:33\n"
     ]
    },
    {
     "name": "stderr",
     "output_type": "stream",
     "text": [
      "\r",
      "288it [26:57,  6.61s/it]"
     ]
    },
    {
     "name": "stdout",
     "output_type": "stream",
     "text": [
      "Expected reward of policy Random is 13.381\n",
      "Expected reward of policy RR is 13.355\n",
      "Expected reward of policy Whittle is 15.638\n",
      "Expected reward of policy Baseline Quota is 15.3905\n",
      "Expected reward of policy Big-LP is 15.432500000000001\n",
      "Expected reward of policy Big-LP Lump-sum is 15.4395\n",
      "m_g: 22,fair clusters: [10, 23, 8, 35], timsteps:30\n",
      "k:15, ppl_per_cluster:10, n_clusters:20\n",
      "noise:0, seed:62\n"
     ]
    },
    {
     "name": "stderr",
     "output_type": "stream",
     "text": [
      "\r",
      "289it [27:03,  6.42s/it]"
     ]
    },
    {
     "name": "stdout",
     "output_type": "stream",
     "text": [
      "Expected reward of policy Random is 11.262500000000001\n",
      "Expected reward of policy RR is 11.247499999999999\n",
      "Expected reward of policy Whittle is 12.702000000000002\n",
      "Expected reward of policy Baseline Quota is 12.568999999999999\n",
      "Expected reward of policy Big-LP is 12.564499999999999\n",
      "Expected reward of policy Big-LP Lump-sum is 12.541999999999998\n",
      "m_g: 22,fair clusters: [10, 23, 8, 35], timsteps:30\n",
      "k:15, ppl_per_cluster:10, n_clusters:20\n",
      "noise:0, seed:58\n"
     ]
    },
    {
     "name": "stderr",
     "output_type": "stream",
     "text": [
      "\r",
      "290it [27:09,  6.32s/it]"
     ]
    },
    {
     "name": "stdout",
     "output_type": "stream",
     "text": [
      "Expected reward of policy Random is 12.995\n",
      "Expected reward of policy RR is 12.912\n",
      "Expected reward of policy Whittle is 14.035\n",
      "Expected reward of policy Baseline Quota is 13.924000000000001\n",
      "Expected reward of policy Big-LP is 13.9655\n",
      "Expected reward of policy Big-LP Lump-sum is 13.947999999999999\n",
      "m_g: 22,fair clusters: [10, 23, 8, 35], timsteps:30\n",
      "k:15, ppl_per_cluster:10, n_clusters:20\n",
      "noise:0, seed:19\n"
     ]
    },
    {
     "name": "stderr",
     "output_type": "stream",
     "text": [
      "\r",
      "291it [27:17,  6.58s/it]"
     ]
    },
    {
     "name": "stdout",
     "output_type": "stream",
     "text": [
      "Expected reward of policy Random is 9.4445\n",
      "Expected reward of policy RR is 9.4625\n",
      "Expected reward of policy Whittle is 10.8055\n",
      "Expected reward of policy Baseline Quota is 10.638500000000002\n",
      "Expected reward of policy Big-LP is 10.6395\n",
      "Expected reward of policy Big-LP Lump-sum is 10.560500000000001\n",
      "m_g: 22,fair clusters: [10, 23, 8, 35], timsteps:30\n",
      "k:15, ppl_per_cluster:10, n_clusters:20\n",
      "noise:0, seed:74\n"
     ]
    },
    {
     "name": "stderr",
     "output_type": "stream",
     "text": [
      "\r",
      "292it [27:23,  6.48s/it]"
     ]
    },
    {
     "name": "stdout",
     "output_type": "stream",
     "text": [
      "Expected reward of policy Random is 11.035\n",
      "Expected reward of policy RR is 11.078500000000002\n",
      "Expected reward of policy Whittle is 12.1125\n",
      "Expected reward of policy Baseline Quota is 12.032499999999999\n",
      "Expected reward of policy Big-LP is 12.043499999999998\n",
      "Expected reward of policy Big-LP Lump-sum is 12.01\n",
      "m_g: 22,fair clusters: [10, 23, 8, 35], timsteps:30\n",
      "k:15, ppl_per_cluster:10, n_clusters:20\n",
      "noise:0, seed:21\n"
     ]
    },
    {
     "name": "stderr",
     "output_type": "stream",
     "text": [
      "\r",
      "293it [27:29,  6.39s/it]"
     ]
    },
    {
     "name": "stdout",
     "output_type": "stream",
     "text": [
      "Expected reward of policy Random is 11.753499999999999\n",
      "Expected reward of policy RR is 11.4905\n",
      "Expected reward of policy Whittle is 12.421000000000003\n",
      "Expected reward of policy Baseline Quota is 12.289\n",
      "Expected reward of policy Big-LP is 12.273\n",
      "Expected reward of policy Big-LP Lump-sum is 12.261000000000001\n",
      "m_g: 22,fair clusters: [10, 23, 8, 35], timsteps:30\n",
      "k:15, ppl_per_cluster:10, n_clusters:20\n",
      "noise:0, seed:84\n"
     ]
    },
    {
     "name": "stderr",
     "output_type": "stream",
     "text": [
      "\r",
      "294it [27:35,  6.33s/it]"
     ]
    },
    {
     "name": "stdout",
     "output_type": "stream",
     "text": [
      "Expected reward of policy Random is 10.008500000000002\n",
      "Expected reward of policy RR is 10.011\n",
      "Expected reward of policy Whittle is 11.272\n",
      "Expected reward of policy Baseline Quota is 11.1235\n",
      "Expected reward of policy Big-LP is 11.1725\n",
      "Expected reward of policy Big-LP Lump-sum is 11.13\n",
      "m_g: 22,fair clusters: [10, 23, 8, 35], timsteps:30\n",
      "k:15, ppl_per_cluster:10, n_clusters:20\n",
      "noise:0, seed:57\n"
     ]
    },
    {
     "name": "stderr",
     "output_type": "stream",
     "text": [
      "\r",
      "295it [27:42,  6.36s/it]"
     ]
    },
    {
     "name": "stdout",
     "output_type": "stream",
     "text": [
      "Expected reward of policy Random is 11.892999999999999\n",
      "Expected reward of policy RR is 11.769499999999999\n",
      "Expected reward of policy Whittle is 12.5075\n",
      "Expected reward of policy Baseline Quota is 12.449000000000002\n",
      "Expected reward of policy Big-LP is 12.4635\n",
      "Expected reward of policy Big-LP Lump-sum is 12.4515\n",
      "m_g: 22,fair clusters: [10, 23, 8, 35], timsteps:30\n",
      "k:15, ppl_per_cluster:10, n_clusters:20\n",
      "noise:0, seed:33\n"
     ]
    },
    {
     "name": "stderr",
     "output_type": "stream",
     "text": [
      "\r",
      "296it [27:48,  6.32s/it]"
     ]
    },
    {
     "name": "stdout",
     "output_type": "stream",
     "text": [
      "Expected reward of policy Random is 10.22\n",
      "Expected reward of policy RR is 10.1305\n",
      "Expected reward of policy Whittle is 11.6255\n",
      "Expected reward of policy Baseline Quota is 11.3675\n",
      "Expected reward of policy Big-LP is 11.3555\n",
      "Expected reward of policy Big-LP Lump-sum is 11.310500000000001\n",
      "m_g: 30,fair clusters: [10, 23, 8, 35], timsteps:30\n",
      "k:20, ppl_per_cluster:10, n_clusters:20\n",
      "noise:0, seed:62\n"
     ]
    },
    {
     "name": "stderr",
     "output_type": "stream",
     "text": [
      "\r",
      "297it [27:54,  6.37s/it]"
     ]
    },
    {
     "name": "stdout",
     "output_type": "stream",
     "text": [
      "Expected reward of policy Random is 11.4345\n",
      "Expected reward of policy RR is 11.368\n",
      "Expected reward of policy Whittle is 13.0605\n",
      "Expected reward of policy Baseline Quota is 12.881\n",
      "Expected reward of policy Big-LP is 12.8845\n",
      "Expected reward of policy Big-LP Lump-sum is 12.848000000000003\n",
      "m_g: 30,fair clusters: [10, 23, 8, 35], timsteps:30\n",
      "k:20, ppl_per_cluster:10, n_clusters:20\n",
      "noise:0, seed:58\n"
     ]
    },
    {
     "name": "stderr",
     "output_type": "stream",
     "text": [
      "\r",
      "298it [28:01,  6.39s/it]"
     ]
    },
    {
     "name": "stdout",
     "output_type": "stream",
     "text": [
      "Expected reward of policy Random is 13.116000000000003\n",
      "Expected reward of policy RR is 13.0395\n",
      "Expected reward of policy Whittle is 14.2375\n",
      "Expected reward of policy Baseline Quota is 14.177000000000001\n",
      "Expected reward of policy Big-LP is 14.206\n",
      "Expected reward of policy Big-LP Lump-sum is 14.160499999999999\n",
      "m_g: 30,fair clusters: [10, 23, 8, 35], timsteps:30\n",
      "k:20, ppl_per_cluster:10, n_clusters:20\n",
      "noise:0, seed:19\n"
     ]
    },
    {
     "name": "stderr",
     "output_type": "stream",
     "text": [
      "\r",
      "299it [28:08,  6.56s/it]"
     ]
    },
    {
     "name": "stdout",
     "output_type": "stream",
     "text": [
      "Expected reward of policy Random is 9.5995\n",
      "Expected reward of policy RR is 9.595000000000002\n",
      "Expected reward of policy Whittle is 11.174999999999999\n",
      "Expected reward of policy Baseline Quota is 11.013\n",
      "Expected reward of policy Big-LP is 10.998999999999999\n",
      "Expected reward of policy Big-LP Lump-sum is 10.94\n",
      "m_g: 30,fair clusters: [10, 23, 8, 35], timsteps:30\n",
      "k:20, ppl_per_cluster:10, n_clusters:20\n",
      "noise:0, seed:74\n"
     ]
    },
    {
     "name": "stderr",
     "output_type": "stream",
     "text": [
      "\r",
      "300it [28:14,  6.58s/it]"
     ]
    },
    {
     "name": "stdout",
     "output_type": "stream",
     "text": [
      "Expected reward of policy Random is 11.1875\n",
      "Expected reward of policy RR is 11.26\n",
      "Expected reward of policy Whittle is 12.3065\n",
      "Expected reward of policy Baseline Quota is 12.246\n",
      "Expected reward of policy Big-LP is 12.2765\n",
      "Expected reward of policy Big-LP Lump-sum is 12.254\n",
      "m_g: 30,fair clusters: [10, 23, 8, 35], timsteps:30\n",
      "k:20, ppl_per_cluster:10, n_clusters:20\n",
      "noise:0, seed:21\n"
     ]
    },
    {
     "name": "stderr",
     "output_type": "stream",
     "text": [
      "\r",
      "301it [28:21,  6.54s/it]"
     ]
    },
    {
     "name": "stdout",
     "output_type": "stream",
     "text": [
      "Expected reward of policy Random is 11.904\n",
      "Expected reward of policy RR is 11.7025\n",
      "Expected reward of policy Whittle is 12.7645\n",
      "Expected reward of policy Baseline Quota is 12.567\n",
      "Expected reward of policy Big-LP is 12.578\n",
      "Expected reward of policy Big-LP Lump-sum is 12.5485\n",
      "m_g: 30,fair clusters: [10, 23, 8, 35], timsteps:30\n",
      "k:20, ppl_per_cluster:10, n_clusters:20\n",
      "noise:0, seed:84\n"
     ]
    },
    {
     "name": "stderr",
     "output_type": "stream",
     "text": [
      "\r",
      "302it [28:27,  6.52s/it]"
     ]
    },
    {
     "name": "stdout",
     "output_type": "stream",
     "text": [
      "Expected reward of policy Random is 10.172\n",
      "Expected reward of policy RR is 10.220500000000003\n",
      "Expected reward of policy Whittle is 11.4845\n",
      "Expected reward of policy Baseline Quota is 11.404499999999999\n",
      "Expected reward of policy Big-LP is 11.430499999999999\n",
      "Expected reward of policy Big-LP Lump-sum is 11.419\n",
      "m_g: 30,fair clusters: [10, 23, 8, 35], timsteps:30\n",
      "k:20, ppl_per_cluster:10, n_clusters:20\n",
      "noise:0, seed:57\n"
     ]
    },
    {
     "name": "stderr",
     "output_type": "stream",
     "text": [
      "\r",
      "303it [28:34,  6.52s/it]"
     ]
    },
    {
     "name": "stdout",
     "output_type": "stream",
     "text": [
      "Expected reward of policy Random is 12.007000000000001\n",
      "Expected reward of policy RR is 11.818499999999998\n",
      "Expected reward of policy Whittle is 12.718\n",
      "Expected reward of policy Baseline Quota is 12.631499999999999\n",
      "Expected reward of policy Big-LP is 12.642999999999999\n",
      "Expected reward of policy Big-LP Lump-sum is 12.630500000000001\n",
      "m_g: 30,fair clusters: [10, 23, 8, 35], timsteps:30\n",
      "k:20, ppl_per_cluster:10, n_clusters:20\n",
      "noise:0, seed:33\n"
     ]
    },
    {
     "name": "stderr",
     "output_type": "stream",
     "text": [
      "\r",
      "304it [28:40,  6.46s/it]"
     ]
    },
    {
     "name": "stdout",
     "output_type": "stream",
     "text": [
      "Expected reward of policy Random is 10.389999999999999\n",
      "Expected reward of policy RR is 10.375499999999999\n",
      "Expected reward of policy Whittle is 12.024000000000001\n",
      "Expected reward of policy Baseline Quota is 11.8085\n",
      "Expected reward of policy Big-LP is 11.816\n",
      "Expected reward of policy Big-LP Lump-sum is 11.747499999999999\n",
      "m_g: 30,fair clusters: [10, 23, 8, 35], timsteps:40\n",
      "k:15, ppl_per_cluster:10, n_clusters:20\n",
      "noise:0, seed:62\n"
     ]
    },
    {
     "name": "stderr",
     "output_type": "stream",
     "text": [
      "\r",
      "305it [28:47,  6.47s/it]"
     ]
    },
    {
     "name": "stdout",
     "output_type": "stream",
     "text": [
      "Expected reward of policy Random is 15.1595\n",
      "Expected reward of policy RR is 15.076500000000001\n",
      "Expected reward of policy Whittle is 17.052\n",
      "Expected reward of policy Baseline Quota is 16.886000000000003\n",
      "Expected reward of policy Big-LP is 16.890499999999996\n",
      "Expected reward of policy Big-LP Lump-sum is 16.8665\n",
      "m_g: 30,fair clusters: [10, 23, 8, 35], timsteps:40\n",
      "k:15, ppl_per_cluster:10, n_clusters:20\n",
      "noise:0, seed:58\n"
     ]
    },
    {
     "name": "stderr",
     "output_type": "stream",
     "text": [
      "\r",
      "306it [28:53,  6.49s/it]"
     ]
    },
    {
     "name": "stdout",
     "output_type": "stream",
     "text": [
      "Expected reward of policy Random is 17.444\n",
      "Expected reward of policy RR is 17.335\n",
      "Expected reward of policy Whittle is 18.845499999999998\n",
      "Expected reward of policy Baseline Quota is 18.673499999999997\n",
      "Expected reward of policy Big-LP is 18.749000000000002\n",
      "Expected reward of policy Big-LP Lump-sum is 18.7345\n",
      "m_g: 30,fair clusters: [10, 23, 8, 35], timsteps:40\n",
      "k:15, ppl_per_cluster:10, n_clusters:20\n",
      "noise:0, seed:19\n"
     ]
    },
    {
     "name": "stderr",
     "output_type": "stream",
     "text": [
      "\r",
      "307it [29:00,  6.57s/it]"
     ]
    },
    {
     "name": "stdout",
     "output_type": "stream",
     "text": [
      "Expected reward of policy Random is 12.6425\n",
      "Expected reward of policy RR is 12.629999999999999\n",
      "Expected reward of policy Whittle is 14.462500000000002\n",
      "Expected reward of policy Baseline Quota is 14.189000000000002\n",
      "Expected reward of policy Big-LP is 14.2015\n",
      "Expected reward of policy Big-LP Lump-sum is 14.162\n",
      "m_g: 30,fair clusters: [10, 23, 8, 35], timsteps:40\n",
      "k:15, ppl_per_cluster:10, n_clusters:20\n",
      "noise:0, seed:74\n"
     ]
    },
    {
     "name": "stderr",
     "output_type": "stream",
     "text": [
      "\r",
      "308it [29:07,  6.60s/it]"
     ]
    },
    {
     "name": "stdout",
     "output_type": "stream",
     "text": [
      "Expected reward of policy Random is 14.810999999999998\n",
      "Expected reward of policy RR is 14.795499999999999\n",
      "Expected reward of policy Whittle is 16.228\n",
      "Expected reward of policy Baseline Quota is 16.099500000000003\n",
      "Expected reward of policy Big-LP is 16.1175\n",
      "Expected reward of policy Big-LP Lump-sum is 16.098\n",
      "m_g: 30,fair clusters: [10, 23, 8, 35], timsteps:40\n",
      "k:15, ppl_per_cluster:10, n_clusters:20\n",
      "noise:0, seed:21\n"
     ]
    },
    {
     "name": "stderr",
     "output_type": "stream",
     "text": [
      "\r",
      "309it [29:13,  6.61s/it]"
     ]
    },
    {
     "name": "stdout",
     "output_type": "stream",
     "text": [
      "Expected reward of policy Random is 15.803999999999998\n",
      "Expected reward of policy RR is 15.378499999999999\n",
      "Expected reward of policy Whittle is 16.641\n",
      "Expected reward of policy Baseline Quota is 16.433\n",
      "Expected reward of policy Big-LP is 16.4485\n",
      "Expected reward of policy Big-LP Lump-sum is 16.4355\n",
      "m_g: 30,fair clusters: [10, 23, 8, 35], timsteps:40\n",
      "k:15, ppl_per_cluster:10, n_clusters:20\n",
      "noise:0, seed:84\n"
     ]
    },
    {
     "name": "stderr",
     "output_type": "stream",
     "text": [
      "\r",
      "310it [29:20,  6.67s/it]"
     ]
    },
    {
     "name": "stdout",
     "output_type": "stream",
     "text": [
      "Expected reward of policy Random is 13.377\n",
      "Expected reward of policy RR is 13.372499999999999\n",
      "Expected reward of policy Whittle is 15.0685\n",
      "Expected reward of policy Baseline Quota is 14.870999999999999\n",
      "Expected reward of policy Big-LP is 14.916500000000003\n",
      "Expected reward of policy Big-LP Lump-sum is 14.885500000000002\n",
      "m_g: 30,fair clusters: [10, 23, 8, 35], timsteps:40\n",
      "k:15, ppl_per_cluster:10, n_clusters:20\n",
      "noise:0, seed:57\n"
     ]
    },
    {
     "name": "stderr",
     "output_type": "stream",
     "text": [
      "\r",
      "311it [29:27,  6.82s/it]"
     ]
    },
    {
     "name": "stdout",
     "output_type": "stream",
     "text": [
      "Expected reward of policy Random is 15.889\n",
      "Expected reward of policy RR is 15.782999999999998\n",
      "Expected reward of policy Whittle is 16.791500000000003\n",
      "Expected reward of policy Baseline Quota is 16.71\n",
      "Expected reward of policy Big-LP is 16.7265\n",
      "Expected reward of policy Big-LP Lump-sum is 16.713500000000003\n",
      "m_g: 30,fair clusters: [10, 23, 8, 35], timsteps:40\n",
      "k:15, ppl_per_cluster:10, n_clusters:20\n",
      "noise:0, seed:33\n"
     ]
    },
    {
     "name": "stderr",
     "output_type": "stream",
     "text": [
      "\r",
      "312it [29:34,  6.79s/it]"
     ]
    },
    {
     "name": "stdout",
     "output_type": "stream",
     "text": [
      "Expected reward of policy Random is 13.744\n",
      "Expected reward of policy RR is 13.523000000000001\n",
      "Expected reward of policy Whittle is 15.602500000000001\n",
      "Expected reward of policy Baseline Quota is 15.2945\n",
      "Expected reward of policy Big-LP is 15.302000000000001\n",
      "Expected reward of policy Big-LP Lump-sum is 15.277000000000001\n",
      "m_g: 40,fair clusters: [10, 23, 8, 35], timsteps:40\n",
      "k:20, ppl_per_cluster:10, n_clusters:20\n",
      "noise:0, seed:62\n"
     ]
    },
    {
     "name": "stderr",
     "output_type": "stream",
     "text": [
      "\r",
      "313it [29:41,  6.86s/it]"
     ]
    },
    {
     "name": "stdout",
     "output_type": "stream",
     "text": [
      "Expected reward of policy Random is 15.386000000000001\n",
      "Expected reward of policy RR is 15.249\n",
      "Expected reward of policy Whittle is 17.547\n",
      "Expected reward of policy Baseline Quota is 17.3095\n",
      "Expected reward of policy Big-LP is 17.280499999999996\n",
      "Expected reward of policy Big-LP Lump-sum is 17.2445\n",
      "m_g: 40,fair clusters: [10, 23, 8, 35], timsteps:40\n",
      "k:20, ppl_per_cluster:10, n_clusters:20\n",
      "noise:0, seed:58\n"
     ]
    },
    {
     "name": "stderr",
     "output_type": "stream",
     "text": [
      "\r",
      "314it [29:48,  6.87s/it]"
     ]
    },
    {
     "name": "stdout",
     "output_type": "stream",
     "text": [
      "Expected reward of policy Random is 17.603\n",
      "Expected reward of policy RR is 17.458499999999997\n",
      "Expected reward of policy Whittle is 19.116500000000002\n",
      "Expected reward of policy Baseline Quota is 19.0335\n",
      "Expected reward of policy Big-LP is 19.0815\n",
      "Expected reward of policy Big-LP Lump-sum is 19.0225\n",
      "m_g: 40,fair clusters: [10, 23, 8, 35], timsteps:40\n",
      "k:20, ppl_per_cluster:10, n_clusters:20\n",
      "noise:0, seed:19\n"
     ]
    },
    {
     "name": "stderr",
     "output_type": "stream",
     "text": [
      "\r",
      "315it [29:55,  6.99s/it]"
     ]
    },
    {
     "name": "stdout",
     "output_type": "stream",
     "text": [
      "Expected reward of policy Random is 12.847\n",
      "Expected reward of policy RR is 12.787999999999998\n",
      "Expected reward of policy Whittle is 14.944999999999999\n",
      "Expected reward of policy Baseline Quota is 14.713999999999999\n",
      "Expected reward of policy Big-LP is 14.713000000000003\n",
      "Expected reward of policy Big-LP Lump-sum is 14.6615\n",
      "m_g: 40,fair clusters: [10, 23, 8, 35], timsteps:40\n",
      "k:20, ppl_per_cluster:10, n_clusters:20\n",
      "noise:0, seed:74\n"
     ]
    },
    {
     "name": "stderr",
     "output_type": "stream",
     "text": [
      "\r",
      "316it [30:02,  6.96s/it]"
     ]
    },
    {
     "name": "stdout",
     "output_type": "stream",
     "text": [
      "Expected reward of policy Random is 15.008000000000001\n",
      "Expected reward of policy RR is 15.007000000000001\n",
      "Expected reward of policy Whittle is 16.487000000000002\n",
      "Expected reward of policy Baseline Quota is 16.41\n",
      "Expected reward of policy Big-LP is 16.429000000000002\n",
      "Expected reward of policy Big-LP Lump-sum is 16.4135\n",
      "m_g: 40,fair clusters: [10, 23, 8, 35], timsteps:40\n",
      "k:20, ppl_per_cluster:10, n_clusters:20\n",
      "noise:0, seed:21\n"
     ]
    },
    {
     "name": "stderr",
     "output_type": "stream",
     "text": [
      "\r",
      "317it [30:09,  6.90s/it]"
     ]
    },
    {
     "name": "stdout",
     "output_type": "stream",
     "text": [
      "Expected reward of policy Random is 15.982\n",
      "Expected reward of policy RR is 15.627500000000001\n",
      "Expected reward of policy Whittle is 17.127499999999998\n",
      "Expected reward of policy Baseline Quota is 16.8415\n",
      "Expected reward of policy Big-LP is 16.8705\n",
      "Expected reward of policy Big-LP Lump-sum is 16.837\n",
      "m_g: 40,fair clusters: [10, 23, 8, 35], timsteps:40\n",
      "k:20, ppl_per_cluster:10, n_clusters:20\n",
      "noise:0, seed:84\n"
     ]
    },
    {
     "name": "stderr",
     "output_type": "stream",
     "text": [
      "\r",
      "318it [30:16,  6.87s/it]"
     ]
    },
    {
     "name": "stdout",
     "output_type": "stream",
     "text": [
      "Expected reward of policy Random is 13.580000000000002\n",
      "Expected reward of policy RR is 13.666999999999998\n",
      "Expected reward of policy Whittle is 15.357499999999998\n",
      "Expected reward of policy Baseline Quota is 15.267000000000001\n",
      "Expected reward of policy Big-LP is 15.279499999999999\n",
      "Expected reward of policy Big-LP Lump-sum is 15.267999999999997\n",
      "m_g: 40,fair clusters: [10, 23, 8, 35], timsteps:40\n",
      "k:20, ppl_per_cluster:10, n_clusters:20\n",
      "noise:0, seed:57\n"
     ]
    },
    {
     "name": "stderr",
     "output_type": "stream",
     "text": [
      "\r",
      "319it [30:22,  6.87s/it]"
     ]
    },
    {
     "name": "stdout",
     "output_type": "stream",
     "text": [
      "Expected reward of policy Random is 16.0445\n",
      "Expected reward of policy RR is 15.904499999999999\n",
      "Expected reward of policy Whittle is 17.0875\n",
      "Expected reward of policy Baseline Quota is 16.964499999999997\n",
      "Expected reward of policy Big-LP is 16.975\n",
      "Expected reward of policy Big-LP Lump-sum is 16.969\n",
      "m_g: 40,fair clusters: [10, 23, 8, 35], timsteps:40\n",
      "k:20, ppl_per_cluster:10, n_clusters:20\n",
      "noise:0, seed:33\n"
     ]
    },
    {
     "name": "stderr",
     "output_type": "stream",
     "text": [
      "\r",
      "320it [30:29,  6.81s/it]"
     ]
    },
    {
     "name": "stdout",
     "output_type": "stream",
     "text": [
      "Expected reward of policy Random is 13.98\n",
      "Expected reward of policy RR is 13.865\n",
      "Expected reward of policy Whittle is 16.140499999999996\n",
      "Expected reward of policy Baseline Quota is 15.864\n",
      "Expected reward of policy Big-LP is 15.864\n",
      "Expected reward of policy Big-LP Lump-sum is 15.843\n",
      "m_g: 135,fair clusters: [10], timsteps:30\n",
      "k:15, ppl_per_cluster:10, n_clusters:20\n",
      "noise:0, seed:62\n"
     ]
    },
    {
     "name": "stderr",
     "output_type": "stream",
     "text": [
      "\r",
      "321it [30:35,  6.49s/it]"
     ]
    },
    {
     "name": "stdout",
     "output_type": "stream",
     "text": [
      "Expected reward of policy Random is 12.742999999999999\n",
      "Expected reward of policy RR is 12.437999999999999\n",
      "Expected reward of policy Whittle is 13.413999999999998\n",
      "Expected reward of policy Baseline Quota is 13.135500000000002\n",
      "Expected reward of policy Big-LP is 13.111500000000001\n",
      "Expected reward of policy Big-LP Lump-sum is 13.111500000000001\n",
      "m_g: 135,fair clusters: [10], timsteps:30\n",
      "k:15, ppl_per_cluster:10, n_clusters:20\n",
      "noise:0, seed:58\n"
     ]
    },
    {
     "name": "stderr",
     "output_type": "stream",
     "text": [
      "\r",
      "322it [30:41,  6.29s/it]"
     ]
    },
    {
     "name": "stdout",
     "output_type": "stream",
     "text": [
      "Expected reward of policy Random is 11.491499999999998\n",
      "Expected reward of policy RR is 11.434500000000002\n",
      "Expected reward of policy Whittle is 12.621999999999998\n",
      "Expected reward of policy Baseline Quota is 12.3145\n",
      "Expected reward of policy Big-LP is 12.281\n",
      "Expected reward of policy Big-LP Lump-sum is 12.281\n",
      "m_g: 135,fair clusters: [10], timsteps:30\n",
      "k:15, ppl_per_cluster:10, n_clusters:20\n",
      "noise:0, seed:19\n"
     ]
    },
    {
     "name": "stderr",
     "output_type": "stream",
     "text": [
      "\r",
      "323it [30:46,  6.15s/it]"
     ]
    },
    {
     "name": "stdout",
     "output_type": "stream",
     "text": [
      "Expected reward of policy Random is 11.966\n",
      "Expected reward of policy RR is 12.046\n",
      "Expected reward of policy Whittle is 13.5435\n",
      "Expected reward of policy Baseline Quota is 13.196000000000002\n",
      "Expected reward of policy Big-LP is 13.169500000000003\n",
      "Expected reward of policy Big-LP Lump-sum is 13.169500000000003\n",
      "m_g: 135,fair clusters: [10], timsteps:30\n",
      "k:15, ppl_per_cluster:10, n_clusters:20\n",
      "noise:0, seed:74\n"
     ]
    },
    {
     "name": "stderr",
     "output_type": "stream",
     "text": [
      "\r",
      "324it [30:52,  6.07s/it]"
     ]
    },
    {
     "name": "stdout",
     "output_type": "stream",
     "text": [
      "Expected reward of policy Random is 11.918000000000001\n",
      "Expected reward of policy RR is 11.8\n",
      "Expected reward of policy Whittle is 13.34\n",
      "Expected reward of policy Baseline Quota is 13.0305\n",
      "Expected reward of policy Big-LP is 13.077000000000002\n",
      "Expected reward of policy Big-LP Lump-sum is 13.077000000000002\n",
      "m_g: 135,fair clusters: [10], timsteps:30\n",
      "k:15, ppl_per_cluster:10, n_clusters:20\n",
      "noise:0, seed:21\n"
     ]
    },
    {
     "name": "stderr",
     "output_type": "stream",
     "text": [
      "\r",
      "325it [30:58,  6.01s/it]"
     ]
    },
    {
     "name": "stdout",
     "output_type": "stream",
     "text": [
      "Expected reward of policy Random is 9.856000000000002\n",
      "Expected reward of policy RR is 9.760499999999999\n",
      "Expected reward of policy Whittle is 11.006\n",
      "Expected reward of policy Baseline Quota is 10.665\n",
      "Expected reward of policy Big-LP is 10.647\n",
      "Expected reward of policy Big-LP Lump-sum is 10.647\n",
      "m_g: 135,fair clusters: [10], timsteps:30\n",
      "k:15, ppl_per_cluster:10, n_clusters:20\n",
      "noise:0, seed:84\n"
     ]
    },
    {
     "name": "stderr",
     "output_type": "stream",
     "text": [
      "\r",
      "326it [31:04,  5.92s/it]"
     ]
    },
    {
     "name": "stdout",
     "output_type": "stream",
     "text": [
      "Expected reward of policy Random is 9.7415\n",
      "Expected reward of policy RR is 9.633\n",
      "Expected reward of policy Whittle is 10.918000000000001\n",
      "Expected reward of policy Baseline Quota is 10.633499999999998\n",
      "Expected reward of policy Big-LP is 10.5965\n",
      "Expected reward of policy Big-LP Lump-sum is 10.5965\n",
      "m_g: 135,fair clusters: [10], timsteps:30\n",
      "k:15, ppl_per_cluster:10, n_clusters:20\n",
      "noise:0, seed:57\n"
     ]
    },
    {
     "name": "stderr",
     "output_type": "stream",
     "text": [
      "\r",
      "327it [31:10,  5.95s/it]"
     ]
    },
    {
     "name": "stdout",
     "output_type": "stream",
     "text": [
      "Expected reward of policy Random is 12.5715\n",
      "Expected reward of policy RR is 12.5595\n",
      "Expected reward of policy Whittle is 13.682500000000001\n",
      "Expected reward of policy Baseline Quota is 13.368500000000001\n",
      "Expected reward of policy Big-LP is 13.358\n",
      "Expected reward of policy Big-LP Lump-sum is 13.358\n",
      "m_g: 135,fair clusters: [10], timsteps:30\n",
      "k:15, ppl_per_cluster:10, n_clusters:20\n",
      "noise:0, seed:33\n"
     ]
    },
    {
     "name": "stderr",
     "output_type": "stream",
     "text": [
      "\r",
      "328it [31:17,  6.21s/it]"
     ]
    },
    {
     "name": "stdout",
     "output_type": "stream",
     "text": [
      "Expected reward of policy Random is 11.108999999999998\n",
      "Expected reward of policy RR is 11.110000000000001\n",
      "Expected reward of policy Whittle is 12.53\n",
      "Expected reward of policy Baseline Quota is 12.254\n",
      "Expected reward of policy Big-LP is 12.267\n",
      "Expected reward of policy Big-LP Lump-sum is 12.267\n",
      "m_g: 180,fair clusters: [10], timsteps:30\n",
      "k:20, ppl_per_cluster:10, n_clusters:20\n",
      "noise:0, seed:62\n"
     ]
    },
    {
     "name": "stderr",
     "output_type": "stream",
     "text": [
      "\r",
      "329it [31:23,  6.32s/it]"
     ]
    },
    {
     "name": "stdout",
     "output_type": "stream",
     "text": [
      "Expected reward of policy Random is 12.861500000000001\n",
      "Expected reward of policy RR is 12.5815\n",
      "Expected reward of policy Whittle is 13.7345\n",
      "Expected reward of policy Baseline Quota is 13.4365\n",
      "Expected reward of policy Big-LP is 13.437000000000001\n",
      "Expected reward of policy Big-LP Lump-sum is 13.437000000000001\n",
      "m_g: 180,fair clusters: [10], timsteps:30\n",
      "k:20, ppl_per_cluster:10, n_clusters:20\n",
      "noise:0, seed:58\n"
     ]
    },
    {
     "name": "stderr",
     "output_type": "stream",
     "text": [
      "\r",
      "330it [31:30,  6.44s/it]"
     ]
    },
    {
     "name": "stdout",
     "output_type": "stream",
     "text": [
      "Expected reward of policy Random is 11.649500000000002\n",
      "Expected reward of policy RR is 11.578\n",
      "Expected reward of policy Whittle is 13.031\n",
      "Expected reward of policy Baseline Quota is 12.64\n",
      "Expected reward of policy Big-LP is 12.628\n",
      "Expected reward of policy Big-LP Lump-sum is 12.628\n",
      "m_g: 180,fair clusters: [10], timsteps:30\n",
      "k:20, ppl_per_cluster:10, n_clusters:20\n",
      "noise:0, seed:19\n"
     ]
    },
    {
     "name": "stderr",
     "output_type": "stream",
     "text": [
      "\r",
      "331it [31:36,  6.42s/it]"
     ]
    },
    {
     "name": "stdout",
     "output_type": "stream",
     "text": [
      "Expected reward of policy Random is 12.1745\n",
      "Expected reward of policy RR is 12.138\n",
      "Expected reward of policy Whittle is 13.9585\n",
      "Expected reward of policy Baseline Quota is 13.537\n",
      "Expected reward of policy Big-LP is 13.578999999999999\n",
      "Expected reward of policy Big-LP Lump-sum is 13.578999999999999\n",
      "m_g: 180,fair clusters: [10], timsteps:30\n",
      "k:20, ppl_per_cluster:10, n_clusters:20\n",
      "noise:0, seed:74\n"
     ]
    },
    {
     "name": "stderr",
     "output_type": "stream",
     "text": [
      "\r",
      "332it [31:43,  6.42s/it]"
     ]
    },
    {
     "name": "stdout",
     "output_type": "stream",
     "text": [
      "Expected reward of policy Random is 12.118500000000001\n",
      "Expected reward of policy RR is 12.1055\n",
      "Expected reward of policy Whittle is 13.684000000000001\n",
      "Expected reward of policy Baseline Quota is 13.368500000000001\n",
      "Expected reward of policy Big-LP is 13.363499999999998\n",
      "Expected reward of policy Big-LP Lump-sum is 13.363499999999998\n",
      "m_g: 180,fair clusters: [10], timsteps:30\n",
      "k:20, ppl_per_cluster:10, n_clusters:20\n",
      "noise:0, seed:21\n"
     ]
    },
    {
     "name": "stderr",
     "output_type": "stream",
     "text": [
      "\r",
      "333it [31:49,  6.42s/it]"
     ]
    },
    {
     "name": "stdout",
     "output_type": "stream",
     "text": [
      "Expected reward of policy Random is 10.007000000000001\n",
      "Expected reward of policy RR is 9.9695\n",
      "Expected reward of policy Whittle is 11.4245\n",
      "Expected reward of policy Baseline Quota is 10.9815\n",
      "Expected reward of policy Big-LP is 10.9405\n",
      "Expected reward of policy Big-LP Lump-sum is 10.9405\n",
      "m_g: 180,fair clusters: [10], timsteps:30\n",
      "k:20, ppl_per_cluster:10, n_clusters:20\n",
      "noise:0, seed:84\n"
     ]
    },
    {
     "name": "stderr",
     "output_type": "stream",
     "text": [
      "\r",
      "334it [31:55,  6.30s/it]"
     ]
    },
    {
     "name": "stdout",
     "output_type": "stream",
     "text": [
      "Expected reward of policy Random is 9.963999999999999\n",
      "Expected reward of policy RR is 9.927499999999998\n",
      "Expected reward of policy Whittle is 11.2765\n",
      "Expected reward of policy Baseline Quota is 10.914499999999999\n",
      "Expected reward of policy Big-LP is 10.8865\n",
      "Expected reward of policy Big-LP Lump-sum is 10.8865\n",
      "m_g: 180,fair clusters: [10], timsteps:30\n",
      "k:20, ppl_per_cluster:10, n_clusters:20\n",
      "noise:0, seed:57\n"
     ]
    },
    {
     "name": "stderr",
     "output_type": "stream",
     "text": [
      "\r",
      "335it [32:02,  6.27s/it]"
     ]
    },
    {
     "name": "stdout",
     "output_type": "stream",
     "text": [
      "Expected reward of policy Random is 12.714000000000002\n",
      "Expected reward of policy RR is 12.696499999999999\n",
      "Expected reward of policy Whittle is 14.138499999999999\n",
      "Expected reward of policy Baseline Quota is 13.679999999999998\n",
      "Expected reward of policy Big-LP is 13.651499999999999\n",
      "Expected reward of policy Big-LP Lump-sum is 13.651499999999999\n",
      "m_g: 180,fair clusters: [10], timsteps:30\n",
      "k:20, ppl_per_cluster:10, n_clusters:20\n",
      "noise:0, seed:33\n"
     ]
    },
    {
     "name": "stderr",
     "output_type": "stream",
     "text": [
      "\r",
      "336it [32:08,  6.21s/it]"
     ]
    },
    {
     "name": "stdout",
     "output_type": "stream",
     "text": [
      "Expected reward of policy Random is 11.237\n",
      "Expected reward of policy RR is 11.302000000000001\n",
      "Expected reward of policy Whittle is 12.821000000000002\n",
      "Expected reward of policy Baseline Quota is 12.534\n",
      "Expected reward of policy Big-LP is 12.5695\n",
      "Expected reward of policy Big-LP Lump-sum is 12.5695\n",
      "m_g: 180,fair clusters: [10], timsteps:40\n",
      "k:15, ppl_per_cluster:10, n_clusters:20\n",
      "noise:0, seed:62\n"
     ]
    },
    {
     "name": "stderr",
     "output_type": "stream",
     "text": [
      "\r",
      "337it [32:14,  6.23s/it]"
     ]
    },
    {
     "name": "stdout",
     "output_type": "stream",
     "text": [
      "Expected reward of policy Random is 17.014999999999997\n",
      "Expected reward of policy RR is 16.718000000000004\n",
      "Expected reward of policy Whittle is 17.987499999999997\n",
      "Expected reward of policy Baseline Quota is 17.624000000000002\n",
      "Expected reward of policy Big-LP is 17.5985\n",
      "Expected reward of policy Big-LP Lump-sum is 17.5985\n",
      "m_g: 180,fair clusters: [10], timsteps:40\n",
      "k:15, ppl_per_cluster:10, n_clusters:20\n",
      "noise:0, seed:58\n"
     ]
    },
    {
     "name": "stderr",
     "output_type": "stream",
     "text": [
      "\r",
      "338it [32:20,  6.25s/it]"
     ]
    },
    {
     "name": "stdout",
     "output_type": "stream",
     "text": [
      "Expected reward of policy Random is 15.355499999999997\n",
      "Expected reward of policy RR is 15.269499999999999\n",
      "Expected reward of policy Whittle is 16.889000000000003\n",
      "Expected reward of policy Baseline Quota is 16.484500000000004\n",
      "Expected reward of policy Big-LP is 16.448999999999995\n",
      "Expected reward of policy Big-LP Lump-sum is 16.448999999999995\n",
      "m_g: 180,fair clusters: [10], timsteps:40\n",
      "k:15, ppl_per_cluster:10, n_clusters:20\n",
      "noise:0, seed:19\n"
     ]
    },
    {
     "name": "stderr",
     "output_type": "stream",
     "text": [
      "\r",
      "339it [32:26,  6.26s/it]"
     ]
    },
    {
     "name": "stdout",
     "output_type": "stream",
     "text": [
      "Expected reward of policy Random is 16.0205\n",
      "Expected reward of policy RR is 16.145\n",
      "Expected reward of policy Whittle is 18.2655\n",
      "Expected reward of policy Baseline Quota is 17.75\n",
      "Expected reward of policy Big-LP is 17.7495\n",
      "Expected reward of policy Big-LP Lump-sum is 17.7495\n",
      "m_g: 180,fair clusters: [10], timsteps:40\n",
      "k:15, ppl_per_cluster:10, n_clusters:20\n",
      "noise:0, seed:74\n"
     ]
    },
    {
     "name": "stderr",
     "output_type": "stream",
     "text": [
      "\r",
      "340it [32:33,  6.30s/it]"
     ]
    },
    {
     "name": "stdout",
     "output_type": "stream",
     "text": [
      "Expected reward of policy Random is 15.959999999999999\n",
      "Expected reward of policy RR is 15.848500000000001\n",
      "Expected reward of policy Whittle is 17.929\n",
      "Expected reward of policy Baseline Quota is 17.55\n",
      "Expected reward of policy Big-LP is 17.5855\n",
      "Expected reward of policy Big-LP Lump-sum is 17.5855\n",
      "m_g: 180,fair clusters: [10], timsteps:40\n",
      "k:15, ppl_per_cluster:10, n_clusters:20\n",
      "noise:0, seed:21\n"
     ]
    },
    {
     "name": "stderr",
     "output_type": "stream",
     "text": [
      "\r",
      "341it [32:39,  6.32s/it]"
     ]
    },
    {
     "name": "stdout",
     "output_type": "stream",
     "text": [
      "Expected reward of policy Random is 13.227500000000001\n",
      "Expected reward of policy RR is 13.023\n",
      "Expected reward of policy Whittle is 14.724\n",
      "Expected reward of policy Baseline Quota is 14.1955\n",
      "Expected reward of policy Big-LP is 14.227999999999998\n",
      "Expected reward of policy Big-LP Lump-sum is 14.227999999999998\n",
      "m_g: 180,fair clusters: [10], timsteps:40\n",
      "k:15, ppl_per_cluster:10, n_clusters:20\n",
      "noise:0, seed:84\n"
     ]
    },
    {
     "name": "stderr",
     "output_type": "stream",
     "text": [
      "\r",
      "342it [32:45,  6.25s/it]"
     ]
    },
    {
     "name": "stdout",
     "output_type": "stream",
     "text": [
      "Expected reward of policy Random is 13.055000000000001\n",
      "Expected reward of policy RR is 12.832500000000001\n",
      "Expected reward of policy Whittle is 14.597500000000002\n",
      "Expected reward of policy Baseline Quota is 14.223500000000001\n",
      "Expected reward of policy Big-LP is 14.175999999999998\n",
      "Expected reward of policy Big-LP Lump-sum is 14.175999999999998\n",
      "m_g: 180,fair clusters: [10], timsteps:40\n",
      "k:15, ppl_per_cluster:10, n_clusters:20\n",
      "noise:0, seed:57\n"
     ]
    },
    {
     "name": "stderr",
     "output_type": "stream",
     "text": [
      "\r",
      "343it [32:52,  6.26s/it]"
     ]
    },
    {
     "name": "stdout",
     "output_type": "stream",
     "text": [
      "Expected reward of policy Random is 16.860500000000002\n",
      "Expected reward of policy RR is 16.8365\n",
      "Expected reward of policy Whittle is 18.357\n",
      "Expected reward of policy Baseline Quota is 17.916999999999998\n",
      "Expected reward of policy Big-LP is 17.91\n",
      "Expected reward of policy Big-LP Lump-sum is 17.91\n",
      "m_g: 180,fair clusters: [10], timsteps:40\n",
      "k:15, ppl_per_cluster:10, n_clusters:20\n",
      "noise:0, seed:33\n"
     ]
    },
    {
     "name": "stderr",
     "output_type": "stream",
     "text": [
      "\r",
      "344it [32:58,  6.20s/it]"
     ]
    },
    {
     "name": "stdout",
     "output_type": "stream",
     "text": [
      "Expected reward of policy Random is 14.892999999999997\n",
      "Expected reward of policy RR is 14.9445\n",
      "Expected reward of policy Whittle is 16.8245\n",
      "Expected reward of policy Baseline Quota is 16.464000000000002\n",
      "Expected reward of policy Big-LP is 16.463\n",
      "Expected reward of policy Big-LP Lump-sum is 16.463\n",
      "m_g: 240,fair clusters: [10], timsteps:40\n",
      "k:20, ppl_per_cluster:10, n_clusters:20\n",
      "noise:0, seed:62\n"
     ]
    },
    {
     "name": "stderr",
     "output_type": "stream",
     "text": [
      "\r",
      "345it [33:04,  6.25s/it]"
     ]
    },
    {
     "name": "stdout",
     "output_type": "stream",
     "text": [
      "Expected reward of policy Random is 17.1505\n",
      "Expected reward of policy RR is 16.8505\n",
      "Expected reward of policy Whittle is 18.4065\n",
      "Expected reward of policy Baseline Quota is 18.019000000000002\n",
      "Expected reward of policy Big-LP is 18.028\n",
      "Expected reward of policy Big-LP Lump-sum is 18.028\n",
      "m_g: 240,fair clusters: [10], timsteps:40\n",
      "k:20, ppl_per_cluster:10, n_clusters:20\n",
      "noise:0, seed:58\n"
     ]
    },
    {
     "name": "stderr",
     "output_type": "stream",
     "text": [
      "\r",
      "346it [33:11,  6.34s/it]"
     ]
    },
    {
     "name": "stdout",
     "output_type": "stream",
     "text": [
      "Expected reward of policy Random is 15.5545\n",
      "Expected reward of policy RR is 15.459\n",
      "Expected reward of policy Whittle is 17.448\n",
      "Expected reward of policy Baseline Quota is 16.9235\n",
      "Expected reward of policy Big-LP is 16.8735\n",
      "Expected reward of policy Big-LP Lump-sum is 16.8735\n",
      "m_g: 240,fair clusters: [10], timsteps:40\n",
      "k:20, ppl_per_cluster:10, n_clusters:20\n",
      "noise:0, seed:19\n"
     ]
    },
    {
     "name": "stderr",
     "output_type": "stream",
     "text": [
      "\r",
      "347it [33:18,  6.55s/it]"
     ]
    },
    {
     "name": "stdout",
     "output_type": "stream",
     "text": [
      "Expected reward of policy Random is 16.2925\n",
      "Expected reward of policy RR is 16.326999999999998\n",
      "Expected reward of policy Whittle is 18.839\n",
      "Expected reward of policy Baseline Quota is 18.270000000000003\n",
      "Expected reward of policy Big-LP is 18.2915\n",
      "Expected reward of policy Big-LP Lump-sum is 18.2915\n",
      "m_g: 240,fair clusters: [10], timsteps:40\n",
      "k:20, ppl_per_cluster:10, n_clusters:20\n",
      "noise:0, seed:74\n"
     ]
    },
    {
     "name": "stderr",
     "output_type": "stream",
     "text": [
      "\r",
      "348it [33:24,  6.60s/it]"
     ]
    },
    {
     "name": "stdout",
     "output_type": "stream",
     "text": [
      "Expected reward of policy Random is 16.2555\n",
      "Expected reward of policy RR is 16.2265\n",
      "Expected reward of policy Whittle is 18.405\n",
      "Expected reward of policy Baseline Quota is 17.964499999999997\n",
      "Expected reward of policy Big-LP is 17.974999999999998\n",
      "Expected reward of policy Big-LP Lump-sum is 17.974999999999998\n",
      "m_g: 240,fair clusters: [10], timsteps:40\n",
      "k:20, ppl_per_cluster:10, n_clusters:20\n",
      "noise:0, seed:21\n"
     ]
    },
    {
     "name": "stderr",
     "output_type": "stream",
     "text": [
      "\r",
      "349it [33:31,  6.69s/it]"
     ]
    },
    {
     "name": "stdout",
     "output_type": "stream",
     "text": [
      "Expected reward of policy Random is 13.434999999999999\n",
      "Expected reward of policy RR is 13.2875\n",
      "Expected reward of policy Whittle is 15.3015\n",
      "Expected reward of policy Baseline Quota is 14.682999999999998\n",
      "Expected reward of policy Big-LP is 14.663499999999999\n",
      "Expected reward of policy Big-LP Lump-sum is 14.663499999999999\n",
      "m_g: 240,fair clusters: [10], timsteps:40\n",
      "k:20, ppl_per_cluster:10, n_clusters:20\n",
      "noise:0, seed:84\n"
     ]
    },
    {
     "name": "stderr",
     "output_type": "stream",
     "text": [
      "\r",
      "350it [33:38,  6.68s/it]"
     ]
    },
    {
     "name": "stdout",
     "output_type": "stream",
     "text": [
      "Expected reward of policy Random is 13.3275\n",
      "Expected reward of policy RR is 13.3065\n",
      "Expected reward of policy Whittle is 15.097\n",
      "Expected reward of policy Baseline Quota is 14.6095\n",
      "Expected reward of policy Big-LP is 14.571000000000002\n",
      "Expected reward of policy Big-LP Lump-sum is 14.571000000000002\n",
      "m_g: 240,fair clusters: [10], timsteps:40\n",
      "k:20, ppl_per_cluster:10, n_clusters:20\n",
      "noise:0, seed:57\n"
     ]
    },
    {
     "name": "stderr",
     "output_type": "stream",
     "text": [
      "\r",
      "351it [33:45,  6.69s/it]"
     ]
    },
    {
     "name": "stdout",
     "output_type": "stream",
     "text": [
      "Expected reward of policy Random is 17.084500000000002\n",
      "Expected reward of policy RR is 17.044999999999998\n",
      "Expected reward of policy Whittle is 18.9865\n",
      "Expected reward of policy Baseline Quota is 18.3495\n",
      "Expected reward of policy Big-LP is 18.3385\n",
      "Expected reward of policy Big-LP Lump-sum is 18.3385\n",
      "m_g: 240,fair clusters: [10], timsteps:40\n",
      "k:20, ppl_per_cluster:10, n_clusters:20\n",
      "noise:0, seed:33\n"
     ]
    },
    {
     "name": "stderr",
     "output_type": "stream",
     "text": [
      "\r",
      "352it [33:51,  6.67s/it]"
     ]
    },
    {
     "name": "stdout",
     "output_type": "stream",
     "text": [
      "Expected reward of policy Random is 15.093\n",
      "Expected reward of policy RR is 15.133499999999998\n",
      "Expected reward of policy Whittle is 17.2425\n",
      "Expected reward of policy Baseline Quota is 16.841\n",
      "Expected reward of policy Big-LP is 16.892500000000002\n",
      "Expected reward of policy Big-LP Lump-sum is 16.892500000000002\n",
      "m_g: 135,fair clusters: [35], timsteps:30\n",
      "k:15, ppl_per_cluster:10, n_clusters:20\n",
      "noise:0, seed:62\n"
     ]
    },
    {
     "name": "stderr",
     "output_type": "stream",
     "text": [
      "\r",
      "353it [33:57,  6.47s/it]"
     ]
    },
    {
     "name": "stdout",
     "output_type": "stream",
     "text": [
      "Expected reward of policy Random is 12.386499999999998\n",
      "Expected reward of policy RR is 12.3105\n",
      "Expected reward of policy Whittle is 13.315999999999999\n",
      "Expected reward of policy Baseline Quota is 13.026\n",
      "Expected reward of policy Big-LP is 13.01\n",
      "Expected reward of policy Big-LP Lump-sum is 13.01\n",
      "m_g: 135,fair clusters: [35], timsteps:30\n",
      "k:15, ppl_per_cluster:10, n_clusters:20\n",
      "noise:0, seed:58\n"
     ]
    },
    {
     "name": "stderr",
     "output_type": "stream",
     "text": [
      "\r",
      "354it [34:03,  6.35s/it]"
     ]
    },
    {
     "name": "stdout",
     "output_type": "stream",
     "text": [
      "Expected reward of policy Random is 11.560999999999998\n",
      "Expected reward of policy RR is 11.6595\n",
      "Expected reward of policy Whittle is 12.924000000000001\n",
      "Expected reward of policy Baseline Quota is 12.6535\n",
      "Expected reward of policy Big-LP is 12.632499999999999\n",
      "Expected reward of policy Big-LP Lump-sum is 12.632499999999999\n",
      "m_g: 135,fair clusters: [35], timsteps:30\n",
      "k:15, ppl_per_cluster:10, n_clusters:20\n",
      "noise:0, seed:19\n"
     ]
    },
    {
     "name": "stderr",
     "output_type": "stream",
     "text": [
      "\r",
      "355it [34:10,  6.34s/it]"
     ]
    },
    {
     "name": "stdout",
     "output_type": "stream",
     "text": [
      "Expected reward of policy Random is 12.066\n",
      "Expected reward of policy RR is 12.1125\n",
      "Expected reward of policy Whittle is 13.760000000000002\n",
      "Expected reward of policy Baseline Quota is 13.398499999999999\n",
      "Expected reward of policy Big-LP is 13.3095\n",
      "Expected reward of policy Big-LP Lump-sum is 13.3095\n",
      "m_g: 135,fair clusters: [35], timsteps:30\n",
      "k:15, ppl_per_cluster:10, n_clusters:20\n",
      "noise:0, seed:74\n"
     ]
    },
    {
     "name": "stderr",
     "output_type": "stream",
     "text": [
      "\r",
      "356it [34:16,  6.28s/it]"
     ]
    },
    {
     "name": "stdout",
     "output_type": "stream",
     "text": [
      "Expected reward of policy Random is 12.852500000000001\n",
      "Expected reward of policy RR is 12.985\n",
      "Expected reward of policy Whittle is 14.3065\n",
      "Expected reward of policy Baseline Quota is 13.914000000000001\n",
      "Expected reward of policy Big-LP is 13.902000000000001\n",
      "Expected reward of policy Big-LP Lump-sum is 13.902000000000001\n",
      "m_g: 135,fair clusters: [35], timsteps:30\n",
      "k:15, ppl_per_cluster:10, n_clusters:20\n",
      "noise:0, seed:21\n"
     ]
    },
    {
     "name": "stderr",
     "output_type": "stream",
     "text": [
      "\r",
      "357it [34:22,  6.27s/it]"
     ]
    },
    {
     "name": "stdout",
     "output_type": "stream",
     "text": [
      "Expected reward of policy Random is 10.8005\n",
      "Expected reward of policy RR is 10.822\n",
      "Expected reward of policy Whittle is 12.192499999999999\n",
      "Expected reward of policy Baseline Quota is 11.807500000000001\n",
      "Expected reward of policy Big-LP is 11.798\n",
      "Expected reward of policy Big-LP Lump-sum is 11.798\n",
      "m_g: 135,fair clusters: [35], timsteps:30\n",
      "k:15, ppl_per_cluster:10, n_clusters:20\n",
      "noise:0, seed:84\n"
     ]
    },
    {
     "name": "stderr",
     "output_type": "stream",
     "text": [
      "\r",
      "358it [34:28,  6.19s/it]"
     ]
    },
    {
     "name": "stdout",
     "output_type": "stream",
     "text": [
      "Expected reward of policy Random is 11.208499999999999\n",
      "Expected reward of policy RR is 11.1365\n",
      "Expected reward of policy Whittle is 12.434000000000001\n",
      "Expected reward of policy Baseline Quota is 12.02\n",
      "Expected reward of policy Big-LP is 12.065000000000001\n",
      "Expected reward of policy Big-LP Lump-sum is 12.065000000000001\n",
      "m_g: 135,fair clusters: [35], timsteps:30\n",
      "k:15, ppl_per_cluster:10, n_clusters:20\n",
      "noise:0, seed:57\n"
     ]
    },
    {
     "name": "stderr",
     "output_type": "stream",
     "text": [
      "\r",
      "359it [34:34,  6.21s/it]"
     ]
    },
    {
     "name": "stdout",
     "output_type": "stream",
     "text": [
      "Expected reward of policy Random is 13.879000000000001\n",
      "Expected reward of policy RR is 13.9055\n",
      "Expected reward of policy Whittle is 14.967999999999998\n",
      "Expected reward of policy Baseline Quota is 14.704500000000001\n",
      "Expected reward of policy Big-LP is 14.6755\n",
      "Expected reward of policy Big-LP Lump-sum is 14.6755\n",
      "m_g: 135,fair clusters: [35], timsteps:30\n",
      "k:15, ppl_per_cluster:10, n_clusters:20\n",
      "noise:0, seed:33\n"
     ]
    },
    {
     "name": "stderr",
     "output_type": "stream",
     "text": [
      "\r",
      "360it [34:40,  6.17s/it]"
     ]
    },
    {
     "name": "stdout",
     "output_type": "stream",
     "text": [
      "Expected reward of policy Random is 12.372\n",
      "Expected reward of policy RR is 12.314499999999999\n",
      "Expected reward of policy Whittle is 13.668500000000003\n",
      "Expected reward of policy Baseline Quota is 13.389\n",
      "Expected reward of policy Big-LP is 13.395999999999997\n",
      "Expected reward of policy Big-LP Lump-sum is 13.395999999999997\n",
      "m_g: 180,fair clusters: [35], timsteps:30\n",
      "k:20, ppl_per_cluster:10, n_clusters:20\n",
      "noise:0, seed:62\n"
     ]
    },
    {
     "name": "stderr",
     "output_type": "stream",
     "text": [
      "\r",
      "361it [34:47,  6.21s/it]"
     ]
    },
    {
     "name": "stdout",
     "output_type": "stream",
     "text": [
      "Expected reward of policy Random is 12.493500000000001\n",
      "Expected reward of policy RR is 12.4085\n",
      "Expected reward of policy Whittle is 13.6375\n",
      "Expected reward of policy Baseline Quota is 13.3125\n",
      "Expected reward of policy Big-LP is 13.321000000000002\n",
      "Expected reward of policy Big-LP Lump-sum is 13.321000000000002\n",
      "m_g: 180,fair clusters: [35], timsteps:30\n",
      "k:20, ppl_per_cluster:10, n_clusters:20\n",
      "noise:0, seed:58\n"
     ]
    },
    {
     "name": "stderr",
     "output_type": "stream",
     "text": [
      "\r",
      "362it [34:53,  6.23s/it]"
     ]
    },
    {
     "name": "stdout",
     "output_type": "stream",
     "text": [
      "Expected reward of policy Random is 11.715000000000002\n",
      "Expected reward of policy RR is 11.7665\n",
      "Expected reward of policy Whittle is 13.3335\n",
      "Expected reward of policy Baseline Quota is 12.9085\n",
      "Expected reward of policy Big-LP is 12.893\n",
      "Expected reward of policy Big-LP Lump-sum is 12.893\n",
      "m_g: 180,fair clusters: [35], timsteps:30\n",
      "k:20, ppl_per_cluster:10, n_clusters:20\n",
      "noise:0, seed:19\n"
     ]
    },
    {
     "name": "stderr",
     "output_type": "stream",
     "text": [
      "\r",
      "363it [34:59,  6.28s/it]"
     ]
    },
    {
     "name": "stdout",
     "output_type": "stream",
     "text": [
      "Expected reward of policy Random is 12.222\n",
      "Expected reward of policy RR is 12.237499999999999\n",
      "Expected reward of policy Whittle is 14.0375\n",
      "Expected reward of policy Baseline Quota is 13.7715\n",
      "Expected reward of policy Big-LP is 13.7815\n",
      "Expected reward of policy Big-LP Lump-sum is 13.7815\n",
      "m_g: 180,fair clusters: [35], timsteps:30\n",
      "k:20, ppl_per_cluster:10, n_clusters:20\n",
      "noise:0, seed:74\n"
     ]
    },
    {
     "name": "stderr",
     "output_type": "stream",
     "text": [
      "\r",
      "364it [35:06,  6.31s/it]"
     ]
    },
    {
     "name": "stdout",
     "output_type": "stream",
     "text": [
      "Expected reward of policy Random is 12.9725\n",
      "Expected reward of policy RR is 13.120999999999999\n",
      "Expected reward of policy Whittle is 14.617499999999998\n",
      "Expected reward of policy Baseline Quota is 14.287\n",
      "Expected reward of policy Big-LP is 14.264999999999997\n",
      "Expected reward of policy Big-LP Lump-sum is 14.264999999999997\n",
      "m_g: 180,fair clusters: [35], timsteps:30\n",
      "k:20, ppl_per_cluster:10, n_clusters:20\n",
      "noise:0, seed:21\n"
     ]
    },
    {
     "name": "stderr",
     "output_type": "stream",
     "text": [
      "\r",
      "365it [35:12,  6.41s/it]"
     ]
    },
    {
     "name": "stdout",
     "output_type": "stream",
     "text": [
      "Expected reward of policy Random is 10.969\n",
      "Expected reward of policy RR is 10.918000000000003\n",
      "Expected reward of policy Whittle is 12.587\n",
      "Expected reward of policy Baseline Quota is 12.1735\n",
      "Expected reward of policy Big-LP is 12.1455\n",
      "Expected reward of policy Big-LP Lump-sum is 12.1455\n",
      "m_g: 180,fair clusters: [35], timsteps:30\n",
      "k:20, ppl_per_cluster:10, n_clusters:20\n",
      "noise:0, seed:84\n"
     ]
    },
    {
     "name": "stderr",
     "output_type": "stream",
     "text": [
      "\r",
      "366it [35:19,  6.58s/it]"
     ]
    },
    {
     "name": "stdout",
     "output_type": "stream",
     "text": [
      "Expected reward of policy Random is 11.357499999999998\n",
      "Expected reward of policy RR is 11.2985\n",
      "Expected reward of policy Whittle is 12.808000000000002\n",
      "Expected reward of policy Baseline Quota is 12.399\n",
      "Expected reward of policy Big-LP is 12.412\n",
      "Expected reward of policy Big-LP Lump-sum is 12.412\n",
      "m_g: 180,fair clusters: [35], timsteps:30\n",
      "k:20, ppl_per_cluster:10, n_clusters:20\n",
      "noise:0, seed:57\n"
     ]
    },
    {
     "name": "stderr",
     "output_type": "stream",
     "text": [
      "\r",
      "367it [35:26,  6.65s/it]"
     ]
    },
    {
     "name": "stdout",
     "output_type": "stream",
     "text": [
      "Expected reward of policy Random is 13.998\n",
      "Expected reward of policy RR is 14.078999999999999\n",
      "Expected reward of policy Whittle is 15.383500000000002\n",
      "Expected reward of policy Baseline Quota is 14.9475\n",
      "Expected reward of policy Big-LP is 14.921000000000001\n",
      "Expected reward of policy Big-LP Lump-sum is 14.921000000000001\n",
      "m_g: 180,fair clusters: [35], timsteps:30\n",
      "k:20, ppl_per_cluster:10, n_clusters:20\n",
      "noise:0, seed:33\n"
     ]
    },
    {
     "name": "stderr",
     "output_type": "stream",
     "text": [
      "\r",
      "368it [35:33,  6.65s/it]"
     ]
    },
    {
     "name": "stdout",
     "output_type": "stream",
     "text": [
      "Expected reward of policy Random is 12.514500000000002\n",
      "Expected reward of policy RR is 12.516499999999999\n",
      "Expected reward of policy Whittle is 14.016499999999999\n",
      "Expected reward of policy Baseline Quota is 13.661499999999998\n",
      "Expected reward of policy Big-LP is 13.668499999999998\n",
      "Expected reward of policy Big-LP Lump-sum is 13.668499999999998\n",
      "m_g: 180,fair clusters: [35], timsteps:40\n",
      "k:15, ppl_per_cluster:10, n_clusters:20\n",
      "noise:0, seed:62\n"
     ]
    },
    {
     "name": "stderr",
     "output_type": "stream",
     "text": [
      "\r",
      "369it [35:39,  6.67s/it]"
     ]
    },
    {
     "name": "stdout",
     "output_type": "stream",
     "text": [
      "Expected reward of policy Random is 16.576\n",
      "Expected reward of policy RR is 16.55\n",
      "Expected reward of policy Whittle is 17.8945\n",
      "Expected reward of policy Baseline Quota is 17.539499999999997\n",
      "Expected reward of policy Big-LP is 17.5375\n",
      "Expected reward of policy Big-LP Lump-sum is 17.5375\n",
      "m_g: 180,fair clusters: [35], timsteps:40\n",
      "k:15, ppl_per_cluster:10, n_clusters:20\n",
      "noise:0, seed:58\n"
     ]
    },
    {
     "name": "stderr",
     "output_type": "stream",
     "text": [
      "\r",
      "370it [35:46,  6.67s/it]"
     ]
    },
    {
     "name": "stdout",
     "output_type": "stream",
     "text": [
      "Expected reward of policy Random is 15.478500000000002\n",
      "Expected reward of policy RR is 15.550500000000003\n",
      "Expected reward of policy Whittle is 17.249999999999996\n",
      "Expected reward of policy Baseline Quota is 16.887\n",
      "Expected reward of policy Big-LP is 16.869500000000002\n",
      "Expected reward of policy Big-LP Lump-sum is 16.869500000000002\n",
      "m_g: 180,fair clusters: [35], timsteps:40\n",
      "k:15, ppl_per_cluster:10, n_clusters:20\n",
      "noise:0, seed:19\n"
     ]
    },
    {
     "name": "stderr",
     "output_type": "stream",
     "text": [
      "\r",
      "371it [35:53,  6.68s/it]"
     ]
    },
    {
     "name": "stdout",
     "output_type": "stream",
     "text": [
      "Expected reward of policy Random is 16.125499999999995\n",
      "Expected reward of policy RR is 16.241000000000003\n",
      "Expected reward of policy Whittle is 18.4775\n",
      "Expected reward of policy Baseline Quota is 17.994\n",
      "Expected reward of policy Big-LP is 17.8935\n",
      "Expected reward of policy Big-LP Lump-sum is 17.8935\n",
      "m_g: 180,fair clusters: [35], timsteps:40\n",
      "k:15, ppl_per_cluster:10, n_clusters:20\n",
      "noise:0, seed:74\n"
     ]
    },
    {
     "name": "stderr",
     "output_type": "stream",
     "text": [
      "\r",
      "372it [35:59,  6.64s/it]"
     ]
    },
    {
     "name": "stdout",
     "output_type": "stream",
     "text": [
      "Expected reward of policy Random is 17.258999999999997\n",
      "Expected reward of policy RR is 17.4195\n",
      "Expected reward of policy Whittle is 19.2345\n",
      "Expected reward of policy Baseline Quota is 18.7205\n",
      "Expected reward of policy Big-LP is 18.712\n",
      "Expected reward of policy Big-LP Lump-sum is 18.712\n",
      "m_g: 180,fair clusters: [35], timsteps:40\n",
      "k:15, ppl_per_cluster:10, n_clusters:20\n",
      "noise:0, seed:21\n"
     ]
    },
    {
     "name": "stderr",
     "output_type": "stream",
     "text": [
      "\r",
      "373it [36:06,  6.61s/it]"
     ]
    },
    {
     "name": "stdout",
     "output_type": "stream",
     "text": [
      "Expected reward of policy Random is 14.483999999999998\n",
      "Expected reward of policy RR is 14.538000000000002\n",
      "Expected reward of policy Whittle is 16.4255\n",
      "Expected reward of policy Baseline Quota is 15.906\n",
      "Expected reward of policy Big-LP is 15.877\n",
      "Expected reward of policy Big-LP Lump-sum is 15.877\n",
      "m_g: 180,fair clusters: [35], timsteps:40\n",
      "k:15, ppl_per_cluster:10, n_clusters:20\n",
      "noise:0, seed:84\n"
     ]
    },
    {
     "name": "stderr",
     "output_type": "stream",
     "text": [
      "\r",
      "374it [36:12,  6.52s/it]"
     ]
    },
    {
     "name": "stdout",
     "output_type": "stream",
     "text": [
      "Expected reward of policy Random is 14.972999999999995\n",
      "Expected reward of policy RR is 14.804499999999999\n",
      "Expected reward of policy Whittle is 16.704500000000003\n",
      "Expected reward of policy Baseline Quota is 16.118000000000002\n",
      "Expected reward of policy Big-LP is 16.127000000000002\n",
      "Expected reward of policy Big-LP Lump-sum is 16.127000000000002\n",
      "m_g: 180,fair clusters: [35], timsteps:40\n",
      "k:15, ppl_per_cluster:10, n_clusters:20\n",
      "noise:0, seed:57\n"
     ]
    },
    {
     "name": "stderr",
     "output_type": "stream",
     "text": [
      "\r",
      "375it [36:19,  6.51s/it]"
     ]
    },
    {
     "name": "stdout",
     "output_type": "stream",
     "text": [
      "Expected reward of policy Random is 18.714\n",
      "Expected reward of policy RR is 18.7815\n",
      "Expected reward of policy Whittle is 20.1725\n",
      "Expected reward of policy Baseline Quota is 19.825999999999997\n",
      "Expected reward of policy Big-LP is 19.799500000000002\n",
      "Expected reward of policy Big-LP Lump-sum is 19.799500000000002\n",
      "m_g: 180,fair clusters: [35], timsteps:40\n",
      "k:15, ppl_per_cluster:10, n_clusters:20\n",
      "noise:0, seed:33\n"
     ]
    },
    {
     "name": "stderr",
     "output_type": "stream",
     "text": [
      "\r",
      "376it [36:25,  6.42s/it]"
     ]
    },
    {
     "name": "stdout",
     "output_type": "stream",
     "text": [
      "Expected reward of policy Random is 16.601000000000003\n",
      "Expected reward of policy RR is 16.5685\n",
      "Expected reward of policy Whittle is 18.381999999999998\n",
      "Expected reward of policy Baseline Quota is 18.0185\n",
      "Expected reward of policy Big-LP is 18.0125\n",
      "Expected reward of policy Big-LP Lump-sum is 18.0125\n",
      "m_g: 240,fair clusters: [35], timsteps:40\n",
      "k:20, ppl_per_cluster:10, n_clusters:20\n",
      "noise:0, seed:62\n"
     ]
    },
    {
     "name": "stderr",
     "output_type": "stream",
     "text": [
      "\r",
      "377it [36:31,  6.40s/it]"
     ]
    },
    {
     "name": "stdout",
     "output_type": "stream",
     "text": [
      "Expected reward of policy Random is 16.740000000000002\n",
      "Expected reward of policy RR is 16.689999999999998\n",
      "Expected reward of policy Whittle is 18.3275\n",
      "Expected reward of policy Baseline Quota is 17.9065\n",
      "Expected reward of policy Big-LP is 17.926499999999997\n",
      "Expected reward of policy Big-LP Lump-sum is 17.926499999999997\n",
      "m_g: 240,fair clusters: [35], timsteps:40\n",
      "k:20, ppl_per_cluster:10, n_clusters:20\n",
      "noise:0, seed:58\n"
     ]
    },
    {
     "name": "stderr",
     "output_type": "stream",
     "text": [
      "\r",
      "378it [36:38,  6.38s/it]"
     ]
    },
    {
     "name": "stdout",
     "output_type": "stream",
     "text": [
      "Expected reward of policy Random is 15.6805\n",
      "Expected reward of policy RR is 15.722\n",
      "Expected reward of policy Whittle is 17.811\n",
      "Expected reward of policy Baseline Quota is 17.25\n",
      "Expected reward of policy Big-LP is 17.2205\n",
      "Expected reward of policy Big-LP Lump-sum is 17.2205\n",
      "m_g: 240,fair clusters: [35], timsteps:40\n",
      "k:20, ppl_per_cluster:10, n_clusters:20\n",
      "noise:0, seed:19\n"
     ]
    },
    {
     "name": "stderr",
     "output_type": "stream",
     "text": [
      "\r",
      "379it [36:44,  6.42s/it]"
     ]
    },
    {
     "name": "stdout",
     "output_type": "stream",
     "text": [
      "Expected reward of policy Random is 16.3525\n",
      "Expected reward of policy RR is 16.396\n",
      "Expected reward of policy Whittle is 18.8545\n",
      "Expected reward of policy Baseline Quota is 18.5125\n",
      "Expected reward of policy Big-LP is 18.506999999999998\n",
      "Expected reward of policy Big-LP Lump-sum is 18.506999999999998\n",
      "m_g: 240,fair clusters: [35], timsteps:40\n",
      "k:20, ppl_per_cluster:10, n_clusters:20\n",
      "noise:0, seed:74\n"
     ]
    },
    {
     "name": "stderr",
     "output_type": "stream",
     "text": [
      "\r",
      "380it [36:51,  6.42s/it]"
     ]
    },
    {
     "name": "stdout",
     "output_type": "stream",
     "text": [
      "Expected reward of policy Random is 17.436\n",
      "Expected reward of policy RR is 17.602\n",
      "Expected reward of policy Whittle is 19.656000000000002\n",
      "Expected reward of policy Baseline Quota is 19.22\n",
      "Expected reward of policy Big-LP is 19.1885\n",
      "Expected reward of policy Big-LP Lump-sum is 19.1885\n",
      "m_g: 240,fair clusters: [35], timsteps:40\n",
      "k:20, ppl_per_cluster:10, n_clusters:20\n",
      "noise:0, seed:21\n"
     ]
    },
    {
     "name": "stderr",
     "output_type": "stream",
     "text": [
      "\r",
      "381it [36:57,  6.42s/it]"
     ]
    },
    {
     "name": "stdout",
     "output_type": "stream",
     "text": [
      "Expected reward of policy Random is 14.7105\n",
      "Expected reward of policy RR is 14.647499999999999\n",
      "Expected reward of policy Whittle is 16.959000000000003\n",
      "Expected reward of policy Baseline Quota is 16.3995\n",
      "Expected reward of policy Big-LP is 16.362499999999997\n",
      "Expected reward of policy Big-LP Lump-sum is 16.362499999999997\n",
      "m_g: 240,fair clusters: [35], timsteps:40\n",
      "k:20, ppl_per_cluster:10, n_clusters:20\n",
      "noise:0, seed:84\n"
     ]
    },
    {
     "name": "stderr",
     "output_type": "stream",
     "text": [
      "\r",
      "382it [37:03,  6.36s/it]"
     ]
    },
    {
     "name": "stdout",
     "output_type": "stream",
     "text": [
      "Expected reward of policy Random is 15.180000000000001\n",
      "Expected reward of policy RR is 15.1435\n",
      "Expected reward of policy Whittle is 17.213\n",
      "Expected reward of policy Baseline Quota is 16.645999999999997\n",
      "Expected reward of policy Big-LP is 16.618\n",
      "Expected reward of policy Big-LP Lump-sum is 16.618\n",
      "m_g: 240,fair clusters: [35], timsteps:40\n",
      "k:20, ppl_per_cluster:10, n_clusters:20\n",
      "noise:0, seed:57\n"
     ]
    },
    {
     "name": "stderr",
     "output_type": "stream",
     "text": [
      "\r",
      "383it [37:10,  6.38s/it]"
     ]
    },
    {
     "name": "stdout",
     "output_type": "stream",
     "text": [
      "Expected reward of policy Random is 18.878499999999995\n",
      "Expected reward of policy RR is 18.991\n",
      "Expected reward of policy Whittle is 20.7305\n",
      "Expected reward of policy Baseline Quota is 20.144\n",
      "Expected reward of policy Big-LP is 20.1405\n",
      "Expected reward of policy Big-LP Lump-sum is 20.1405\n",
      "m_g: 240,fair clusters: [35], timsteps:40\n",
      "k:20, ppl_per_cluster:10, n_clusters:20\n",
      "noise:0, seed:33\n"
     ]
    },
    {
     "name": "stderr",
     "output_type": "stream",
     "text": [
      "\r",
      "384it [37:17,  6.65s/it]"
     ]
    },
    {
     "name": "stdout",
     "output_type": "stream",
     "text": [
      "Expected reward of policy Random is 16.791\n",
      "Expected reward of policy RR is 16.817\n",
      "Expected reward of policy Whittle is 18.883999999999997\n",
      "Expected reward of policy Baseline Quota is 18.391\n",
      "Expected reward of policy Big-LP is 18.404000000000003\n",
      "Expected reward of policy Big-LP Lump-sum is 18.404000000000003\n",
      "m_g: 67,fair clusters: [10, 35], timsteps:30\n",
      "k:15, ppl_per_cluster:10, n_clusters:20\n",
      "noise:0, seed:62\n"
     ]
    },
    {
     "name": "stderr",
     "output_type": "stream",
     "text": [
      "\r",
      "385it [37:23,  6.50s/it]"
     ]
    },
    {
     "name": "stdout",
     "output_type": "stream",
     "text": [
      "Expected reward of policy Random is 12.2655\n",
      "Expected reward of policy RR is 12.174999999999999\n",
      "Expected reward of policy Whittle is 13.2125\n",
      "Expected reward of policy Baseline Quota is 12.9565\n",
      "Expected reward of policy Big-LP is 12.9475\n",
      "Expected reward of policy Big-LP Lump-sum is 12.924000000000001\n",
      "m_g: 67,fair clusters: [10, 35], timsteps:30\n",
      "k:15, ppl_per_cluster:10, n_clusters:20\n",
      "noise:0, seed:58\n"
     ]
    },
    {
     "name": "stderr",
     "output_type": "stream",
     "text": [
      "\r",
      "386it [37:29,  6.45s/it]"
     ]
    },
    {
     "name": "stdout",
     "output_type": "stream",
     "text": [
      "Expected reward of policy Random is 11.5915\n",
      "Expected reward of policy RR is 11.471\n",
      "Expected reward of policy Whittle is 12.544999999999998\n",
      "Expected reward of policy Baseline Quota is 12.300500000000001\n",
      "Expected reward of policy Big-LP is 12.315000000000001\n",
      "Expected reward of policy Big-LP Lump-sum is 12.3155\n",
      "m_g: 67,fair clusters: [10, 35], timsteps:30\n",
      "k:15, ppl_per_cluster:10, n_clusters:20\n",
      "noise:0, seed:19\n"
     ]
    },
    {
     "name": "stderr",
     "output_type": "stream",
     "text": [
      "\r",
      "387it [37:36,  6.39s/it]"
     ]
    },
    {
     "name": "stdout",
     "output_type": "stream",
     "text": [
      "Expected reward of policy Random is 11.764\n",
      "Expected reward of policy RR is 11.6035\n",
      "Expected reward of policy Whittle is 13.116999999999999\n",
      "Expected reward of policy Baseline Quota is 12.753\n",
      "Expected reward of policy Big-LP is 12.7195\n",
      "Expected reward of policy Big-LP Lump-sum is 12.6885\n",
      "m_g: 67,fair clusters: [10, 35], timsteps:30\n",
      "k:15, ppl_per_cluster:10, n_clusters:20\n",
      "noise:0, seed:74\n"
     ]
    },
    {
     "name": "stderr",
     "output_type": "stream",
     "text": [
      "\r",
      "388it [37:42,  6.39s/it]"
     ]
    },
    {
     "name": "stdout",
     "output_type": "stream",
     "text": [
      "Expected reward of policy Random is 10.944500000000001\n",
      "Expected reward of policy RR is 10.888499999999999\n",
      "Expected reward of policy Whittle is 12.4375\n",
      "Expected reward of policy Baseline Quota is 12.072\n",
      "Expected reward of policy Big-LP is 12.013499999999999\n",
      "Expected reward of policy Big-LP Lump-sum is 12.008\n",
      "m_g: 67,fair clusters: [10, 35], timsteps:30\n",
      "k:15, ppl_per_cluster:10, n_clusters:20\n",
      "noise:0, seed:21\n"
     ]
    },
    {
     "name": "stderr",
     "output_type": "stream",
     "text": [
      "\r",
      "389it [37:48,  6.34s/it]"
     ]
    },
    {
     "name": "stdout",
     "output_type": "stream",
     "text": [
      "Expected reward of policy Random is 10.182500000000001\n",
      "Expected reward of policy RR is 10.193500000000002\n",
      "Expected reward of policy Whittle is 10.82\n",
      "Expected reward of policy Baseline Quota is 10.697000000000001\n",
      "Expected reward of policy Big-LP is 10.7045\n",
      "Expected reward of policy Big-LP Lump-sum is 10.701999999999998\n",
      "m_g: 67,fair clusters: [10, 35], timsteps:30\n",
      "k:15, ppl_per_cluster:10, n_clusters:20\n",
      "noise:0, seed:84\n"
     ]
    },
    {
     "name": "stderr",
     "output_type": "stream",
     "text": [
      "\r",
      "390it [37:54,  6.21s/it]"
     ]
    },
    {
     "name": "stdout",
     "output_type": "stream",
     "text": [
      "Expected reward of policy Random is 10.104000000000003\n",
      "Expected reward of policy RR is 10.1435\n",
      "Expected reward of policy Whittle is 11.1845\n",
      "Expected reward of policy Baseline Quota is 10.967000000000002\n",
      "Expected reward of policy Big-LP is 10.9535\n",
      "Expected reward of policy Big-LP Lump-sum is 10.953\n",
      "m_g: 67,fair clusters: [10, 35], timsteps:30\n",
      "k:15, ppl_per_cluster:10, n_clusters:20\n",
      "noise:0, seed:57\n"
     ]
    },
    {
     "name": "stderr",
     "output_type": "stream",
     "text": [
      "\r",
      "391it [38:00,  6.19s/it]"
     ]
    },
    {
     "name": "stdout",
     "output_type": "stream",
     "text": [
      "Expected reward of policy Random is 13.0755\n",
      "Expected reward of policy RR is 12.8845\n",
      "Expected reward of policy Whittle is 14.4165\n",
      "Expected reward of policy Baseline Quota is 14.071000000000002\n",
      "Expected reward of policy Big-LP is 14.0635\n",
      "Expected reward of policy Big-LP Lump-sum is 14.05\n",
      "m_g: 67,fair clusters: [10, 35], timsteps:30\n",
      "k:15, ppl_per_cluster:10, n_clusters:20\n",
      "noise:0, seed:33\n"
     ]
    },
    {
     "name": "stderr",
     "output_type": "stream",
     "text": [
      "\r",
      "392it [38:06,  6.19s/it]"
     ]
    },
    {
     "name": "stdout",
     "output_type": "stream",
     "text": [
      "Expected reward of policy Random is 11.4845\n",
      "Expected reward of policy RR is 11.5625\n",
      "Expected reward of policy Whittle is 12.9695\n",
      "Expected reward of policy Baseline Quota is 12.716\n",
      "Expected reward of policy Big-LP is 12.761500000000002\n",
      "Expected reward of policy Big-LP Lump-sum is 12.7515\n",
      "m_g: 90,fair clusters: [10, 35], timsteps:30\n",
      "k:20, ppl_per_cluster:10, n_clusters:20\n",
      "noise:0, seed:62\n"
     ]
    },
    {
     "name": "stderr",
     "output_type": "stream",
     "text": [
      "\r",
      "393it [38:13,  6.19s/it]"
     ]
    },
    {
     "name": "stdout",
     "output_type": "stream",
     "text": [
      "Expected reward of policy Random is 12.4085\n",
      "Expected reward of policy RR is 12.3815\n",
      "Expected reward of policy Whittle is 13.5365\n",
      "Expected reward of policy Baseline Quota is 13.236999999999998\n",
      "Expected reward of policy Big-LP is 13.216\n",
      "Expected reward of policy Big-LP Lump-sum is 13.220499999999998\n",
      "m_g: 90,fair clusters: [10, 35], timsteps:30\n",
      "k:20, ppl_per_cluster:10, n_clusters:20\n",
      "noise:0, seed:58\n"
     ]
    },
    {
     "name": "stderr",
     "output_type": "stream",
     "text": [
      "\r",
      "394it [38:19,  6.19s/it]"
     ]
    },
    {
     "name": "stdout",
     "output_type": "stream",
     "text": [
      "Expected reward of policy Random is 11.747\n",
      "Expected reward of policy RR is 11.708000000000002\n",
      "Expected reward of policy Whittle is 12.9355\n",
      "Expected reward of policy Baseline Quota is 12.582\n",
      "Expected reward of policy Big-LP is 12.586500000000001\n",
      "Expected reward of policy Big-LP Lump-sum is 12.5855\n",
      "m_g: 90,fair clusters: [10, 35], timsteps:30\n",
      "k:20, ppl_per_cluster:10, n_clusters:20\n",
      "noise:0, seed:19\n"
     ]
    },
    {
     "name": "stderr",
     "output_type": "stream",
     "text": [
      "\r",
      "395it [38:25,  6.17s/it]"
     ]
    },
    {
     "name": "stdout",
     "output_type": "stream",
     "text": [
      "Expected reward of policy Random is 11.95\n",
      "Expected reward of policy RR is 11.749\n",
      "Expected reward of policy Whittle is 13.641000000000002\n",
      "Expected reward of policy Baseline Quota is 13.14\n",
      "Expected reward of policy Big-LP is 13.122\n",
      "Expected reward of policy Big-LP Lump-sum is 13.105\n",
      "m_g: 90,fair clusters: [10, 35], timsteps:30\n",
      "k:20, ppl_per_cluster:10, n_clusters:20\n",
      "noise:0, seed:74\n"
     ]
    },
    {
     "name": "stderr",
     "output_type": "stream",
     "text": [
      "\r",
      "396it [38:31,  6.27s/it]"
     ]
    },
    {
     "name": "stdout",
     "output_type": "stream",
     "text": [
      "Expected reward of policy Random is 11.1165\n",
      "Expected reward of policy RR is 11.187999999999999\n",
      "Expected reward of policy Whittle is 12.791\n",
      "Expected reward of policy Baseline Quota is 12.443999999999999\n",
      "Expected reward of policy Big-LP is 12.3595\n",
      "Expected reward of policy Big-LP Lump-sum is 12.345\n",
      "m_g: 90,fair clusters: [10, 35], timsteps:30\n",
      "k:20, ppl_per_cluster:10, n_clusters:20\n",
      "noise:0, seed:21\n"
     ]
    },
    {
     "name": "stderr",
     "output_type": "stream",
     "text": [
      "\r",
      "397it [38:38,  6.36s/it]"
     ]
    },
    {
     "name": "stdout",
     "output_type": "stream",
     "text": [
      "Expected reward of policy Random is 10.2825\n",
      "Expected reward of policy RR is 10.2985\n",
      "Expected reward of policy Whittle is 11.114\n",
      "Expected reward of policy Baseline Quota is 10.8535\n",
      "Expected reward of policy Big-LP is 10.9015\n",
      "Expected reward of policy Big-LP Lump-sum is 10.869499999999999\n",
      "m_g: 90,fair clusters: [10, 35], timsteps:30\n",
      "k:20, ppl_per_cluster:10, n_clusters:20\n",
      "noise:0, seed:84\n"
     ]
    },
    {
     "name": "stderr",
     "output_type": "stream",
     "text": [
      "\r",
      "398it [38:44,  6.33s/it]"
     ]
    },
    {
     "name": "stdout",
     "output_type": "stream",
     "text": [
      "Expected reward of policy Random is 10.2135\n",
      "Expected reward of policy RR is 10.4065\n",
      "Expected reward of policy Whittle is 11.522\n",
      "Expected reward of policy Baseline Quota is 11.189\n",
      "Expected reward of policy Big-LP is 11.2\n",
      "Expected reward of policy Big-LP Lump-sum is 11.209\n",
      "m_g: 90,fair clusters: [10, 35], timsteps:30\n",
      "k:20, ppl_per_cluster:10, n_clusters:20\n",
      "noise:0, seed:57\n"
     ]
    },
    {
     "name": "stderr",
     "output_type": "stream",
     "text": [
      "\r",
      "399it [38:51,  6.33s/it]"
     ]
    },
    {
     "name": "stdout",
     "output_type": "stream",
     "text": [
      "Expected reward of policy Random is 13.2005\n",
      "Expected reward of policy RR is 12.991999999999999\n",
      "Expected reward of policy Whittle is 14.776499999999999\n",
      "Expected reward of policy Baseline Quota is 14.387500000000003\n",
      "Expected reward of policy Big-LP is 14.401\n",
      "Expected reward of policy Big-LP Lump-sum is 14.396\n",
      "m_g: 90,fair clusters: [10, 35], timsteps:30\n",
      "k:20, ppl_per_cluster:10, n_clusters:20\n",
      "noise:0, seed:33\n"
     ]
    },
    {
     "name": "stderr",
     "output_type": "stream",
     "text": [
      "\r",
      "400it [38:57,  6.32s/it]"
     ]
    },
    {
     "name": "stdout",
     "output_type": "stream",
     "text": [
      "Expected reward of policy Random is 11.617\n",
      "Expected reward of policy RR is 11.727\n",
      "Expected reward of policy Whittle is 13.2005\n",
      "Expected reward of policy Baseline Quota is 12.996500000000001\n",
      "Expected reward of policy Big-LP is 13.016\n",
      "Expected reward of policy Big-LP Lump-sum is 13.009\n",
      "m_g: 90,fair clusters: [10, 35], timsteps:40\n",
      "k:15, ppl_per_cluster:10, n_clusters:20\n",
      "noise:0, seed:62\n"
     ]
    },
    {
     "name": "stderr",
     "output_type": "stream",
     "text": [
      "\r",
      "401it [39:04,  6.39s/it]"
     ]
    },
    {
     "name": "stdout",
     "output_type": "stream",
     "text": [
      "Expected reward of policy Random is 16.4615\n",
      "Expected reward of policy RR is 16.4115\n",
      "Expected reward of policy Whittle is 17.7075\n",
      "Expected reward of policy Baseline Quota is 17.377\n",
      "Expected reward of policy Big-LP is 17.375500000000002\n",
      "Expected reward of policy Big-LP Lump-sum is 17.3435\n",
      "m_g: 90,fair clusters: [10, 35], timsteps:40\n",
      "k:15, ppl_per_cluster:10, n_clusters:20\n",
      "noise:0, seed:58\n"
     ]
    },
    {
     "name": "stderr",
     "output_type": "stream",
     "text": [
      "\r",
      "402it [39:10,  6.39s/it]"
     ]
    },
    {
     "name": "stdout",
     "output_type": "stream",
     "text": [
      "Expected reward of policy Random is 15.49\n",
      "Expected reward of policy RR is 15.360000000000003\n",
      "Expected reward of policy Whittle is 16.823\n",
      "Expected reward of policy Baseline Quota is 16.497999999999998\n",
      "Expected reward of policy Big-LP is 16.494000000000003\n",
      "Expected reward of policy Big-LP Lump-sum is 16.482000000000003\n",
      "m_g: 90,fair clusters: [10, 35], timsteps:40\n",
      "k:15, ppl_per_cluster:10, n_clusters:20\n",
      "noise:0, seed:19\n"
     ]
    },
    {
     "name": "stderr",
     "output_type": "stream",
     "text": [
      "\r",
      "403it [39:17,  6.60s/it]"
     ]
    },
    {
     "name": "stdout",
     "output_type": "stream",
     "text": [
      "Expected reward of policy Random is 15.688999999999998\n",
      "Expected reward of policy RR is 15.607500000000002\n",
      "Expected reward of policy Whittle is 17.6905\n",
      "Expected reward of policy Baseline Quota is 17.182499999999997\n",
      "Expected reward of policy Big-LP is 17.159\n",
      "Expected reward of policy Big-LP Lump-sum is 17.148000000000003\n",
      "m_g: 90,fair clusters: [10, 35], timsteps:40\n",
      "k:15, ppl_per_cluster:10, n_clusters:20\n",
      "noise:0, seed:74\n"
     ]
    },
    {
     "name": "stderr",
     "output_type": "stream",
     "text": [
      "\r",
      "404it [39:24,  6.68s/it]"
     ]
    },
    {
     "name": "stdout",
     "output_type": "stream",
     "text": [
      "Expected reward of policy Random is 14.689000000000002\n",
      "Expected reward of policy RR is 14.559999999999999\n",
      "Expected reward of policy Whittle is 16.705000000000002\n",
      "Expected reward of policy Baseline Quota is 16.196499999999997\n",
      "Expected reward of policy Big-LP is 16.125999999999998\n",
      "Expected reward of policy Big-LP Lump-sum is 16.113\n",
      "m_g: 90,fair clusters: [10, 35], timsteps:40\n",
      "k:15, ppl_per_cluster:10, n_clusters:20\n",
      "noise:0, seed:21\n"
     ]
    },
    {
     "name": "stderr",
     "output_type": "stream",
     "text": [
      "\r",
      "405it [39:31,  6.72s/it]"
     ]
    },
    {
     "name": "stdout",
     "output_type": "stream",
     "text": [
      "Expected reward of policy Random is 13.5935\n",
      "Expected reward of policy RR is 13.625\n",
      "Expected reward of policy Whittle is 14.481\n",
      "Expected reward of policy Baseline Quota is 14.287\n",
      "Expected reward of policy Big-LP is 14.297999999999998\n",
      "Expected reward of policy Big-LP Lump-sum is 14.302000000000001\n",
      "m_g: 90,fair clusters: [10, 35], timsteps:40\n",
      "k:15, ppl_per_cluster:10, n_clusters:20\n",
      "noise:0, seed:84\n"
     ]
    },
    {
     "name": "stderr",
     "output_type": "stream",
     "text": [
      "\r",
      "406it [39:37,  6.64s/it]"
     ]
    },
    {
     "name": "stdout",
     "output_type": "stream",
     "text": [
      "Expected reward of policy Random is 13.516499999999999\n",
      "Expected reward of policy RR is 13.584\n",
      "Expected reward of policy Whittle is 14.975999999999999\n",
      "Expected reward of policy Baseline Quota is 14.6875\n",
      "Expected reward of policy Big-LP is 14.676499999999999\n",
      "Expected reward of policy Big-LP Lump-sum is 14.685500000000001\n",
      "m_g: 90,fair clusters: [10, 35], timsteps:40\n",
      "k:15, ppl_per_cluster:10, n_clusters:20\n",
      "noise:0, seed:57\n"
     ]
    },
    {
     "name": "stderr",
     "output_type": "stream",
     "text": [
      "\r",
      "407it [39:44,  6.60s/it]"
     ]
    },
    {
     "name": "stdout",
     "output_type": "stream",
     "text": [
      "Expected reward of policy Random is 17.523500000000002\n",
      "Expected reward of policy RR is 17.286499999999997\n",
      "Expected reward of policy Whittle is 19.374000000000002\n",
      "Expected reward of policy Baseline Quota is 18.9115\n",
      "Expected reward of policy Big-LP is 18.898999999999997\n",
      "Expected reward of policy Big-LP Lump-sum is 18.8575\n",
      "m_g: 90,fair clusters: [10, 35], timsteps:40\n",
      "k:15, ppl_per_cluster:10, n_clusters:20\n",
      "noise:0, seed:33\n"
     ]
    },
    {
     "name": "stderr",
     "output_type": "stream",
     "text": [
      "\r",
      "408it [39:50,  6.55s/it]"
     ]
    },
    {
     "name": "stdout",
     "output_type": "stream",
     "text": [
      "Expected reward of policy Random is 15.393\n",
      "Expected reward of policy RR is 15.497499999999999\n",
      "Expected reward of policy Whittle is 17.387\n",
      "Expected reward of policy Baseline Quota is 17.085500000000003\n",
      "Expected reward of policy Big-LP is 17.110500000000002\n",
      "Expected reward of policy Big-LP Lump-sum is 17.079500000000003\n",
      "m_g: 120,fair clusters: [10, 35], timsteps:40\n",
      "k:20, ppl_per_cluster:10, n_clusters:20\n",
      "noise:0, seed:62\n"
     ]
    },
    {
     "name": "stderr",
     "output_type": "stream",
     "text": [
      "\r",
      "409it [39:57,  6.56s/it]"
     ]
    },
    {
     "name": "stdout",
     "output_type": "stream",
     "text": [
      "Expected reward of policy Random is 16.6385\n",
      "Expected reward of policy RR is 16.609499999999997\n",
      "Expected reward of policy Whittle is 18.151\n",
      "Expected reward of policy Baseline Quota is 17.731\n",
      "Expected reward of policy Big-LP is 17.7205\n",
      "Expected reward of policy Big-LP Lump-sum is 17.740500000000004\n",
      "m_g: 120,fair clusters: [10, 35], timsteps:40\n",
      "k:20, ppl_per_cluster:10, n_clusters:20\n",
      "noise:0, seed:58\n"
     ]
    },
    {
     "name": "stderr",
     "output_type": "stream",
     "text": [
      "\r",
      "410it [40:03,  6.53s/it]"
     ]
    },
    {
     "name": "stdout",
     "output_type": "stream",
     "text": [
      "Expected reward of policy Random is 15.7185\n",
      "Expected reward of policy RR is 15.6865\n",
      "Expected reward of policy Whittle is 17.3515\n",
      "Expected reward of policy Baseline Quota is 16.873499999999996\n",
      "Expected reward of policy Big-LP is 16.870499999999996\n",
      "Expected reward of policy Big-LP Lump-sum is 16.867500000000003\n",
      "m_g: 120,fair clusters: [10, 35], timsteps:40\n",
      "k:20, ppl_per_cluster:10, n_clusters:20\n",
      "noise:0, seed:19\n"
     ]
    },
    {
     "name": "stderr",
     "output_type": "stream",
     "text": [
      "\r",
      "411it [40:10,  6.51s/it]"
     ]
    },
    {
     "name": "stdout",
     "output_type": "stream",
     "text": [
      "Expected reward of policy Random is 15.925999999999998\n",
      "Expected reward of policy RR is 15.814499999999999\n",
      "Expected reward of policy Whittle is 18.3875\n",
      "Expected reward of policy Baseline Quota is 17.71\n",
      "Expected reward of policy Big-LP is 17.724\n",
      "Expected reward of policy Big-LP Lump-sum is 17.7035\n",
      "m_g: 120,fair clusters: [10, 35], timsteps:40\n",
      "k:20, ppl_per_cluster:10, n_clusters:20\n",
      "noise:0, seed:74\n"
     ]
    },
    {
     "name": "stderr",
     "output_type": "stream",
     "text": [
      "\r",
      "412it [40:16,  6.58s/it]"
     ]
    },
    {
     "name": "stdout",
     "output_type": "stream",
     "text": [
      "Expected reward of policy Random is 14.910500000000003\n",
      "Expected reward of policy RR is 14.972\n",
      "Expected reward of policy Whittle is 17.240000000000002\n",
      "Expected reward of policy Baseline Quota is 16.704\n",
      "Expected reward of policy Big-LP is 16.6325\n",
      "Expected reward of policy Big-LP Lump-sum is 16.622999999999998\n",
      "m_g: 120,fair clusters: [10, 35], timsteps:40\n",
      "k:20, ppl_per_cluster:10, n_clusters:20\n",
      "noise:0, seed:21\n"
     ]
    },
    {
     "name": "stderr",
     "output_type": "stream",
     "text": [
      "\r",
      "413it [40:23,  6.63s/it]"
     ]
    },
    {
     "name": "stdout",
     "output_type": "stream",
     "text": [
      "Expected reward of policy Random is 13.74\n",
      "Expected reward of policy RR is 13.781\n",
      "Expected reward of policy Whittle is 14.914999999999997\n",
      "Expected reward of policy Baseline Quota is 14.517\n",
      "Expected reward of policy Big-LP is 14.546000000000001\n",
      "Expected reward of policy Big-LP Lump-sum is 14.541\n",
      "m_g: 120,fair clusters: [10, 35], timsteps:40\n",
      "k:20, ppl_per_cluster:10, n_clusters:20\n",
      "noise:0, seed:84\n"
     ]
    },
    {
     "name": "stderr",
     "output_type": "stream",
     "text": [
      "\r",
      "414it [40:29,  6.56s/it]"
     ]
    },
    {
     "name": "stdout",
     "output_type": "stream",
     "text": [
      "Expected reward of policy Random is 13.6715\n",
      "Expected reward of policy RR is 13.897499999999999\n",
      "Expected reward of policy Whittle is 15.4275\n",
      "Expected reward of policy Baseline Quota is 14.991000000000003\n",
      "Expected reward of policy Big-LP is 15.001500000000002\n",
      "Expected reward of policy Big-LP Lump-sum is 14.979999999999999\n",
      "m_g: 120,fair clusters: [10, 35], timsteps:40\n",
      "k:20, ppl_per_cluster:10, n_clusters:20\n",
      "noise:0, seed:57\n"
     ]
    },
    {
     "name": "stderr",
     "output_type": "stream",
     "text": [
      "\r",
      "415it [40:36,  6.54s/it]"
     ]
    },
    {
     "name": "stdout",
     "output_type": "stream",
     "text": [
      "Expected reward of policy Random is 17.684500000000003\n",
      "Expected reward of policy RR is 17.4955\n",
      "Expected reward of policy Whittle is 19.905499999999996\n",
      "Expected reward of policy Baseline Quota is 19.360500000000002\n",
      "Expected reward of policy Big-LP is 19.379\n",
      "Expected reward of policy Big-LP Lump-sum is 19.342000000000002\n",
      "m_g: 120,fair clusters: [10, 35], timsteps:40\n",
      "k:20, ppl_per_cluster:10, n_clusters:20\n",
      "noise:0, seed:33\n"
     ]
    },
    {
     "name": "stderr",
     "output_type": "stream",
     "text": [
      "\r",
      "416it [40:42,  6.53s/it]"
     ]
    },
    {
     "name": "stdout",
     "output_type": "stream",
     "text": [
      "Expected reward of policy Random is 15.588\n",
      "Expected reward of policy RR is 15.701999999999998\n",
      "Expected reward of policy Whittle is 17.711\n",
      "Expected reward of policy Baseline Quota is 17.424500000000002\n",
      "Expected reward of policy Big-LP is 17.446499999999997\n",
      "Expected reward of policy Big-LP Lump-sum is 17.4395\n",
      "m_g: 45,fair clusters: [10, 8, 35], timsteps:30\n",
      "k:15, ppl_per_cluster:10, n_clusters:20\n",
      "noise:0, seed:62\n"
     ]
    },
    {
     "name": "stderr",
     "output_type": "stream",
     "text": [
      "\r",
      "417it [40:48,  6.36s/it]"
     ]
    },
    {
     "name": "stdout",
     "output_type": "stream",
     "text": [
      "Expected reward of policy Random is 10.350000000000001\n",
      "Expected reward of policy RR is 10.2805\n",
      "Expected reward of policy Whittle is 11.4255\n",
      "Expected reward of policy Baseline Quota is 11.1595\n",
      "Expected reward of policy Big-LP is 11.2\n",
      "Expected reward of policy Big-LP Lump-sum is 11.156499999999998\n",
      "m_g: 45,fair clusters: [10, 8, 35], timsteps:30\n",
      "k:15, ppl_per_cluster:10, n_clusters:20\n",
      "noise:0, seed:58\n"
     ]
    },
    {
     "name": "stderr",
     "output_type": "stream",
     "text": [
      "\r",
      "418it [40:55,  6.29s/it]"
     ]
    },
    {
     "name": "stdout",
     "output_type": "stream",
     "text": [
      "Expected reward of policy Random is 12.658\n",
      "Expected reward of policy RR is 12.6665\n",
      "Expected reward of policy Whittle is 13.544\n",
      "Expected reward of policy Baseline Quota is 13.478\n",
      "Expected reward of policy Big-LP is 13.482500000000002\n",
      "Expected reward of policy Big-LP Lump-sum is 13.472500000000002\n",
      "m_g: 45,fair clusters: [10, 8, 35], timsteps:30\n",
      "k:15, ppl_per_cluster:10, n_clusters:20\n",
      "noise:0, seed:19\n"
     ]
    },
    {
     "name": "stderr",
     "output_type": "stream",
     "text": [
      "\r",
      "419it [41:01,  6.31s/it]"
     ]
    },
    {
     "name": "stdout",
     "output_type": "stream",
     "text": [
      "Expected reward of policy Random is 10.557\n",
      "Expected reward of policy RR is 10.3965\n",
      "Expected reward of policy Whittle is 11.805499999999999\n",
      "Expected reward of policy Baseline Quota is 11.500499999999999\n",
      "Expected reward of policy Big-LP is 11.48\n",
      "Expected reward of policy Big-LP Lump-sum is 11.3995\n",
      "m_g: 45,fair clusters: [10, 8, 35], timsteps:30\n",
      "k:15, ppl_per_cluster:10, n_clusters:20\n",
      "noise:0, seed:74\n"
     ]
    },
    {
     "name": "stderr",
     "output_type": "stream",
     "text": [
      "\r",
      "420it [41:07,  6.31s/it]"
     ]
    },
    {
     "name": "stdout",
     "output_type": "stream",
     "text": [
      "Expected reward of policy Random is 10.410500000000003\n",
      "Expected reward of policy RR is 10.44\n",
      "Expected reward of policy Whittle is 11.704999999999998\n",
      "Expected reward of policy Baseline Quota is 11.452\n",
      "Expected reward of policy Big-LP is 11.514999999999999\n",
      "Expected reward of policy Big-LP Lump-sum is 11.497\n",
      "m_g: 45,fair clusters: [10, 8, 35], timsteps:30\n",
      "k:15, ppl_per_cluster:10, n_clusters:20\n",
      "noise:0, seed:21\n"
     ]
    },
    {
     "name": "stderr",
     "output_type": "stream",
     "text": [
      "\r",
      "421it [41:14,  6.34s/it]"
     ]
    },
    {
     "name": "stdout",
     "output_type": "stream",
     "text": [
      "Expected reward of policy Random is 12.023\n",
      "Expected reward of policy RR is 11.976500000000001\n",
      "Expected reward of policy Whittle is 12.833000000000002\n",
      "Expected reward of policy Baseline Quota is 12.5965\n",
      "Expected reward of policy Big-LP is 12.627\n",
      "Expected reward of policy Big-LP Lump-sum is 12.6335\n",
      "m_g: 45,fair clusters: [10, 8, 35], timsteps:30\n",
      "k:15, ppl_per_cluster:10, n_clusters:20\n",
      "noise:0, seed:84\n"
     ]
    },
    {
     "name": "stderr",
     "output_type": "stream",
     "text": [
      "\r",
      "422it [41:20,  6.35s/it]"
     ]
    },
    {
     "name": "stdout",
     "output_type": "stream",
     "text": [
      "Expected reward of policy Random is 11.1255\n",
      "Expected reward of policy RR is 11.099\n",
      "Expected reward of policy Whittle is 12.5725\n",
      "Expected reward of policy Baseline Quota is 12.268\n",
      "Expected reward of policy Big-LP is 12.2945\n",
      "Expected reward of policy Big-LP Lump-sum is 12.277\n",
      "m_g: 45,fair clusters: [10, 8, 35], timsteps:30\n",
      "k:15, ppl_per_cluster:10, n_clusters:20\n",
      "noise:0, seed:57\n"
     ]
    },
    {
     "name": "stderr",
     "output_type": "stream",
     "text": [
      "\r",
      "423it [41:27,  6.44s/it]"
     ]
    },
    {
     "name": "stdout",
     "output_type": "stream",
     "text": [
      "Expected reward of policy Random is 11.996500000000001\n",
      "Expected reward of policy RR is 11.9405\n",
      "Expected reward of policy Whittle is 13.304000000000002\n",
      "Expected reward of policy Baseline Quota is 13.0395\n",
      "Expected reward of policy Big-LP is 12.997499999999999\n",
      "Expected reward of policy Big-LP Lump-sum is 12.931999999999999\n",
      "m_g: 45,fair clusters: [10, 8, 35], timsteps:30\n",
      "k:15, ppl_per_cluster:10, n_clusters:20\n",
      "noise:0, seed:33\n"
     ]
    },
    {
     "name": "stderr",
     "output_type": "stream",
     "text": [
      "\r",
      "424it [41:33,  6.43s/it]"
     ]
    },
    {
     "name": "stdout",
     "output_type": "stream",
     "text": [
      "Expected reward of policy Random is 9.822500000000002\n",
      "Expected reward of policy RR is 9.8035\n",
      "Expected reward of policy Whittle is 11.325500000000002\n",
      "Expected reward of policy Baseline Quota is 11.082\n",
      "Expected reward of policy Big-LP is 11.126000000000001\n",
      "Expected reward of policy Big-LP Lump-sum is 11.1085\n",
      "m_g: 60,fair clusters: [10, 8, 35], timsteps:30\n",
      "k:20, ppl_per_cluster:10, n_clusters:20\n",
      "noise:0, seed:62\n"
     ]
    },
    {
     "name": "stderr",
     "output_type": "stream",
     "text": [
      "\r",
      "425it [41:40,  6.51s/it]"
     ]
    },
    {
     "name": "stdout",
     "output_type": "stream",
     "text": [
      "Expected reward of policy Random is 10.513000000000002\n",
      "Expected reward of policy RR is 10.466000000000001\n",
      "Expected reward of policy Whittle is 11.782999999999998\n",
      "Expected reward of policy Baseline Quota is 11.501499999999998\n",
      "Expected reward of policy Big-LP is 11.468\n",
      "Expected reward of policy Big-LP Lump-sum is 11.492500000000001\n",
      "m_g: 60,fair clusters: [10, 8, 35], timsteps:30\n",
      "k:20, ppl_per_cluster:10, n_clusters:20\n",
      "noise:0, seed:58\n"
     ]
    },
    {
     "name": "stderr",
     "output_type": "stream",
     "text": [
      "\r",
      "426it [41:46,  6.52s/it]"
     ]
    },
    {
     "name": "stdout",
     "output_type": "stream",
     "text": [
      "Expected reward of policy Random is 12.782\n",
      "Expected reward of policy RR is 12.786\n",
      "Expected reward of policy Whittle is 13.728\n",
      "Expected reward of policy Baseline Quota is 13.651\n",
      "Expected reward of policy Big-LP is 13.621\n",
      "Expected reward of policy Big-LP Lump-sum is 13.648\n",
      "m_g: 60,fair clusters: [10, 8, 35], timsteps:30\n",
      "k:20, ppl_per_cluster:10, n_clusters:20\n",
      "noise:0, seed:19\n"
     ]
    },
    {
     "name": "stderr",
     "output_type": "stream",
     "text": [
      "\r",
      "427it [41:53,  6.58s/it]"
     ]
    },
    {
     "name": "stdout",
     "output_type": "stream",
     "text": [
      "Expected reward of policy Random is 10.722\n",
      "Expected reward of policy RR is 10.5355\n",
      "Expected reward of policy Whittle is 12.149500000000002\n",
      "Expected reward of policy Baseline Quota is 11.846\n",
      "Expected reward of policy Big-LP is 11.836\n",
      "Expected reward of policy Big-LP Lump-sum is 11.7655\n",
      "m_g: 60,fair clusters: [10, 8, 35], timsteps:30\n",
      "k:20, ppl_per_cluster:10, n_clusters:20\n",
      "noise:0, seed:74\n"
     ]
    },
    {
     "name": "stderr",
     "output_type": "stream",
     "text": [
      "\r",
      "428it [42:00,  6.62s/it]"
     ]
    },
    {
     "name": "stdout",
     "output_type": "stream",
     "text": [
      "Expected reward of policy Random is 10.581\n",
      "Expected reward of policy RR is 10.6005\n",
      "Expected reward of policy Whittle is 12.048000000000002\n",
      "Expected reward of policy Baseline Quota is 11.7955\n",
      "Expected reward of policy Big-LP is 11.786000000000001\n",
      "Expected reward of policy Big-LP Lump-sum is 11.735\n",
      "m_g: 60,fair clusters: [10, 8, 35], timsteps:30\n",
      "k:20, ppl_per_cluster:10, n_clusters:20\n",
      "noise:0, seed:21\n"
     ]
    },
    {
     "name": "stderr",
     "output_type": "stream",
     "text": [
      "\r",
      "429it [42:06,  6.54s/it]"
     ]
    },
    {
     "name": "stdout",
     "output_type": "stream",
     "text": [
      "Expected reward of policy Random is 12.188500000000001\n",
      "Expected reward of policy RR is 12.052499999999998\n",
      "Expected reward of policy Whittle is 13.185500000000001\n",
      "Expected reward of policy Baseline Quota is 12.934000000000001\n",
      "Expected reward of policy Big-LP is 12.897\n",
      "Expected reward of policy Big-LP Lump-sum is 12.8965\n",
      "m_g: 60,fair clusters: [10, 8, 35], timsteps:30\n",
      "k:20, ppl_per_cluster:10, n_clusters:20\n",
      "noise:0, seed:84\n"
     ]
    },
    {
     "name": "stderr",
     "output_type": "stream",
     "text": [
      "\r",
      "430it [42:13,  6.51s/it]"
     ]
    },
    {
     "name": "stdout",
     "output_type": "stream",
     "text": [
      "Expected reward of policy Random is 11.257499999999999\n",
      "Expected reward of policy RR is 11.306999999999999\n",
      "Expected reward of policy Whittle is 12.977\n",
      "Expected reward of policy Baseline Quota is 12.6155\n",
      "Expected reward of policy Big-LP is 12.608\n",
      "Expected reward of policy Big-LP Lump-sum is 12.575500000000002\n",
      "m_g: 60,fair clusters: [10, 8, 35], timsteps:30\n",
      "k:20, ppl_per_cluster:10, n_clusters:20\n",
      "noise:0, seed:57\n"
     ]
    },
    {
     "name": "stderr",
     "output_type": "stream",
     "text": [
      "\r",
      "431it [42:19,  6.53s/it]"
     ]
    },
    {
     "name": "stdout",
     "output_type": "stream",
     "text": [
      "Expected reward of policy Random is 12.139\n",
      "Expected reward of policy RR is 12.111\n",
      "Expected reward of policy Whittle is 13.5255\n",
      "Expected reward of policy Baseline Quota is 13.392499999999998\n",
      "Expected reward of policy Big-LP is 13.268\n",
      "Expected reward of policy Big-LP Lump-sum is 13.209999999999999\n",
      "m_g: 60,fair clusters: [10, 8, 35], timsteps:30\n",
      "k:20, ppl_per_cluster:10, n_clusters:20\n",
      "noise:0, seed:33\n"
     ]
    },
    {
     "name": "stderr",
     "output_type": "stream",
     "text": [
      "\r",
      "432it [42:26,  6.50s/it]"
     ]
    },
    {
     "name": "stdout",
     "output_type": "stream",
     "text": [
      "Expected reward of policy Random is 9.998999999999999\n",
      "Expected reward of policy RR is 9.985\n",
      "Expected reward of policy Whittle is 11.648500000000002\n",
      "Expected reward of policy Baseline Quota is 11.389\n",
      "Expected reward of policy Big-LP is 11.385499999999999\n",
      "Expected reward of policy Big-LP Lump-sum is 11.368\n",
      "m_g: 60,fair clusters: [10, 8, 35], timsteps:40\n",
      "k:15, ppl_per_cluster:10, n_clusters:20\n",
      "noise:0, seed:62\n"
     ]
    },
    {
     "name": "stderr",
     "output_type": "stream",
     "text": [
      "\r",
      "433it [42:32,  6.49s/it]"
     ]
    },
    {
     "name": "stdout",
     "output_type": "stream",
     "text": [
      "Expected reward of policy Random is 13.858500000000001\n",
      "Expected reward of policy RR is 13.7815\n",
      "Expected reward of policy Whittle is 15.3275\n",
      "Expected reward of policy Baseline Quota is 14.965999999999998\n",
      "Expected reward of policy Big-LP is 14.972999999999999\n",
      "Expected reward of policy Big-LP Lump-sum is 14.913499999999999\n",
      "m_g: 60,fair clusters: [10, 8, 35], timsteps:40\n",
      "k:15, ppl_per_cluster:10, n_clusters:20\n",
      "noise:0, seed:58\n"
     ]
    },
    {
     "name": "stderr",
     "output_type": "stream",
     "text": [
      "\r",
      "434it [42:39,  6.51s/it]"
     ]
    },
    {
     "name": "stdout",
     "output_type": "stream",
     "text": [
      "Expected reward of policy Random is 17.016\n",
      "Expected reward of policy RR is 16.987000000000002\n",
      "Expected reward of policy Whittle is 18.157000000000004\n",
      "Expected reward of policy Baseline Quota is 18.072\n",
      "Expected reward of policy Big-LP is 18.0655\n",
      "Expected reward of policy Big-LP Lump-sum is 18.053500000000003\n",
      "m_g: 60,fair clusters: [10, 8, 35], timsteps:40\n",
      "k:15, ppl_per_cluster:10, n_clusters:20\n",
      "noise:0, seed:19\n"
     ]
    },
    {
     "name": "stderr",
     "output_type": "stream",
     "text": [
      "\r",
      "435it [42:45,  6.57s/it]"
     ]
    },
    {
     "name": "stdout",
     "output_type": "stream",
     "text": [
      "Expected reward of policy Random is 14.1965\n",
      "Expected reward of policy RR is 13.959\n",
      "Expected reward of policy Whittle is 15.933000000000002\n",
      "Expected reward of policy Baseline Quota is 15.506\n",
      "Expected reward of policy Big-LP is 15.491500000000002\n",
      "Expected reward of policy Big-LP Lump-sum is 15.4185\n",
      "m_g: 60,fair clusters: [10, 8, 35], timsteps:40\n",
      "k:15, ppl_per_cluster:10, n_clusters:20\n",
      "noise:0, seed:74\n"
     ]
    },
    {
     "name": "stderr",
     "output_type": "stream",
     "text": [
      "\r",
      "436it [42:52,  6.56s/it]"
     ]
    },
    {
     "name": "stdout",
     "output_type": "stream",
     "text": [
      "Expected reward of policy Random is 13.947999999999999\n",
      "Expected reward of policy RR is 13.9495\n",
      "Expected reward of policy Whittle is 15.6935\n",
      "Expected reward of policy Baseline Quota is 15.349\n",
      "Expected reward of policy Big-LP is 15.436000000000002\n",
      "Expected reward of policy Big-LP Lump-sum is 15.412\n",
      "m_g: 60,fair clusters: [10, 8, 35], timsteps:40\n",
      "k:15, ppl_per_cluster:10, n_clusters:20\n",
      "noise:0, seed:21\n"
     ]
    },
    {
     "name": "stderr",
     "output_type": "stream",
     "text": [
      "\r",
      "437it [42:58,  6.45s/it]"
     ]
    },
    {
     "name": "stdout",
     "output_type": "stream",
     "text": [
      "Expected reward of policy Random is 16.1485\n",
      "Expected reward of policy RR is 16.0595\n",
      "Expected reward of policy Whittle is 17.217000000000002\n",
      "Expected reward of policy Baseline Quota is 16.903999999999996\n",
      "Expected reward of policy Big-LP is 16.928500000000003\n",
      "Expected reward of policy Big-LP Lump-sum is 16.932\n",
      "m_g: 60,fair clusters: [10, 8, 35], timsteps:40\n",
      "k:15, ppl_per_cluster:10, n_clusters:20\n",
      "noise:0, seed:84\n"
     ]
    },
    {
     "name": "stderr",
     "output_type": "stream",
     "text": [
      "\r",
      "438it [43:04,  6.43s/it]"
     ]
    },
    {
     "name": "stdout",
     "output_type": "stream",
     "text": [
      "Expected reward of policy Random is 14.836499999999997\n",
      "Expected reward of policy RR is 14.871\n",
      "Expected reward of policy Whittle is 16.833000000000002\n",
      "Expected reward of policy Baseline Quota is 16.412\n",
      "Expected reward of policy Big-LP is 16.4725\n",
      "Expected reward of policy Big-LP Lump-sum is 16.4215\n",
      "m_g: 60,fair clusters: [10, 8, 35], timsteps:40\n",
      "k:15, ppl_per_cluster:10, n_clusters:20\n",
      "noise:0, seed:57\n"
     ]
    },
    {
     "name": "stderr",
     "output_type": "stream",
     "text": [
      "\r",
      "439it [43:11,  6.43s/it]"
     ]
    },
    {
     "name": "stdout",
     "output_type": "stream",
     "text": [
      "Expected reward of policy Random is 16.059500000000003\n",
      "Expected reward of policy RR is 16.017500000000002\n",
      "Expected reward of policy Whittle is 17.85\n",
      "Expected reward of policy Baseline Quota is 17.478\n",
      "Expected reward of policy Big-LP is 17.429000000000002\n",
      "Expected reward of policy Big-LP Lump-sum is 17.4015\n",
      "m_g: 60,fair clusters: [10, 8, 35], timsteps:40\n",
      "k:15, ppl_per_cluster:10, n_clusters:20\n",
      "noise:0, seed:33\n"
     ]
    },
    {
     "name": "stderr",
     "output_type": "stream",
     "text": [
      "\r",
      "440it [43:18,  6.63s/it]"
     ]
    },
    {
     "name": "stdout",
     "output_type": "stream",
     "text": [
      "Expected reward of policy Random is 13.1615\n",
      "Expected reward of policy RR is 13.098500000000001\n",
      "Expected reward of policy Whittle is 15.2075\n",
      "Expected reward of policy Baseline Quota is 14.8535\n",
      "Expected reward of policy Big-LP is 14.9685\n",
      "Expected reward of policy Big-LP Lump-sum is 14.908000000000001\n",
      "m_g: 80,fair clusters: [10, 8, 35], timsteps:40\n",
      "k:20, ppl_per_cluster:10, n_clusters:20\n",
      "noise:0, seed:62\n"
     ]
    },
    {
     "name": "stderr",
     "output_type": "stream",
     "text": [
      "\r",
      "441it [43:25,  6.75s/it]"
     ]
    },
    {
     "name": "stdout",
     "output_type": "stream",
     "text": [
      "Expected reward of policy Random is 14.095499999999998\n",
      "Expected reward of policy RR is 13.980500000000001\n",
      "Expected reward of policy Whittle is 15.8085\n",
      "Expected reward of policy Baseline Quota is 15.417000000000002\n",
      "Expected reward of policy Big-LP is 15.403500000000003\n",
      "Expected reward of policy Big-LP Lump-sum is 15.4165\n",
      "m_g: 80,fair clusters: [10, 8, 35], timsteps:40\n",
      "k:20, ppl_per_cluster:10, n_clusters:20\n",
      "noise:0, seed:58\n"
     ]
    },
    {
     "name": "stderr",
     "output_type": "stream",
     "text": [
      "\r",
      "442it [43:32,  6.81s/it]"
     ]
    },
    {
     "name": "stdout",
     "output_type": "stream",
     "text": [
      "Expected reward of policy Random is 17.187500000000004\n",
      "Expected reward of policy RR is 17.1235\n",
      "Expected reward of policy Whittle is 18.4095\n",
      "Expected reward of policy Baseline Quota is 18.299000000000003\n",
      "Expected reward of policy Big-LP is 18.2545\n",
      "Expected reward of policy Big-LP Lump-sum is 18.2775\n",
      "m_g: 80,fair clusters: [10, 8, 35], timsteps:40\n",
      "k:20, ppl_per_cluster:10, n_clusters:20\n",
      "noise:0, seed:19\n"
     ]
    },
    {
     "name": "stderr",
     "output_type": "stream",
     "text": [
      "\r",
      "443it [43:39,  6.95s/it]"
     ]
    },
    {
     "name": "stdout",
     "output_type": "stream",
     "text": [
      "Expected reward of policy Random is 14.407999999999998\n",
      "Expected reward of policy RR is 14.1565\n",
      "Expected reward of policy Whittle is 16.4035\n",
      "Expected reward of policy Baseline Quota is 15.972500000000002\n",
      "Expected reward of policy Big-LP is 15.934000000000001\n",
      "Expected reward of policy Big-LP Lump-sum is 15.868500000000001\n",
      "m_g: 80,fair clusters: [10, 8, 35], timsteps:40\n",
      "k:20, ppl_per_cluster:10, n_clusters:20\n",
      "noise:0, seed:74\n"
     ]
    },
    {
     "name": "stderr",
     "output_type": "stream",
     "text": [
      "\r",
      "444it [43:46,  7.01s/it]"
     ]
    },
    {
     "name": "stdout",
     "output_type": "stream",
     "text": [
      "Expected reward of policy Random is 14.1695\n",
      "Expected reward of policy RR is 14.1375\n",
      "Expected reward of policy Whittle is 16.115\n",
      "Expected reward of policy Baseline Quota is 15.7995\n",
      "Expected reward of policy Big-LP is 15.821499999999997\n",
      "Expected reward of policy Big-LP Lump-sum is 15.754\n",
      "m_g: 80,fair clusters: [10, 8, 35], timsteps:40\n",
      "k:20, ppl_per_cluster:10, n_clusters:20\n",
      "noise:0, seed:21\n"
     ]
    },
    {
     "name": "stderr",
     "output_type": "stream",
     "text": [
      "\r",
      "445it [43:53,  6.97s/it]"
     ]
    },
    {
     "name": "stdout",
     "output_type": "stream",
     "text": [
      "Expected reward of policy Random is 16.3425\n",
      "Expected reward of policy RR is 16.1515\n",
      "Expected reward of policy Whittle is 17.700499999999998\n",
      "Expected reward of policy Baseline Quota is 17.3475\n",
      "Expected reward of policy Big-LP is 17.28\n",
      "Expected reward of policy Big-LP Lump-sum is 17.302\n",
      "m_g: 80,fair clusters: [10, 8, 35], timsteps:40\n",
      "k:20, ppl_per_cluster:10, n_clusters:20\n",
      "noise:0, seed:84\n"
     ]
    },
    {
     "name": "stderr",
     "output_type": "stream",
     "text": [
      "\r",
      "446it [44:00,  6.94s/it]"
     ]
    },
    {
     "name": "stdout",
     "output_type": "stream",
     "text": [
      "Expected reward of policy Random is 15.021\n",
      "Expected reward of policy RR is 15.126\n",
      "Expected reward of policy Whittle is 17.4105\n",
      "Expected reward of policy Baseline Quota is 16.885\n",
      "Expected reward of policy Big-LP is 16.898500000000002\n",
      "Expected reward of policy Big-LP Lump-sum is 16.848499999999998\n",
      "m_g: 80,fair clusters: [10, 8, 35], timsteps:40\n",
      "k:20, ppl_per_cluster:10, n_clusters:20\n",
      "noise:0, seed:57\n"
     ]
    },
    {
     "name": "stderr",
     "output_type": "stream",
     "text": [
      "\r",
      "447it [44:07,  6.96s/it]"
     ]
    },
    {
     "name": "stdout",
     "output_type": "stream",
     "text": [
      "Expected reward of policy Random is 16.287\n",
      "Expected reward of policy RR is 16.237000000000002\n",
      "Expected reward of policy Whittle is 18.163000000000004\n",
      "Expected reward of policy Baseline Quota is 17.977\n",
      "Expected reward of policy Big-LP is 17.846999999999998\n",
      "Expected reward of policy Big-LP Lump-sum is 17.732499999999998\n",
      "m_g: 80,fair clusters: [10, 8, 35], timsteps:40\n",
      "k:20, ppl_per_cluster:10, n_clusters:20\n",
      "noise:0, seed:33\n"
     ]
    },
    {
     "name": "stderr",
     "output_type": "stream",
     "text": [
      "\r",
      "448it [44:14,  6.93s/it]"
     ]
    },
    {
     "name": "stdout",
     "output_type": "stream",
     "text": [
      "Expected reward of policy Random is 13.381\n",
      "Expected reward of policy RR is 13.355\n",
      "Expected reward of policy Whittle is 15.638\n",
      "Expected reward of policy Baseline Quota is 15.296000000000001\n",
      "Expected reward of policy Big-LP is 15.3305\n",
      "Expected reward of policy Big-LP Lump-sum is 15.281\n",
      "m_g: 33,fair clusters: [10, 23, 8, 35], timsteps:30\n",
      "k:15, ppl_per_cluster:10, n_clusters:20\n",
      "noise:0, seed:62\n"
     ]
    },
    {
     "name": "stderr",
     "output_type": "stream",
     "text": [
      "\r",
      "449it [44:20,  6.67s/it]"
     ]
    },
    {
     "name": "stdout",
     "output_type": "stream",
     "text": [
      "Expected reward of policy Random is 11.262500000000001\n",
      "Expected reward of policy RR is 11.247499999999999\n",
      "Expected reward of policy Whittle is 12.702000000000002\n",
      "Expected reward of policy Baseline Quota is 12.4715\n",
      "Expected reward of policy Big-LP is 12.491999999999999\n",
      "Expected reward of policy Big-LP Lump-sum is 12.432999999999998\n",
      "m_g: 33,fair clusters: [10, 23, 8, 35], timsteps:30\n",
      "k:15, ppl_per_cluster:10, n_clusters:20\n",
      "noise:0, seed:58\n"
     ]
    },
    {
     "name": "stderr",
     "output_type": "stream",
     "text": [
      "\r",
      "450it [44:26,  6.54s/it]"
     ]
    },
    {
     "name": "stdout",
     "output_type": "stream",
     "text": [
      "Expected reward of policy Random is 12.995\n",
      "Expected reward of policy RR is 12.912\n",
      "Expected reward of policy Whittle is 14.035\n",
      "Expected reward of policy Baseline Quota is 13.8845\n",
      "Expected reward of policy Big-LP is 13.913\n",
      "Expected reward of policy Big-LP Lump-sum is 13.879\n",
      "m_g: 33,fair clusters: [10, 23, 8, 35], timsteps:30\n",
      "k:15, ppl_per_cluster:10, n_clusters:20\n",
      "noise:0, seed:19\n"
     ]
    },
    {
     "name": "stderr",
     "output_type": "stream",
     "text": [
      "\r",
      "451it [44:33,  6.50s/it]"
     ]
    },
    {
     "name": "stdout",
     "output_type": "stream",
     "text": [
      "Expected reward of policy Random is 9.4445\n",
      "Expected reward of policy RR is 9.4625\n",
      "Expected reward of policy Whittle is 10.8055\n",
      "Expected reward of policy Baseline Quota is 10.5615\n",
      "Expected reward of policy Big-LP is 10.519\n",
      "Expected reward of policy Big-LP Lump-sum is 10.447999999999999\n",
      "m_g: 33,fair clusters: [10, 23, 8, 35], timsteps:30\n",
      "k:15, ppl_per_cluster:10, n_clusters:20\n",
      "noise:0, seed:74\n"
     ]
    },
    {
     "name": "stderr",
     "output_type": "stream",
     "text": [
      "\r",
      "452it [44:39,  6.39s/it]"
     ]
    },
    {
     "name": "stdout",
     "output_type": "stream",
     "text": [
      "Expected reward of policy Random is 11.035\n",
      "Expected reward of policy RR is 11.078500000000002\n",
      "Expected reward of policy Whittle is 12.1125\n",
      "Expected reward of policy Baseline Quota is 11.994000000000002\n",
      "Expected reward of policy Big-LP is 11.959499999999998\n",
      "Expected reward of policy Big-LP Lump-sum is 11.897499999999999\n",
      "m_g: 33,fair clusters: [10, 23, 8, 35], timsteps:30\n",
      "k:15, ppl_per_cluster:10, n_clusters:20\n",
      "noise:0, seed:21\n"
     ]
    },
    {
     "name": "stderr",
     "output_type": "stream",
     "text": [
      "\r",
      "453it [44:45,  6.26s/it]"
     ]
    },
    {
     "name": "stdout",
     "output_type": "stream",
     "text": [
      "Expected reward of policy Random is 11.753499999999999\n",
      "Expected reward of policy RR is 11.4905\n",
      "Expected reward of policy Whittle is 12.421000000000003\n",
      "Expected reward of policy Baseline Quota is 12.2195\n",
      "Expected reward of policy Big-LP is 12.2185\n",
      "Expected reward of policy Big-LP Lump-sum is 12.213000000000001\n",
      "m_g: 33,fair clusters: [10, 23, 8, 35], timsteps:30\n",
      "k:15, ppl_per_cluster:10, n_clusters:20\n",
      "noise:0, seed:84\n"
     ]
    },
    {
     "name": "stderr",
     "output_type": "stream",
     "text": [
      "\r",
      "454it [44:51,  6.20s/it]"
     ]
    },
    {
     "name": "stdout",
     "output_type": "stream",
     "text": [
      "Expected reward of policy Random is 10.008500000000002\n",
      "Expected reward of policy RR is 10.011\n",
      "Expected reward of policy Whittle is 11.272\n",
      "Expected reward of policy Baseline Quota is 11.06\n",
      "Expected reward of policy Big-LP is 11.084\n",
      "Expected reward of policy Big-LP Lump-sum is 11.0375\n",
      "m_g: 33,fair clusters: [10, 23, 8, 35], timsteps:30\n",
      "k:15, ppl_per_cluster:10, n_clusters:20\n",
      "noise:0, seed:57\n"
     ]
    },
    {
     "name": "stderr",
     "output_type": "stream",
     "text": [
      "\r",
      "455it [44:57,  6.23s/it]"
     ]
    },
    {
     "name": "stdout",
     "output_type": "stream",
     "text": [
      "Expected reward of policy Random is 11.892999999999999\n",
      "Expected reward of policy RR is 11.769499999999999\n",
      "Expected reward of policy Whittle is 12.5075\n",
      "Expected reward of policy Baseline Quota is 12.430000000000001\n",
      "Expected reward of policy Big-LP is 12.45\n",
      "Expected reward of policy Big-LP Lump-sum is 12.4175\n",
      "m_g: 33,fair clusters: [10, 23, 8, 35], timsteps:30\n",
      "k:15, ppl_per_cluster:10, n_clusters:20\n",
      "noise:0, seed:33\n"
     ]
    },
    {
     "name": "stderr",
     "output_type": "stream",
     "text": [
      "\r",
      "456it [45:03,  6.20s/it]"
     ]
    },
    {
     "name": "stdout",
     "output_type": "stream",
     "text": [
      "Expected reward of policy Random is 10.22\n",
      "Expected reward of policy RR is 10.1305\n",
      "Expected reward of policy Whittle is 11.6255\n",
      "Expected reward of policy Baseline Quota is 11.2795\n",
      "Expected reward of policy Big-LP is 11.2105\n",
      "Expected reward of policy Big-LP Lump-sum is 11.232\n",
      "m_g: 45,fair clusters: [10, 23, 8, 35], timsteps:30\n",
      "k:20, ppl_per_cluster:10, n_clusters:20\n",
      "noise:0, seed:62\n"
     ]
    },
    {
     "name": "stderr",
     "output_type": "stream",
     "text": [
      "\r",
      "457it [45:10,  6.33s/it]"
     ]
    },
    {
     "name": "stdout",
     "output_type": "stream",
     "text": [
      "Expected reward of policy Random is 11.4345\n",
      "Expected reward of policy RR is 11.368\n",
      "Expected reward of policy Whittle is 13.0605\n",
      "Expected reward of policy Baseline Quota is 12.780999999999999\n",
      "Expected reward of policy Big-LP is 12.789499999999999\n",
      "Expected reward of policy Big-LP Lump-sum is 12.713999999999999\n",
      "m_g: 45,fair clusters: [10, 23, 8, 35], timsteps:30\n",
      "k:20, ppl_per_cluster:10, n_clusters:20\n",
      "noise:0, seed:58\n"
     ]
    },
    {
     "name": "stderr",
     "output_type": "stream",
     "text": [
      "\r",
      "458it [45:17,  6.65s/it]"
     ]
    },
    {
     "name": "stdout",
     "output_type": "stream",
     "text": [
      "Expected reward of policy Random is 13.116000000000003\n",
      "Expected reward of policy RR is 13.0395\n",
      "Expected reward of policy Whittle is 14.2375\n",
      "Expected reward of policy Baseline Quota is 14.110000000000003\n",
      "Expected reward of policy Big-LP is 14.130499999999998\n",
      "Expected reward of policy Big-LP Lump-sum is 14.097999999999999\n",
      "m_g: 45,fair clusters: [10, 23, 8, 35], timsteps:30\n",
      "k:20, ppl_per_cluster:10, n_clusters:20\n",
      "noise:0, seed:19\n"
     ]
    },
    {
     "name": "stderr",
     "output_type": "stream",
     "text": [
      "\r",
      "459it [45:24,  6.83s/it]"
     ]
    },
    {
     "name": "stdout",
     "output_type": "stream",
     "text": [
      "Expected reward of policy Random is 9.5995\n",
      "Expected reward of policy RR is 9.595000000000002\n",
      "Expected reward of policy Whittle is 11.174999999999999\n",
      "Expected reward of policy Baseline Quota is 10.8615\n",
      "Expected reward of policy Big-LP is 10.799000000000001\n",
      "Expected reward of policy Big-LP Lump-sum is 10.769\n",
      "m_g: 45,fair clusters: [10, 23, 8, 35], timsteps:30\n",
      "k:20, ppl_per_cluster:10, n_clusters:20\n",
      "noise:0, seed:74\n"
     ]
    },
    {
     "name": "stderr",
     "output_type": "stream",
     "text": [
      "\r",
      "460it [45:32,  7.07s/it]"
     ]
    },
    {
     "name": "stdout",
     "output_type": "stream",
     "text": [
      "Expected reward of policy Random is 11.1875\n",
      "Expected reward of policy RR is 11.26\n",
      "Expected reward of policy Whittle is 12.3065\n",
      "Expected reward of policy Baseline Quota is 12.192\n",
      "Expected reward of policy Big-LP is 12.195\n",
      "Expected reward of policy Big-LP Lump-sum is 12.1555\n",
      "m_g: 45,fair clusters: [10, 23, 8, 35], timsteps:30\n",
      "k:20, ppl_per_cluster:10, n_clusters:20\n",
      "noise:0, seed:21\n"
     ]
    },
    {
     "name": "stderr",
     "output_type": "stream",
     "text": [
      "\r",
      "461it [45:40,  7.21s/it]"
     ]
    },
    {
     "name": "stdout",
     "output_type": "stream",
     "text": [
      "Expected reward of policy Random is 11.904\n",
      "Expected reward of policy RR is 11.7025\n",
      "Expected reward of policy Whittle is 12.7645\n",
      "Expected reward of policy Baseline Quota is 12.4775\n",
      "Expected reward of policy Big-LP is 12.488000000000001\n",
      "Expected reward of policy Big-LP Lump-sum is 12.447499999999998\n",
      "m_g: 45,fair clusters: [10, 23, 8, 35], timsteps:30\n",
      "k:20, ppl_per_cluster:10, n_clusters:20\n",
      "noise:0, seed:84\n"
     ]
    },
    {
     "name": "stderr",
     "output_type": "stream",
     "text": [
      "\r",
      "462it [45:47,  7.23s/it]"
     ]
    },
    {
     "name": "stdout",
     "output_type": "stream",
     "text": [
      "Expected reward of policy Random is 10.172\n",
      "Expected reward of policy RR is 10.220500000000003\n",
      "Expected reward of policy Whittle is 11.4845\n",
      "Expected reward of policy Baseline Quota is 11.3085\n",
      "Expected reward of policy Big-LP is 11.355999999999998\n",
      "Expected reward of policy Big-LP Lump-sum is 11.348\n",
      "m_g: 45,fair clusters: [10, 23, 8, 35], timsteps:30\n",
      "k:20, ppl_per_cluster:10, n_clusters:20\n",
      "noise:0, seed:57\n"
     ]
    },
    {
     "name": "stderr",
     "output_type": "stream",
     "text": [
      "\r",
      "463it [45:55,  7.43s/it]"
     ]
    },
    {
     "name": "stdout",
     "output_type": "stream",
     "text": [
      "Expected reward of policy Random is 12.007000000000001\n",
      "Expected reward of policy RR is 11.818499999999998\n",
      "Expected reward of policy Whittle is 12.718\n",
      "Expected reward of policy Baseline Quota is 12.596\n",
      "Expected reward of policy Big-LP is 12.599\n",
      "Expected reward of policy Big-LP Lump-sum is 12.5795\n",
      "m_g: 45,fair clusters: [10, 23, 8, 35], timsteps:30\n",
      "k:20, ppl_per_cluster:10, n_clusters:20\n",
      "noise:0, seed:33\n"
     ]
    },
    {
     "name": "stderr",
     "output_type": "stream",
     "text": [
      "\r",
      "464it [46:03,  7.53s/it]"
     ]
    },
    {
     "name": "stdout",
     "output_type": "stream",
     "text": [
      "Expected reward of policy Random is 10.389999999999999\n",
      "Expected reward of policy RR is 10.375499999999999\n",
      "Expected reward of policy Whittle is 12.024000000000001\n",
      "Expected reward of policy Baseline Quota is 11.667\n",
      "Expected reward of policy Big-LP is 11.605500000000001\n",
      "Expected reward of policy Big-LP Lump-sum is 11.5475\n",
      "m_g: 45,fair clusters: [10, 23, 8, 35], timsteps:40\n",
      "k:15, ppl_per_cluster:10, n_clusters:20\n",
      "noise:0, seed:62\n"
     ]
    },
    {
     "name": "stderr",
     "output_type": "stream",
     "text": [
      "\r",
      "465it [46:10,  7.60s/it]"
     ]
    },
    {
     "name": "stdout",
     "output_type": "stream",
     "text": [
      "Expected reward of policy Random is 15.1595\n",
      "Expected reward of policy RR is 15.076500000000001\n",
      "Expected reward of policy Whittle is 17.052\n",
      "Expected reward of policy Baseline Quota is 16.778\n",
      "Expected reward of policy Big-LP is 16.753000000000004\n",
      "Expected reward of policy Big-LP Lump-sum is 16.7095\n",
      "m_g: 45,fair clusters: [10, 23, 8, 35], timsteps:40\n",
      "k:15, ppl_per_cluster:10, n_clusters:20\n",
      "noise:0, seed:58\n"
     ]
    },
    {
     "name": "stderr",
     "output_type": "stream",
     "text": [
      "\r",
      "466it [46:18,  7.73s/it]"
     ]
    },
    {
     "name": "stdout",
     "output_type": "stream",
     "text": [
      "Expected reward of policy Random is 17.444\n",
      "Expected reward of policy RR is 17.335\n",
      "Expected reward of policy Whittle is 18.845499999999998\n",
      "Expected reward of policy Baseline Quota is 18.6135\n",
      "Expected reward of policy Big-LP is 18.678499999999996\n",
      "Expected reward of policy Big-LP Lump-sum is 18.648\n",
      "m_g: 45,fair clusters: [10, 23, 8, 35], timsteps:40\n",
      "k:15, ppl_per_cluster:10, n_clusters:20\n",
      "noise:0, seed:19\n"
     ]
    },
    {
     "name": "stderr",
     "output_type": "stream",
     "text": [
      "\r",
      "467it [46:26,  7.78s/it]"
     ]
    },
    {
     "name": "stdout",
     "output_type": "stream",
     "text": [
      "Expected reward of policy Random is 12.6425\n",
      "Expected reward of policy RR is 12.629999999999999\n",
      "Expected reward of policy Whittle is 14.462500000000002\n",
      "Expected reward of policy Baseline Quota is 14.102500000000001\n",
      "Expected reward of policy Big-LP is 14.0565\n",
      "Expected reward of policy Big-LP Lump-sum is 13.973500000000001\n",
      "m_g: 45,fair clusters: [10, 23, 8, 35], timsteps:40\n",
      "k:15, ppl_per_cluster:10, n_clusters:20\n",
      "noise:0, seed:74\n"
     ]
    },
    {
     "name": "stderr",
     "output_type": "stream",
     "text": [
      "\r",
      "468it [46:34,  7.68s/it]"
     ]
    },
    {
     "name": "stdout",
     "output_type": "stream",
     "text": [
      "Expected reward of policy Random is 14.810999999999998\n",
      "Expected reward of policy RR is 14.795499999999999\n",
      "Expected reward of policy Whittle is 16.228\n",
      "Expected reward of policy Baseline Quota is 16.029\n",
      "Expected reward of policy Big-LP is 15.9905\n",
      "Expected reward of policy Big-LP Lump-sum is 15.954999999999998\n",
      "m_g: 45,fair clusters: [10, 23, 8, 35], timsteps:40\n",
      "k:15, ppl_per_cluster:10, n_clusters:20\n",
      "noise:0, seed:21\n"
     ]
    },
    {
     "name": "stderr",
     "output_type": "stream",
     "text": [
      "\r",
      "469it [46:41,  7.67s/it]"
     ]
    },
    {
     "name": "stdout",
     "output_type": "stream",
     "text": [
      "Expected reward of policy Random is 15.803999999999998\n",
      "Expected reward of policy RR is 15.378499999999999\n",
      "Expected reward of policy Whittle is 16.641\n",
      "Expected reward of policy Baseline Quota is 16.347\n",
      "Expected reward of policy Big-LP is 16.351499999999998\n",
      "Expected reward of policy Big-LP Lump-sum is 16.3335\n",
      "m_g: 45,fair clusters: [10, 23, 8, 35], timsteps:40\n",
      "k:15, ppl_per_cluster:10, n_clusters:20\n",
      "noise:0, seed:84\n"
     ]
    },
    {
     "name": "stderr",
     "output_type": "stream",
     "text": [
      "\r",
      "470it [46:48,  7.49s/it]"
     ]
    },
    {
     "name": "stdout",
     "output_type": "stream",
     "text": [
      "Expected reward of policy Random is 13.377\n",
      "Expected reward of policy RR is 13.372499999999999\n",
      "Expected reward of policy Whittle is 15.0685\n",
      "Expected reward of policy Baseline Quota is 14.767500000000002\n",
      "Expected reward of policy Big-LP is 14.799000000000001\n",
      "Expected reward of policy Big-LP Lump-sum is 14.772500000000003\n",
      "m_g: 45,fair clusters: [10, 23, 8, 35], timsteps:40\n",
      "k:15, ppl_per_cluster:10, n_clusters:20\n",
      "noise:0, seed:57\n"
     ]
    },
    {
     "name": "stderr",
     "output_type": "stream",
     "text": [
      "\r",
      "471it [46:55,  7.33s/it]"
     ]
    },
    {
     "name": "stdout",
     "output_type": "stream",
     "text": [
      "Expected reward of policy Random is 15.889\n",
      "Expected reward of policy RR is 15.782999999999998\n",
      "Expected reward of policy Whittle is 16.791500000000003\n",
      "Expected reward of policy Baseline Quota is 16.686999999999998\n",
      "Expected reward of policy Big-LP is 16.7015\n",
      "Expected reward of policy Big-LP Lump-sum is 16.676499999999997\n",
      "m_g: 45,fair clusters: [10, 23, 8, 35], timsteps:40\n",
      "k:15, ppl_per_cluster:10, n_clusters:20\n",
      "noise:0, seed:33\n"
     ]
    },
    {
     "name": "stderr",
     "output_type": "stream",
     "text": [
      "\r",
      "472it [47:02,  7.07s/it]"
     ]
    },
    {
     "name": "stdout",
     "output_type": "stream",
     "text": [
      "Expected reward of policy Random is 13.744\n",
      "Expected reward of policy RR is 13.523000000000001\n",
      "Expected reward of policy Whittle is 15.602500000000001\n",
      "Expected reward of policy Baseline Quota is 15.155000000000001\n",
      "Expected reward of policy Big-LP is 15.068999999999999\n",
      "Expected reward of policy Big-LP Lump-sum is 15.083000000000002\n",
      "m_g: 60,fair clusters: [10, 23, 8, 35], timsteps:40\n",
      "k:20, ppl_per_cluster:10, n_clusters:20\n",
      "noise:0, seed:62\n"
     ]
    },
    {
     "name": "stderr",
     "output_type": "stream",
     "text": [
      "\r",
      "473it [47:09,  7.00s/it]"
     ]
    },
    {
     "name": "stdout",
     "output_type": "stream",
     "text": [
      "Expected reward of policy Random is 15.386000000000001\n",
      "Expected reward of policy RR is 15.249\n",
      "Expected reward of policy Whittle is 17.547\n",
      "Expected reward of policy Baseline Quota is 17.195000000000004\n",
      "Expected reward of policy Big-LP is 17.142\n",
      "Expected reward of policy Big-LP Lump-sum is 17.0905\n",
      "m_g: 60,fair clusters: [10, 23, 8, 35], timsteps:40\n",
      "k:20, ppl_per_cluster:10, n_clusters:20\n",
      "noise:0, seed:58\n"
     ]
    },
    {
     "name": "stderr",
     "output_type": "stream",
     "text": [
      "\r",
      "474it [47:16,  7.14s/it]"
     ]
    },
    {
     "name": "stdout",
     "output_type": "stream",
     "text": [
      "Expected reward of policy Random is 17.603\n",
      "Expected reward of policy RR is 17.458499999999997\n",
      "Expected reward of policy Whittle is 19.116500000000002\n",
      "Expected reward of policy Baseline Quota is 18.9395\n",
      "Expected reward of policy Big-LP is 18.976499999999998\n",
      "Expected reward of policy Big-LP Lump-sum is 18.926\n",
      "m_g: 60,fair clusters: [10, 23, 8, 35], timsteps:40\n",
      "k:20, ppl_per_cluster:10, n_clusters:20\n",
      "noise:0, seed:19\n"
     ]
    },
    {
     "name": "stderr",
     "output_type": "stream",
     "text": [
      "\r",
      "475it [47:23,  7.10s/it]"
     ]
    },
    {
     "name": "stdout",
     "output_type": "stream",
     "text": [
      "Expected reward of policy Random is 12.847\n",
      "Expected reward of policy RR is 12.787999999999998\n",
      "Expected reward of policy Whittle is 14.944999999999999\n",
      "Expected reward of policy Baseline Quota is 14.516\n",
      "Expected reward of policy Big-LP is 14.447999999999999\n",
      "Expected reward of policy Big-LP Lump-sum is 14.394\n",
      "m_g: 60,fair clusters: [10, 23, 8, 35], timsteps:40\n",
      "k:20, ppl_per_cluster:10, n_clusters:20\n",
      "noise:0, seed:74\n"
     ]
    },
    {
     "name": "stderr",
     "output_type": "stream",
     "text": [
      "\r",
      "476it [47:30,  7.02s/it]"
     ]
    },
    {
     "name": "stdout",
     "output_type": "stream",
     "text": [
      "Expected reward of policy Random is 15.008000000000001\n",
      "Expected reward of policy RR is 15.007000000000001\n",
      "Expected reward of policy Whittle is 16.487000000000002\n",
      "Expected reward of policy Baseline Quota is 16.339\n",
      "Expected reward of policy Big-LP is 16.327999999999996\n",
      "Expected reward of policy Big-LP Lump-sum is 16.305500000000002\n",
      "m_g: 60,fair clusters: [10, 23, 8, 35], timsteps:40\n",
      "k:20, ppl_per_cluster:10, n_clusters:20\n",
      "noise:0, seed:21\n"
     ]
    },
    {
     "name": "stderr",
     "output_type": "stream",
     "text": [
      "\r",
      "477it [47:37,  6.89s/it]"
     ]
    },
    {
     "name": "stdout",
     "output_type": "stream",
     "text": [
      "Expected reward of policy Random is 15.982\n",
      "Expected reward of policy RR is 15.627500000000001\n",
      "Expected reward of policy Whittle is 17.127499999999998\n",
      "Expected reward of policy Baseline Quota is 16.717499999999994\n",
      "Expected reward of policy Big-LP is 16.7085\n",
      "Expected reward of policy Big-LP Lump-sum is 16.693\n",
      "m_g: 60,fair clusters: [10, 23, 8, 35], timsteps:40\n",
      "k:20, ppl_per_cluster:10, n_clusters:20\n",
      "noise:0, seed:84\n"
     ]
    },
    {
     "name": "stderr",
     "output_type": "stream",
     "text": [
      "\r",
      "478it [47:43,  6.85s/it]"
     ]
    },
    {
     "name": "stdout",
     "output_type": "stream",
     "text": [
      "Expected reward of policy Random is 13.580000000000002\n",
      "Expected reward of policy RR is 13.666999999999998\n",
      "Expected reward of policy Whittle is 15.357499999999998\n",
      "Expected reward of policy Baseline Quota is 15.120000000000001\n",
      "Expected reward of policy Big-LP is 15.167499999999999\n",
      "Expected reward of policy Big-LP Lump-sum is 15.151500000000002\n",
      "m_g: 60,fair clusters: [10, 23, 8, 35], timsteps:40\n",
      "k:20, ppl_per_cluster:10, n_clusters:20\n",
      "noise:0, seed:57\n"
     ]
    },
    {
     "name": "stderr",
     "output_type": "stream",
     "text": [
      "\r",
      "479it [47:50,  6.86s/it]"
     ]
    },
    {
     "name": "stdout",
     "output_type": "stream",
     "text": [
      "Expected reward of policy Random is 16.0445\n",
      "Expected reward of policy RR is 15.904499999999999\n",
      "Expected reward of policy Whittle is 17.0875\n",
      "Expected reward of policy Baseline Quota is 16.9135\n",
      "Expected reward of policy Big-LP is 16.915999999999997\n",
      "Expected reward of policy Big-LP Lump-sum is 16.880000000000003\n",
      "m_g: 60,fair clusters: [10, 23, 8, 35], timsteps:40\n",
      "k:20, ppl_per_cluster:10, n_clusters:20\n",
      "noise:0, seed:33\n"
     ]
    },
    {
     "name": "stderr",
     "output_type": "stream",
     "text": [
      "\r",
      "480it [47:57,  6.76s/it]"
     ]
    },
    {
     "name": "stdout",
     "output_type": "stream",
     "text": [
      "Expected reward of policy Random is 13.98\n",
      "Expected reward of policy RR is 13.865\n",
      "Expected reward of policy Whittle is 16.140499999999996\n",
      "Expected reward of policy Baseline Quota is 15.687000000000001\n",
      "Expected reward of policy Big-LP is 15.631\n",
      "Expected reward of policy Big-LP Lump-sum is 15.564499999999999\n",
      "m_g: 225,fair clusters: [10], timsteps:30\n",
      "k:15, ppl_per_cluster:10, n_clusters:20\n",
      "noise:0, seed:62\n"
     ]
    },
    {
     "name": "stderr",
     "output_type": "stream",
     "text": [
      "\r",
      "481it [48:02,  6.43s/it]"
     ]
    },
    {
     "name": "stdout",
     "output_type": "stream",
     "text": [
      "Expected reward of policy Random is 12.742999999999999\n",
      "Expected reward of policy RR is 12.437999999999999\n",
      "Expected reward of policy Whittle is 13.413999999999998\n",
      "Expected reward of policy Baseline Quota is 12.860499999999998\n",
      "Expected reward of policy Big-LP is 12.806000000000001\n",
      "Expected reward of policy Big-LP Lump-sum is 12.806000000000001\n",
      "m_g: 225,fair clusters: [10], timsteps:30\n",
      "k:15, ppl_per_cluster:10, n_clusters:20\n",
      "noise:0, seed:58\n"
     ]
    },
    {
     "name": "stderr",
     "output_type": "stream",
     "text": [
      "\r",
      "482it [48:08,  6.25s/it]"
     ]
    },
    {
     "name": "stdout",
     "output_type": "stream",
     "text": [
      "Expected reward of policy Random is 11.491499999999998\n",
      "Expected reward of policy RR is 11.434500000000002\n",
      "Expected reward of policy Whittle is 12.621999999999998\n",
      "Expected reward of policy Baseline Quota is 12.133999999999999\n",
      "Expected reward of policy Big-LP is 12.114\n",
      "Expected reward of policy Big-LP Lump-sum is 12.114\n",
      "m_g: 225,fair clusters: [10], timsteps:30\n",
      "k:15, ppl_per_cluster:10, n_clusters:20\n",
      "noise:0, seed:19\n"
     ]
    },
    {
     "name": "stderr",
     "output_type": "stream",
     "text": [
      "\r",
      "483it [48:14,  6.09s/it]"
     ]
    },
    {
     "name": "stdout",
     "output_type": "stream",
     "text": [
      "Expected reward of policy Random is 11.966\n",
      "Expected reward of policy RR is 12.046\n",
      "Expected reward of policy Whittle is 13.5435\n",
      "Expected reward of policy Baseline Quota is 12.863\n",
      "Expected reward of policy Big-LP is 12.687999999999999\n",
      "Expected reward of policy Big-LP Lump-sum is 12.687999999999999\n",
      "m_g: 225,fair clusters: [10], timsteps:30\n",
      "k:15, ppl_per_cluster:10, n_clusters:20\n",
      "noise:0, seed:74\n"
     ]
    },
    {
     "name": "stderr",
     "output_type": "stream",
     "text": [
      "\r",
      "484it [48:20,  6.02s/it]"
     ]
    },
    {
     "name": "stdout",
     "output_type": "stream",
     "text": [
      "Expected reward of policy Random is 11.918000000000001\n",
      "Expected reward of policy RR is 11.8\n",
      "Expected reward of policy Whittle is 13.34\n",
      "Expected reward of policy Baseline Quota is 12.677000000000001\n",
      "Expected reward of policy Big-LP is 12.5585\n",
      "Expected reward of policy Big-LP Lump-sum is 12.5585\n",
      "m_g: 225,fair clusters: [10], timsteps:30\n",
      "k:15, ppl_per_cluster:10, n_clusters:20\n",
      "noise:0, seed:21\n"
     ]
    },
    {
     "name": "stderr",
     "output_type": "stream",
     "text": [
      "\r",
      "485it [48:26,  5.93s/it]"
     ]
    },
    {
     "name": "stdout",
     "output_type": "stream",
     "text": [
      "Expected reward of policy Random is 9.856000000000002\n",
      "Expected reward of policy RR is 9.760499999999999\n",
      "Expected reward of policy Whittle is 11.006\n",
      "Expected reward of policy Baseline Quota is 10.435999999999998\n",
      "Expected reward of policy Big-LP is 10.428\n",
      "Expected reward of policy Big-LP Lump-sum is 10.428\n",
      "m_g: 225,fair clusters: [10], timsteps:30\n",
      "k:15, ppl_per_cluster:10, n_clusters:20\n",
      "noise:0, seed:84\n"
     ]
    },
    {
     "name": "stderr",
     "output_type": "stream",
     "text": [
      "\r",
      "486it [48:31,  5.81s/it]"
     ]
    },
    {
     "name": "stdout",
     "output_type": "stream",
     "text": [
      "Expected reward of policy Random is 9.7415\n",
      "Expected reward of policy RR is 9.633\n",
      "Expected reward of policy Whittle is 10.918000000000001\n",
      "Expected reward of policy Baseline Quota is 10.41\n",
      "Expected reward of policy Big-LP is 10.376500000000002\n",
      "Expected reward of policy Big-LP Lump-sum is 10.376500000000002\n",
      "m_g: 225,fair clusters: [10], timsteps:30\n",
      "k:15, ppl_per_cluster:10, n_clusters:20\n",
      "noise:0, seed:57\n"
     ]
    },
    {
     "name": "stderr",
     "output_type": "stream",
     "text": [
      "\r",
      "487it [48:37,  5.78s/it]"
     ]
    },
    {
     "name": "stdout",
     "output_type": "stream",
     "text": [
      "Expected reward of policy Random is 12.5715\n",
      "Expected reward of policy RR is 12.5595\n",
      "Expected reward of policy Whittle is 13.682500000000001\n",
      "Expected reward of policy Baseline Quota is 13.142500000000002\n",
      "Expected reward of policy Big-LP is 13.150500000000003\n",
      "Expected reward of policy Big-LP Lump-sum is 13.150500000000003\n",
      "m_g: 225,fair clusters: [10], timsteps:30\n",
      "k:15, ppl_per_cluster:10, n_clusters:20\n",
      "noise:0, seed:33\n"
     ]
    },
    {
     "name": "stderr",
     "output_type": "stream",
     "text": [
      "\r",
      "488it [48:42,  5.72s/it]"
     ]
    },
    {
     "name": "stdout",
     "output_type": "stream",
     "text": [
      "Expected reward of policy Random is 11.108999999999998\n",
      "Expected reward of policy RR is 11.110000000000001\n",
      "Expected reward of policy Whittle is 12.53\n",
      "Expected reward of policy Baseline Quota is 12.041\n",
      "Expected reward of policy Big-LP is 12.045\n",
      "Expected reward of policy Big-LP Lump-sum is 12.045\n",
      "m_g: 300,fair clusters: [10], timsteps:30\n",
      "k:20, ppl_per_cluster:10, n_clusters:20\n",
      "noise:0, seed:62\n"
     ]
    },
    {
     "name": "stderr",
     "output_type": "stream",
     "text": [
      "\r",
      "489it [48:48,  5.66s/it]"
     ]
    },
    {
     "name": "stdout",
     "output_type": "stream",
     "text": [
      "Expected reward of policy Random is 12.861500000000001\n",
      "Expected reward of policy RR is 12.5815\n",
      "Expected reward of policy Whittle is 13.7345\n",
      "Expected reward of policy Baseline Quota is 13.161000000000001\n",
      "Expected reward of policy Big-LP is 13.235999999999999\n",
      "Expected reward of policy Big-LP Lump-sum is 13.235999999999999\n",
      "m_g: 300,fair clusters: [10], timsteps:30\n",
      "k:20, ppl_per_cluster:10, n_clusters:20\n",
      "noise:0, seed:58\n"
     ]
    },
    {
     "name": "stderr",
     "output_type": "stream",
     "text": [
      "\r",
      "490it [48:53,  5.60s/it]"
     ]
    },
    {
     "name": "stdout",
     "output_type": "stream",
     "text": [
      "Expected reward of policy Random is 11.649500000000002\n",
      "Expected reward of policy RR is 11.578\n",
      "Expected reward of policy Whittle is 13.031\n",
      "Expected reward of policy Baseline Quota is 12.328999999999999\n",
      "Expected reward of policy Big-LP is 12.3875\n",
      "Expected reward of policy Big-LP Lump-sum is 12.3875\n",
      "m_g: 300,fair clusters: [10], timsteps:30\n",
      "k:20, ppl_per_cluster:10, n_clusters:20\n",
      "noise:0, seed:19\n"
     ]
    },
    {
     "name": "stderr",
     "output_type": "stream",
     "text": [
      "\r",
      "491it [48:59,  5.51s/it]"
     ]
    },
    {
     "name": "stdout",
     "output_type": "stream",
     "text": [
      "Expected reward of policy Random is 12.1745\n",
      "Expected reward of policy RR is 12.138\n",
      "Expected reward of policy Whittle is 13.9585\n",
      "Expected reward of policy Baseline Quota is 13.2105\n",
      "Expected reward of policy Big-LP is 13.327000000000002\n",
      "Expected reward of policy Big-LP Lump-sum is 13.327000000000002\n",
      "m_g: 300,fair clusters: [10], timsteps:30\n",
      "k:20, ppl_per_cluster:10, n_clusters:20\n",
      "noise:0, seed:74\n"
     ]
    },
    {
     "name": "stderr",
     "output_type": "stream",
     "text": [
      "\r",
      "492it [49:04,  5.44s/it]"
     ]
    },
    {
     "name": "stdout",
     "output_type": "stream",
     "text": [
      "Expected reward of policy Random is 12.118500000000001\n",
      "Expected reward of policy RR is 12.1055\n",
      "Expected reward of policy Whittle is 13.684000000000001\n",
      "Expected reward of policy Baseline Quota is 13.030000000000001\n",
      "Expected reward of policy Big-LP is 13.194999999999999\n",
      "Expected reward of policy Big-LP Lump-sum is 13.194999999999999\n",
      "m_g: 300,fair clusters: [10], timsteps:30\n",
      "k:20, ppl_per_cluster:10, n_clusters:20\n",
      "noise:0, seed:21\n"
     ]
    },
    {
     "name": "stderr",
     "output_type": "stream",
     "text": [
      "\r",
      "493it [49:10,  5.53s/it]"
     ]
    },
    {
     "name": "stdout",
     "output_type": "stream",
     "text": [
      "Expected reward of policy Random is 10.007000000000001\n",
      "Expected reward of policy RR is 9.9695\n",
      "Expected reward of policy Whittle is 11.4245\n",
      "Expected reward of policy Baseline Quota is 10.6435\n",
      "Expected reward of policy Big-LP is 10.706\n",
      "Expected reward of policy Big-LP Lump-sum is 10.706\n",
      "m_g: 300,fair clusters: [10], timsteps:30\n",
      "k:20, ppl_per_cluster:10, n_clusters:20\n",
      "noise:0, seed:84\n"
     ]
    },
    {
     "name": "stderr",
     "output_type": "stream",
     "text": [
      "\r",
      "494it [49:16,  5.71s/it]"
     ]
    },
    {
     "name": "stdout",
     "output_type": "stream",
     "text": [
      "Expected reward of policy Random is 9.963999999999999\n",
      "Expected reward of policy RR is 9.927499999999998\n",
      "Expected reward of policy Whittle is 11.2765\n",
      "Expected reward of policy Baseline Quota is 10.635\n",
      "Expected reward of policy Big-LP is 10.724499999999999\n",
      "Expected reward of policy Big-LP Lump-sum is 10.724499999999999\n",
      "m_g: 300,fair clusters: [10], timsteps:30\n",
      "k:20, ppl_per_cluster:10, n_clusters:20\n",
      "noise:0, seed:57\n"
     ]
    },
    {
     "name": "stderr",
     "output_type": "stream",
     "text": [
      "\r",
      "495it [49:22,  5.73s/it]"
     ]
    },
    {
     "name": "stdout",
     "output_type": "stream",
     "text": [
      "Expected reward of policy Random is 12.714000000000002\n",
      "Expected reward of policy RR is 12.696499999999999\n",
      "Expected reward of policy Whittle is 14.138499999999999\n",
      "Expected reward of policy Baseline Quota is 13.3165\n",
      "Expected reward of policy Big-LP is 13.4475\n",
      "Expected reward of policy Big-LP Lump-sum is 13.4475\n",
      "m_g: 300,fair clusters: [10], timsteps:30\n",
      "k:20, ppl_per_cluster:10, n_clusters:20\n",
      "noise:0, seed:33\n"
     ]
    },
    {
     "name": "stderr",
     "output_type": "stream",
     "text": [
      "\r",
      "496it [49:27,  5.70s/it]"
     ]
    },
    {
     "name": "stdout",
     "output_type": "stream",
     "text": [
      "Expected reward of policy Random is 11.237\n",
      "Expected reward of policy RR is 11.302000000000001\n",
      "Expected reward of policy Whittle is 12.821000000000002\n",
      "Expected reward of policy Baseline Quota is 12.241499999999998\n",
      "Expected reward of policy Big-LP is 12.3785\n",
      "Expected reward of policy Big-LP Lump-sum is 12.3785\n",
      "m_g: 300,fair clusters: [10], timsteps:40\n",
      "k:15, ppl_per_cluster:10, n_clusters:20\n",
      "noise:0, seed:62\n"
     ]
    },
    {
     "name": "stderr",
     "output_type": "stream",
     "text": [
      "\r",
      "497it [49:33,  5.79s/it]"
     ]
    },
    {
     "name": "stdout",
     "output_type": "stream",
     "text": [
      "Expected reward of policy Random is 17.014999999999997\n",
      "Expected reward of policy RR is 16.718000000000004\n",
      "Expected reward of policy Whittle is 17.987499999999997\n",
      "Expected reward of policy Baseline Quota is 17.223000000000003\n",
      "Expected reward of policy Big-LP is 17.196500000000004\n",
      "Expected reward of policy Big-LP Lump-sum is 17.196500000000004\n",
      "m_g: 300,fair clusters: [10], timsteps:40\n",
      "k:15, ppl_per_cluster:10, n_clusters:20\n",
      "noise:0, seed:58\n"
     ]
    },
    {
     "name": "stderr",
     "output_type": "stream",
     "text": [
      "\r",
      "498it [49:39,  5.82s/it]"
     ]
    },
    {
     "name": "stdout",
     "output_type": "stream",
     "text": [
      "Expected reward of policy Random is 15.355499999999997\n",
      "Expected reward of policy RR is 15.269499999999999\n",
      "Expected reward of policy Whittle is 16.889000000000003\n",
      "Expected reward of policy Baseline Quota is 16.2305\n",
      "Expected reward of policy Big-LP is 16.181\n",
      "Expected reward of policy Big-LP Lump-sum is 16.181\n",
      "m_g: 300,fair clusters: [10], timsteps:40\n",
      "k:15, ppl_per_cluster:10, n_clusters:20\n",
      "noise:0, seed:19\n"
     ]
    },
    {
     "name": "stderr",
     "output_type": "stream",
     "text": [
      "\r",
      "499it [49:45,  5.96s/it]"
     ]
    },
    {
     "name": "stdout",
     "output_type": "stream",
     "text": [
      "Expected reward of policy Random is 16.0205\n",
      "Expected reward of policy RR is 16.145\n",
      "Expected reward of policy Whittle is 18.2655\n",
      "Expected reward of policy Baseline Quota is 17.297500000000003\n",
      "Expected reward of policy Big-LP is 17.105\n",
      "Expected reward of policy Big-LP Lump-sum is 17.105\n",
      "m_g: 300,fair clusters: [10], timsteps:40\n",
      "k:15, ppl_per_cluster:10, n_clusters:20\n",
      "noise:0, seed:74\n"
     ]
    },
    {
     "name": "stderr",
     "output_type": "stream",
     "text": [
      "\r",
      "500it [49:52,  6.16s/it]"
     ]
    },
    {
     "name": "stdout",
     "output_type": "stream",
     "text": [
      "Expected reward of policy Random is 15.959999999999999\n",
      "Expected reward of policy RR is 15.848500000000001\n",
      "Expected reward of policy Whittle is 17.929\n",
      "Expected reward of policy Baseline Quota is 17.057000000000002\n",
      "Expected reward of policy Big-LP is 16.874000000000002\n",
      "Expected reward of policy Big-LP Lump-sum is 16.874000000000002\n",
      "m_g: 300,fair clusters: [10], timsteps:40\n",
      "k:15, ppl_per_cluster:10, n_clusters:20\n",
      "noise:0, seed:21\n"
     ]
    },
    {
     "name": "stderr",
     "output_type": "stream",
     "text": [
      "\r",
      "501it [49:58,  6.15s/it]"
     ]
    },
    {
     "name": "stdout",
     "output_type": "stream",
     "text": [
      "Expected reward of policy Random is 13.227500000000001\n",
      "Expected reward of policy RR is 13.023\n",
      "Expected reward of policy Whittle is 14.724\n",
      "Expected reward of policy Baseline Quota is 13.953\n",
      "Expected reward of policy Big-LP is 13.881499999999999\n",
      "Expected reward of policy Big-LP Lump-sum is 13.881499999999999\n",
      "m_g: 300,fair clusters: [10], timsteps:40\n",
      "k:15, ppl_per_cluster:10, n_clusters:20\n",
      "noise:0, seed:84\n"
     ]
    },
    {
     "name": "stderr",
     "output_type": "stream",
     "text": [
      "\r",
      "502it [50:05,  6.28s/it]"
     ]
    },
    {
     "name": "stdout",
     "output_type": "stream",
     "text": [
      "Expected reward of policy Random is 13.055000000000001\n",
      "Expected reward of policy RR is 12.832500000000001\n",
      "Expected reward of policy Whittle is 14.597500000000002\n",
      "Expected reward of policy Baseline Quota is 13.927000000000001\n",
      "Expected reward of policy Big-LP is 13.909\n",
      "Expected reward of policy Big-LP Lump-sum is 13.909\n",
      "m_g: 300,fair clusters: [10], timsteps:40\n",
      "k:15, ppl_per_cluster:10, n_clusters:20\n",
      "noise:0, seed:57\n"
     ]
    },
    {
     "name": "stderr",
     "output_type": "stream",
     "text": [
      "\r",
      "503it [50:11,  6.43s/it]"
     ]
    },
    {
     "name": "stdout",
     "output_type": "stream",
     "text": [
      "Expected reward of policy Random is 16.860500000000002\n",
      "Expected reward of policy RR is 16.8365\n",
      "Expected reward of policy Whittle is 18.357\n",
      "Expected reward of policy Baseline Quota is 17.6345\n",
      "Expected reward of policy Big-LP is 17.650999999999996\n",
      "Expected reward of policy Big-LP Lump-sum is 17.650999999999996\n",
      "m_g: 300,fair clusters: [10], timsteps:40\n",
      "k:15, ppl_per_cluster:10, n_clusters:20\n",
      "noise:0, seed:33\n"
     ]
    },
    {
     "name": "stderr",
     "output_type": "stream",
     "text": [
      "\r",
      "504it [50:18,  6.48s/it]"
     ]
    },
    {
     "name": "stdout",
     "output_type": "stream",
     "text": [
      "Expected reward of policy Random is 14.892999999999997\n",
      "Expected reward of policy RR is 14.9445\n",
      "Expected reward of policy Whittle is 16.8245\n",
      "Expected reward of policy Baseline Quota is 16.160500000000003\n",
      "Expected reward of policy Big-LP is 16.214999999999996\n",
      "Expected reward of policy Big-LP Lump-sum is 16.2145\n",
      "m_g: 400,fair clusters: [10], timsteps:40\n",
      "k:20, ppl_per_cluster:10, n_clusters:20\n",
      "noise:0, seed:62\n"
     ]
    },
    {
     "name": "stderr",
     "output_type": "stream",
     "text": [
      "\r",
      "505it [50:25,  6.59s/it]"
     ]
    },
    {
     "name": "stdout",
     "output_type": "stream",
     "text": [
      "Expected reward of policy Random is 17.1505\n",
      "Expected reward of policy RR is 16.8505\n",
      "Expected reward of policy Whittle is 18.4065\n",
      "Expected reward of policy Baseline Quota is 17.6435\n",
      "Expected reward of policy Big-LP is 17.761499999999998\n",
      "Expected reward of policy Big-LP Lump-sum is 17.761499999999998\n",
      "m_g: 400,fair clusters: [10], timsteps:40\n",
      "k:20, ppl_per_cluster:10, n_clusters:20\n",
      "noise:0, seed:58\n"
     ]
    },
    {
     "name": "stderr",
     "output_type": "stream",
     "text": [
      "\r",
      "506it [50:31,  6.56s/it]"
     ]
    },
    {
     "name": "stdout",
     "output_type": "stream",
     "text": [
      "Expected reward of policy Random is 15.5545\n",
      "Expected reward of policy RR is 15.459\n",
      "Expected reward of policy Whittle is 17.448\n",
      "Expected reward of policy Baseline Quota is 16.5205\n",
      "Expected reward of policy Big-LP is 16.58\n",
      "Expected reward of policy Big-LP Lump-sum is 16.58\n",
      "m_g: 400,fair clusters: [10], timsteps:40\n",
      "k:20, ppl_per_cluster:10, n_clusters:20\n",
      "noise:0, seed:19\n"
     ]
    },
    {
     "name": "stderr",
     "output_type": "stream",
     "text": [
      "\r",
      "507it [50:38,  6.43s/it]"
     ]
    },
    {
     "name": "stdout",
     "output_type": "stream",
     "text": [
      "Expected reward of policy Random is 16.2925\n",
      "Expected reward of policy RR is 16.326999999999998\n",
      "Expected reward of policy Whittle is 18.839\n",
      "Expected reward of policy Baseline Quota is 17.784499999999998\n",
      "Expected reward of policy Big-LP is 17.954500000000003\n",
      "Expected reward of policy Big-LP Lump-sum is 17.954500000000003\n",
      "m_g: 400,fair clusters: [10], timsteps:40\n",
      "k:20, ppl_per_cluster:10, n_clusters:20\n",
      "noise:0, seed:74\n"
     ]
    },
    {
     "name": "stderr",
     "output_type": "stream",
     "text": [
      "\r",
      "508it [50:44,  6.31s/it]"
     ]
    },
    {
     "name": "stdout",
     "output_type": "stream",
     "text": [
      "Expected reward of policy Random is 16.2555\n",
      "Expected reward of policy RR is 16.2265\n",
      "Expected reward of policy Whittle is 18.405\n",
      "Expected reward of policy Baseline Quota is 17.5405\n",
      "Expected reward of policy Big-LP is 17.7395\n",
      "Expected reward of policy Big-LP Lump-sum is 17.7395\n",
      "m_g: 400,fair clusters: [10], timsteps:40\n",
      "k:20, ppl_per_cluster:10, n_clusters:20\n",
      "noise:0, seed:21\n"
     ]
    },
    {
     "name": "stderr",
     "output_type": "stream",
     "text": [
      "\r",
      "509it [50:50,  6.25s/it]"
     ]
    },
    {
     "name": "stdout",
     "output_type": "stream",
     "text": [
      "Expected reward of policy Random is 13.434999999999999\n",
      "Expected reward of policy RR is 13.2875\n",
      "Expected reward of policy Whittle is 15.3015\n",
      "Expected reward of policy Baseline Quota is 14.232499999999998\n",
      "Expected reward of policy Big-LP is 14.272499999999999\n",
      "Expected reward of policy Big-LP Lump-sum is 14.272499999999999\n",
      "m_g: 400,fair clusters: [10], timsteps:40\n",
      "k:20, ppl_per_cluster:10, n_clusters:20\n",
      "noise:0, seed:84\n"
     ]
    },
    {
     "name": "stderr",
     "output_type": "stream",
     "text": [
      "\r",
      "510it [50:57,  6.59s/it]"
     ]
    },
    {
     "name": "stdout",
     "output_type": "stream",
     "text": [
      "Expected reward of policy Random is 13.3275\n",
      "Expected reward of policy RR is 13.3065\n",
      "Expected reward of policy Whittle is 15.097\n",
      "Expected reward of policy Baseline Quota is 14.23\n",
      "Expected reward of policy Big-LP is 14.270499999999998\n",
      "Expected reward of policy Big-LP Lump-sum is 14.270499999999998\n",
      "m_g: 400,fair clusters: [10], timsteps:40\n",
      "k:20, ppl_per_cluster:10, n_clusters:20\n",
      "noise:0, seed:57\n"
     ]
    },
    {
     "name": "stderr",
     "output_type": "stream",
     "text": [
      "\r",
      "511it [51:04,  6.66s/it]"
     ]
    },
    {
     "name": "stdout",
     "output_type": "stream",
     "text": [
      "Expected reward of policy Random is 17.084500000000002\n",
      "Expected reward of policy RR is 17.044999999999998\n",
      "Expected reward of policy Whittle is 18.9865\n",
      "Expected reward of policy Baseline Quota is 17.9125\n",
      "Expected reward of policy Big-LP is 18.0215\n",
      "Expected reward of policy Big-LP Lump-sum is 18.0215\n",
      "m_g: 400,fair clusters: [10], timsteps:40\n",
      "k:20, ppl_per_cluster:10, n_clusters:20\n",
      "noise:0, seed:33\n"
     ]
    },
    {
     "name": "stderr",
     "output_type": "stream",
     "text": [
      "\r",
      "512it [51:10,  6.49s/it]"
     ]
    },
    {
     "name": "stdout",
     "output_type": "stream",
     "text": [
      "Expected reward of policy Random is 15.093\n",
      "Expected reward of policy RR is 15.133499999999998\n",
      "Expected reward of policy Whittle is 17.2425\n",
      "Expected reward of policy Baseline Quota is 16.472500000000004\n",
      "Expected reward of policy Big-LP is 16.647499999999997\n",
      "Expected reward of policy Big-LP Lump-sum is 16.647499999999997\n",
      "m_g: 225,fair clusters: [35], timsteps:30\n",
      "k:15, ppl_per_cluster:10, n_clusters:20\n",
      "noise:0, seed:62\n"
     ]
    },
    {
     "name": "stderr",
     "output_type": "stream",
     "text": [
      "\r",
      "513it [51:16,  6.50s/it]"
     ]
    },
    {
     "name": "stdout",
     "output_type": "stream",
     "text": [
      "Expected reward of policy Random is 12.386499999999998\n",
      "Expected reward of policy RR is 12.3105\n",
      "Expected reward of policy Whittle is 13.315999999999999\n",
      "Expected reward of policy Baseline Quota is 12.739500000000001\n",
      "Expected reward of policy Big-LP is 12.759\n",
      "Expected reward of policy Big-LP Lump-sum is 12.759\n",
      "m_g: 225,fair clusters: [35], timsteps:30\n",
      "k:15, ppl_per_cluster:10, n_clusters:20\n",
      "noise:0, seed:58\n"
     ]
    },
    {
     "name": "stderr",
     "output_type": "stream",
     "text": [
      "\r",
      "514it [51:22,  6.29s/it]"
     ]
    },
    {
     "name": "stdout",
     "output_type": "stream",
     "text": [
      "Expected reward of policy Random is 11.560999999999998\n",
      "Expected reward of policy RR is 11.6595\n",
      "Expected reward of policy Whittle is 12.924000000000001\n",
      "Expected reward of policy Baseline Quota is 12.447\n",
      "Expected reward of policy Big-LP is 12.404\n",
      "Expected reward of policy Big-LP Lump-sum is 12.404\n",
      "m_g: 225,fair clusters: [35], timsteps:30\n",
      "k:15, ppl_per_cluster:10, n_clusters:20\n",
      "noise:0, seed:19\n"
     ]
    },
    {
     "name": "stderr",
     "output_type": "stream",
     "text": [
      "\r",
      "515it [51:28,  6.24s/it]"
     ]
    },
    {
     "name": "stdout",
     "output_type": "stream",
     "text": [
      "Expected reward of policy Random is 12.066\n",
      "Expected reward of policy RR is 12.1125\n",
      "Expected reward of policy Whittle is 13.760000000000002\n",
      "Expected reward of policy Baseline Quota is 12.916\n",
      "Expected reward of policy Big-LP is 12.7185\n",
      "Expected reward of policy Big-LP Lump-sum is 12.719\n",
      "m_g: 225,fair clusters: [35], timsteps:30\n",
      "k:15, ppl_per_cluster:10, n_clusters:20\n",
      "noise:0, seed:74\n"
     ]
    },
    {
     "name": "stderr",
     "output_type": "stream",
     "text": [
      "\r",
      "516it [51:34,  6.17s/it]"
     ]
    },
    {
     "name": "stdout",
     "output_type": "stream",
     "text": [
      "Expected reward of policy Random is 12.852500000000001\n",
      "Expected reward of policy RR is 12.985\n",
      "Expected reward of policy Whittle is 14.3065\n",
      "Expected reward of policy Baseline Quota is 13.631\n",
      "Expected reward of policy Big-LP is 13.501\n",
      "Expected reward of policy Big-LP Lump-sum is 13.501\n",
      "m_g: 225,fair clusters: [35], timsteps:30\n",
      "k:15, ppl_per_cluster:10, n_clusters:20\n",
      "noise:0, seed:21\n"
     ]
    },
    {
     "name": "stderr",
     "output_type": "stream",
     "text": [
      "\r",
      "517it [51:41,  6.16s/it]"
     ]
    },
    {
     "name": "stdout",
     "output_type": "stream",
     "text": [
      "Expected reward of policy Random is 10.8005\n",
      "Expected reward of policy RR is 10.822\n",
      "Expected reward of policy Whittle is 12.192499999999999\n",
      "Expected reward of policy Baseline Quota is 11.495\n",
      "Expected reward of policy Big-LP is 11.391000000000002\n",
      "Expected reward of policy Big-LP Lump-sum is 11.391000000000002\n",
      "m_g: 225,fair clusters: [35], timsteps:30\n",
      "k:15, ppl_per_cluster:10, n_clusters:20\n",
      "noise:0, seed:84\n"
     ]
    },
    {
     "name": "stderr",
     "output_type": "stream",
     "text": [
      "\r",
      "518it [51:46,  5.97s/it]"
     ]
    },
    {
     "name": "stdout",
     "output_type": "stream",
     "text": [
      "Expected reward of policy Random is 11.208499999999999\n",
      "Expected reward of policy RR is 11.1365\n",
      "Expected reward of policy Whittle is 12.434000000000001\n",
      "Expected reward of policy Baseline Quota is 11.7605\n",
      "Expected reward of policy Big-LP is 11.690999999999999\n",
      "Expected reward of policy Big-LP Lump-sum is 11.690999999999999\n",
      "m_g: 225,fair clusters: [35], timsteps:30\n",
      "k:15, ppl_per_cluster:10, n_clusters:20\n",
      "noise:0, seed:57\n"
     ]
    },
    {
     "name": "stderr",
     "output_type": "stream",
     "text": [
      "\r",
      "519it [51:52,  5.97s/it]"
     ]
    },
    {
     "name": "stdout",
     "output_type": "stream",
     "text": [
      "Expected reward of policy Random is 13.879000000000001\n",
      "Expected reward of policy RR is 13.9055\n",
      "Expected reward of policy Whittle is 14.967999999999998\n",
      "Expected reward of policy Baseline Quota is 14.482999999999999\n",
      "Expected reward of policy Big-LP is 14.463\n",
      "Expected reward of policy Big-LP Lump-sum is 14.463\n",
      "m_g: 225,fair clusters: [35], timsteps:30\n",
      "k:15, ppl_per_cluster:10, n_clusters:20\n",
      "noise:0, seed:33\n"
     ]
    },
    {
     "name": "stderr",
     "output_type": "stream",
     "text": [
      "\r",
      "520it [51:58,  5.91s/it]"
     ]
    },
    {
     "name": "stdout",
     "output_type": "stream",
     "text": [
      "Expected reward of policy Random is 12.372\n",
      "Expected reward of policy RR is 12.314499999999999\n",
      "Expected reward of policy Whittle is 13.668500000000003\n",
      "Expected reward of policy Baseline Quota is 13.163\n",
      "Expected reward of policy Big-LP is 13.146\n",
      "Expected reward of policy Big-LP Lump-sum is 13.146\n",
      "m_g: 300,fair clusters: [35], timsteps:30\n",
      "k:20, ppl_per_cluster:10, n_clusters:20\n",
      "noise:0, seed:62\n"
     ]
    },
    {
     "name": "stderr",
     "output_type": "stream",
     "text": [
      "\r",
      "521it [52:03,  5.79s/it]"
     ]
    },
    {
     "name": "stdout",
     "output_type": "stream",
     "text": [
      "Expected reward of policy Random is 12.493500000000001\n",
      "Expected reward of policy RR is 12.4085\n",
      "Expected reward of policy Whittle is 13.6375\n",
      "Expected reward of policy Baseline Quota is 12.986500000000001\n",
      "Expected reward of policy Big-LP is 13.0885\n",
      "Expected reward of policy Big-LP Lump-sum is 13.0885\n",
      "m_g: 300,fair clusters: [35], timsteps:30\n",
      "k:20, ppl_per_cluster:10, n_clusters:20\n",
      "noise:0, seed:58\n"
     ]
    },
    {
     "name": "stderr",
     "output_type": "stream",
     "text": [
      "\r",
      "522it [52:09,  5.77s/it]"
     ]
    },
    {
     "name": "stdout",
     "output_type": "stream",
     "text": [
      "Expected reward of policy Random is 11.715000000000002\n",
      "Expected reward of policy RR is 11.7665\n",
      "Expected reward of policy Whittle is 13.3335\n",
      "Expected reward of policy Baseline Quota is 12.619\n",
      "Expected reward of policy Big-LP is 12.6655\n",
      "Expected reward of policy Big-LP Lump-sum is 12.6655\n",
      "m_g: 300,fair clusters: [35], timsteps:30\n",
      "k:20, ppl_per_cluster:10, n_clusters:20\n",
      "noise:0, seed:19\n"
     ]
    },
    {
     "name": "stderr",
     "output_type": "stream",
     "text": [
      "\r",
      "523it [52:15,  5.70s/it]"
     ]
    },
    {
     "name": "stdout",
     "output_type": "stream",
     "text": [
      "Expected reward of policy Random is 12.222\n",
      "Expected reward of policy RR is 12.237499999999999\n",
      "Expected reward of policy Whittle is 14.0375\n",
      "Expected reward of policy Baseline Quota is 13.3065\n",
      "Expected reward of policy Big-LP is 13.66\n",
      "Expected reward of policy Big-LP Lump-sum is 13.692000000000002\n",
      "m_g: 300,fair clusters: [35], timsteps:30\n",
      "k:20, ppl_per_cluster:10, n_clusters:20\n",
      "noise:0, seed:74\n"
     ]
    },
    {
     "name": "stderr",
     "output_type": "stream",
     "text": [
      "\r",
      "524it [52:20,  5.60s/it]"
     ]
    },
    {
     "name": "stdout",
     "output_type": "stream",
     "text": [
      "Expected reward of policy Random is 12.9725\n",
      "Expected reward of policy RR is 13.120999999999999\n",
      "Expected reward of policy Whittle is 14.617499999999998\n",
      "Expected reward of policy Baseline Quota is 13.878\n",
      "Expected reward of policy Big-LP is 13.9355\n",
      "Expected reward of policy Big-LP Lump-sum is 13.9355\n",
      "m_g: 300,fair clusters: [35], timsteps:30\n",
      "k:20, ppl_per_cluster:10, n_clusters:20\n",
      "noise:0, seed:21\n"
     ]
    },
    {
     "name": "stderr",
     "output_type": "stream",
     "text": [
      "\r",
      "525it [52:26,  5.62s/it]"
     ]
    },
    {
     "name": "stdout",
     "output_type": "stream",
     "text": [
      "Expected reward of policy Random is 10.969\n",
      "Expected reward of policy RR is 10.918000000000003\n",
      "Expected reward of policy Whittle is 12.587\n",
      "Expected reward of policy Baseline Quota is 11.756\n",
      "Expected reward of policy Big-LP is 11.860000000000001\n",
      "Expected reward of policy Big-LP Lump-sum is 11.860000000000001\n",
      "m_g: 300,fair clusters: [35], timsteps:30\n",
      "k:20, ppl_per_cluster:10, n_clusters:20\n",
      "noise:0, seed:84\n"
     ]
    },
    {
     "name": "stderr",
     "output_type": "stream",
     "text": [
      "\r",
      "526it [52:31,  5.61s/it]"
     ]
    },
    {
     "name": "stdout",
     "output_type": "stream",
     "text": [
      "Expected reward of policy Random is 11.357499999999998\n",
      "Expected reward of policy RR is 11.2985\n",
      "Expected reward of policy Whittle is 12.808000000000002\n",
      "Expected reward of policy Baseline Quota is 12.006\n",
      "Expected reward of policy Big-LP is 12.0725\n",
      "Expected reward of policy Big-LP Lump-sum is 12.0725\n",
      "m_g: 300,fair clusters: [35], timsteps:30\n",
      "k:20, ppl_per_cluster:10, n_clusters:20\n",
      "noise:0, seed:57\n"
     ]
    },
    {
     "name": "stderr",
     "output_type": "stream",
     "text": [
      "\r",
      "527it [52:37,  5.68s/it]"
     ]
    },
    {
     "name": "stdout",
     "output_type": "stream",
     "text": [
      "Expected reward of policy Random is 13.998\n",
      "Expected reward of policy RR is 14.078999999999999\n",
      "Expected reward of policy Whittle is 15.383500000000002\n",
      "Expected reward of policy Baseline Quota is 14.660500000000003\n",
      "Expected reward of policy Big-LP is 14.7065\n",
      "Expected reward of policy Big-LP Lump-sum is 14.7065\n",
      "m_g: 300,fair clusters: [35], timsteps:30\n",
      "k:20, ppl_per_cluster:10, n_clusters:20\n",
      "noise:0, seed:33\n"
     ]
    },
    {
     "name": "stderr",
     "output_type": "stream",
     "text": [
      "\r",
      "528it [52:43,  5.68s/it]"
     ]
    },
    {
     "name": "stdout",
     "output_type": "stream",
     "text": [
      "Expected reward of policy Random is 12.514500000000002\n",
      "Expected reward of policy RR is 12.516499999999999\n",
      "Expected reward of policy Whittle is 14.016499999999999\n",
      "Expected reward of policy Baseline Quota is 13.3535\n",
      "Expected reward of policy Big-LP is 13.466\n",
      "Expected reward of policy Big-LP Lump-sum is 13.466\n",
      "m_g: 300,fair clusters: [35], timsteps:40\n",
      "k:15, ppl_per_cluster:10, n_clusters:20\n",
      "noise:0, seed:62\n"
     ]
    },
    {
     "name": "stderr",
     "output_type": "stream",
     "text": [
      "\r",
      "529it [52:49,  5.78s/it]"
     ]
    },
    {
     "name": "stdout",
     "output_type": "stream",
     "text": [
      "Expected reward of policy Random is 16.576\n",
      "Expected reward of policy RR is 16.55\n",
      "Expected reward of policy Whittle is 17.8945\n",
      "Expected reward of policy Baseline Quota is 17.131500000000003\n",
      "Expected reward of policy Big-LP is 17.148999999999997\n",
      "Expected reward of policy Big-LP Lump-sum is 17.148999999999997\n",
      "m_g: 300,fair clusters: [35], timsteps:40\n",
      "k:15, ppl_per_cluster:10, n_clusters:20\n",
      "noise:0, seed:58\n"
     ]
    },
    {
     "name": "stderr",
     "output_type": "stream",
     "text": [
      "\r",
      "530it [52:55,  5.87s/it]"
     ]
    },
    {
     "name": "stdout",
     "output_type": "stream",
     "text": [
      "Expected reward of policy Random is 15.478500000000002\n",
      "Expected reward of policy RR is 15.550500000000003\n",
      "Expected reward of policy Whittle is 17.249999999999996\n",
      "Expected reward of policy Baseline Quota is 16.628500000000003\n",
      "Expected reward of policy Big-LP is 16.586\n",
      "Expected reward of policy Big-LP Lump-sum is 16.586\n",
      "m_g: 300,fair clusters: [35], timsteps:40\n",
      "k:15, ppl_per_cluster:10, n_clusters:20\n",
      "noise:0, seed:19\n"
     ]
    },
    {
     "name": "stderr",
     "output_type": "stream",
     "text": [
      "\r",
      "531it [53:01,  6.03s/it]"
     ]
    },
    {
     "name": "stdout",
     "output_type": "stream",
     "text": [
      "Expected reward of policy Random is 16.125499999999995\n",
      "Expected reward of policy RR is 16.241000000000003\n",
      "Expected reward of policy Whittle is 18.4775\n",
      "Expected reward of policy Baseline Quota is 17.323\n",
      "Expected reward of policy Big-LP is 17.134\n",
      "Expected reward of policy Big-LP Lump-sum is 17.134\n",
      "m_g: 300,fair clusters: [35], timsteps:40\n",
      "k:15, ppl_per_cluster:10, n_clusters:20\n",
      "noise:0, seed:74\n"
     ]
    },
    {
     "name": "stderr",
     "output_type": "stream",
     "text": [
      "\r",
      "532it [53:07,  6.03s/it]"
     ]
    },
    {
     "name": "stdout",
     "output_type": "stream",
     "text": [
      "Expected reward of policy Random is 17.258999999999997\n",
      "Expected reward of policy RR is 17.4195\n",
      "Expected reward of policy Whittle is 19.2345\n",
      "Expected reward of policy Baseline Quota is 18.305\n",
      "Expected reward of policy Big-LP is 18.1725\n",
      "Expected reward of policy Big-LP Lump-sum is 18.1725\n",
      "m_g: 300,fair clusters: [35], timsteps:40\n",
      "k:15, ppl_per_cluster:10, n_clusters:20\n",
      "noise:0, seed:21\n"
     ]
    },
    {
     "name": "stderr",
     "output_type": "stream",
     "text": [
      "\r",
      "533it [53:14,  6.20s/it]"
     ]
    },
    {
     "name": "stdout",
     "output_type": "stream",
     "text": [
      "Expected reward of policy Random is 14.483999999999998\n",
      "Expected reward of policy RR is 14.538000000000002\n",
      "Expected reward of policy Whittle is 16.4255\n",
      "Expected reward of policy Baseline Quota is 15.4665\n",
      "Expected reward of policy Big-LP is 15.350500000000002\n",
      "Expected reward of policy Big-LP Lump-sum is 15.350500000000002\n",
      "m_g: 300,fair clusters: [35], timsteps:40\n",
      "k:15, ppl_per_cluster:10, n_clusters:20\n",
      "noise:0, seed:84\n"
     ]
    },
    {
     "name": "stderr",
     "output_type": "stream",
     "text": [
      "\r",
      "534it [53:20,  6.28s/it]"
     ]
    },
    {
     "name": "stdout",
     "output_type": "stream",
     "text": [
      "Expected reward of policy Random is 14.972999999999995\n",
      "Expected reward of policy RR is 14.804499999999999\n",
      "Expected reward of policy Whittle is 16.704500000000003\n",
      "Expected reward of policy Baseline Quota is 15.735499999999998\n",
      "Expected reward of policy Big-LP is 15.678\n",
      "Expected reward of policy Big-LP Lump-sum is 15.678\n",
      "m_g: 300,fair clusters: [35], timsteps:40\n",
      "k:15, ppl_per_cluster:10, n_clusters:20\n",
      "noise:0, seed:57\n"
     ]
    },
    {
     "name": "stderr",
     "output_type": "stream",
     "text": [
      "\r",
      "535it [53:27,  6.30s/it]"
     ]
    },
    {
     "name": "stdout",
     "output_type": "stream",
     "text": [
      "Expected reward of policy Random is 18.714\n",
      "Expected reward of policy RR is 18.7815\n",
      "Expected reward of policy Whittle is 20.1725\n",
      "Expected reward of policy Baseline Quota is 19.551499999999997\n",
      "Expected reward of policy Big-LP is 19.514499999999998\n",
      "Expected reward of policy Big-LP Lump-sum is 19.514499999999998\n",
      "m_g: 300,fair clusters: [35], timsteps:40\n",
      "k:15, ppl_per_cluster:10, n_clusters:20\n",
      "noise:0, seed:33\n"
     ]
    },
    {
     "name": "stderr",
     "output_type": "stream",
     "text": [
      "\r",
      "536it [53:33,  6.18s/it]"
     ]
    },
    {
     "name": "stdout",
     "output_type": "stream",
     "text": [
      "Expected reward of policy Random is 16.601000000000003\n",
      "Expected reward of policy RR is 16.5685\n",
      "Expected reward of policy Whittle is 18.381999999999998\n",
      "Expected reward of policy Baseline Quota is 17.7015\n",
      "Expected reward of policy Big-LP is 17.694\n",
      "Expected reward of policy Big-LP Lump-sum is 17.694\n",
      "m_g: 400,fair clusters: [35], timsteps:40\n",
      "k:20, ppl_per_cluster:10, n_clusters:20\n",
      "noise:0, seed:62\n"
     ]
    },
    {
     "name": "stderr",
     "output_type": "stream",
     "text": [
      "\r",
      "537it [53:38,  6.05s/it]"
     ]
    },
    {
     "name": "stdout",
     "output_type": "stream",
     "text": [
      "Expected reward of policy Random is 16.740000000000002\n",
      "Expected reward of policy RR is 16.689999999999998\n",
      "Expected reward of policy Whittle is 18.3275\n",
      "Expected reward of policy Baseline Quota is 17.503000000000004\n",
      "Expected reward of policy Big-LP is 17.6285\n",
      "Expected reward of policy Big-LP Lump-sum is 17.6285\n",
      "m_g: 400,fair clusters: [35], timsteps:40\n",
      "k:20, ppl_per_cluster:10, n_clusters:20\n",
      "noise:0, seed:58\n"
     ]
    },
    {
     "name": "stderr",
     "output_type": "stream",
     "text": [
      "\r",
      "538it [53:44,  6.00s/it]"
     ]
    },
    {
     "name": "stdout",
     "output_type": "stream",
     "text": [
      "Expected reward of policy Random is 15.6805\n",
      "Expected reward of policy RR is 15.722\n",
      "Expected reward of policy Whittle is 17.811\n",
      "Expected reward of policy Baseline Quota is 16.871499999999997\n",
      "Expected reward of policy Big-LP is 16.913\n",
      "Expected reward of policy Big-LP Lump-sum is 16.913\n",
      "m_g: 400,fair clusters: [35], timsteps:40\n",
      "k:20, ppl_per_cluster:10, n_clusters:20\n",
      "noise:0, seed:19\n"
     ]
    },
    {
     "name": "stderr",
     "output_type": "stream",
     "text": [
      "\r",
      "539it [53:50,  5.95s/it]"
     ]
    },
    {
     "name": "stdout",
     "output_type": "stream",
     "text": [
      "Expected reward of policy Random is 16.3525\n",
      "Expected reward of policy RR is 16.396\n",
      "Expected reward of policy Whittle is 18.8545\n",
      "Expected reward of policy Baseline Quota is 17.878999999999998\n",
      "Expected reward of policy Big-LP is 18.3065\n",
      "Expected reward of policy Big-LP Lump-sum is 18.313\n",
      "m_g: 400,fair clusters: [35], timsteps:40\n",
      "k:20, ppl_per_cluster:10, n_clusters:20\n",
      "noise:0, seed:74\n"
     ]
    },
    {
     "name": "stderr",
     "output_type": "stream",
     "text": [
      "\r",
      "540it [53:56,  5.98s/it]"
     ]
    },
    {
     "name": "stdout",
     "output_type": "stream",
     "text": [
      "Expected reward of policy Random is 17.436\n",
      "Expected reward of policy RR is 17.602\n",
      "Expected reward of policy Whittle is 19.656000000000002\n",
      "Expected reward of policy Baseline Quota is 18.67\n",
      "Expected reward of policy Big-LP is 18.777\n",
      "Expected reward of policy Big-LP Lump-sum is 18.777\n",
      "m_g: 400,fair clusters: [35], timsteps:40\n",
      "k:20, ppl_per_cluster:10, n_clusters:20\n",
      "noise:0, seed:21\n"
     ]
    },
    {
     "name": "stderr",
     "output_type": "stream",
     "text": [
      "\r",
      "541it [54:03,  6.14s/it]"
     ]
    },
    {
     "name": "stdout",
     "output_type": "stream",
     "text": [
      "Expected reward of policy Random is 14.7105\n",
      "Expected reward of policy RR is 14.647499999999999\n",
      "Expected reward of policy Whittle is 16.959000000000003\n",
      "Expected reward of policy Baseline Quota is 15.834500000000002\n",
      "Expected reward of policy Big-LP is 15.889\n",
      "Expected reward of policy Big-LP Lump-sum is 15.889\n",
      "m_g: 400,fair clusters: [35], timsteps:40\n",
      "k:20, ppl_per_cluster:10, n_clusters:20\n",
      "noise:0, seed:84\n"
     ]
    },
    {
     "name": "stderr",
     "output_type": "stream",
     "text": [
      "\r",
      "542it [54:09,  6.09s/it]"
     ]
    },
    {
     "name": "stdout",
     "output_type": "stream",
     "text": [
      "Expected reward of policy Random is 15.180000000000001\n",
      "Expected reward of policy RR is 15.1435\n",
      "Expected reward of policy Whittle is 17.213\n",
      "Expected reward of policy Baseline Quota is 16.110500000000002\n",
      "Expected reward of policy Big-LP is 16.1565\n",
      "Expected reward of policy Big-LP Lump-sum is 16.1565\n",
      "m_g: 400,fair clusters: [35], timsteps:40\n",
      "k:20, ppl_per_cluster:10, n_clusters:20\n",
      "noise:0, seed:57\n"
     ]
    },
    {
     "name": "stderr",
     "output_type": "stream",
     "text": [
      "\r",
      "543it [54:15,  6.15s/it]"
     ]
    },
    {
     "name": "stdout",
     "output_type": "stream",
     "text": [
      "Expected reward of policy Random is 18.878499999999995\n",
      "Expected reward of policy RR is 18.991\n",
      "Expected reward of policy Whittle is 20.7305\n",
      "Expected reward of policy Baseline Quota is 19.779999999999998\n",
      "Expected reward of policy Big-LP is 19.824\n",
      "Expected reward of policy Big-LP Lump-sum is 19.824\n",
      "m_g: 400,fair clusters: [35], timsteps:40\n",
      "k:20, ppl_per_cluster:10, n_clusters:20\n",
      "noise:0, seed:33\n"
     ]
    },
    {
     "name": "stderr",
     "output_type": "stream",
     "text": [
      "\r",
      "544it [54:21,  6.07s/it]"
     ]
    },
    {
     "name": "stdout",
     "output_type": "stream",
     "text": [
      "Expected reward of policy Random is 16.791\n",
      "Expected reward of policy RR is 16.817\n",
      "Expected reward of policy Whittle is 18.883999999999997\n",
      "Expected reward of policy Baseline Quota is 17.97\n",
      "Expected reward of policy Big-LP is 18.056000000000004\n",
      "Expected reward of policy Big-LP Lump-sum is 18.056000000000004\n",
      "m_g: 112,fair clusters: [10, 35], timsteps:30\n",
      "k:15, ppl_per_cluster:10, n_clusters:20\n",
      "noise:0, seed:62\n"
     ]
    },
    {
     "name": "stderr",
     "output_type": "stream",
     "text": [
      "\r",
      "545it [54:27,  6.01s/it]"
     ]
    },
    {
     "name": "stdout",
     "output_type": "stream",
     "text": [
      "Expected reward of policy Random is 12.2655\n",
      "Expected reward of policy RR is 12.174999999999999\n",
      "Expected reward of policy Whittle is 13.2125\n",
      "Expected reward of policy Baseline Quota is 12.632\n",
      "Expected reward of policy Big-LP is 12.578\n",
      "Expected reward of policy Big-LP Lump-sum is 12.5645\n",
      "m_g: 112,fair clusters: [10, 35], timsteps:30\n",
      "k:15, ppl_per_cluster:10, n_clusters:20\n",
      "noise:0, seed:58\n"
     ]
    },
    {
     "name": "stderr",
     "output_type": "stream",
     "text": [
      "\r",
      "546it [54:32,  5.94s/it]"
     ]
    },
    {
     "name": "stdout",
     "output_type": "stream",
     "text": [
      "Expected reward of policy Random is 11.5915\n",
      "Expected reward of policy RR is 11.471\n",
      "Expected reward of policy Whittle is 12.544999999999998\n",
      "Expected reward of policy Baseline Quota is 12.132500000000002\n",
      "Expected reward of policy Big-LP is 12.1495\n",
      "Expected reward of policy Big-LP Lump-sum is 12.11\n",
      "m_g: 112,fair clusters: [10, 35], timsteps:30\n",
      "k:15, ppl_per_cluster:10, n_clusters:20\n",
      "noise:0, seed:19\n"
     ]
    },
    {
     "name": "stderr",
     "output_type": "stream",
     "text": [
      "\r",
      "547it [54:38,  5.90s/it]"
     ]
    },
    {
     "name": "stdout",
     "output_type": "stream",
     "text": [
      "Expected reward of policy Random is 11.764\n",
      "Expected reward of policy RR is 11.6035\n",
      "Expected reward of policy Whittle is 13.116999999999999\n",
      "Expected reward of policy Baseline Quota is 12.338000000000001\n",
      "Expected reward of policy Big-LP is 12.212\n",
      "Expected reward of policy Big-LP Lump-sum is 12.2245\n",
      "m_g: 112,fair clusters: [10, 35], timsteps:30\n",
      "k:15, ppl_per_cluster:10, n_clusters:20\n",
      "noise:0, seed:74\n"
     ]
    },
    {
     "name": "stderr",
     "output_type": "stream",
     "text": [
      "\r",
      "548it [54:44,  5.90s/it]"
     ]
    },
    {
     "name": "stdout",
     "output_type": "stream",
     "text": [
      "Expected reward of policy Random is 10.944500000000001\n",
      "Expected reward of policy RR is 10.888499999999999\n",
      "Expected reward of policy Whittle is 12.4375\n",
      "Expected reward of policy Baseline Quota is 11.7755\n",
      "Expected reward of policy Big-LP is 11.6195\n",
      "Expected reward of policy Big-LP Lump-sum is 11.59\n",
      "m_g: 112,fair clusters: [10, 35], timsteps:30\n",
      "k:15, ppl_per_cluster:10, n_clusters:20\n",
      "noise:0, seed:21\n"
     ]
    },
    {
     "name": "stderr",
     "output_type": "stream",
     "text": [
      "\r",
      "549it [54:50,  5.87s/it]"
     ]
    },
    {
     "name": "stdout",
     "output_type": "stream",
     "text": [
      "Expected reward of policy Random is 10.182500000000001\n",
      "Expected reward of policy RR is 10.193500000000002\n",
      "Expected reward of policy Whittle is 10.82\n",
      "Expected reward of policy Baseline Quota is 10.521\n",
      "Expected reward of policy Big-LP is 10.564\n",
      "Expected reward of policy Big-LP Lump-sum is 10.527\n",
      "m_g: 112,fair clusters: [10, 35], timsteps:30\n",
      "k:15, ppl_per_cluster:10, n_clusters:20\n",
      "noise:0, seed:84\n"
     ]
    },
    {
     "name": "stderr",
     "output_type": "stream",
     "text": [
      "\r",
      "550it [54:56,  5.83s/it]"
     ]
    },
    {
     "name": "stdout",
     "output_type": "stream",
     "text": [
      "Expected reward of policy Random is 10.104000000000003\n",
      "Expected reward of policy RR is 10.1435\n",
      "Expected reward of policy Whittle is 11.1845\n",
      "Expected reward of policy Baseline Quota is 10.782000000000002\n",
      "Expected reward of policy Big-LP is 10.767\n",
      "Expected reward of policy Big-LP Lump-sum is 10.745999999999999\n",
      "m_g: 112,fair clusters: [10, 35], timsteps:30\n",
      "k:15, ppl_per_cluster:10, n_clusters:20\n",
      "noise:0, seed:57\n"
     ]
    },
    {
     "name": "stderr",
     "output_type": "stream",
     "text": [
      "\r",
      "551it [55:01,  5.77s/it]"
     ]
    },
    {
     "name": "stdout",
     "output_type": "stream",
     "text": [
      "Expected reward of policy Random is 13.0755\n",
      "Expected reward of policy RR is 12.8845\n",
      "Expected reward of policy Whittle is 14.4165\n",
      "Expected reward of policy Baseline Quota is 13.747\n",
      "Expected reward of policy Big-LP is 13.6435\n",
      "Expected reward of policy Big-LP Lump-sum is 13.584999999999999\n",
      "m_g: 112,fair clusters: [10, 35], timsteps:30\n",
      "k:15, ppl_per_cluster:10, n_clusters:20\n",
      "noise:0, seed:33\n"
     ]
    },
    {
     "name": "stderr",
     "output_type": "stream",
     "text": [
      "\r",
      "552it [55:07,  5.65s/it]"
     ]
    },
    {
     "name": "stdout",
     "output_type": "stream",
     "text": [
      "Expected reward of policy Random is 11.4845\n",
      "Expected reward of policy RR is 11.5625\n",
      "Expected reward of policy Whittle is 12.9695\n",
      "Expected reward of policy Baseline Quota is 12.5185\n",
      "Expected reward of policy Big-LP is 12.5305\n",
      "Expected reward of policy Big-LP Lump-sum is 12.499\n",
      "m_g: 150,fair clusters: [10, 35], timsteps:30\n",
      "k:20, ppl_per_cluster:10, n_clusters:20\n",
      "noise:0, seed:62\n"
     ]
    },
    {
     "name": "stderr",
     "output_type": "stream",
     "text": [
      "\r",
      "553it [55:13,  5.78s/it]"
     ]
    },
    {
     "name": "stdout",
     "output_type": "stream",
     "text": [
      "Expected reward of policy Random is 12.4085\n",
      "Expected reward of policy RR is 12.3815\n",
      "Expected reward of policy Whittle is 13.5365\n",
      "Expected reward of policy Baseline Quota is 12.964499999999997\n",
      "Expected reward of policy Big-LP is 12.928999999999998\n",
      "Expected reward of policy Big-LP Lump-sum is 12.883000000000001\n",
      "m_g: 150,fair clusters: [10, 35], timsteps:30\n",
      "k:20, ppl_per_cluster:10, n_clusters:20\n",
      "noise:0, seed:58\n"
     ]
    },
    {
     "name": "stderr",
     "output_type": "stream",
     "text": [
      "\r",
      "554it [55:19,  5.90s/it]"
     ]
    },
    {
     "name": "stdout",
     "output_type": "stream",
     "text": [
      "Expected reward of policy Random is 11.747\n",
      "Expected reward of policy RR is 11.708000000000002\n",
      "Expected reward of policy Whittle is 12.9355\n",
      "Expected reward of policy Baseline Quota is 12.3325\n",
      "Expected reward of policy Big-LP is 12.324\n",
      "Expected reward of policy Big-LP Lump-sum is 12.319\n",
      "m_g: 150,fair clusters: [10, 35], timsteps:30\n",
      "k:20, ppl_per_cluster:10, n_clusters:20\n",
      "noise:0, seed:19\n"
     ]
    },
    {
     "name": "stderr",
     "output_type": "stream",
     "text": [
      "\r",
      "555it [55:25,  5.91s/it]"
     ]
    },
    {
     "name": "stdout",
     "output_type": "stream",
     "text": [
      "Expected reward of policy Random is 11.95\n",
      "Expected reward of policy RR is 11.749\n",
      "Expected reward of policy Whittle is 13.641000000000002\n",
      "Expected reward of policy Baseline Quota is 12.746500000000001\n",
      "Expected reward of policy Big-LP is 12.6035\n",
      "Expected reward of policy Big-LP Lump-sum is 12.577\n",
      "m_g: 150,fair clusters: [10, 35], timsteps:30\n",
      "k:20, ppl_per_cluster:10, n_clusters:20\n",
      "noise:0, seed:74\n"
     ]
    },
    {
     "name": "stderr",
     "output_type": "stream",
     "text": [
      "\r",
      "556it [55:31,  5.95s/it]"
     ]
    },
    {
     "name": "stdout",
     "output_type": "stream",
     "text": [
      "Expected reward of policy Random is 11.1165\n",
      "Expected reward of policy RR is 11.187999999999999\n",
      "Expected reward of policy Whittle is 12.791\n",
      "Expected reward of policy Baseline Quota is 12.075\n",
      "Expected reward of policy Big-LP is 11.932\n",
      "Expected reward of policy Big-LP Lump-sum is 11.895\n",
      "m_g: 150,fair clusters: [10, 35], timsteps:30\n",
      "k:20, ppl_per_cluster:10, n_clusters:20\n",
      "noise:0, seed:21\n"
     ]
    },
    {
     "name": "stderr",
     "output_type": "stream",
     "text": [
      "\r",
      "557it [55:37,  5.96s/it]"
     ]
    },
    {
     "name": "stdout",
     "output_type": "stream",
     "text": [
      "Expected reward of policy Random is 10.2825\n",
      "Expected reward of policy RR is 10.2985\n",
      "Expected reward of policy Whittle is 11.114\n",
      "Expected reward of policy Baseline Quota is 10.7255\n",
      "Expected reward of policy Big-LP is 10.735\n",
      "Expected reward of policy Big-LP Lump-sum is 10.705499999999999\n",
      "m_g: 150,fair clusters: [10, 35], timsteps:30\n",
      "k:20, ppl_per_cluster:10, n_clusters:20\n",
      "noise:0, seed:84\n"
     ]
    },
    {
     "name": "stderr",
     "output_type": "stream",
     "text": [
      "\r",
      "558it [55:43,  5.93s/it]"
     ]
    },
    {
     "name": "stdout",
     "output_type": "stream",
     "text": [
      "Expected reward of policy Random is 10.2135\n",
      "Expected reward of policy RR is 10.4065\n",
      "Expected reward of policy Whittle is 11.522\n",
      "Expected reward of policy Baseline Quota is 10.9895\n",
      "Expected reward of policy Big-LP is 10.965\n",
      "Expected reward of policy Big-LP Lump-sum is 10.937000000000001\n",
      "m_g: 150,fair clusters: [10, 35], timsteps:30\n",
      "k:20, ppl_per_cluster:10, n_clusters:20\n",
      "noise:0, seed:57\n"
     ]
    },
    {
     "name": "stderr",
     "output_type": "stream",
     "text": [
      "\r",
      "559it [55:49,  5.97s/it]"
     ]
    },
    {
     "name": "stdout",
     "output_type": "stream",
     "text": [
      "Expected reward of policy Random is 13.2005\n",
      "Expected reward of policy RR is 12.991999999999999\n",
      "Expected reward of policy Whittle is 14.776499999999999\n",
      "Expected reward of policy Baseline Quota is 14.078999999999999\n",
      "Expected reward of policy Big-LP is 13.943000000000001\n",
      "Expected reward of policy Big-LP Lump-sum is 13.888499999999999\n",
      "m_g: 150,fair clusters: [10, 35], timsteps:30\n",
      "k:20, ppl_per_cluster:10, n_clusters:20\n",
      "noise:0, seed:33\n"
     ]
    },
    {
     "name": "stderr",
     "output_type": "stream",
     "text": [
      "\r",
      "560it [55:55,  5.98s/it]"
     ]
    },
    {
     "name": "stdout",
     "output_type": "stream",
     "text": [
      "Expected reward of policy Random is 11.617\n",
      "Expected reward of policy RR is 11.727\n",
      "Expected reward of policy Whittle is 13.2005\n",
      "Expected reward of policy Baseline Quota is 12.761\n",
      "Expected reward of policy Big-LP is 12.7425\n",
      "Expected reward of policy Big-LP Lump-sum is 12.7175\n",
      "m_g: 150,fair clusters: [10, 35], timsteps:40\n",
      "k:15, ppl_per_cluster:10, n_clusters:20\n",
      "noise:0, seed:62\n"
     ]
    },
    {
     "name": "stderr",
     "output_type": "stream",
     "text": [
      "\r",
      "561it [56:01,  6.01s/it]"
     ]
    },
    {
     "name": "stdout",
     "output_type": "stream",
     "text": [
      "Expected reward of policy Random is 16.4615\n",
      "Expected reward of policy RR is 16.4115\n",
      "Expected reward of policy Whittle is 17.7075\n",
      "Expected reward of policy Baseline Quota is 16.979\n",
      "Expected reward of policy Big-LP is 16.931500000000003\n",
      "Expected reward of policy Big-LP Lump-sum is 16.905499999999996\n",
      "m_g: 150,fair clusters: [10, 35], timsteps:40\n",
      "k:15, ppl_per_cluster:10, n_clusters:20\n",
      "noise:0, seed:58\n"
     ]
    },
    {
     "name": "stderr",
     "output_type": "stream",
     "text": [
      "\r",
      "562it [56:07,  6.00s/it]"
     ]
    },
    {
     "name": "stdout",
     "output_type": "stream",
     "text": [
      "Expected reward of policy Random is 15.49\n",
      "Expected reward of policy RR is 15.360000000000003\n",
      "Expected reward of policy Whittle is 16.823\n",
      "Expected reward of policy Baseline Quota is 16.2575\n",
      "Expected reward of policy Big-LP is 16.2535\n",
      "Expected reward of policy Big-LP Lump-sum is 16.2425\n",
      "m_g: 150,fair clusters: [10, 35], timsteps:40\n",
      "k:15, ppl_per_cluster:10, n_clusters:20\n",
      "noise:0, seed:19\n"
     ]
    },
    {
     "name": "stderr",
     "output_type": "stream",
     "text": [
      "\r",
      "563it [56:13,  6.03s/it]"
     ]
    },
    {
     "name": "stdout",
     "output_type": "stream",
     "text": [
      "Expected reward of policy Random is 15.688999999999998\n",
      "Expected reward of policy RR is 15.607500000000002\n",
      "Expected reward of policy Whittle is 17.6905\n",
      "Expected reward of policy Baseline Quota is 16.644999999999996\n",
      "Expected reward of policy Big-LP is 16.496999999999996\n",
      "Expected reward of policy Big-LP Lump-sum is 16.522\n",
      "m_g: 150,fair clusters: [10, 35], timsteps:40\n",
      "k:15, ppl_per_cluster:10, n_clusters:20\n",
      "noise:0, seed:74\n"
     ]
    },
    {
     "name": "stderr",
     "output_type": "stream",
     "text": [
      "\r",
      "564it [56:19,  6.11s/it]"
     ]
    },
    {
     "name": "stdout",
     "output_type": "stream",
     "text": [
      "Expected reward of policy Random is 14.689000000000002\n",
      "Expected reward of policy RR is 14.559999999999999\n",
      "Expected reward of policy Whittle is 16.705000000000002\n",
      "Expected reward of policy Baseline Quota is 15.803999999999998\n",
      "Expected reward of policy Big-LP is 15.584\n",
      "Expected reward of policy Big-LP Lump-sum is 15.565000000000001\n",
      "m_g: 150,fair clusters: [10, 35], timsteps:40\n",
      "k:15, ppl_per_cluster:10, n_clusters:20\n",
      "noise:0, seed:21\n"
     ]
    },
    {
     "name": "stderr",
     "output_type": "stream",
     "text": [
      "\r",
      "565it [56:26,  6.18s/it]"
     ]
    },
    {
     "name": "stdout",
     "output_type": "stream",
     "text": [
      "Expected reward of policy Random is 13.5935\n",
      "Expected reward of policy RR is 13.625\n",
      "Expected reward of policy Whittle is 14.481\n",
      "Expected reward of policy Baseline Quota is 14.068999999999999\n",
      "Expected reward of policy Big-LP is 14.1095\n",
      "Expected reward of policy Big-LP Lump-sum is 14.070500000000001\n",
      "m_g: 150,fair clusters: [10, 35], timsteps:40\n",
      "k:15, ppl_per_cluster:10, n_clusters:20\n",
      "noise:0, seed:84\n"
     ]
    },
    {
     "name": "stderr",
     "output_type": "stream",
     "text": [
      "\r",
      "566it [56:32,  6.17s/it]"
     ]
    },
    {
     "name": "stdout",
     "output_type": "stream",
     "text": [
      "Expected reward of policy Random is 13.516499999999999\n",
      "Expected reward of policy RR is 13.584\n",
      "Expected reward of policy Whittle is 14.975999999999999\n",
      "Expected reward of policy Baseline Quota is 14.4335\n",
      "Expected reward of policy Big-LP is 14.429000000000002\n",
      "Expected reward of policy Big-LP Lump-sum is 14.403500000000003\n",
      "m_g: 150,fair clusters: [10, 35], timsteps:40\n",
      "k:15, ppl_per_cluster:10, n_clusters:20\n",
      "noise:0, seed:57\n"
     ]
    },
    {
     "name": "stderr",
     "output_type": "stream",
     "text": [
      "\r",
      "567it [56:38,  6.22s/it]"
     ]
    },
    {
     "name": "stdout",
     "output_type": "stream",
     "text": [
      "Expected reward of policy Random is 17.523500000000002\n",
      "Expected reward of policy RR is 17.286499999999997\n",
      "Expected reward of policy Whittle is 19.374000000000002\n",
      "Expected reward of policy Baseline Quota is 18.470000000000002\n",
      "Expected reward of policy Big-LP is 18.419\n",
      "Expected reward of policy Big-LP Lump-sum is 18.3185\n",
      "m_g: 150,fair clusters: [10, 35], timsteps:40\n",
      "k:15, ppl_per_cluster:10, n_clusters:20\n",
      "noise:0, seed:33\n"
     ]
    },
    {
     "name": "stderr",
     "output_type": "stream",
     "text": [
      "\r",
      "568it [56:44,  6.23s/it]"
     ]
    },
    {
     "name": "stdout",
     "output_type": "stream",
     "text": [
      "Expected reward of policy Random is 15.393\n",
      "Expected reward of policy RR is 15.497499999999999\n",
      "Expected reward of policy Whittle is 17.387\n",
      "Expected reward of policy Baseline Quota is 16.7945\n",
      "Expected reward of policy Big-LP is 16.781999999999996\n",
      "Expected reward of policy Big-LP Lump-sum is 16.7755\n",
      "m_g: 200,fair clusters: [10, 35], timsteps:40\n",
      "k:20, ppl_per_cluster:10, n_clusters:20\n",
      "noise:0, seed:62\n"
     ]
    },
    {
     "name": "stderr",
     "output_type": "stream",
     "text": [
      "\r",
      "569it [56:51,  6.35s/it]"
     ]
    },
    {
     "name": "stdout",
     "output_type": "stream",
     "text": [
      "Expected reward of policy Random is 16.6385\n",
      "Expected reward of policy RR is 16.609499999999997\n",
      "Expected reward of policy Whittle is 18.151\n",
      "Expected reward of policy Baseline Quota is 17.407\n",
      "Expected reward of policy Big-LP is 17.311\n",
      "Expected reward of policy Big-LP Lump-sum is 17.283500000000004\n",
      "m_g: 200,fair clusters: [10, 35], timsteps:40\n",
      "k:20, ppl_per_cluster:10, n_clusters:20\n",
      "noise:0, seed:58\n"
     ]
    },
    {
     "name": "stderr",
     "output_type": "stream",
     "text": [
      "\r",
      "570it [56:57,  6.36s/it]"
     ]
    },
    {
     "name": "stdout",
     "output_type": "stream",
     "text": [
      "Expected reward of policy Random is 15.7185\n",
      "Expected reward of policy RR is 15.6865\n",
      "Expected reward of policy Whittle is 17.3515\n",
      "Expected reward of policy Baseline Quota is 16.532500000000002\n",
      "Expected reward of policy Big-LP is 16.548499999999997\n",
      "Expected reward of policy Big-LP Lump-sum is 16.5295\n",
      "m_g: 200,fair clusters: [10, 35], timsteps:40\n",
      "k:20, ppl_per_cluster:10, n_clusters:20\n",
      "noise:0, seed:19\n"
     ]
    },
    {
     "name": "stderr",
     "output_type": "stream",
     "text": [
      "\r",
      "571it [57:04,  6.38s/it]"
     ]
    },
    {
     "name": "stdout",
     "output_type": "stream",
     "text": [
      "Expected reward of policy Random is 15.925999999999998\n",
      "Expected reward of policy RR is 15.814499999999999\n",
      "Expected reward of policy Whittle is 18.3875\n",
      "Expected reward of policy Baseline Quota is 17.184\n",
      "Expected reward of policy Big-LP is 17.023999999999997\n",
      "Expected reward of policy Big-LP Lump-sum is 16.9955\n",
      "m_g: 200,fair clusters: [10, 35], timsteps:40\n",
      "k:20, ppl_per_cluster:10, n_clusters:20\n",
      "noise:0, seed:74\n"
     ]
    },
    {
     "name": "stderr",
     "output_type": "stream",
     "text": [
      "\r",
      "572it [57:10,  6.44s/it]"
     ]
    },
    {
     "name": "stdout",
     "output_type": "stream",
     "text": [
      "Expected reward of policy Random is 14.910500000000003\n",
      "Expected reward of policy RR is 14.972\n",
      "Expected reward of policy Whittle is 17.240000000000002\n",
      "Expected reward of policy Baseline Quota is 16.208\n",
      "Expected reward of policy Big-LP is 16.052\n",
      "Expected reward of policy Big-LP Lump-sum is 16.041500000000003\n",
      "m_g: 200,fair clusters: [10, 35], timsteps:40\n",
      "k:20, ppl_per_cluster:10, n_clusters:20\n",
      "noise:0, seed:21\n"
     ]
    },
    {
     "name": "stderr",
     "output_type": "stream",
     "text": [
      "\r",
      "573it [57:18,  6.72s/it]"
     ]
    },
    {
     "name": "stdout",
     "output_type": "stream",
     "text": [
      "Expected reward of policy Random is 13.74\n",
      "Expected reward of policy RR is 13.781\n",
      "Expected reward of policy Whittle is 14.914999999999997\n",
      "Expected reward of policy Baseline Quota is 14.331\n",
      "Expected reward of policy Big-LP is 14.337500000000002\n",
      "Expected reward of policy Big-LP Lump-sum is 14.319000000000003\n",
      "m_g: 200,fair clusters: [10, 35], timsteps:40\n",
      "k:20, ppl_per_cluster:10, n_clusters:20\n",
      "noise:0, seed:84\n"
     ]
    },
    {
     "name": "stderr",
     "output_type": "stream",
     "text": [
      "\r",
      "574it [57:24,  6.66s/it]"
     ]
    },
    {
     "name": "stdout",
     "output_type": "stream",
     "text": [
      "Expected reward of policy Random is 13.6715\n",
      "Expected reward of policy RR is 13.897499999999999\n",
      "Expected reward of policy Whittle is 15.4275\n",
      "Expected reward of policy Baseline Quota is 14.731\n",
      "Expected reward of policy Big-LP is 14.6735\n",
      "Expected reward of policy Big-LP Lump-sum is 14.696999999999997\n",
      "m_g: 200,fair clusters: [10, 35], timsteps:40\n",
      "k:20, ppl_per_cluster:10, n_clusters:20\n",
      "noise:0, seed:57\n"
     ]
    },
    {
     "name": "stderr",
     "output_type": "stream",
     "text": [
      "\r",
      "575it [57:31,  6.70s/it]"
     ]
    },
    {
     "name": "stdout",
     "output_type": "stream",
     "text": [
      "Expected reward of policy Random is 17.684500000000003\n",
      "Expected reward of policy RR is 17.4955\n",
      "Expected reward of policy Whittle is 19.905499999999996\n",
      "Expected reward of policy Baseline Quota is 18.926000000000002\n",
      "Expected reward of policy Big-LP is 18.773999999999997\n",
      "Expected reward of policy Big-LP Lump-sum is 18.7215\n",
      "m_g: 200,fair clusters: [10, 35], timsteps:40\n",
      "k:20, ppl_per_cluster:10, n_clusters:20\n",
      "noise:0, seed:33\n"
     ]
    },
    {
     "name": "stderr",
     "output_type": "stream",
     "text": [
      "\r",
      "576it [57:38,  6.66s/it]"
     ]
    },
    {
     "name": "stdout",
     "output_type": "stream",
     "text": [
      "Expected reward of policy Random is 15.588\n",
      "Expected reward of policy RR is 15.701999999999998\n",
      "Expected reward of policy Whittle is 17.711\n",
      "Expected reward of policy Baseline Quota is 17.115499999999997\n",
      "Expected reward of policy Big-LP is 17.058\n",
      "Expected reward of policy Big-LP Lump-sum is 17.073\n",
      "m_g: 75,fair clusters: [10, 8, 35], timsteps:30\n",
      "k:15, ppl_per_cluster:10, n_clusters:20\n",
      "noise:0, seed:62\n"
     ]
    },
    {
     "name": "stderr",
     "output_type": "stream",
     "text": [
      "\r",
      "577it [57:44,  6.45s/it]"
     ]
    },
    {
     "name": "stdout",
     "output_type": "stream",
     "text": [
      "Expected reward of policy Random is 10.350000000000001\n",
      "Expected reward of policy RR is 10.2805\n",
      "Expected reward of policy Whittle is 11.4255\n",
      "Expected reward of policy Baseline Quota is 10.908999999999997\n",
      "Expected reward of policy Big-LP is 10.880999999999998\n",
      "Expected reward of policy Big-LP Lump-sum is 10.857000000000003\n",
      "m_g: 75,fair clusters: [10, 8, 35], timsteps:30\n",
      "k:15, ppl_per_cluster:10, n_clusters:20\n",
      "noise:0, seed:58\n"
     ]
    },
    {
     "name": "stderr",
     "output_type": "stream",
     "text": [
      "\r",
      "578it [57:50,  6.33s/it]"
     ]
    },
    {
     "name": "stdout",
     "output_type": "stream",
     "text": [
      "Expected reward of policy Random is 12.658\n",
      "Expected reward of policy RR is 12.6665\n",
      "Expected reward of policy Whittle is 13.544\n",
      "Expected reward of policy Baseline Quota is 13.426000000000002\n",
      "Expected reward of policy Big-LP is 13.379\n",
      "Expected reward of policy Big-LP Lump-sum is 13.427000000000001\n",
      "m_g: 75,fair clusters: [10, 8, 35], timsteps:30\n",
      "k:15, ppl_per_cluster:10, n_clusters:20\n",
      "noise:0, seed:19\n"
     ]
    },
    {
     "name": "stderr",
     "output_type": "stream",
     "text": [
      "\r",
      "579it [57:56,  6.29s/it]"
     ]
    },
    {
     "name": "stdout",
     "output_type": "stream",
     "text": [
      "Expected reward of policy Random is 10.557\n",
      "Expected reward of policy RR is 10.3965\n",
      "Expected reward of policy Whittle is 11.805499999999999\n",
      "Expected reward of policy Baseline Quota is 11.239999999999998\n",
      "Expected reward of policy Big-LP is 11.175\n",
      "Expected reward of policy Big-LP Lump-sum is 11.055000000000001\n",
      "m_g: 75,fair clusters: [10, 8, 35], timsteps:30\n",
      "k:15, ppl_per_cluster:10, n_clusters:20\n",
      "noise:0, seed:74\n"
     ]
    },
    {
     "name": "stderr",
     "output_type": "stream",
     "text": [
      "\r",
      "580it [58:02,  6.23s/it]"
     ]
    },
    {
     "name": "stdout",
     "output_type": "stream",
     "text": [
      "Expected reward of policy Random is 10.410500000000003\n",
      "Expected reward of policy RR is 10.44\n",
      "Expected reward of policy Whittle is 11.704999999999998\n",
      "Expected reward of policy Baseline Quota is 11.292\n",
      "Expected reward of policy Big-LP is 11.326\n",
      "Expected reward of policy Big-LP Lump-sum is 11.278\n",
      "m_g: 75,fair clusters: [10, 8, 35], timsteps:30\n",
      "k:15, ppl_per_cluster:10, n_clusters:20\n",
      "noise:0, seed:21\n"
     ]
    },
    {
     "name": "stderr",
     "output_type": "stream",
     "text": [
      "\r",
      "581it [58:08,  6.20s/it]"
     ]
    },
    {
     "name": "stdout",
     "output_type": "stream",
     "text": [
      "Expected reward of policy Random is 12.023\n",
      "Expected reward of policy RR is 11.976500000000001\n",
      "Expected reward of policy Whittle is 12.833000000000002\n",
      "Expected reward of policy Baseline Quota is 12.477999999999998\n",
      "Expected reward of policy Big-LP is 12.4435\n",
      "Expected reward of policy Big-LP Lump-sum is 12.455\n",
      "m_g: 75,fair clusters: [10, 8, 35], timsteps:30\n",
      "k:15, ppl_per_cluster:10, n_clusters:20\n",
      "noise:0, seed:84\n"
     ]
    },
    {
     "name": "stderr",
     "output_type": "stream",
     "text": [
      "\r",
      "582it [58:15,  6.36s/it]"
     ]
    },
    {
     "name": "stdout",
     "output_type": "stream",
     "text": [
      "Expected reward of policy Random is 11.1255\n",
      "Expected reward of policy RR is 11.099\n",
      "Expected reward of policy Whittle is 12.5725\n",
      "Expected reward of policy Baseline Quota is 11.9435\n",
      "Expected reward of policy Big-LP is 11.9205\n",
      "Expected reward of policy Big-LP Lump-sum is 11.829000000000002\n",
      "m_g: 75,fair clusters: [10, 8, 35], timsteps:30\n",
      "k:15, ppl_per_cluster:10, n_clusters:20\n",
      "noise:0, seed:57\n"
     ]
    },
    {
     "name": "stderr",
     "output_type": "stream",
     "text": [
      "\r",
      "583it [58:21,  6.29s/it]"
     ]
    },
    {
     "name": "stdout",
     "output_type": "stream",
     "text": [
      "Expected reward of policy Random is 11.996500000000001\n",
      "Expected reward of policy RR is 11.9405\n",
      "Expected reward of policy Whittle is 13.304000000000002\n",
      "Expected reward of policy Baseline Quota is 12.819999999999999\n",
      "Expected reward of policy Big-LP is 12.701\n",
      "Expected reward of policy Big-LP Lump-sum is 12.619499999999999\n",
      "m_g: 75,fair clusters: [10, 8, 35], timsteps:30\n",
      "k:15, ppl_per_cluster:10, n_clusters:20\n",
      "noise:0, seed:33\n"
     ]
    },
    {
     "name": "stderr",
     "output_type": "stream",
     "text": [
      "\r",
      "584it [58:27,  6.23s/it]"
     ]
    },
    {
     "name": "stdout",
     "output_type": "stream",
     "text": [
      "Expected reward of policy Random is 9.822500000000002\n",
      "Expected reward of policy RR is 9.8035\n",
      "Expected reward of policy Whittle is 11.325500000000002\n",
      "Expected reward of policy Baseline Quota is 10.8425\n",
      "Expected reward of policy Big-LP is 10.593\n",
      "Expected reward of policy Big-LP Lump-sum is 10.5155\n",
      "m_g: 100,fair clusters: [10, 8, 35], timsteps:30\n",
      "k:20, ppl_per_cluster:10, n_clusters:20\n",
      "noise:0, seed:62\n"
     ]
    },
    {
     "name": "stderr",
     "output_type": "stream",
     "text": [
      "\r",
      "585it [58:34,  6.33s/it]"
     ]
    },
    {
     "name": "stdout",
     "output_type": "stream",
     "text": [
      "Expected reward of policy Random is 10.513000000000002\n",
      "Expected reward of policy RR is 10.466000000000001\n",
      "Expected reward of policy Whittle is 11.782999999999998\n",
      "Expected reward of policy Baseline Quota is 11.2375\n",
      "Expected reward of policy Big-LP is 11.175\n",
      "Expected reward of policy Big-LP Lump-sum is 11.134500000000001\n",
      "m_g: 100,fair clusters: [10, 8, 35], timsteps:30\n",
      "k:20, ppl_per_cluster:10, n_clusters:20\n",
      "noise:0, seed:58\n"
     ]
    },
    {
     "name": "stderr",
     "output_type": "stream",
     "text": [
      "\r",
      "586it [58:40,  6.36s/it]"
     ]
    },
    {
     "name": "stdout",
     "output_type": "stream",
     "text": [
      "Expected reward of policy Random is 12.782\n",
      "Expected reward of policy RR is 12.786\n",
      "Expected reward of policy Whittle is 13.728\n",
      "Expected reward of policy Baseline Quota is 13.5565\n",
      "Expected reward of policy Big-LP is 13.563999999999998\n",
      "Expected reward of policy Big-LP Lump-sum is 13.556000000000001\n",
      "m_g: 100,fair clusters: [10, 8, 35], timsteps:30\n",
      "k:20, ppl_per_cluster:10, n_clusters:20\n",
      "noise:0, seed:19\n"
     ]
    },
    {
     "name": "stderr",
     "output_type": "stream",
     "text": [
      "\r",
      "587it [58:47,  6.48s/it]"
     ]
    },
    {
     "name": "stdout",
     "output_type": "stream",
     "text": [
      "Expected reward of policy Random is 10.722\n",
      "Expected reward of policy RR is 10.5355\n",
      "Expected reward of policy Whittle is 12.149500000000002\n",
      "Expected reward of policy Baseline Quota is 11.571500000000002\n",
      "Expected reward of policy Big-LP is 11.436499999999999\n",
      "Expected reward of policy Big-LP Lump-sum is 11.338500000000002\n",
      "m_g: 100,fair clusters: [10, 8, 35], timsteps:30\n",
      "k:20, ppl_per_cluster:10, n_clusters:20\n",
      "noise:0, seed:74\n"
     ]
    },
    {
     "name": "stderr",
     "output_type": "stream",
     "text": [
      "\r",
      "588it [58:53,  6.56s/it]"
     ]
    },
    {
     "name": "stdout",
     "output_type": "stream",
     "text": [
      "Expected reward of policy Random is 10.581\n",
      "Expected reward of policy RR is 10.6005\n",
      "Expected reward of policy Whittle is 12.048000000000002\n",
      "Expected reward of policy Baseline Quota is 11.523500000000002\n",
      "Expected reward of policy Big-LP is 11.581500000000002\n",
      "Expected reward of policy Big-LP Lump-sum is 11.5395\n",
      "m_g: 100,fair clusters: [10, 8, 35], timsteps:30\n",
      "k:20, ppl_per_cluster:10, n_clusters:20\n",
      "noise:0, seed:21\n"
     ]
    },
    {
     "name": "stderr",
     "output_type": "stream",
     "text": [
      "\r",
      "589it [59:00,  6.54s/it]"
     ]
    },
    {
     "name": "stdout",
     "output_type": "stream",
     "text": [
      "Expected reward of policy Random is 12.188500000000001\n",
      "Expected reward of policy RR is 12.052499999999998\n",
      "Expected reward of policy Whittle is 13.185500000000001\n",
      "Expected reward of policy Baseline Quota is 12.696000000000002\n",
      "Expected reward of policy Big-LP is 12.663500000000003\n",
      "Expected reward of policy Big-LP Lump-sum is 12.661\n",
      "m_g: 100,fair clusters: [10, 8, 35], timsteps:30\n",
      "k:20, ppl_per_cluster:10, n_clusters:20\n",
      "noise:0, seed:84\n"
     ]
    },
    {
     "name": "stderr",
     "output_type": "stream",
     "text": [
      "\r",
      "590it [59:06,  6.51s/it]"
     ]
    },
    {
     "name": "stdout",
     "output_type": "stream",
     "text": [
      "Expected reward of policy Random is 11.257499999999999\n",
      "Expected reward of policy RR is 11.306999999999999\n",
      "Expected reward of policy Whittle is 12.977\n",
      "Expected reward of policy Baseline Quota is 12.306000000000001\n",
      "Expected reward of policy Big-LP is 12.2865\n",
      "Expected reward of policy Big-LP Lump-sum is 12.189499999999999\n",
      "m_g: 100,fair clusters: [10, 8, 35], timsteps:30\n",
      "k:20, ppl_per_cluster:10, n_clusters:20\n",
      "noise:0, seed:57\n"
     ]
    },
    {
     "name": "stderr",
     "output_type": "stream",
     "text": [
      "\r",
      "591it [59:13,  6.69s/it]"
     ]
    },
    {
     "name": "stdout",
     "output_type": "stream",
     "text": [
      "Expected reward of policy Random is 12.139\n",
      "Expected reward of policy RR is 12.111\n",
      "Expected reward of policy Whittle is 13.5255\n",
      "Expected reward of policy Baseline Quota is 13.086000000000002\n",
      "Expected reward of policy Big-LP is 12.888\n",
      "Expected reward of policy Big-LP Lump-sum is 12.820500000000001\n",
      "m_g: 100,fair clusters: [10, 8, 35], timsteps:30\n",
      "k:20, ppl_per_cluster:10, n_clusters:20\n",
      "noise:0, seed:33\n"
     ]
    },
    {
     "name": "stderr",
     "output_type": "stream",
     "text": [
      "\r",
      "592it [59:21,  6.89s/it]"
     ]
    },
    {
     "name": "stdout",
     "output_type": "stream",
     "text": [
      "Expected reward of policy Random is 9.998999999999999\n",
      "Expected reward of policy RR is 9.985\n",
      "Expected reward of policy Whittle is 11.648500000000002\n",
      "Expected reward of policy Baseline Quota is 11.149999999999999\n",
      "Expected reward of policy Big-LP is 11.112\n",
      "Expected reward of policy Big-LP Lump-sum is 11.096499999999999\n",
      "m_g: 100,fair clusters: [10, 8, 35], timsteps:40\n",
      "k:15, ppl_per_cluster:10, n_clusters:20\n",
      "noise:0, seed:62\n"
     ]
    },
    {
     "name": "stderr",
     "output_type": "stream",
     "text": [
      "\r",
      "593it [59:28,  6.94s/it]"
     ]
    },
    {
     "name": "stdout",
     "output_type": "stream",
     "text": [
      "Expected reward of policy Random is 13.858500000000001\n",
      "Expected reward of policy RR is 13.7815\n",
      "Expected reward of policy Whittle is 15.3275\n",
      "Expected reward of policy Baseline Quota is 14.5875\n",
      "Expected reward of policy Big-LP is 14.5665\n",
      "Expected reward of policy Big-LP Lump-sum is 14.567000000000002\n",
      "m_g: 100,fair clusters: [10, 8, 35], timsteps:40\n",
      "k:15, ppl_per_cluster:10, n_clusters:20\n",
      "noise:0, seed:58\n"
     ]
    },
    {
     "name": "stderr",
     "output_type": "stream",
     "text": [
      "\r",
      "594it [59:35,  6.95s/it]"
     ]
    },
    {
     "name": "stdout",
     "output_type": "stream",
     "text": [
      "Expected reward of policy Random is 17.016\n",
      "Expected reward of policy RR is 16.987000000000002\n",
      "Expected reward of policy Whittle is 18.157000000000004\n",
      "Expected reward of policy Baseline Quota is 17.982499999999998\n",
      "Expected reward of policy Big-LP is 17.891\n",
      "Expected reward of policy Big-LP Lump-sum is 17.988\n",
      "m_g: 100,fair clusters: [10, 8, 35], timsteps:40\n",
      "k:15, ppl_per_cluster:10, n_clusters:20\n",
      "noise:0, seed:19\n"
     ]
    },
    {
     "name": "stderr",
     "output_type": "stream",
     "text": [
      "\r",
      "595it [59:42,  7.05s/it]"
     ]
    },
    {
     "name": "stdout",
     "output_type": "stream",
     "text": [
      "Expected reward of policy Random is 14.1965\n",
      "Expected reward of policy RR is 13.959\n",
      "Expected reward of policy Whittle is 15.933000000000002\n",
      "Expected reward of policy Baseline Quota is 15.127\n",
      "Expected reward of policy Big-LP is 15.0445\n",
      "Expected reward of policy Big-LP Lump-sum is 14.928\n",
      "m_g: 100,fair clusters: [10, 8, 35], timsteps:40\n",
      "k:15, ppl_per_cluster:10, n_clusters:20\n",
      "noise:0, seed:74\n"
     ]
    },
    {
     "name": "stderr",
     "output_type": "stream",
     "text": [
      "\r",
      "596it [59:49,  7.08s/it]"
     ]
    },
    {
     "name": "stdout",
     "output_type": "stream",
     "text": [
      "Expected reward of policy Random is 13.947999999999999\n",
      "Expected reward of policy RR is 13.9495\n",
      "Expected reward of policy Whittle is 15.6935\n",
      "Expected reward of policy Baseline Quota is 15.022499999999999\n",
      "Expected reward of policy Big-LP is 15.149000000000001\n",
      "Expected reward of policy Big-LP Lump-sum is 15.119\n",
      "m_g: 100,fair clusters: [10, 8, 35], timsteps:40\n",
      "k:15, ppl_per_cluster:10, n_clusters:20\n",
      "noise:0, seed:21\n"
     ]
    },
    {
     "name": "stderr",
     "output_type": "stream",
     "text": [
      "\r",
      "597it [59:56,  7.09s/it]"
     ]
    },
    {
     "name": "stdout",
     "output_type": "stream",
     "text": [
      "Expected reward of policy Random is 16.1485\n",
      "Expected reward of policy RR is 16.0595\n",
      "Expected reward of policy Whittle is 17.217000000000002\n",
      "Expected reward of policy Baseline Quota is 16.732\n",
      "Expected reward of policy Big-LP is 16.692999999999998\n",
      "Expected reward of policy Big-LP Lump-sum is 16.674500000000002\n",
      "m_g: 100,fair clusters: [10, 8, 35], timsteps:40\n",
      "k:15, ppl_per_cluster:10, n_clusters:20\n",
      "noise:0, seed:84\n"
     ]
    },
    {
     "name": "stderr",
     "output_type": "stream",
     "text": [
      "\r",
      "598it [1:00:03,  7.01s/it]"
     ]
    },
    {
     "name": "stdout",
     "output_type": "stream",
     "text": [
      "Expected reward of policy Random is 14.836499999999997\n",
      "Expected reward of policy RR is 14.871\n",
      "Expected reward of policy Whittle is 16.833000000000002\n",
      "Expected reward of policy Baseline Quota is 15.973499999999998\n",
      "Expected reward of policy Big-LP is 15.9335\n",
      "Expected reward of policy Big-LP Lump-sum is 15.859\n",
      "m_g: 100,fair clusters: [10, 8, 35], timsteps:40\n",
      "k:15, ppl_per_cluster:10, n_clusters:20\n",
      "noise:0, seed:57\n"
     ]
    },
    {
     "name": "stderr",
     "output_type": "stream",
     "text": [
      "\r",
      "599it [1:00:10,  7.07s/it]"
     ]
    },
    {
     "name": "stdout",
     "output_type": "stream",
     "text": [
      "Expected reward of policy Random is 16.059500000000003\n",
      "Expected reward of policy RR is 16.017500000000002\n",
      "Expected reward of policy Whittle is 17.85\n",
      "Expected reward of policy Baseline Quota is 17.176000000000002\n",
      "Expected reward of policy Big-LP is 17.059500000000003\n",
      "Expected reward of policy Big-LP Lump-sum is 16.9415\n",
      "m_g: 100,fair clusters: [10, 8, 35], timsteps:40\n",
      "k:15, ppl_per_cluster:10, n_clusters:20\n",
      "noise:0, seed:33\n"
     ]
    },
    {
     "name": "stderr",
     "output_type": "stream",
     "text": [
      "\r",
      "600it [1:00:17,  7.04s/it]"
     ]
    },
    {
     "name": "stdout",
     "output_type": "stream",
     "text": [
      "Expected reward of policy Random is 13.1615\n",
      "Expected reward of policy RR is 13.098500000000001\n",
      "Expected reward of policy Whittle is 15.2075\n",
      "Expected reward of policy Baseline Quota is 14.49\n",
      "Expected reward of policy Big-LP is 14.176499999999999\n",
      "Expected reward of policy Big-LP Lump-sum is 14.087\n",
      "m_g: 133,fair clusters: [10, 8, 35], timsteps:40\n",
      "k:20, ppl_per_cluster:10, n_clusters:20\n",
      "noise:0, seed:62\n"
     ]
    },
    {
     "name": "stderr",
     "output_type": "stream",
     "text": [
      "\r",
      "601it [1:00:25,  7.09s/it]"
     ]
    },
    {
     "name": "stdout",
     "output_type": "stream",
     "text": [
      "Expected reward of policy Random is 14.095499999999998\n",
      "Expected reward of policy RR is 13.980500000000001\n",
      "Expected reward of policy Whittle is 15.8085\n",
      "Expected reward of policy Baseline Quota is 15.059000000000001\n",
      "Expected reward of policy Big-LP is 14.9605\n",
      "Expected reward of policy Big-LP Lump-sum is 14.940000000000001\n",
      "m_g: 133,fair clusters: [10, 8, 35], timsteps:40\n",
      "k:20, ppl_per_cluster:10, n_clusters:20\n",
      "noise:0, seed:58\n"
     ]
    },
    {
     "name": "stderr",
     "output_type": "stream",
     "text": [
      "\r",
      "602it [1:00:33,  7.33s/it]"
     ]
    },
    {
     "name": "stdout",
     "output_type": "stream",
     "text": [
      "Expected reward of policy Random is 17.187500000000004\n",
      "Expected reward of policy RR is 17.1235\n",
      "Expected reward of policy Whittle is 18.4095\n",
      "Expected reward of policy Baseline Quota is 18.167499999999997\n",
      "Expected reward of policy Big-LP is 18.1775\n",
      "Expected reward of policy Big-LP Lump-sum is 18.183\n",
      "m_g: 133,fair clusters: [10, 8, 35], timsteps:40\n",
      "k:20, ppl_per_cluster:10, n_clusters:20\n",
      "noise:0, seed:19\n"
     ]
    },
    {
     "name": "stderr",
     "output_type": "stream",
     "text": [
      "\r",
      "603it [1:00:41,  7.56s/it]"
     ]
    },
    {
     "name": "stdout",
     "output_type": "stream",
     "text": [
      "Expected reward of policy Random is 14.407999999999998\n",
      "Expected reward of policy RR is 14.1565\n",
      "Expected reward of policy Whittle is 16.4035\n",
      "Expected reward of policy Baseline Quota is 15.548499999999999\n",
      "Expected reward of policy Big-LP is 15.445000000000002\n",
      "Expected reward of policy Big-LP Lump-sum is 15.338\n",
      "m_g: 133,fair clusters: [10, 8, 35], timsteps:40\n",
      "k:20, ppl_per_cluster:10, n_clusters:20\n",
      "noise:0, seed:74\n"
     ]
    },
    {
     "name": "stderr",
     "output_type": "stream",
     "text": [
      "\r",
      "604it [1:00:48,  7.54s/it]"
     ]
    },
    {
     "name": "stdout",
     "output_type": "stream",
     "text": [
      "Expected reward of policy Random is 14.1695\n",
      "Expected reward of policy RR is 14.1375\n",
      "Expected reward of policy Whittle is 16.115\n",
      "Expected reward of policy Baseline Quota is 15.436499999999999\n",
      "Expected reward of policy Big-LP is 15.5\n",
      "Expected reward of policy Big-LP Lump-sum is 15.4535\n",
      "m_g: 133,fair clusters: [10, 8, 35], timsteps:40\n",
      "k:20, ppl_per_cluster:10, n_clusters:20\n",
      "noise:0, seed:21\n"
     ]
    },
    {
     "name": "stderr",
     "output_type": "stream",
     "text": [
      "\r",
      "605it [1:00:55,  7.35s/it]"
     ]
    },
    {
     "name": "stdout",
     "output_type": "stream",
     "text": [
      "Expected reward of policy Random is 16.3425\n",
      "Expected reward of policy RR is 16.1515\n",
      "Expected reward of policy Whittle is 17.700499999999998\n",
      "Expected reward of policy Baseline Quota is 17.0135\n",
      "Expected reward of policy Big-LP is 16.982999999999997\n",
      "Expected reward of policy Big-LP Lump-sum is 16.985500000000002\n",
      "m_g: 133,fair clusters: [10, 8, 35], timsteps:40\n",
      "k:20, ppl_per_cluster:10, n_clusters:20\n",
      "noise:0, seed:84\n"
     ]
    },
    {
     "name": "stderr",
     "output_type": "stream",
     "text": [
      "\r",
      "606it [1:01:02,  7.22s/it]"
     ]
    },
    {
     "name": "stdout",
     "output_type": "stream",
     "text": [
      "Expected reward of policy Random is 15.021\n",
      "Expected reward of policy RR is 15.126\n",
      "Expected reward of policy Whittle is 17.4105\n",
      "Expected reward of policy Baseline Quota is 16.485499999999995\n",
      "Expected reward of policy Big-LP is 16.4595\n",
      "Expected reward of policy Big-LP Lump-sum is 16.355999999999998\n",
      "m_g: 133,fair clusters: [10, 8, 35], timsteps:40\n",
      "k:20, ppl_per_cluster:10, n_clusters:20\n",
      "noise:0, seed:57\n"
     ]
    },
    {
     "name": "stderr",
     "output_type": "stream",
     "text": [
      "\r",
      "607it [1:01:09,  7.21s/it]"
     ]
    },
    {
     "name": "stdout",
     "output_type": "stream",
     "text": [
      "Expected reward of policy Random is 16.287\n",
      "Expected reward of policy RR is 16.237000000000002\n",
      "Expected reward of policy Whittle is 18.163000000000004\n",
      "Expected reward of policy Baseline Quota is 17.565000000000005\n",
      "Expected reward of policy Big-LP is 17.383999999999997\n",
      "Expected reward of policy Big-LP Lump-sum is 17.319\n",
      "m_g: 133,fair clusters: [10, 8, 35], timsteps:40\n",
      "k:20, ppl_per_cluster:10, n_clusters:20\n",
      "noise:0, seed:33\n"
     ]
    },
    {
     "name": "stderr",
     "output_type": "stream",
     "text": [
      "\r",
      "608it [1:01:18,  7.74s/it]"
     ]
    },
    {
     "name": "stdout",
     "output_type": "stream",
     "text": [
      "Expected reward of policy Random is 13.381\n",
      "Expected reward of policy RR is 13.355\n",
      "Expected reward of policy Whittle is 15.638\n",
      "Expected reward of policy Baseline Quota is 14.926499999999999\n",
      "Expected reward of policy Big-LP is 14.953999999999999\n",
      "Expected reward of policy Big-LP Lump-sum is 14.895000000000001\n",
      "m_g: 56,fair clusters: [10, 23, 8, 35], timsteps:30\n",
      "k:15, ppl_per_cluster:10, n_clusters:20\n",
      "noise:0, seed:62\n"
     ]
    },
    {
     "name": "stderr",
     "output_type": "stream",
     "text": [
      "\r",
      "609it [1:01:25,  7.45s/it]"
     ]
    },
    {
     "name": "stdout",
     "output_type": "stream",
     "text": [
      "Expected reward of policy Random is 11.262500000000001\n",
      "Expected reward of policy RR is 11.247499999999999\n",
      "Expected reward of policy Whittle is 12.702000000000002\n",
      "Expected reward of policy Baseline Quota is 12.167\n",
      "Expected reward of policy Big-LP is 12.104000000000001\n",
      "Expected reward of policy Big-LP Lump-sum is 11.936\n",
      "m_g: 56,fair clusters: [10, 23, 8, 35], timsteps:30\n",
      "k:15, ppl_per_cluster:10, n_clusters:20\n",
      "noise:0, seed:58\n"
     ]
    },
    {
     "name": "stderr",
     "output_type": "stream",
     "text": [
      "\r",
      "610it [1:01:31,  7.14s/it]"
     ]
    },
    {
     "name": "stdout",
     "output_type": "stream",
     "text": [
      "Expected reward of policy Random is 12.995\n",
      "Expected reward of policy RR is 12.912\n",
      "Expected reward of policy Whittle is 14.035\n",
      "Expected reward of policy Baseline Quota is 13.729000000000003\n",
      "Expected reward of policy Big-LP is 13.754999999999999\n",
      "Expected reward of policy Big-LP Lump-sum is 13.713\n",
      "m_g: 56,fair clusters: [10, 23, 8, 35], timsteps:30\n",
      "k:15, ppl_per_cluster:10, n_clusters:20\n",
      "noise:0, seed:19\n"
     ]
    },
    {
     "name": "stderr",
     "output_type": "stream",
     "text": [
      "\r",
      "611it [1:01:39,  7.17s/it]"
     ]
    },
    {
     "name": "stdout",
     "output_type": "stream",
     "text": [
      "Expected reward of policy Random is 9.4445\n",
      "Expected reward of policy RR is 9.4625\n",
      "Expected reward of policy Whittle is 10.8055\n",
      "Expected reward of policy Baseline Quota is 10.2925\n",
      "Expected reward of policy Big-LP is 10.245000000000001\n",
      "Expected reward of policy Big-LP Lump-sum is 10.125\n",
      "m_g: 56,fair clusters: [10, 23, 8, 35], timsteps:30\n",
      "k:15, ppl_per_cluster:10, n_clusters:20\n",
      "noise:0, seed:74\n"
     ]
    },
    {
     "name": "stderr",
     "output_type": "stream",
     "text": [
      "\r",
      "612it [1:01:46,  7.10s/it]"
     ]
    },
    {
     "name": "stdout",
     "output_type": "stream",
     "text": [
      "Expected reward of policy Random is 11.035\n",
      "Expected reward of policy RR is 11.078500000000002\n",
      "Expected reward of policy Whittle is 12.1125\n",
      "Expected reward of policy Baseline Quota is 11.756\n",
      "Expected reward of policy Big-LP is 11.7105\n",
      "Expected reward of policy Big-LP Lump-sum is 11.651\n",
      "m_g: 56,fair clusters: [10, 23, 8, 35], timsteps:30\n",
      "k:15, ppl_per_cluster:10, n_clusters:20\n",
      "noise:0, seed:21\n"
     ]
    },
    {
     "name": "stderr",
     "output_type": "stream",
     "text": [
      "\r",
      "613it [1:01:52,  7.04s/it]"
     ]
    },
    {
     "name": "stdout",
     "output_type": "stream",
     "text": [
      "Expected reward of policy Random is 11.753499999999999\n",
      "Expected reward of policy RR is 11.4905\n",
      "Expected reward of policy Whittle is 12.421000000000003\n",
      "Expected reward of policy Baseline Quota is 12.046999999999999\n",
      "Expected reward of policy Big-LP is 12.059999999999999\n",
      "Expected reward of policy Big-LP Lump-sum is 12.015\n",
      "m_g: 56,fair clusters: [10, 23, 8, 35], timsteps:30\n",
      "k:15, ppl_per_cluster:10, n_clusters:20\n",
      "noise:0, seed:84\n"
     ]
    },
    {
     "name": "stderr",
     "output_type": "stream",
     "text": [
      "\r",
      "614it [1:02:00,  7.10s/it]"
     ]
    },
    {
     "name": "stdout",
     "output_type": "stream",
     "text": [
      "Expected reward of policy Random is 10.008500000000002\n",
      "Expected reward of policy RR is 10.011\n",
      "Expected reward of policy Whittle is 11.272\n",
      "Expected reward of policy Baseline Quota is 10.820500000000001\n",
      "Expected reward of policy Big-LP is 10.865\n",
      "Expected reward of policy Big-LP Lump-sum is 10.824499999999999\n",
      "m_g: 56,fair clusters: [10, 23, 8, 35], timsteps:30\n",
      "k:15, ppl_per_cluster:10, n_clusters:20\n",
      "noise:0, seed:57\n"
     ]
    },
    {
     "name": "stderr",
     "output_type": "stream",
     "text": [
      "\r",
      "615it [1:02:07,  7.11s/it]"
     ]
    },
    {
     "name": "stdout",
     "output_type": "stream",
     "text": [
      "Expected reward of policy Random is 11.892999999999999\n",
      "Expected reward of policy RR is 11.769499999999999\n",
      "Expected reward of policy Whittle is 12.5075\n",
      "Expected reward of policy Baseline Quota is 12.3735\n",
      "Expected reward of policy Big-LP is 12.388499999999999\n",
      "Expected reward of policy Big-LP Lump-sum is 12.372\n",
      "m_g: 56,fair clusters: [10, 23, 8, 35], timsteps:30\n",
      "k:15, ppl_per_cluster:10, n_clusters:20\n",
      "noise:0, seed:33\n"
     ]
    },
    {
     "name": "stderr",
     "output_type": "stream",
     "text": [
      "\r",
      "616it [1:02:14,  7.03s/it]"
     ]
    },
    {
     "name": "stdout",
     "output_type": "stream",
     "text": [
      "Expected reward of policy Random is 10.22\n",
      "Expected reward of policy RR is 10.1305\n",
      "Expected reward of policy Whittle is 11.6255\n",
      "Expected reward of policy Baseline Quota is 11.014\n",
      "Expected reward of policy Big-LP is 10.8785\n",
      "Expected reward of policy Big-LP Lump-sum is 10.803\n",
      "m_g: 75,fair clusters: [10, 23, 8, 35], timsteps:30\n",
      "k:20, ppl_per_cluster:10, n_clusters:20\n",
      "noise:0, seed:62\n"
     ]
    },
    {
     "name": "stderr",
     "output_type": "stream",
     "text": [
      "\r",
      "617it [1:02:21,  7.17s/it]"
     ]
    },
    {
     "name": "stdout",
     "output_type": "stream",
     "text": [
      "Expected reward of policy Random is 11.4345\n",
      "Expected reward of policy RR is 11.368\n",
      "Expected reward of policy Whittle is 13.0605\n",
      "Expected reward of policy Baseline Quota is 12.527\n",
      "Expected reward of policy Big-LP is 12.489\n",
      "Expected reward of policy Big-LP Lump-sum is 12.4065\n",
      "m_g: 75,fair clusters: [10, 23, 8, 35], timsteps:30\n",
      "k:20, ppl_per_cluster:10, n_clusters:20\n",
      "noise:0, seed:58\n"
     ]
    },
    {
     "name": "stderr",
     "output_type": "stream",
     "text": [
      "\r",
      "618it [1:02:28,  7.16s/it]"
     ]
    },
    {
     "name": "stdout",
     "output_type": "stream",
     "text": [
      "Expected reward of policy Random is 13.116000000000003\n",
      "Expected reward of policy RR is 13.0395\n",
      "Expected reward of policy Whittle is 14.2375\n",
      "Expected reward of policy Baseline Quota is 13.9285\n",
      "Expected reward of policy Big-LP is 13.9285\n",
      "Expected reward of policy Big-LP Lump-sum is 13.9035\n",
      "m_g: 75,fair clusters: [10, 23, 8, 35], timsteps:30\n",
      "k:20, ppl_per_cluster:10, n_clusters:20\n",
      "noise:0, seed:19\n"
     ]
    },
    {
     "name": "stderr",
     "output_type": "stream",
     "text": [
      "\r",
      "619it [1:02:36,  7.21s/it]"
     ]
    },
    {
     "name": "stdout",
     "output_type": "stream",
     "text": [
      "Expected reward of policy Random is 9.5995\n",
      "Expected reward of policy RR is 9.595000000000002\n",
      "Expected reward of policy Whittle is 11.174999999999999\n",
      "Expected reward of policy Baseline Quota is 10.5765\n",
      "Expected reward of policy Big-LP is 10.478\n",
      "Expected reward of policy Big-LP Lump-sum is 10.3625\n",
      "m_g: 75,fair clusters: [10, 23, 8, 35], timsteps:30\n",
      "k:20, ppl_per_cluster:10, n_clusters:20\n",
      "noise:0, seed:74\n"
     ]
    },
    {
     "name": "stderr",
     "output_type": "stream",
     "text": [
      "\r",
      "620it [1:02:43,  7.35s/it]"
     ]
    },
    {
     "name": "stdout",
     "output_type": "stream",
     "text": [
      "Expected reward of policy Random is 11.1875\n",
      "Expected reward of policy RR is 11.26\n",
      "Expected reward of policy Whittle is 12.3065\n",
      "Expected reward of policy Baseline Quota is 12.0\n",
      "Expected reward of policy Big-LP is 11.879\n",
      "Expected reward of policy Big-LP Lump-sum is 11.7885\n",
      "m_g: 75,fair clusters: [10, 23, 8, 35], timsteps:30\n",
      "k:20, ppl_per_cluster:10, n_clusters:20\n",
      "noise:0, seed:21\n"
     ]
    },
    {
     "name": "stderr",
     "output_type": "stream",
     "text": [
      "\r",
      "621it [1:02:50,  7.19s/it]"
     ]
    },
    {
     "name": "stdout",
     "output_type": "stream",
     "text": [
      "Expected reward of policy Random is 11.904\n",
      "Expected reward of policy RR is 11.7025\n",
      "Expected reward of policy Whittle is 12.7645\n",
      "Expected reward of policy Baseline Quota is 12.272\n",
      "Expected reward of policy Big-LP is 12.291\n",
      "Expected reward of policy Big-LP Lump-sum is 12.2325\n",
      "m_g: 75,fair clusters: [10, 23, 8, 35], timsteps:30\n",
      "k:20, ppl_per_cluster:10, n_clusters:20\n",
      "noise:0, seed:84\n"
     ]
    },
    {
     "name": "stderr",
     "output_type": "stream",
     "text": [
      "\r",
      "622it [1:02:57,  7.06s/it]"
     ]
    },
    {
     "name": "stdout",
     "output_type": "stream",
     "text": [
      "Expected reward of policy Random is 10.172\n",
      "Expected reward of policy RR is 10.220500000000003\n",
      "Expected reward of policy Whittle is 11.4845\n",
      "Expected reward of policy Baseline Quota is 11.068999999999999\n",
      "Expected reward of policy Big-LP is 11.099\n",
      "Expected reward of policy Big-LP Lump-sum is 11.0845\n",
      "m_g: 75,fair clusters: [10, 23, 8, 35], timsteps:30\n",
      "k:20, ppl_per_cluster:10, n_clusters:20\n",
      "noise:0, seed:57\n"
     ]
    },
    {
     "name": "stderr",
     "output_type": "stream",
     "text": [
      "\r",
      "623it [1:03:04,  7.14s/it]"
     ]
    },
    {
     "name": "stdout",
     "output_type": "stream",
     "text": [
      "Expected reward of policy Random is 12.007000000000001\n",
      "Expected reward of policy RR is 11.818499999999998\n",
      "Expected reward of policy Whittle is 12.718\n",
      "Expected reward of policy Baseline Quota is 12.5155\n",
      "Expected reward of policy Big-LP is 12.503\n",
      "Expected reward of policy Big-LP Lump-sum is 12.504\n",
      "m_g: 75,fair clusters: [10, 23, 8, 35], timsteps:30\n",
      "k:20, ppl_per_cluster:10, n_clusters:20\n",
      "noise:0, seed:33\n"
     ]
    },
    {
     "name": "stderr",
     "output_type": "stream",
     "text": [
      "\r",
      "624it [1:03:11,  7.13s/it]"
     ]
    },
    {
     "name": "stdout",
     "output_type": "stream",
     "text": [
      "Expected reward of policy Random is 10.389999999999999\n",
      "Expected reward of policy RR is 10.375499999999999\n",
      "Expected reward of policy Whittle is 12.024000000000001\n",
      "Expected reward of policy Baseline Quota is 11.330499999999999\n",
      "Expected reward of policy Big-LP is 11.249\n",
      "Expected reward of policy Big-LP Lump-sum is 11.204\n",
      "m_g: 75,fair clusters: [10, 23, 8, 35], timsteps:40\n",
      "k:15, ppl_per_cluster:10, n_clusters:20\n",
      "noise:0, seed:62\n"
     ]
    },
    {
     "name": "stderr",
     "output_type": "stream",
     "text": [
      "\r",
      "625it [1:03:19,  7.38s/it]"
     ]
    },
    {
     "name": "stdout",
     "output_type": "stream",
     "text": [
      "Expected reward of policy Random is 15.1595\n",
      "Expected reward of policy RR is 15.076500000000001\n",
      "Expected reward of policy Whittle is 17.052\n",
      "Expected reward of policy Baseline Quota is 16.323\n",
      "Expected reward of policy Big-LP is 16.174999999999997\n",
      "Expected reward of policy Big-LP Lump-sum is 16.032999999999998\n",
      "m_g: 75,fair clusters: [10, 23, 8, 35], timsteps:40\n",
      "k:15, ppl_per_cluster:10, n_clusters:20\n",
      "noise:0, seed:58\n"
     ]
    },
    {
     "name": "stderr",
     "output_type": "stream",
     "text": [
      "\r",
      "626it [1:03:27,  7.45s/it]"
     ]
    },
    {
     "name": "stdout",
     "output_type": "stream",
     "text": [
      "Expected reward of policy Random is 17.444\n",
      "Expected reward of policy RR is 17.335\n",
      "Expected reward of policy Whittle is 18.845499999999998\n",
      "Expected reward of policy Baseline Quota is 18.4295\n",
      "Expected reward of policy Big-LP is 18.4555\n",
      "Expected reward of policy Big-LP Lump-sum is 18.432499999999997\n",
      "m_g: 75,fair clusters: [10, 23, 8, 35], timsteps:40\n",
      "k:15, ppl_per_cluster:10, n_clusters:20\n",
      "noise:0, seed:19\n"
     ]
    },
    {
     "name": "stderr",
     "output_type": "stream",
     "text": [
      "\r",
      "627it [1:03:34,  7.49s/it]"
     ]
    },
    {
     "name": "stdout",
     "output_type": "stream",
     "text": [
      "Expected reward of policy Random is 12.6425\n",
      "Expected reward of policy RR is 12.629999999999999\n",
      "Expected reward of policy Whittle is 14.462500000000002\n",
      "Expected reward of policy Baseline Quota is 13.709999999999999\n",
      "Expected reward of policy Big-LP is 13.6905\n",
      "Expected reward of policy Big-LP Lump-sum is 13.506499999999999\n",
      "m_g: 75,fair clusters: [10, 23, 8, 35], timsteps:40\n",
      "k:15, ppl_per_cluster:10, n_clusters:20\n",
      "noise:0, seed:74\n"
     ]
    },
    {
     "name": "stderr",
     "output_type": "stream",
     "text": [
      "\r",
      "628it [1:03:42,  7.51s/it]"
     ]
    },
    {
     "name": "stdout",
     "output_type": "stream",
     "text": [
      "Expected reward of policy Random is 14.810999999999998\n",
      "Expected reward of policy RR is 14.795499999999999\n",
      "Expected reward of policy Whittle is 16.228\n",
      "Expected reward of policy Baseline Quota is 15.7375\n",
      "Expected reward of policy Big-LP is 15.693000000000001\n",
      "Expected reward of policy Big-LP Lump-sum is 15.577499999999997\n",
      "m_g: 75,fair clusters: [10, 23, 8, 35], timsteps:40\n",
      "k:15, ppl_per_cluster:10, n_clusters:20\n",
      "noise:0, seed:21\n"
     ]
    },
    {
     "name": "stderr",
     "output_type": "stream",
     "text": [
      "\r",
      "629it [1:03:50,  7.55s/it]"
     ]
    },
    {
     "name": "stdout",
     "output_type": "stream",
     "text": [
      "Expected reward of policy Random is 15.803999999999998\n",
      "Expected reward of policy RR is 15.378499999999999\n",
      "Expected reward of policy Whittle is 16.641\n",
      "Expected reward of policy Baseline Quota is 16.1225\n",
      "Expected reward of policy Big-LP is 16.1325\n",
      "Expected reward of policy Big-LP Lump-sum is 16.064500000000002\n",
      "m_g: 75,fair clusters: [10, 23, 8, 35], timsteps:40\n",
      "k:15, ppl_per_cluster:10, n_clusters:20\n",
      "noise:0, seed:84\n"
     ]
    },
    {
     "name": "stderr",
     "output_type": "stream",
     "text": [
      "\r",
      "630it [1:03:57,  7.53s/it]"
     ]
    },
    {
     "name": "stdout",
     "output_type": "stream",
     "text": [
      "Expected reward of policy Random is 13.377\n",
      "Expected reward of policy RR is 13.372499999999999\n",
      "Expected reward of policy Whittle is 15.0685\n",
      "Expected reward of policy Baseline Quota is 14.476499999999998\n",
      "Expected reward of policy Big-LP is 14.536000000000001\n",
      "Expected reward of policy Big-LP Lump-sum is 14.427999999999997\n",
      "m_g: 75,fair clusters: [10, 23, 8, 35], timsteps:40\n",
      "k:15, ppl_per_cluster:10, n_clusters:20\n",
      "noise:0, seed:57\n"
     ]
    },
    {
     "name": "stderr",
     "output_type": "stream",
     "text": [
      "\r",
      "631it [1:04:05,  7.64s/it]"
     ]
    },
    {
     "name": "stdout",
     "output_type": "stream",
     "text": [
      "Expected reward of policy Random is 15.889\n",
      "Expected reward of policy RR is 15.782999999999998\n",
      "Expected reward of policy Whittle is 16.791500000000003\n",
      "Expected reward of policy Baseline Quota is 16.6145\n",
      "Expected reward of policy Big-LP is 16.616499999999995\n",
      "Expected reward of policy Big-LP Lump-sum is 16.6275\n",
      "m_g: 75,fair clusters: [10, 23, 8, 35], timsteps:40\n",
      "k:15, ppl_per_cluster:10, n_clusters:20\n",
      "noise:0, seed:33\n"
     ]
    },
    {
     "name": "stderr",
     "output_type": "stream",
     "text": [
      "\r",
      "632it [1:04:12,  7.57s/it]"
     ]
    },
    {
     "name": "stdout",
     "output_type": "stream",
     "text": [
      "Expected reward of policy Random is 13.744\n",
      "Expected reward of policy RR is 13.523000000000001\n",
      "Expected reward of policy Whittle is 15.602500000000001\n",
      "Expected reward of policy Baseline Quota is 14.763\n",
      "Expected reward of policy Big-LP is 14.5965\n",
      "Expected reward of policy Big-LP Lump-sum is 14.498499999999998\n",
      "m_g: 100,fair clusters: [10, 23, 8, 35], timsteps:40\n",
      "k:20, ppl_per_cluster:10, n_clusters:20\n",
      "noise:0, seed:62\n"
     ]
    },
    {
     "name": "stderr",
     "output_type": "stream",
     "text": [
      "\r",
      "633it [1:04:20,  7.68s/it]"
     ]
    },
    {
     "name": "stdout",
     "output_type": "stream",
     "text": [
      "Expected reward of policy Random is 15.386000000000001\n",
      "Expected reward of policy RR is 15.249\n",
      "Expected reward of policy Whittle is 17.547\n",
      "Expected reward of policy Baseline Quota is 16.786\n",
      "Expected reward of policy Big-LP is 16.807\n",
      "Expected reward of policy Big-LP Lump-sum is 16.7115\n",
      "m_g: 100,fair clusters: [10, 23, 8, 35], timsteps:40\n",
      "k:20, ppl_per_cluster:10, n_clusters:20\n",
      "noise:0, seed:58\n"
     ]
    },
    {
     "name": "stderr",
     "output_type": "stream",
     "text": [
      "\r",
      "634it [1:04:28,  7.80s/it]"
     ]
    },
    {
     "name": "stdout",
     "output_type": "stream",
     "text": [
      "Expected reward of policy Random is 17.603\n",
      "Expected reward of policy RR is 17.458499999999997\n",
      "Expected reward of policy Whittle is 19.116500000000002\n",
      "Expected reward of policy Baseline Quota is 18.667\n",
      "Expected reward of policy Big-LP is 18.7345\n",
      "Expected reward of policy Big-LP Lump-sum is 18.6715\n",
      "m_g: 100,fair clusters: [10, 23, 8, 35], timsteps:40\n",
      "k:20, ppl_per_cluster:10, n_clusters:20\n",
      "noise:0, seed:19\n"
     ]
    },
    {
     "name": "stderr",
     "output_type": "stream",
     "text": [
      "\r",
      "635it [1:04:37,  7.94s/it]"
     ]
    },
    {
     "name": "stdout",
     "output_type": "stream",
     "text": [
      "Expected reward of policy Random is 12.847\n",
      "Expected reward of policy RR is 12.787999999999998\n",
      "Expected reward of policy Whittle is 14.944999999999999\n",
      "Expected reward of policy Baseline Quota is 14.133000000000001\n",
      "Expected reward of policy Big-LP is 14.014500000000002\n",
      "Expected reward of policy Big-LP Lump-sum is 13.871\n",
      "m_g: 100,fair clusters: [10, 23, 8, 35], timsteps:40\n",
      "k:20, ppl_per_cluster:10, n_clusters:20\n",
      "noise:0, seed:74\n"
     ]
    },
    {
     "name": "stderr",
     "output_type": "stream",
     "text": [
      "\r",
      "636it [1:04:44,  7.85s/it]"
     ]
    },
    {
     "name": "stdout",
     "output_type": "stream",
     "text": [
      "Expected reward of policy Random is 15.008000000000001\n",
      "Expected reward of policy RR is 15.007000000000001\n",
      "Expected reward of policy Whittle is 16.487000000000002\n",
      "Expected reward of policy Baseline Quota is 16.073\n",
      "Expected reward of policy Big-LP is 15.919999999999998\n",
      "Expected reward of policy Big-LP Lump-sum is 15.798000000000002\n",
      "m_g: 100,fair clusters: [10, 23, 8, 35], timsteps:40\n",
      "k:20, ppl_per_cluster:10, n_clusters:20\n",
      "noise:0, seed:21\n"
     ]
    },
    {
     "name": "stderr",
     "output_type": "stream",
     "text": [
      "\r",
      "637it [1:04:52,  7.76s/it]"
     ]
    },
    {
     "name": "stdout",
     "output_type": "stream",
     "text": [
      "Expected reward of policy Random is 15.982\n",
      "Expected reward of policy RR is 15.627500000000001\n",
      "Expected reward of policy Whittle is 17.127499999999998\n",
      "Expected reward of policy Baseline Quota is 16.439\n",
      "Expected reward of policy Big-LP is 16.4295\n",
      "Expected reward of policy Big-LP Lump-sum is 16.367\n",
      "m_g: 100,fair clusters: [10, 23, 8, 35], timsteps:40\n",
      "k:20, ppl_per_cluster:10, n_clusters:20\n",
      "noise:0, seed:84\n"
     ]
    },
    {
     "name": "stderr",
     "output_type": "stream",
     "text": [
      "\r",
      "638it [1:04:59,  7.72s/it]"
     ]
    },
    {
     "name": "stdout",
     "output_type": "stream",
     "text": [
      "Expected reward of policy Random is 13.580000000000002\n",
      "Expected reward of policy RR is 13.666999999999998\n",
      "Expected reward of policy Whittle is 15.357499999999998\n",
      "Expected reward of policy Baseline Quota is 14.8225\n",
      "Expected reward of policy Big-LP is 14.828999999999999\n",
      "Expected reward of policy Big-LP Lump-sum is 14.802000000000001\n",
      "m_g: 100,fair clusters: [10, 23, 8, 35], timsteps:40\n",
      "k:20, ppl_per_cluster:10, n_clusters:20\n",
      "noise:0, seed:57\n"
     ]
    },
    {
     "name": "stderr",
     "output_type": "stream",
     "text": [
      "\r",
      "639it [1:05:08,  7.84s/it]"
     ]
    },
    {
     "name": "stdout",
     "output_type": "stream",
     "text": [
      "Expected reward of policy Random is 16.0445\n",
      "Expected reward of policy RR is 15.904499999999999\n",
      "Expected reward of policy Whittle is 17.0875\n",
      "Expected reward of policy Baseline Quota is 16.811500000000002\n",
      "Expected reward of policy Big-LP is 16.7855\n",
      "Expected reward of policy Big-LP Lump-sum is 16.791500000000003\n",
      "m_g: 100,fair clusters: [10, 23, 8, 35], timsteps:40\n",
      "k:20, ppl_per_cluster:10, n_clusters:20\n",
      "noise:0, seed:33\n"
     ]
    },
    {
     "name": "stderr",
     "output_type": "stream",
     "text": [
      "640it [1:05:16,  6.12s/it]"
     ]
    },
    {
     "name": "stdout",
     "output_type": "stream",
     "text": [
      "Expected reward of policy Random is 13.98\n",
      "Expected reward of policy RR is 13.865\n",
      "Expected reward of policy Whittle is 16.140499999999996\n",
      "Expected reward of policy Baseline Quota is 15.175999999999998\n",
      "Expected reward of policy Big-LP is 15.145999999999997\n",
      "Expected reward of policy Big-LP Lump-sum is 15.060999999999998\n"
     ]
    },
    {
     "name": "stderr",
     "output_type": "stream",
     "text": [
      "\n"
     ]
    }
   ],
   "source": [
    "from itertools import product\n",
    "\n",
    "N_TRIALS = 10\n",
    "exp_cols = [\"m_G_prcnt\", \"FAIR_CLUSTER_IDS\", \"horizon\", \"resources\", \"ppl_per_cluster\", \"cluster_subset_counts\", \"noise\", \"seed\"]\n",
    "rew_cols = [f'rew-{i}' for i in ['Random', 'RR', 'Whittle', 'Baseline Quota', 'Big-LP', 'Big-LP-LumpSUM']]\n",
    "\n",
    "exp_result_df = pd.DataFrame(columns=rew_cols+exp_cols)\n",
    "\n",
    "exp_id = 0\n",
    "# exp_id = exp_result_df.index.min()+1\n",
    "\n",
    "for m_G_prcnt, FAIR_CLUSTER_IDS, horizon, resources, ppl_per_cluster, cluster_subset_counts, noise, seed in \\\n",
    "                                    tqdm.tqdm(product(m_G_prcnt_exps,\n",
    "                                           FAIR_CLUSTER_IDS_exps,\n",
    "                                           horizon_exps,\n",
    "                                           resources_exps,\n",
    "                                           ppl_per_cluster_exps,\n",
    "                                           cluster_subset_counts_exps,\n",
    "                                           noise_exps,\n",
    "                                           seed_exps)):\n",
    "\n",
    "        parser = argparse.ArgumentParser(description='Inputs to engagement simulator module')\n",
    "        parser.add_argument('-N', '--num_beneficiaries', default=7000, type=int, help='Number of Beneficiaries')\n",
    "        parser.add_argument('-k', '--num_resources', default=1400, type=int, help='Number of calls available per day')\n",
    "        parser.add_argument('-L', '--simulation_length', default=40, type=int, help='Number of timesteps of simulation')\n",
    "        parser.add_argument('-ntr', '--num_trials', default=10, type=int, help='Number of independent trials')\n",
    "        parser.add_argument('-s', '--seed_base', default=100, type=int, help='Seedbase for numpy. This is starting seedbase. Simulation will consider the seeds= {seed_base, ... seed_base+ntr-1}')\n",
    "        parser.add_argument('-p', '--policy', default=-1, type=int, help='policy to run. default is all policies')\n",
    "        parser.add_argument(\"-f\", \"--fff\", help=\"a dummy argument to fool ipython\", default=\"1\")\n",
    "        args = parser.parse_args()\n",
    "        args.num_resources=resources\n",
    "        args.simulation_length=horizon\n",
    "        args.num_trials=N_TRIALS\n",
    "        m_G = int(horizon*resources*m_G_prcnt/100/len(FAIR_CLUSTER_IDS))\n",
    "        \n",
    "        \n",
    "        T_data_small, w_small, cluster_ids_small= getSmallBeneficiaryData(seed, T_data, w, cluster_ids,FAIR_CLUSTER_IDS, \n",
    "                                                                  ppl_per_cluster=ppl_per_cluster,\n",
    "                                                                  cluster_subset_counts=cluster_subset_counts)\n",
    "        \n",
    "        if noise:\n",
    "            T_data_small, w_small, cluster_ids_small= getSmallBeneficiaryData(seed, tr_noise_small, w_noise_small,\n",
    "                                                                              cluster_ids,FAIR_CLUSTER_IDS, \n",
    "                                                                              ppl_per_cluster=ppl_per_cluster,\n",
    "                                                                              cluster_subset_counts=cluster_subset_counts)\n",
    "            \n",
    "        args.num_beneficiaries=T_data_small.shape[0]\n",
    "\n",
    "        print(f'm_g: {m_G},fair clusters: {FAIR_CLUSTER_IDS}, timsteps:{horizon}')\n",
    "        print(f'k:{resources}, ppl_per_cluster:{ppl_per_cluster}, n_clusters:{cluster_subset_counts}')\n",
    "        print(f'noise:{noise}, seed:{seed}')\n",
    "        \n",
    "        lambda_G = get_lambda_g(args, m_G, ppl_per_cluster, FAIR_CLUSTER_IDS, cluster_ids_small, T_data_small)\n",
    "        \n",
    "        simulated_rewards, state_record, history = runSimulation(args,T= T_data_small , w=w_small, cluster_ids=cluster_ids_small,\n",
    "                                                      sleeping_constraint=False)\n",
    "        exp_result_df.loc[exp_id] = list(simulated_rewards.mean(axis=0))+\\\n",
    "                                    [m_G_prcnt, FAIR_CLUSTER_IDS, horizon, resources, ppl_per_cluster, cluster_subset_counts, noise, seed]\n",
    "        exp_id +=1\n",
    "        exp_result_df.to_csv('fair_exp_res_new.csv')\n"
   ]
  },
  {
   "cell_type": "code",
   "execution_count": 140,
   "metadata": {},
   "outputs": [
    {
     "data": {
      "text/html": [
       "<div>\n",
       "<style scoped>\n",
       "    .dataframe tbody tr th:only-of-type {\n",
       "        vertical-align: middle;\n",
       "    }\n",
       "\n",
       "    .dataframe tbody tr th {\n",
       "        vertical-align: top;\n",
       "    }\n",
       "\n",
       "    .dataframe thead th {\n",
       "        text-align: right;\n",
       "    }\n",
       "</style>\n",
       "<table border=\"1\" class=\"dataframe\">\n",
       "  <thead>\n",
       "    <tr style=\"text-align: right;\">\n",
       "      <th></th>\n",
       "      <th>rew-Random</th>\n",
       "      <th>rew-RR</th>\n",
       "      <th>rew-Whittle</th>\n",
       "      <th>rew-Baseline Quota</th>\n",
       "      <th>rew-Big-LP</th>\n",
       "      <th>rew-Big-LP-LumpSUM</th>\n",
       "      <th>m_G_prcnt</th>\n",
       "      <th>FAIR_CLUSTER_IDS</th>\n",
       "      <th>horizon</th>\n",
       "      <th>resources</th>\n",
       "      <th>ppl_per_cluster</th>\n",
       "      <th>cluster_subset_counts</th>\n",
       "      <th>noise</th>\n",
       "      <th>seed</th>\n",
       "    </tr>\n",
       "  </thead>\n",
       "  <tbody>\n",
       "    <tr>\n",
       "      <th>0</th>\n",
       "      <td>12.7430</td>\n",
       "      <td>12.4380</td>\n",
       "      <td>13.4140</td>\n",
       "      <td>13.3255</td>\n",
       "      <td>13.3120</td>\n",
       "      <td>13.3120</td>\n",
       "      <td>10</td>\n",
       "      <td>[10]</td>\n",
       "      <td>30</td>\n",
       "      <td>15</td>\n",
       "      <td>10</td>\n",
       "      <td>20</td>\n",
       "      <td>0</td>\n",
       "      <td>62</td>\n",
       "    </tr>\n",
       "    <tr>\n",
       "      <th>1</th>\n",
       "      <td>11.4915</td>\n",
       "      <td>11.4345</td>\n",
       "      <td>12.6220</td>\n",
       "      <td>12.5140</td>\n",
       "      <td>12.5220</td>\n",
       "      <td>12.5220</td>\n",
       "      <td>10</td>\n",
       "      <td>[10]</td>\n",
       "      <td>30</td>\n",
       "      <td>15</td>\n",
       "      <td>10</td>\n",
       "      <td>20</td>\n",
       "      <td>0</td>\n",
       "      <td>58</td>\n",
       "    </tr>\n",
       "    <tr>\n",
       "      <th>2</th>\n",
       "      <td>11.9660</td>\n",
       "      <td>12.0460</td>\n",
       "      <td>13.5435</td>\n",
       "      <td>13.4230</td>\n",
       "      <td>13.4605</td>\n",
       "      <td>13.4605</td>\n",
       "      <td>10</td>\n",
       "      <td>[10]</td>\n",
       "      <td>30</td>\n",
       "      <td>15</td>\n",
       "      <td>10</td>\n",
       "      <td>20</td>\n",
       "      <td>0</td>\n",
       "      <td>19</td>\n",
       "    </tr>\n",
       "    <tr>\n",
       "      <th>3</th>\n",
       "      <td>11.9180</td>\n",
       "      <td>11.8000</td>\n",
       "      <td>13.3400</td>\n",
       "      <td>13.2555</td>\n",
       "      <td>13.2690</td>\n",
       "      <td>13.2690</td>\n",
       "      <td>10</td>\n",
       "      <td>[10]</td>\n",
       "      <td>30</td>\n",
       "      <td>15</td>\n",
       "      <td>10</td>\n",
       "      <td>20</td>\n",
       "      <td>0</td>\n",
       "      <td>74</td>\n",
       "    </tr>\n",
       "    <tr>\n",
       "      <th>4</th>\n",
       "      <td>9.8560</td>\n",
       "      <td>9.7605</td>\n",
       "      <td>11.0060</td>\n",
       "      <td>10.8780</td>\n",
       "      <td>10.8785</td>\n",
       "      <td>10.8785</td>\n",
       "      <td>10</td>\n",
       "      <td>[10]</td>\n",
       "      <td>30</td>\n",
       "      <td>15</td>\n",
       "      <td>10</td>\n",
       "      <td>20</td>\n",
       "      <td>0</td>\n",
       "      <td>21</td>\n",
       "    </tr>\n",
       "    <tr>\n",
       "      <th>...</th>\n",
       "      <td>...</td>\n",
       "      <td>...</td>\n",
       "      <td>...</td>\n",
       "      <td>...</td>\n",
       "      <td>...</td>\n",
       "      <td>...</td>\n",
       "      <td>...</td>\n",
       "      <td>...</td>\n",
       "      <td>...</td>\n",
       "      <td>...</td>\n",
       "      <td>...</td>\n",
       "      <td>...</td>\n",
       "      <td>...</td>\n",
       "      <td>...</td>\n",
       "    </tr>\n",
       "    <tr>\n",
       "      <th>635</th>\n",
       "      <td>15.0080</td>\n",
       "      <td>15.0070</td>\n",
       "      <td>16.4870</td>\n",
       "      <td>16.0730</td>\n",
       "      <td>15.9200</td>\n",
       "      <td>15.7980</td>\n",
       "      <td>50</td>\n",
       "      <td>[10, 23, 8, 35]</td>\n",
       "      <td>40</td>\n",
       "      <td>20</td>\n",
       "      <td>10</td>\n",
       "      <td>20</td>\n",
       "      <td>0</td>\n",
       "      <td>74</td>\n",
       "    </tr>\n",
       "    <tr>\n",
       "      <th>636</th>\n",
       "      <td>15.9820</td>\n",
       "      <td>15.6275</td>\n",
       "      <td>17.1275</td>\n",
       "      <td>16.4390</td>\n",
       "      <td>16.4295</td>\n",
       "      <td>16.3670</td>\n",
       "      <td>50</td>\n",
       "      <td>[10, 23, 8, 35]</td>\n",
       "      <td>40</td>\n",
       "      <td>20</td>\n",
       "      <td>10</td>\n",
       "      <td>20</td>\n",
       "      <td>0</td>\n",
       "      <td>21</td>\n",
       "    </tr>\n",
       "    <tr>\n",
       "      <th>637</th>\n",
       "      <td>13.5800</td>\n",
       "      <td>13.6670</td>\n",
       "      <td>15.3575</td>\n",
       "      <td>14.8225</td>\n",
       "      <td>14.8290</td>\n",
       "      <td>14.8020</td>\n",
       "      <td>50</td>\n",
       "      <td>[10, 23, 8, 35]</td>\n",
       "      <td>40</td>\n",
       "      <td>20</td>\n",
       "      <td>10</td>\n",
       "      <td>20</td>\n",
       "      <td>0</td>\n",
       "      <td>84</td>\n",
       "    </tr>\n",
       "    <tr>\n",
       "      <th>638</th>\n",
       "      <td>16.0445</td>\n",
       "      <td>15.9045</td>\n",
       "      <td>17.0875</td>\n",
       "      <td>16.8115</td>\n",
       "      <td>16.7855</td>\n",
       "      <td>16.7915</td>\n",
       "      <td>50</td>\n",
       "      <td>[10, 23, 8, 35]</td>\n",
       "      <td>40</td>\n",
       "      <td>20</td>\n",
       "      <td>10</td>\n",
       "      <td>20</td>\n",
       "      <td>0</td>\n",
       "      <td>57</td>\n",
       "    </tr>\n",
       "    <tr>\n",
       "      <th>639</th>\n",
       "      <td>13.9800</td>\n",
       "      <td>13.8650</td>\n",
       "      <td>16.1405</td>\n",
       "      <td>15.1760</td>\n",
       "      <td>15.1460</td>\n",
       "      <td>15.0610</td>\n",
       "      <td>50</td>\n",
       "      <td>[10, 23, 8, 35]</td>\n",
       "      <td>40</td>\n",
       "      <td>20</td>\n",
       "      <td>10</td>\n",
       "      <td>20</td>\n",
       "      <td>0</td>\n",
       "      <td>33</td>\n",
       "    </tr>\n",
       "  </tbody>\n",
       "</table>\n",
       "<p>640 rows × 14 columns</p>\n",
       "</div>"
      ],
      "text/plain": [
       "     rew-Random   rew-RR  rew-Whittle  rew-Baseline Quota  rew-Big-LP  \\\n",
       "0       12.7430  12.4380      13.4140             13.3255     13.3120   \n",
       "1       11.4915  11.4345      12.6220             12.5140     12.5220   \n",
       "2       11.9660  12.0460      13.5435             13.4230     13.4605   \n",
       "3       11.9180  11.8000      13.3400             13.2555     13.2690   \n",
       "4        9.8560   9.7605      11.0060             10.8780     10.8785   \n",
       "..          ...      ...          ...                 ...         ...   \n",
       "635     15.0080  15.0070      16.4870             16.0730     15.9200   \n",
       "636     15.9820  15.6275      17.1275             16.4390     16.4295   \n",
       "637     13.5800  13.6670      15.3575             14.8225     14.8290   \n",
       "638     16.0445  15.9045      17.0875             16.8115     16.7855   \n",
       "639     13.9800  13.8650      16.1405             15.1760     15.1460   \n",
       "\n",
       "     rew-Big-LP-LumpSUM m_G_prcnt FAIR_CLUSTER_IDS horizon resources  \\\n",
       "0               13.3120        10             [10]      30        15   \n",
       "1               12.5220        10             [10]      30        15   \n",
       "2               13.4605        10             [10]      30        15   \n",
       "3               13.2690        10             [10]      30        15   \n",
       "4               10.8785        10             [10]      30        15   \n",
       "..                  ...       ...              ...     ...       ...   \n",
       "635             15.7980        50  [10, 23, 8, 35]      40        20   \n",
       "636             16.3670        50  [10, 23, 8, 35]      40        20   \n",
       "637             14.8020        50  [10, 23, 8, 35]      40        20   \n",
       "638             16.7915        50  [10, 23, 8, 35]      40        20   \n",
       "639             15.0610        50  [10, 23, 8, 35]      40        20   \n",
       "\n",
       "    ppl_per_cluster cluster_subset_counts noise seed  \n",
       "0                10                    20     0   62  \n",
       "1                10                    20     0   58  \n",
       "2                10                    20     0   19  \n",
       "3                10                    20     0   74  \n",
       "4                10                    20     0   21  \n",
       "..              ...                   ...   ...  ...  \n",
       "635              10                    20     0   74  \n",
       "636              10                    20     0   21  \n",
       "637              10                    20     0   84  \n",
       "638              10                    20     0   57  \n",
       "639              10                    20     0   33  \n",
       "\n",
       "[640 rows x 14 columns]"
      ]
     },
     "execution_count": 140,
     "metadata": {},
     "output_type": "execute_result"
    }
   ],
   "source": [
    "exp_result_df"
   ]
  },
  {
   "cell_type": "markdown",
   "metadata": {},
   "source": [
    "## Analyze results"
   ]
  },
  {
   "cell_type": "code",
   "execution_count": 141,
   "metadata": {},
   "outputs": [],
   "source": [
    "exp_result_df['Baseline_%loss_rel_RR'] = (exp_result_df['rew-Whittle']-exp_result_df['rew-Baseline Quota'])/\\\n",
    "                            (exp_result_df['rew-Whittle']-exp_result_df['rew-RR'])\n",
    "\n",
    "exp_result_df['BigLP_%loss_rel_RR'] = (exp_result_df['rew-Whittle']-exp_result_df['rew-Big-LP'])/\\\n",
    "                            (exp_result_df['rew-Whittle']-exp_result_df['rew-RR'])\n",
    "\n",
    "exp_result_df['ratio_loss_mgpcnt'] = exp_result_df['Baseline_%loss_rel_RR']*100/exp_result_df['m_G_prcnt']\n",
    "exp_result_df['lumpsum_gain'] = exp_result_df['rew-Big-LP-LumpSUM'] - exp_result_df['rew-Baseline Quota'] \n",
    "exp_result_df['POF_quota'] = (exp_result_df['rew-Whittle'] - exp_result_df['rew-Baseline Quota'])/exp_result_df['rew-Whittle']\n",
    "exp_result_df['POF_BigLPLumpsum'] = (exp_result_df['rew-Whittle'] - exp_result_df['rew-Big-LP-LumpSUM'])/exp_result_df['rew-Whittle']\n"
   ]
  },
  {
   "cell_type": "code",
   "execution_count": null,
   "metadata": {},
   "outputs": [],
   "source": []
  },
  {
   "cell_type": "code",
   "execution_count": null,
   "metadata": {},
   "outputs": [],
   "source": []
  },
  {
   "cell_type": "code",
   "execution_count": 245,
   "metadata": {},
   "outputs": [
    {
     "name": "stdout",
     "output_type": "stream",
     "text": [
      "(351, 18)\n"
     ]
    }
   ],
   "source": [
    "## Results where Big LP Lumpsum has gain\n",
    "good_df = exp_result_df[exp_result_df['lumpsum_gain']>-.01]\n",
    "print(good_df.shape)"
   ]
  },
  {
   "cell_type": "code",
   "execution_count": 197,
   "metadata": {},
   "outputs": [
    {
     "name": "stdout",
     "output_type": "stream",
     "text": [
      "[10]               0.250923\n",
      "[10, 35]           0.206642\n",
      "[35]               0.202952\n",
      "[10, 23, 8, 35]    0.169742\n",
      "[10, 8, 35]        0.169742\n",
      "Name: FAIR_CLUSTER_IDS, dtype: float64\n",
      "10    0.383764\n",
      "20    0.265683\n",
      "50    0.188192\n",
      "30    0.162362\n",
      "Name: m_G_prcnt, dtype: float64\n",
      "40    0.509225\n",
      "30    0.490775\n",
      "Name: horizon, dtype: float64\n",
      "20    0.557196\n",
      "15    0.442804\n",
      "Name: resources, dtype: float64\n",
      "33    0.180812\n",
      "74    0.132841\n",
      "57    0.129151\n",
      "84    0.129151\n",
      "58    0.125461\n",
      "21    0.103321\n",
      "19    0.099631\n",
      "62    0.099631\n",
      "Name: seed, dtype: float64\n"
     ]
    }
   ],
   "source": [
    "## Understanding which scenarios stand out among the good results\n",
    "print(good_df['FAIR_CLUSTER_IDS'].value_counts(normalize=True))\n",
    "print(good_df['m_G_prcnt'].value_counts(normalize=True))\n",
    "print(good_df['horizon'].value_counts(normalize=True))\n",
    "print(good_df['resources'].value_counts(normalize=True))\n",
    "print(good_df['seed'].value_counts(normalize=True))\n",
    "print(exp_result_df.groupby(['seed', 'FAIR_CLUSTER_IDS'])['lumpsum_gain'].mean())"
   ]
  },
  {
   "cell_type": "code",
   "execution_count": null,
   "metadata": {},
   "outputs": [],
   "source": []
  },
  {
   "cell_type": "markdown",
   "metadata": {},
   "source": [
    "## Create Result Summary\n",
    "### Averaged over 'seed','FAIR_CLUSTER_IDS'"
   ]
  },
  {
   "cell_type": "code",
   "execution_count": 265,
   "metadata": {
    "scrolled": false
   },
   "outputs": [
    {
     "data": {
      "text/html": [
       "<div>\n",
       "<style scoped>\n",
       "    .dataframe tbody tr th:only-of-type {\n",
       "        vertical-align: middle;\n",
       "    }\n",
       "\n",
       "    .dataframe tbody tr th {\n",
       "        vertical-align: top;\n",
       "    }\n",
       "\n",
       "    .dataframe thead th {\n",
       "        text-align: right;\n",
       "    }\n",
       "</style>\n",
       "<table border=\"1\" class=\"dataframe\">\n",
       "  <thead>\n",
       "    <tr style=\"text-align: right;\">\n",
       "      <th></th>\n",
       "      <th></th>\n",
       "      <th></th>\n",
       "      <th></th>\n",
       "      <th></th>\n",
       "      <th></th>\n",
       "      <th>rew-RR</th>\n",
       "      <th>rew-Whittle</th>\n",
       "      <th>rew-Baseline Quota</th>\n",
       "      <th>rew-Big-LP</th>\n",
       "      <th>POF_quota</th>\n",
       "      <th>POF_BigLPLumpsum</th>\n",
       "    </tr>\n",
       "    <tr>\n",
       "      <th>m_G_prcnt</th>\n",
       "      <th>horizon</th>\n",
       "      <th>resources</th>\n",
       "      <th>ppl_per_cluster</th>\n",
       "      <th>cluster_subset_counts</th>\n",
       "      <th>noise</th>\n",
       "      <th></th>\n",
       "      <th></th>\n",
       "      <th></th>\n",
       "      <th></th>\n",
       "      <th></th>\n",
       "      <th></th>\n",
       "    </tr>\n",
       "  </thead>\n",
       "  <tbody>\n",
       "    <tr>\n",
       "      <th rowspan=\"4\" valign=\"top\">10</th>\n",
       "      <th rowspan=\"2\" valign=\"top\">30</th>\n",
       "      <th>15</th>\n",
       "      <th>10</th>\n",
       "      <th>20</th>\n",
       "      <th>0</th>\n",
       "      <td>11.391362</td>\n",
       "      <td>12.633100</td>\n",
       "      <td>12.548837</td>\n",
       "      <td>12.561037</td>\n",
       "      <td>0.006692</td>\n",
       "      <td>0.006153</td>\n",
       "    </tr>\n",
       "    <tr>\n",
       "      <th>20</th>\n",
       "      <th>10</th>\n",
       "      <th>20</th>\n",
       "      <th>0</th>\n",
       "      <td>11.557937</td>\n",
       "      <td>12.970550</td>\n",
       "      <td>12.877675</td>\n",
       "      <td>12.888012</td>\n",
       "      <td>0.007214</td>\n",
       "      <td>0.006625</td>\n",
       "    </tr>\n",
       "    <tr>\n",
       "      <th rowspan=\"2\" valign=\"top\">40</th>\n",
       "      <th>15</th>\n",
       "      <th>10</th>\n",
       "      <th>20</th>\n",
       "      <th>0</th>\n",
       "      <td>15.265512</td>\n",
       "      <td>16.954225</td>\n",
       "      <td>16.837413</td>\n",
       "      <td>16.852650</td>\n",
       "      <td>0.006944</td>\n",
       "      <td>0.006382</td>\n",
       "    </tr>\n",
       "    <tr>\n",
       "      <th>20</th>\n",
       "      <th>10</th>\n",
       "      <th>20</th>\n",
       "      <th>0</th>\n",
       "      <td>15.485925</td>\n",
       "      <td>17.417687</td>\n",
       "      <td>17.289200</td>\n",
       "      <td>17.300113</td>\n",
       "      <td>0.007442</td>\n",
       "      <td>0.006721</td>\n",
       "    </tr>\n",
       "    <tr>\n",
       "      <th rowspan=\"4\" valign=\"top\">20</th>\n",
       "      <th rowspan=\"2\" valign=\"top\">30</th>\n",
       "      <th>15</th>\n",
       "      <th>10</th>\n",
       "      <th>20</th>\n",
       "      <th>0</th>\n",
       "      <td>11.391362</td>\n",
       "      <td>12.633100</td>\n",
       "      <td>12.459737</td>\n",
       "      <td>12.466625</td>\n",
       "      <td>0.013769</td>\n",
       "      <td>0.014142</td>\n",
       "    </tr>\n",
       "    <tr>\n",
       "      <th>20</th>\n",
       "      <th>10</th>\n",
       "      <th>20</th>\n",
       "      <th>0</th>\n",
       "      <td>11.557937</td>\n",
       "      <td>12.970550</td>\n",
       "      <td>12.780050</td>\n",
       "      <td>12.786037</td>\n",
       "      <td>0.014742</td>\n",
       "      <td>0.015265</td>\n",
       "    </tr>\n",
       "    <tr>\n",
       "      <th rowspan=\"2\" valign=\"top\">40</th>\n",
       "      <th>15</th>\n",
       "      <th>10</th>\n",
       "      <th>20</th>\n",
       "      <th>0</th>\n",
       "      <td>15.265512</td>\n",
       "      <td>16.954225</td>\n",
       "      <td>16.717625</td>\n",
       "      <td>16.725962</td>\n",
       "      <td>0.014029</td>\n",
       "      <td>0.014075</td>\n",
       "    </tr>\n",
       "    <tr>\n",
       "      <th>20</th>\n",
       "      <th>10</th>\n",
       "      <th>20</th>\n",
       "      <th>0</th>\n",
       "      <td>15.485925</td>\n",
       "      <td>17.417687</td>\n",
       "      <td>17.153650</td>\n",
       "      <td>17.161200</td>\n",
       "      <td>0.015220</td>\n",
       "      <td>0.015431</td>\n",
       "    </tr>\n",
       "    <tr>\n",
       "      <th rowspan=\"4\" valign=\"top\">30</th>\n",
       "      <th rowspan=\"2\" valign=\"top\">30</th>\n",
       "      <th>15</th>\n",
       "      <th>10</th>\n",
       "      <th>20</th>\n",
       "      <th>0</th>\n",
       "      <td>11.391362</td>\n",
       "      <td>12.633100</td>\n",
       "      <td>12.363000</td>\n",
       "      <td>12.358588</td>\n",
       "      <td>0.021438</td>\n",
       "      <td>0.023044</td>\n",
       "    </tr>\n",
       "    <tr>\n",
       "      <th>20</th>\n",
       "      <th>10</th>\n",
       "      <th>20</th>\n",
       "      <th>0</th>\n",
       "      <td>11.557937</td>\n",
       "      <td>12.970550</td>\n",
       "      <td>12.662525</td>\n",
       "      <td>12.652437</td>\n",
       "      <td>0.023827</td>\n",
       "      <td>0.025704</td>\n",
       "    </tr>\n",
       "    <tr>\n",
       "      <th rowspan=\"2\" valign=\"top\">40</th>\n",
       "      <th>15</th>\n",
       "      <th>10</th>\n",
       "      <th>20</th>\n",
       "      <th>0</th>\n",
       "      <td>15.265512</td>\n",
       "      <td>16.954225</td>\n",
       "      <td>16.586588</td>\n",
       "      <td>16.582262</td>\n",
       "      <td>0.021783</td>\n",
       "      <td>0.023052</td>\n",
       "    </tr>\n",
       "    <tr>\n",
       "      <th>20</th>\n",
       "      <th>10</th>\n",
       "      <th>20</th>\n",
       "      <th>0</th>\n",
       "      <td>15.485925</td>\n",
       "      <td>17.417687</td>\n",
       "      <td>16.996550</td>\n",
       "      <td>16.985213</td>\n",
       "      <td>0.024265</td>\n",
       "      <td>0.025944</td>\n",
       "    </tr>\n",
       "    <tr>\n",
       "      <th rowspan=\"4\" valign=\"top\">50</th>\n",
       "      <th rowspan=\"2\" valign=\"top\">30</th>\n",
       "      <th>15</th>\n",
       "      <th>10</th>\n",
       "      <th>20</th>\n",
       "      <th>0</th>\n",
       "      <td>11.391362</td>\n",
       "      <td>12.633100</td>\n",
       "      <td>12.119900</td>\n",
       "      <td>12.068238</td>\n",
       "      <td>0.040715</td>\n",
       "      <td>0.047174</td>\n",
       "    </tr>\n",
       "    <tr>\n",
       "      <th>20</th>\n",
       "      <th>10</th>\n",
       "      <th>20</th>\n",
       "      <th>0</th>\n",
       "      <td>11.557937</td>\n",
       "      <td>12.970550</td>\n",
       "      <td>12.378813</td>\n",
       "      <td>12.391350</td>\n",
       "      <td>0.045700</td>\n",
       "      <td>0.046913</td>\n",
       "    </tr>\n",
       "    <tr>\n",
       "      <th rowspan=\"2\" valign=\"top\">40</th>\n",
       "      <th>15</th>\n",
       "      <th>10</th>\n",
       "      <th>20</th>\n",
       "      <th>0</th>\n",
       "      <td>15.265512</td>\n",
       "      <td>16.954225</td>\n",
       "      <td>16.251150</td>\n",
       "      <td>16.192650</td>\n",
       "      <td>0.041610</td>\n",
       "      <td>0.047020</td>\n",
       "    </tr>\n",
       "    <tr>\n",
       "      <th>20</th>\n",
       "      <th>10</th>\n",
       "      <th>20</th>\n",
       "      <th>0</th>\n",
       "      <td>15.485925</td>\n",
       "      <td>17.417687</td>\n",
       "      <td>16.612500</td>\n",
       "      <td>16.627650</td>\n",
       "      <td>0.046334</td>\n",
       "      <td>0.047250</td>\n",
       "    </tr>\n",
       "  </tbody>\n",
       "</table>\n",
       "</div>"
      ],
      "text/plain": [
       "                                                                            rew-RR  \\\n",
       "m_G_prcnt horizon resources ppl_per_cluster cluster_subset_counts noise              \n",
       "10        30      15        10              20                    0      11.391362   \n",
       "                  20        10              20                    0      11.557937   \n",
       "          40      15        10              20                    0      15.265512   \n",
       "                  20        10              20                    0      15.485925   \n",
       "20        30      15        10              20                    0      11.391362   \n",
       "                  20        10              20                    0      11.557937   \n",
       "          40      15        10              20                    0      15.265512   \n",
       "                  20        10              20                    0      15.485925   \n",
       "30        30      15        10              20                    0      11.391362   \n",
       "                  20        10              20                    0      11.557937   \n",
       "          40      15        10              20                    0      15.265512   \n",
       "                  20        10              20                    0      15.485925   \n",
       "50        30      15        10              20                    0      11.391362   \n",
       "                  20        10              20                    0      11.557937   \n",
       "          40      15        10              20                    0      15.265512   \n",
       "                  20        10              20                    0      15.485925   \n",
       "\n",
       "                                                                         rew-Whittle  \\\n",
       "m_G_prcnt horizon resources ppl_per_cluster cluster_subset_counts noise                \n",
       "10        30      15        10              20                    0        12.633100   \n",
       "                  20        10              20                    0        12.970550   \n",
       "          40      15        10              20                    0        16.954225   \n",
       "                  20        10              20                    0        17.417687   \n",
       "20        30      15        10              20                    0        12.633100   \n",
       "                  20        10              20                    0        12.970550   \n",
       "          40      15        10              20                    0        16.954225   \n",
       "                  20        10              20                    0        17.417687   \n",
       "30        30      15        10              20                    0        12.633100   \n",
       "                  20        10              20                    0        12.970550   \n",
       "          40      15        10              20                    0        16.954225   \n",
       "                  20        10              20                    0        17.417687   \n",
       "50        30      15        10              20                    0        12.633100   \n",
       "                  20        10              20                    0        12.970550   \n",
       "          40      15        10              20                    0        16.954225   \n",
       "                  20        10              20                    0        17.417687   \n",
       "\n",
       "                                                                         rew-Baseline Quota  \\\n",
       "m_G_prcnt horizon resources ppl_per_cluster cluster_subset_counts noise                       \n",
       "10        30      15        10              20                    0               12.548837   \n",
       "                  20        10              20                    0               12.877675   \n",
       "          40      15        10              20                    0               16.837413   \n",
       "                  20        10              20                    0               17.289200   \n",
       "20        30      15        10              20                    0               12.459737   \n",
       "                  20        10              20                    0               12.780050   \n",
       "          40      15        10              20                    0               16.717625   \n",
       "                  20        10              20                    0               17.153650   \n",
       "30        30      15        10              20                    0               12.363000   \n",
       "                  20        10              20                    0               12.662525   \n",
       "          40      15        10              20                    0               16.586588   \n",
       "                  20        10              20                    0               16.996550   \n",
       "50        30      15        10              20                    0               12.119900   \n",
       "                  20        10              20                    0               12.378813   \n",
       "          40      15        10              20                    0               16.251150   \n",
       "                  20        10              20                    0               16.612500   \n",
       "\n",
       "                                                                         rew-Big-LP  \\\n",
       "m_G_prcnt horizon resources ppl_per_cluster cluster_subset_counts noise               \n",
       "10        30      15        10              20                    0       12.561037   \n",
       "                  20        10              20                    0       12.888012   \n",
       "          40      15        10              20                    0       16.852650   \n",
       "                  20        10              20                    0       17.300113   \n",
       "20        30      15        10              20                    0       12.466625   \n",
       "                  20        10              20                    0       12.786037   \n",
       "          40      15        10              20                    0       16.725962   \n",
       "                  20        10              20                    0       17.161200   \n",
       "30        30      15        10              20                    0       12.358588   \n",
       "                  20        10              20                    0       12.652437   \n",
       "          40      15        10              20                    0       16.582262   \n",
       "                  20        10              20                    0       16.985213   \n",
       "50        30      15        10              20                    0       12.068238   \n",
       "                  20        10              20                    0       12.391350   \n",
       "          40      15        10              20                    0       16.192650   \n",
       "                  20        10              20                    0       16.627650   \n",
       "\n",
       "                                                                         POF_quota  \\\n",
       "m_G_prcnt horizon resources ppl_per_cluster cluster_subset_counts noise              \n",
       "10        30      15        10              20                    0       0.006692   \n",
       "                  20        10              20                    0       0.007214   \n",
       "          40      15        10              20                    0       0.006944   \n",
       "                  20        10              20                    0       0.007442   \n",
       "20        30      15        10              20                    0       0.013769   \n",
       "                  20        10              20                    0       0.014742   \n",
       "          40      15        10              20                    0       0.014029   \n",
       "                  20        10              20                    0       0.015220   \n",
       "30        30      15        10              20                    0       0.021438   \n",
       "                  20        10              20                    0       0.023827   \n",
       "          40      15        10              20                    0       0.021783   \n",
       "                  20        10              20                    0       0.024265   \n",
       "50        30      15        10              20                    0       0.040715   \n",
       "                  20        10              20                    0       0.045700   \n",
       "          40      15        10              20                    0       0.041610   \n",
       "                  20        10              20                    0       0.046334   \n",
       "\n",
       "                                                                         POF_BigLPLumpsum  \n",
       "m_G_prcnt horizon resources ppl_per_cluster cluster_subset_counts noise                    \n",
       "10        30      15        10              20                    0              0.006153  \n",
       "                  20        10              20                    0              0.006625  \n",
       "          40      15        10              20                    0              0.006382  \n",
       "                  20        10              20                    0              0.006721  \n",
       "20        30      15        10              20                    0              0.014142  \n",
       "                  20        10              20                    0              0.015265  \n",
       "          40      15        10              20                    0              0.014075  \n",
       "                  20        10              20                    0              0.015431  \n",
       "30        30      15        10              20                    0              0.023044  \n",
       "                  20        10              20                    0              0.025704  \n",
       "          40      15        10              20                    0              0.023052  \n",
       "                  20        10              20                    0              0.025944  \n",
       "50        30      15        10              20                    0              0.047174  \n",
       "                  20        10              20                    0              0.046913  \n",
       "          40      15        10              20                    0              0.047020  \n",
       "                  20        10              20                    0              0.047250  "
      ]
     },
     "execution_count": 265,
     "metadata": {},
     "output_type": "execute_result"
    }
   ],
   "source": [
    "pd.options.display.max_rows=1000\n",
    "exp_result_df_grp = pd.DataFrame(exp_result_df)\n",
    "exp_result_df_grp.rename({'POF_BigLPLumpsum': 'POF_BigLP'})\n",
    "POF_cols = [cols for cols in exp_result_df_grp.columns if cols.startswith('POF')]\n",
    "exp_result_df_grp[exp_cols] = exp_result_df_grp[exp_cols].astype(str)\n",
    "exp_result_df_grp.rename({'rew-Big-LP-LumpSUM':'rew-Big-LP'}).groupby([col for col in exp_cols if col not in ['seed','FAIR_CLUSTER_IDS', \"Baseline_%loss_rel_RR\", \"BigLP_%loss_rel_RR\", \"lumpsum_gain\", \n",
    "                                                              \"ratio_loss_mgpcnt\"]])\\\n",
    "            [[col for col in rew_cols if col not in ['rew-Big-LP-LumpSUM', 'rew-Random']]+POF_cols].mean()"
   ]
  },
  {
   "cell_type": "code",
   "execution_count": null,
   "metadata": {},
   "outputs": [],
   "source": []
  },
  {
   "cell_type": "code",
   "execution_count": 1319,
   "metadata": {},
   "outputs": [
    {
     "data": {
      "text/html": [
       "<div>\n",
       "<style scoped>\n",
       "    .dataframe tbody tr th:only-of-type {\n",
       "        vertical-align: middle;\n",
       "    }\n",
       "\n",
       "    .dataframe tbody tr th {\n",
       "        vertical-align: top;\n",
       "    }\n",
       "\n",
       "    .dataframe thead th {\n",
       "        text-align: right;\n",
       "    }\n",
       "</style>\n",
       "<table border=\"1\" class=\"dataframe\">\n",
       "  <thead>\n",
       "    <tr style=\"text-align: right;\">\n",
       "      <th></th>\n",
       "      <th>fairness_cost</th>\n",
       "      <th>fairness_cost_bigLP</th>\n",
       "    </tr>\n",
       "    <tr>\n",
       "      <th>m_G_prcnt</th>\n",
       "      <th></th>\n",
       "      <th></th>\n",
       "    </tr>\n",
       "  </thead>\n",
       "  <tbody>\n",
       "    <tr>\n",
       "      <th>10</th>\n",
       "      <td>0.099476</td>\n",
       "      <td>0.109669</td>\n",
       "    </tr>\n",
       "    <tr>\n",
       "      <th>20</th>\n",
       "      <td>0.213505</td>\n",
       "      <td>0.229993</td>\n",
       "    </tr>\n",
       "    <tr>\n",
       "      <th>30</th>\n",
       "      <td>0.315273</td>\n",
       "      <td>0.338043</td>\n",
       "    </tr>\n",
       "    <tr>\n",
       "      <th>50</th>\n",
       "      <td>0.518094</td>\n",
       "      <td>0.562539</td>\n",
       "    </tr>\n",
       "    <tr>\n",
       "      <th>10</th>\n",
       "      <td>0.059728</td>\n",
       "      <td>0.071076</td>\n",
       "    </tr>\n",
       "    <tr>\n",
       "      <th>20</th>\n",
       "      <td>0.116721</td>\n",
       "      <td>0.129039</td>\n",
       "    </tr>\n",
       "    <tr>\n",
       "      <th>30</th>\n",
       "      <td>0.170041</td>\n",
       "      <td>0.190599</td>\n",
       "    </tr>\n",
       "    <tr>\n",
       "      <th>50</th>\n",
       "      <td>0.310787</td>\n",
       "      <td>0.365941</td>\n",
       "    </tr>\n",
       "  </tbody>\n",
       "</table>\n",
       "</div>"
      ],
      "text/plain": [
       "           fairness_cost  fairness_cost_bigLP\n",
       "m_G_prcnt                                    \n",
       "10              0.099476             0.109669\n",
       "20              0.213505             0.229993\n",
       "30              0.315273             0.338043\n",
       "50              0.518094             0.562539\n",
       "10              0.059728             0.071076\n",
       "20              0.116721             0.129039\n",
       "30              0.170041             0.190599\n",
       "50              0.310787             0.365941"
      ]
     },
     "execution_count": 1319,
     "metadata": {},
     "output_type": "execute_result"
    }
   ],
   "source": [
    "## Fairness cost wrt mg percent\n",
    "exp_out = exp_results_df\n",
    "exp_out[['m_G_prcnt', 'fairness_cost', 'fairness_cost_bigLP']].groupby('m_G_prcnt')[['fairness_cost', 'fairness_cost_bigLP']].mean()"
   ]
  },
  {
   "cell_type": "code",
   "execution_count": null,
   "metadata": {},
   "outputs": [],
   "source": []
  },
  {
   "cell_type": "code",
   "execution_count": 1320,
   "metadata": {
    "scrolled": true
   },
   "outputs": [
    {
     "data": {
      "text/html": [
       "<div>\n",
       "<style scoped>\n",
       "    .dataframe tbody tr th:only-of-type {\n",
       "        vertical-align: middle;\n",
       "    }\n",
       "\n",
       "    .dataframe tbody tr th {\n",
       "        vertical-align: top;\n",
       "    }\n",
       "\n",
       "    .dataframe thead th {\n",
       "        text-align: right;\n",
       "    }\n",
       "</style>\n",
       "<table border=\"1\" class=\"dataframe\">\n",
       "  <thead>\n",
       "    <tr style=\"text-align: right;\">\n",
       "      <th></th>\n",
       "      <th></th>\n",
       "      <th></th>\n",
       "      <th></th>\n",
       "      <th></th>\n",
       "      <th></th>\n",
       "      <th></th>\n",
       "      <th></th>\n",
       "      <th>rew-Random</th>\n",
       "      <th>rew-RR</th>\n",
       "      <th>rew-Whittle</th>\n",
       "      <th>rew-Baseline Quota</th>\n",
       "      <th>rew-Big-LP</th>\n",
       "    </tr>\n",
       "    <tr>\n",
       "      <th>m_G_prcnt</th>\n",
       "      <th>FAIR_CLUSTER_IDS</th>\n",
       "      <th>horizon</th>\n",
       "      <th>resources</th>\n",
       "      <th>ppl_per_cluster</th>\n",
       "      <th>cluster_subset_counts</th>\n",
       "      <th>noise</th>\n",
       "      <th>fairness_cost</th>\n",
       "      <th></th>\n",
       "      <th></th>\n",
       "      <th></th>\n",
       "      <th></th>\n",
       "      <th></th>\n",
       "    </tr>\n",
       "  </thead>\n",
       "  <tbody>\n",
       "    <tr>\n",
       "      <th rowspan=\"32\" valign=\"top\">10</th>\n",
       "      <th rowspan=\"8\" valign=\"top\">[10, 35]</th>\n",
       "      <th rowspan=\"8\" valign=\"top\">20</th>\n",
       "      <th rowspan=\"8\" valign=\"top\">15</th>\n",
       "      <th rowspan=\"8\" valign=\"top\">20</th>\n",
       "      <th rowspan=\"8\" valign=\"top\">20</th>\n",
       "      <th rowspan=\"4\" valign=\"top\">0</th>\n",
       "      <th>0.04774774774774691</th>\n",
       "      <td>7.44750</td>\n",
       "      <td>7.42600</td>\n",
       "      <td>7.98100</td>\n",
       "      <td>7.95450</td>\n",
       "      <td>7.94975</td>\n",
       "    </tr>\n",
       "    <tr>\n",
       "      <th>0.10272443054935096</th>\n",
       "      <td>7.08325</td>\n",
       "      <td>7.06325</td>\n",
       "      <td>7.62300</td>\n",
       "      <td>7.56550</td>\n",
       "      <td>7.55925</td>\n",
       "    </tr>\n",
       "    <tr>\n",
       "      <th>0.16202229299362936</th>\n",
       "      <td>7.52125</td>\n",
       "      <td>7.55450</td>\n",
       "      <td>8.18250</td>\n",
       "      <td>8.08075</td>\n",
       "      <td>8.09425</td>\n",
       "    </tr>\n",
       "    <tr>\n",
       "      <th>0.20767004341533918</th>\n",
       "      <td>7.92400</td>\n",
       "      <td>7.90400</td>\n",
       "      <td>8.24950</td>\n",
       "      <td>8.17775</td>\n",
       "      <td>8.17825</td>\n",
       "    </tr>\n",
       "    <tr>\n",
       "      <th rowspan=\"4\" valign=\"top\">0.3</th>\n",
       "      <th>0.024128686327083468</th>\n",
       "      <td>8.76425</td>\n",
       "      <td>8.75825</td>\n",
       "      <td>9.13125</td>\n",
       "      <td>9.12225</td>\n",
       "      <td>9.11100</td>\n",
       "    </tr>\n",
       "    <tr>\n",
       "      <th>0.03959843837143942</th>\n",
       "      <td>8.75500</td>\n",
       "      <td>8.73350</td>\n",
       "      <td>9.18175</td>\n",
       "      <td>9.16400</td>\n",
       "      <td>9.16450</td>\n",
       "    </tr>\n",
       "    <tr>\n",
       "      <th>0.061996280223183105</th>\n",
       "      <td>8.50950</td>\n",
       "      <td>8.44850</td>\n",
       "      <td>8.85175</td>\n",
       "      <td>8.82675</td>\n",
       "      <td>8.82000</td>\n",
       "    </tr>\n",
       "    <tr>\n",
       "      <th>0.09728363866077702</th>\n",
       "      <td>8.15800</td>\n",
       "      <td>8.11875</td>\n",
       "      <td>8.51450</td>\n",
       "      <td>8.47600</td>\n",
       "      <td>8.47650</td>\n",
       "    </tr>\n",
       "    <tr>\n",
       "      <th rowspan=\"8\" valign=\"top\">[10, 8, 35]</th>\n",
       "      <th rowspan=\"8\" valign=\"top\">20</th>\n",
       "      <th rowspan=\"8\" valign=\"top\">15</th>\n",
       "      <th rowspan=\"8\" valign=\"top\">20</th>\n",
       "      <th rowspan=\"8\" valign=\"top\">20</th>\n",
       "      <th rowspan=\"4\" valign=\"top\">0</th>\n",
       "      <th>0.005122950819671135</th>\n",
       "      <td>8.19800</td>\n",
       "      <td>8.19950</td>\n",
       "      <td>8.68750</td>\n",
       "      <td>8.68500</td>\n",
       "      <td>8.68675</td>\n",
       "    </tr>\n",
       "    <tr>\n",
       "      <th>0.05649717514124555</th>\n",
       "      <td>6.72500</td>\n",
       "      <td>6.72775</td>\n",
       "      <td>7.30300</td>\n",
       "      <td>7.27050</td>\n",
       "      <td>7.29375</td>\n",
       "    </tr>\n",
       "    <tr>\n",
       "      <th>0.06531816266329586</th>\n",
       "      <td>6.69625</td>\n",
       "      <td>6.69100</td>\n",
       "      <td>7.28425</td>\n",
       "      <td>7.24550</td>\n",
       "      <td>7.24975</td>\n",
       "    </tr>\n",
       "    <tr>\n",
       "      <th>0.07104477611940493</th>\n",
       "      <td>6.65150</td>\n",
       "      <td>6.61400</td>\n",
       "      <td>7.03275</td>\n",
       "      <td>7.00300</td>\n",
       "      <td>6.99250</td>\n",
       "    </tr>\n",
       "    <tr>\n",
       "      <th rowspan=\"4\" valign=\"top\">0.3</th>\n",
       "      <th>0.04067796610169636</th>\n",
       "      <td>8.45350</td>\n",
       "      <td>8.43150</td>\n",
       "      <td>8.94775</td>\n",
       "      <td>8.92675</td>\n",
       "      <td>8.93475</td>\n",
       "    </tr>\n",
       "    <tr>\n",
       "      <th>0.06657789613848349</th>\n",
       "      <td>9.02825</td>\n",
       "      <td>8.95700</td>\n",
       "      <td>9.33250</td>\n",
       "      <td>9.30750</td>\n",
       "      <td>9.31000</td>\n",
       "    </tr>\n",
       "    <tr>\n",
       "      <th>0.07142857142857248</th>\n",
       "      <td>8.31600</td>\n",
       "      <td>8.33175</td>\n",
       "      <td>8.69225</td>\n",
       "      <td>8.66650</td>\n",
       "      <td>8.68450</td>\n",
       "    </tr>\n",
       "    <tr>\n",
       "      <th>0.10897435897435635</th>\n",
       "      <td>8.26100</td>\n",
       "      <td>8.26900</td>\n",
       "      <td>8.65900</td>\n",
       "      <td>8.61650</td>\n",
       "      <td>8.62500</td>\n",
       "    </tr>\n",
       "    <tr>\n",
       "      <th rowspan=\"8\" valign=\"top\">[10]</th>\n",
       "      <th rowspan=\"8\" valign=\"top\">20</th>\n",
       "      <th rowspan=\"8\" valign=\"top\">15</th>\n",
       "      <th rowspan=\"8\" valign=\"top\">20</th>\n",
       "      <th rowspan=\"8\" valign=\"top\">20</th>\n",
       "      <th rowspan=\"4\" valign=\"top\">0</th>\n",
       "      <th>0.06256463288521448</th>\n",
       "      <td>7.37325</td>\n",
       "      <td>7.37950</td>\n",
       "      <td>7.86300</td>\n",
       "      <td>7.83275</td>\n",
       "      <td>7.84150</td>\n",
       "    </tr>\n",
       "    <tr>\n",
       "      <th>0.10322854715378142</th>\n",
       "      <td>7.67900</td>\n",
       "      <td>7.63175</td>\n",
       "      <td>8.22025</td>\n",
       "      <td>8.15950</td>\n",
       "      <td>8.13875</td>\n",
       "    </tr>\n",
       "    <tr>\n",
       "      <th>0.1231806886758968</th>\n",
       "      <td>7.75500</td>\n",
       "      <td>7.72575</td>\n",
       "      <td>8.43000</td>\n",
       "      <td>8.34325</td>\n",
       "      <td>8.32375</td>\n",
       "    </tr>\n",
       "    <tr>\n",
       "      <th>0.1890853189853983</th>\n",
       "      <td>8.10400</td>\n",
       "      <td>8.18025</td>\n",
       "      <td>8.50550</td>\n",
       "      <td>8.44400</td>\n",
       "      <td>8.42425</td>\n",
       "    </tr>\n",
       "    <tr>\n",
       "      <th rowspan=\"4\" valign=\"top\">0.3</th>\n",
       "      <th>0.01325234676974103</th>\n",
       "      <td>8.90450</td>\n",
       "      <td>8.86400</td>\n",
       "      <td>9.31675</td>\n",
       "      <td>9.31075</td>\n",
       "      <td>9.29925</td>\n",
       "    </tr>\n",
       "    <tr>\n",
       "      <th>0.04652686762778827</th>\n",
       "      <td>8.37450</td>\n",
       "      <td>8.49525</td>\n",
       "      <td>8.87675</td>\n",
       "      <td>8.85900</td>\n",
       "      <td>8.83475</td>\n",
       "    </tr>\n",
       "    <tr>\n",
       "      <th>0.04915627292736154</th>\n",
       "      <td>8.61800</td>\n",
       "      <td>8.58625</td>\n",
       "      <td>8.92700</td>\n",
       "      <td>8.91025</td>\n",
       "      <td>8.90250</td>\n",
       "    </tr>\n",
       "    <tr>\n",
       "      <th>0.07152496626180951</th>\n",
       "      <td>8.85600</td>\n",
       "      <td>8.83525</td>\n",
       "      <td>9.20575</td>\n",
       "      <td>9.17925</td>\n",
       "      <td>9.16300</td>\n",
       "    </tr>\n",
       "    <tr>\n",
       "      <th rowspan=\"8\" valign=\"top\">[8]</th>\n",
       "      <th rowspan=\"8\" valign=\"top\">20</th>\n",
       "      <th rowspan=\"8\" valign=\"top\">15</th>\n",
       "      <th rowspan=\"8\" valign=\"top\">20</th>\n",
       "      <th rowspan=\"8\" valign=\"top\">20</th>\n",
       "      <th rowspan=\"4\" valign=\"top\">0</th>\n",
       "      <th>0.05415309446254158</th>\n",
       "      <td>7.98125</td>\n",
       "      <td>8.04125</td>\n",
       "      <td>8.65525</td>\n",
       "      <td>8.62200</td>\n",
       "      <td>8.60850</td>\n",
       "    </tr>\n",
       "    <tr>\n",
       "      <th>0.06059182714889815</th>\n",
       "      <td>7.69725</td>\n",
       "      <td>7.66600</td>\n",
       "      <td>8.19825</td>\n",
       "      <td>8.16600</td>\n",
       "      <td>8.16200</td>\n",
       "    </tr>\n",
       "    <tr>\n",
       "      <th>0.11952191235059945</th>\n",
       "      <td>7.82650</td>\n",
       "      <td>7.75925</td>\n",
       "      <td>8.44950</td>\n",
       "      <td>8.36700</td>\n",
       "      <td>8.32525</td>\n",
       "    </tr>\n",
       "    <tr>\n",
       "      <th>0.16113744075829076</th>\n",
       "      <td>8.53600</td>\n",
       "      <td>8.55150</td>\n",
       "      <td>8.86800</td>\n",
       "      <td>8.81700</td>\n",
       "      <td>8.81800</td>\n",
       "    </tr>\n",
       "    <tr>\n",
       "      <th rowspan=\"4\" valign=\"top\">0.3</th>\n",
       "      <th>0.0037902716361295817</th>\n",
       "      <td>8.81975</td>\n",
       "      <td>8.77650</td>\n",
       "      <td>9.17225</td>\n",
       "      <td>9.17075</td>\n",
       "      <td>9.16325</td>\n",
       "    </tr>\n",
       "    <tr>\n",
       "      <th>0.054616384915476573</th>\n",
       "      <td>8.96975</td>\n",
       "      <td>8.97150</td>\n",
       "      <td>9.35600</td>\n",
       "      <td>9.33500</td>\n",
       "      <td>9.31475</td>\n",
       "    </tr>\n",
       "    <tr>\n",
       "      <th>0.06334563345633941</th>\n",
       "      <td>9.11775</td>\n",
       "      <td>9.16150</td>\n",
       "      <td>9.56800</td>\n",
       "      <td>9.54225</td>\n",
       "      <td>9.53275</td>\n",
       "    </tr>\n",
       "    <tr>\n",
       "      <th>0.14277215942891217</th>\n",
       "      <td>8.68200</td>\n",
       "      <td>8.61000</td>\n",
       "      <td>9.03025</td>\n",
       "      <td>8.97025</td>\n",
       "      <td>8.97850</td>\n",
       "    </tr>\n",
       "    <tr>\n",
       "      <th rowspan=\"32\" valign=\"top\">20</th>\n",
       "      <th rowspan=\"8\" valign=\"top\">[10, 35]</th>\n",
       "      <th rowspan=\"8\" valign=\"top\">20</th>\n",
       "      <th rowspan=\"8\" valign=\"top\">15</th>\n",
       "      <th rowspan=\"8\" valign=\"top\">20</th>\n",
       "      <th rowspan=\"8\" valign=\"top\">20</th>\n",
       "      <th rowspan=\"4\" valign=\"top\">0</th>\n",
       "      <th>0.10405405405405325</th>\n",
       "      <td>7.44750</td>\n",
       "      <td>7.42600</td>\n",
       "      <td>7.98100</td>\n",
       "      <td>7.92325</td>\n",
       "      <td>7.93150</td>\n",
       "    </tr>\n",
       "    <tr>\n",
       "      <th>0.19160339437248697</th>\n",
       "      <td>7.08325</td>\n",
       "      <td>7.06325</td>\n",
       "      <td>7.62300</td>\n",
       "      <td>7.51575</td>\n",
       "      <td>7.47575</td>\n",
       "    </tr>\n",
       "    <tr>\n",
       "      <th>0.2778662420382171</th>\n",
       "      <td>7.52125</td>\n",
       "      <td>7.55450</td>\n",
       "      <td>8.18250</td>\n",
       "      <td>8.00800</td>\n",
       "      <td>7.98950</td>\n",
       "    </tr>\n",
       "    <tr>\n",
       "      <th>0.3654124457308264</th>\n",
       "      <td>7.92400</td>\n",
       "      <td>7.90400</td>\n",
       "      <td>8.24950</td>\n",
       "      <td>8.12325</td>\n",
       "      <td>8.12675</td>\n",
       "    </tr>\n",
       "    <tr>\n",
       "      <th rowspan=\"4\" valign=\"top\">0.3</th>\n",
       "      <th>0.07306190741773183</th>\n",
       "      <td>8.75500</td>\n",
       "      <td>8.73350</td>\n",
       "      <td>9.18175</td>\n",
       "      <td>9.14900</td>\n",
       "      <td>9.13050</td>\n",
       "    </tr>\n",
       "    <tr>\n",
       "      <th>0.10353378797272265</th>\n",
       "      <td>8.50950</td>\n",
       "      <td>8.44850</td>\n",
       "      <td>8.85175</td>\n",
       "      <td>8.81000</td>\n",
       "      <td>8.77900</td>\n",
       "    </tr>\n",
       "    <tr>\n",
       "      <th>0.1061276058117535</th>\n",
       "      <td>8.15800</td>\n",
       "      <td>8.11875</td>\n",
       "      <td>8.51450</td>\n",
       "      <td>8.47250</td>\n",
       "      <td>8.48025</td>\n",
       "    </tr>\n",
       "    <tr>\n",
       "      <th>0.12935656836461004</th>\n",
       "      <td>8.76425</td>\n",
       "      <td>8.75825</td>\n",
       "      <td>9.13125</td>\n",
       "      <td>9.08300</td>\n",
       "      <td>9.08825</td>\n",
       "    </tr>\n",
       "    <tr>\n",
       "      <th rowspan=\"8\" valign=\"top\">[10, 8, 35]</th>\n",
       "      <th rowspan=\"8\" valign=\"top\">20</th>\n",
       "      <th rowspan=\"8\" valign=\"top\">15</th>\n",
       "      <th rowspan=\"8\" valign=\"top\">20</th>\n",
       "      <th rowspan=\"8\" valign=\"top\">20</th>\n",
       "      <th rowspan=\"4\" valign=\"top\">0</th>\n",
       "      <th>0.01690573770491511</th>\n",
       "      <td>8.19800</td>\n",
       "      <td>8.19950</td>\n",
       "      <td>8.68750</td>\n",
       "      <td>8.67925</td>\n",
       "      <td>8.68550</td>\n",
       "    </tr>\n",
       "    <tr>\n",
       "      <th>0.15701492537313314</th>\n",
       "      <td>6.65150</td>\n",
       "      <td>6.61400</td>\n",
       "      <td>7.03275</td>\n",
       "      <td>6.96700</td>\n",
       "      <td>6.97650</td>\n",
       "    </tr>\n",
       "    <tr>\n",
       "      <th>0.19165580182528966</th>\n",
       "      <td>6.72500</td>\n",
       "      <td>6.72775</td>\n",
       "      <td>7.30300</td>\n",
       "      <td>7.19275</td>\n",
       "      <td>7.19375</td>\n",
       "    </tr>\n",
       "    <tr>\n",
       "      <th>0.22039612305099307</th>\n",
       "      <td>6.69625</td>\n",
       "      <td>6.69100</td>\n",
       "      <td>7.28425</td>\n",
       "      <td>7.15350</td>\n",
       "      <td>7.17175</td>\n",
       "    </tr>\n",
       "    <tr>\n",
       "      <th rowspan=\"4\" valign=\"top\">0.3</th>\n",
       "      <th>0.08958837772397528</th>\n",
       "      <td>8.45350</td>\n",
       "      <td>8.43150</td>\n",
       "      <td>8.94775</td>\n",
       "      <td>8.90150</td>\n",
       "      <td>8.90250</td>\n",
       "    </tr>\n",
       "    <tr>\n",
       "      <th>0.10263522884881839</th>\n",
       "      <td>8.31600</td>\n",
       "      <td>8.33175</td>\n",
       "      <td>8.69225</td>\n",
       "      <td>8.65525</td>\n",
       "      <td>8.65425</td>\n",
       "    </tr>\n",
       "    <tr>\n",
       "      <th>0.10585885486018652</th>\n",
       "      <td>9.02825</td>\n",
       "      <td>8.95700</td>\n",
       "      <td>9.33250</td>\n",
       "      <td>9.29275</td>\n",
       "      <td>9.29125</td>\n",
       "    </tr>\n",
       "    <tr>\n",
       "      <th>0.14294871794871838</th>\n",
       "      <td>8.26100</td>\n",
       "      <td>8.26900</td>\n",
       "      <td>8.65900</td>\n",
       "      <td>8.60325</td>\n",
       "      <td>8.59200</td>\n",
       "    </tr>\n",
       "    <tr>\n",
       "      <th rowspan=\"8\" valign=\"top\">[10]</th>\n",
       "      <th rowspan=\"8\" valign=\"top\">20</th>\n",
       "      <th rowspan=\"8\" valign=\"top\">15</th>\n",
       "      <th rowspan=\"8\" valign=\"top\">20</th>\n",
       "      <th rowspan=\"8\" valign=\"top\">20</th>\n",
       "      <th rowspan=\"4\" valign=\"top\">0</th>\n",
       "      <th>0.10444674250258171</th>\n",
       "      <td>7.37325</td>\n",
       "      <td>7.37950</td>\n",
       "      <td>7.86300</td>\n",
       "      <td>7.81250</td>\n",
       "      <td>7.80950</td>\n",
       "    </tr>\n",
       "    <tr>\n",
       "      <th>0.22047578589634537</th>\n",
       "      <td>7.67900</td>\n",
       "      <td>7.63175</td>\n",
       "      <td>8.22025</td>\n",
       "      <td>8.09050</td>\n",
       "      <td>8.03725</td>\n",
       "    </tr>\n",
       "    <tr>\n",
       "      <th>0.26801561945332253</th>\n",
       "      <td>7.75500</td>\n",
       "      <td>7.72575</td>\n",
       "      <td>8.43000</td>\n",
       "      <td>8.24125</td>\n",
       "      <td>8.21525</td>\n",
       "    </tr>\n",
       "    <tr>\n",
       "      <th>0.38124519600307777</th>\n",
       "      <td>8.10400</td>\n",
       "      <td>8.18025</td>\n",
       "      <td>8.50550</td>\n",
       "      <td>8.38150</td>\n",
       "      <td>8.38025</td>\n",
       "    </tr>\n",
       "    <tr>\n",
       "      <th rowspan=\"4\" valign=\"top\">0.3</th>\n",
       "      <th>0.04196576477084136</th>\n",
       "      <td>8.90450</td>\n",
       "      <td>8.86400</td>\n",
       "      <td>9.31675</td>\n",
       "      <td>9.29775</td>\n",
       "      <td>9.24100</td>\n",
       "    </tr>\n",
       "    <tr>\n",
       "      <th>0.1071166544387346</th>\n",
       "      <td>8.61800</td>\n",
       "      <td>8.58625</td>\n",
       "      <td>8.92700</td>\n",
       "      <td>8.89050</td>\n",
       "      <td>8.90600</td>\n",
       "    </tr>\n",
       "    <tr>\n",
       "      <th>0.16464237516869568</th>\n",
       "      <td>8.85600</td>\n",
       "      <td>8.83525</td>\n",
       "      <td>9.20575</td>\n",
       "      <td>9.14475</td>\n",
       "      <td>9.14450</td>\n",
       "    </tr>\n",
       "    <tr>\n",
       "      <th>0.166448230668417</th>\n",
       "      <td>8.37450</td>\n",
       "      <td>8.49525</td>\n",
       "      <td>8.87675</td>\n",
       "      <td>8.81325</td>\n",
       "      <td>8.80825</td>\n",
       "    </tr>\n",
       "    <tr>\n",
       "      <th rowspan=\"8\" valign=\"top\">[8]</th>\n",
       "      <th rowspan=\"8\" valign=\"top\">20</th>\n",
       "      <th rowspan=\"8\" valign=\"top\">15</th>\n",
       "      <th rowspan=\"8\" valign=\"top\">20</th>\n",
       "      <th rowspan=\"8\" valign=\"top\">20</th>\n",
       "      <th rowspan=\"4\" valign=\"top\">0</th>\n",
       "      <th>0.1183654297792429</th>\n",
       "      <td>7.69725</td>\n",
       "      <td>7.66600</td>\n",
       "      <td>8.19825</td>\n",
       "      <td>8.13525</td>\n",
       "      <td>8.13525</td>\n",
       "    </tr>\n",
       "    <tr>\n",
       "      <th>0.20195439739414267</th>\n",
       "      <td>7.98125</td>\n",
       "      <td>8.04125</td>\n",
       "      <td>8.65525</td>\n",
       "      <td>8.53125</td>\n",
       "      <td>8.49450</td>\n",
       "    </tr>\n",
       "    <tr>\n",
       "      <th>0.258601955813113</th>\n",
       "      <td>7.82650</td>\n",
       "      <td>7.75925</td>\n",
       "      <td>8.44950</td>\n",
       "      <td>8.27100</td>\n",
       "      <td>8.24475</td>\n",
       "    </tr>\n",
       "    <tr>\n",
       "      <th>0.3380726698262152</th>\n",
       "      <td>8.53600</td>\n",
       "      <td>8.55150</td>\n",
       "      <td>8.86800</td>\n",
       "      <td>8.76100</td>\n",
       "      <td>8.75450</td>\n",
       "    </tr>\n",
       "    <tr>\n",
       "      <th rowspan=\"4\" valign=\"top\">0.3</th>\n",
       "      <th>0.05874921036007809</th>\n",
       "      <td>8.81975</td>\n",
       "      <td>8.77650</td>\n",
       "      <td>9.17225</td>\n",
       "      <td>9.14900</td>\n",
       "      <td>9.14425</td>\n",
       "    </tr>\n",
       "    <tr>\n",
       "      <th>0.12808842652795985</th>\n",
       "      <td>8.96975</td>\n",
       "      <td>8.97150</td>\n",
       "      <td>9.35600</td>\n",
       "      <td>9.30675</td>\n",
       "      <td>9.30900</td>\n",
       "    </tr>\n",
       "    <tr>\n",
       "      <th>0.16359163591636564</th>\n",
       "      <td>9.11775</td>\n",
       "      <td>9.16150</td>\n",
       "      <td>9.56800</td>\n",
       "      <td>9.50150</td>\n",
       "      <td>9.50950</td>\n",
       "    </tr>\n",
       "    <tr>\n",
       "      <th>0.18381915526472561</th>\n",
       "      <td>8.68200</td>\n",
       "      <td>8.61000</td>\n",
       "      <td>9.03025</td>\n",
       "      <td>8.95300</td>\n",
       "      <td>8.95350</td>\n",
       "    </tr>\n",
       "    <tr>\n",
       "      <th rowspan=\"32\" valign=\"top\">30</th>\n",
       "      <th rowspan=\"8\" valign=\"top\">[10, 35]</th>\n",
       "      <th rowspan=\"8\" valign=\"top\">20</th>\n",
       "      <th rowspan=\"8\" valign=\"top\">15</th>\n",
       "      <th rowspan=\"8\" valign=\"top\">20</th>\n",
       "      <th rowspan=\"8\" valign=\"top\">20</th>\n",
       "      <th rowspan=\"4\" valign=\"top\">0</th>\n",
       "      <th>0.1337837837837841</th>\n",
       "      <td>7.44750</td>\n",
       "      <td>7.42600</td>\n",
       "      <td>7.98100</td>\n",
       "      <td>7.90675</td>\n",
       "      <td>7.89975</td>\n",
       "    </tr>\n",
       "    <tr>\n",
       "      <th>0.34122376060741205</th>\n",
       "      <td>7.08325</td>\n",
       "      <td>7.06325</td>\n",
       "      <td>7.62300</td>\n",
       "      <td>7.43200</td>\n",
       "      <td>7.40500</td>\n",
       "    </tr>\n",
       "    <tr>\n",
       "      <th>0.39968152866242</th>\n",
       "      <td>7.52125</td>\n",
       "      <td>7.55450</td>\n",
       "      <td>8.18250</td>\n",
       "      <td>7.93150</td>\n",
       "      <td>7.90000</td>\n",
       "    </tr>\n",
       "    <tr>\n",
       "      <th>0.50506512301013</th>\n",
       "      <td>7.92400</td>\n",
       "      <td>7.90400</td>\n",
       "      <td>8.24950</td>\n",
       "      <td>8.07500</td>\n",
       "      <td>8.08475</td>\n",
       "    </tr>\n",
       "    <tr>\n",
       "      <th rowspan=\"4\" valign=\"top\">0.3</th>\n",
       "      <th>0.08588957055214921</th>\n",
       "      <td>8.75500</td>\n",
       "      <td>8.73350</td>\n",
       "      <td>9.18175</td>\n",
       "      <td>9.14325</td>\n",
       "      <td>9.12000</td>\n",
       "    </tr>\n",
       "    <tr>\n",
       "      <th>0.14008042895442122</th>\n",
       "      <td>8.76425</td>\n",
       "      <td>8.75825</td>\n",
       "      <td>9.13125</td>\n",
       "      <td>9.07900</td>\n",
       "      <td>9.05700</td>\n",
       "    </tr>\n",
       "    <tr>\n",
       "      <th>0.155610663360197</th>\n",
       "      <td>8.50950</td>\n",
       "      <td>8.44850</td>\n",
       "      <td>8.85175</td>\n",
       "      <td>8.78900</td>\n",
       "      <td>8.77900</td>\n",
       "    </tr>\n",
       "    <tr>\n",
       "      <th>0.17182564750474075</th>\n",
       "      <td>8.15800</td>\n",
       "      <td>8.11875</td>\n",
       "      <td>8.51450</td>\n",
       "      <td>8.44650</td>\n",
       "      <td>8.45075</td>\n",
       "    </tr>\n",
       "    <tr>\n",
       "      <th rowspan=\"8\" valign=\"top\">[10, 8, 35]</th>\n",
       "      <th rowspan=\"8\" valign=\"top\">20</th>\n",
       "      <th rowspan=\"8\" valign=\"top\">15</th>\n",
       "      <th rowspan=\"8\" valign=\"top\">20</th>\n",
       "      <th rowspan=\"8\" valign=\"top\">20</th>\n",
       "      <th rowspan=\"4\" valign=\"top\">0</th>\n",
       "      <th>0.03842213114753897</th>\n",
       "      <td>8.19800</td>\n",
       "      <td>8.19950</td>\n",
       "      <td>8.68750</td>\n",
       "      <td>8.66875</td>\n",
       "      <td>8.68250</td>\n",
       "    </tr>\n",
       "    <tr>\n",
       "      <th>0.22686567164178822</th>\n",
       "      <td>6.65150</td>\n",
       "      <td>6.61400</td>\n",
       "      <td>7.03275</td>\n",
       "      <td>6.93775</td>\n",
       "      <td>6.93675</td>\n",
       "    </tr>\n",
       "    <tr>\n",
       "      <th>0.2979351032448379</th>\n",
       "      <td>6.69625</td>\n",
       "      <td>6.69100</td>\n",
       "      <td>7.28425</td>\n",
       "      <td>7.10750</td>\n",
       "      <td>7.10000</td>\n",
       "    </tr>\n",
       "    <tr>\n",
       "      <th>0.3024771838331149</th>\n",
       "      <td>6.72500</td>\n",
       "      <td>6.72775</td>\n",
       "      <td>7.30300</td>\n",
       "      <td>7.12900</td>\n",
       "      <td>7.12975</td>\n",
       "    </tr>\n",
       "    <tr>\n",
       "      <th rowspan=\"4\" valign=\"top\">0.3</th>\n",
       "      <th>0.11719128329298008</th>\n",
       "      <td>8.45350</td>\n",
       "      <td>8.43150</td>\n",
       "      <td>8.94775</td>\n",
       "      <td>8.88725</td>\n",
       "      <td>8.88225</td>\n",
       "    </tr>\n",
       "    <tr>\n",
       "      <th>0.17110519307589875</th>\n",
       "      <td>9.02825</td>\n",
       "      <td>8.95700</td>\n",
       "      <td>9.33250</td>\n",
       "      <td>9.26825</td>\n",
       "      <td>9.26225</td>\n",
       "    </tr>\n",
       "    <tr>\n",
       "      <th>0.17683772538141646</th>\n",
       "      <td>8.31600</td>\n",
       "      <td>8.33175</td>\n",
       "      <td>8.69225</td>\n",
       "      <td>8.62850</td>\n",
       "      <td>8.64200</td>\n",
       "    </tr>\n",
       "    <tr>\n",
       "      <th>0.18717948717948507</th>\n",
       "      <td>8.26100</td>\n",
       "      <td>8.26900</td>\n",
       "      <td>8.65900</td>\n",
       "      <td>8.58600</td>\n",
       "      <td>8.58100</td>\n",
       "    </tr>\n",
       "    <tr>\n",
       "      <th rowspan=\"8\" valign=\"top\">[10]</th>\n",
       "      <th rowspan=\"8\" valign=\"top\">20</th>\n",
       "      <th rowspan=\"8\" valign=\"top\">15</th>\n",
       "      <th rowspan=\"8\" valign=\"top\">20</th>\n",
       "      <th rowspan=\"8\" valign=\"top\">20</th>\n",
       "      <th rowspan=\"4\" valign=\"top\">0</th>\n",
       "      <th>0.2088934850051726</th>\n",
       "      <td>7.37325</td>\n",
       "      <td>7.37950</td>\n",
       "      <td>7.86300</td>\n",
       "      <td>7.76200</td>\n",
       "      <td>7.77375</td>\n",
       "    </tr>\n",
       "    <tr>\n",
       "      <th>0.3920985556499572</th>\n",
       "      <td>7.67900</td>\n",
       "      <td>7.63175</td>\n",
       "      <td>8.22025</td>\n",
       "      <td>7.98950</td>\n",
       "      <td>7.98275</td>\n",
       "    </tr>\n",
       "    <tr>\n",
       "      <th>0.4114305999290046</th>\n",
       "      <td>7.75500</td>\n",
       "      <td>7.72575</td>\n",
       "      <td>8.43000</td>\n",
       "      <td>8.14025</td>\n",
       "      <td>8.12600</td>\n",
       "    </tr>\n",
       "    <tr>\n",
       "      <th>0.5103766333589578</th>\n",
       "      <td>8.10400</td>\n",
       "      <td>8.18025</td>\n",
       "      <td>8.50550</td>\n",
       "      <td>8.33950</td>\n",
       "      <td>8.32500</td>\n",
       "    </tr>\n",
       "    <tr>\n",
       "      <th rowspan=\"4\" valign=\"top\">0.3</th>\n",
       "      <th>0.13859745996686448</th>\n",
       "      <td>8.90450</td>\n",
       "      <td>8.86400</td>\n",
       "      <td>9.31675</td>\n",
       "      <td>9.25400</td>\n",
       "      <td>9.24575</td>\n",
       "    </tr>\n",
       "    <tr>\n",
       "      <th>0.1606749816581045</th>\n",
       "      <td>8.61800</td>\n",
       "      <td>8.58625</td>\n",
       "      <td>8.92700</td>\n",
       "      <td>8.87225</td>\n",
       "      <td>8.87250</td>\n",
       "    </tr>\n",
       "    <tr>\n",
       "      <th>0.18421052631579174</th>\n",
       "      <td>8.85600</td>\n",
       "      <td>8.83525</td>\n",
       "      <td>9.20575</td>\n",
       "      <td>9.13750</td>\n",
       "      <td>9.11925</td>\n",
       "    </tr>\n",
       "    <tr>\n",
       "      <th>0.21166448230668394</th>\n",
       "      <td>8.37450</td>\n",
       "      <td>8.49525</td>\n",
       "      <td>8.87675</td>\n",
       "      <td>8.79600</td>\n",
       "      <td>8.79825</td>\n",
       "    </tr>\n",
       "    <tr>\n",
       "      <th rowspan=\"8\" valign=\"top\">[8]</th>\n",
       "      <th rowspan=\"8\" valign=\"top\">20</th>\n",
       "      <th rowspan=\"8\" valign=\"top\">15</th>\n",
       "      <th rowspan=\"8\" valign=\"top\">20</th>\n",
       "      <th rowspan=\"8\" valign=\"top\">20</th>\n",
       "      <th rowspan=\"4\" valign=\"top\">0</th>\n",
       "      <th>0.13809300140911338</th>\n",
       "      <td>7.69725</td>\n",
       "      <td>7.66600</td>\n",
       "      <td>8.19825</td>\n",
       "      <td>8.12475</td>\n",
       "      <td>8.12300</td>\n",
       "    </tr>\n",
       "    <tr>\n",
       "      <th>0.26669381107492374</th>\n",
       "      <td>7.98125</td>\n",
       "      <td>8.04125</td>\n",
       "      <td>8.65525</td>\n",
       "      <td>8.49150</td>\n",
       "      <td>8.42775</td>\n",
       "    </tr>\n",
       "    <tr>\n",
       "      <th>0.4313654473017002</th>\n",
       "      <td>7.82650</td>\n",
       "      <td>7.75925</td>\n",
       "      <td>8.44950</td>\n",
       "      <td>8.15175</td>\n",
       "      <td>8.11725</td>\n",
       "    </tr>\n",
       "    <tr>\n",
       "      <th>0.43996840442337115</th>\n",
       "      <td>8.53600</td>\n",
       "      <td>8.55150</td>\n",
       "      <td>8.86800</td>\n",
       "      <td>8.72875</td>\n",
       "      <td>8.70125</td>\n",
       "    </tr>\n",
       "    <tr>\n",
       "      <th rowspan=\"4\" valign=\"top\">0.3</th>\n",
       "      <th>0.1566970091027302</th>\n",
       "      <td>8.96975</td>\n",
       "      <td>8.97150</td>\n",
       "      <td>9.35600</td>\n",
       "      <td>9.29575</td>\n",
       "      <td>9.26325</td>\n",
       "    </tr>\n",
       "    <tr>\n",
       "      <th>0.17372078332280408</th>\n",
       "      <td>8.81975</td>\n",
       "      <td>8.77650</td>\n",
       "      <td>9.17225</td>\n",
       "      <td>9.10350</td>\n",
       "      <td>9.09800</td>\n",
       "    </tr>\n",
       "    <tr>\n",
       "      <th>0.24152290303391125</th>\n",
       "      <td>8.68200</td>\n",
       "      <td>8.61000</td>\n",
       "      <td>9.03025</td>\n",
       "      <td>8.92875</td>\n",
       "      <td>8.90650</td>\n",
       "    </tr>\n",
       "    <tr>\n",
       "      <th>0.24784747847479088</th>\n",
       "      <td>9.11775</td>\n",
       "      <td>9.16150</td>\n",
       "      <td>9.56800</td>\n",
       "      <td>9.46725</td>\n",
       "      <td>9.47100</td>\n",
       "    </tr>\n",
       "    <tr>\n",
       "      <th rowspan=\"32\" valign=\"top\">50</th>\n",
       "      <th rowspan=\"8\" valign=\"top\">[10, 35]</th>\n",
       "      <th rowspan=\"8\" valign=\"top\">20</th>\n",
       "      <th rowspan=\"8\" valign=\"top\">15</th>\n",
       "      <th rowspan=\"8\" valign=\"top\">20</th>\n",
       "      <th rowspan=\"8\" valign=\"top\">20</th>\n",
       "      <th rowspan=\"4\" valign=\"top\">0</th>\n",
       "      <th>0.27027027027026945</th>\n",
       "      <td>7.44750</td>\n",
       "      <td>7.42600</td>\n",
       "      <td>7.98100</td>\n",
       "      <td>7.83100</td>\n",
       "      <td>7.82075</td>\n",
       "    </tr>\n",
       "    <tr>\n",
       "      <th>0.5774899508709224</th>\n",
       "      <td>7.08325</td>\n",
       "      <td>7.06325</td>\n",
       "      <td>7.62300</td>\n",
       "      <td>7.29975</td>\n",
       "      <td>7.21500</td>\n",
       "    </tr>\n",
       "    <tr>\n",
       "      <th>0.6265923566878981</th>\n",
       "      <td>7.52125</td>\n",
       "      <td>7.55450</td>\n",
       "      <td>8.18250</td>\n",
       "      <td>7.78900</td>\n",
       "      <td>7.76750</td>\n",
       "    </tr>\n",
       "    <tr>\n",
       "      <th>0.7532561505065092</th>\n",
       "      <td>7.92400</td>\n",
       "      <td>7.90400</td>\n",
       "      <td>8.24950</td>\n",
       "      <td>7.98925</td>\n",
       "      <td>7.98800</td>\n",
       "    </tr>\n",
       "    <tr>\n",
       "      <th rowspan=\"4\" valign=\"top\">0.3</th>\n",
       "      <th>0.26101505856106894</th>\n",
       "      <td>8.75500</td>\n",
       "      <td>8.73350</td>\n",
       "      <td>9.18175</td>\n",
       "      <td>9.06475</td>\n",
       "      <td>9.02700</td>\n",
       "    </tr>\n",
       "    <tr>\n",
       "      <th>0.28932406822489193</th>\n",
       "      <td>8.15800</td>\n",
       "      <td>8.11875</td>\n",
       "      <td>8.51450</td>\n",
       "      <td>8.40000</td>\n",
       "      <td>8.37350</td>\n",
       "    </tr>\n",
       "    <tr>\n",
       "      <th>0.3093614383136983</th>\n",
       "      <td>8.50950</td>\n",
       "      <td>8.44850</td>\n",
       "      <td>8.85175</td>\n",
       "      <td>8.72700</td>\n",
       "      <td>8.71650</td>\n",
       "    </tr>\n",
       "    <tr>\n",
       "      <th>0.3190348525469168</th>\n",
       "      <td>8.76425</td>\n",
       "      <td>8.75825</td>\n",
       "      <td>9.13125</td>\n",
       "      <td>9.01225</td>\n",
       "      <td>9.00325</td>\n",
       "    </tr>\n",
       "    <tr>\n",
       "      <th rowspan=\"8\" valign=\"top\">[10, 8, 35]</th>\n",
       "      <th rowspan=\"8\" valign=\"top\">20</th>\n",
       "      <th rowspan=\"8\" valign=\"top\">15</th>\n",
       "      <th rowspan=\"8\" valign=\"top\">20</th>\n",
       "      <th rowspan=\"8\" valign=\"top\">20</th>\n",
       "      <th rowspan=\"4\" valign=\"top\">0</th>\n",
       "      <th>0.1880122950819667</th>\n",
       "      <td>8.19800</td>\n",
       "      <td>8.19950</td>\n",
       "      <td>8.68750</td>\n",
       "      <td>8.59575</td>\n",
       "      <td>8.59825</td>\n",
       "    </tr>\n",
       "    <tr>\n",
       "      <th>0.38746268656716454</th>\n",
       "      <td>6.65150</td>\n",
       "      <td>6.61400</td>\n",
       "      <td>7.03275</td>\n",
       "      <td>6.87050</td>\n",
       "      <td>6.81750</td>\n",
       "    </tr>\n",
       "    <tr>\n",
       "      <th>0.4863042562157589</th>\n",
       "      <td>6.69625</td>\n",
       "      <td>6.69100</td>\n",
       "      <td>7.28425</td>\n",
       "      <td>6.99575</td>\n",
       "      <td>6.97375</td>\n",
       "    </tr>\n",
       "    <tr>\n",
       "      <th>0.4893524554541474</th>\n",
       "      <td>6.72500</td>\n",
       "      <td>6.72775</td>\n",
       "      <td>7.30300</td>\n",
       "      <td>7.02150</td>\n",
       "      <td>6.98925</td>\n",
       "    </tr>\n",
       "    <tr>\n",
       "      <th rowspan=\"4\" valign=\"top\">0.3</th>\n",
       "      <th>0.21065375302663156</th>\n",
       "      <td>8.45350</td>\n",
       "      <td>8.43150</td>\n",
       "      <td>8.94775</td>\n",
       "      <td>8.83900</td>\n",
       "      <td>8.79200</td>\n",
       "    </tr>\n",
       "    <tr>\n",
       "      <th>0.23102529960053056</th>\n",
       "      <td>9.02825</td>\n",
       "      <td>8.95700</td>\n",
       "      <td>9.33250</td>\n",
       "      <td>9.24575</td>\n",
       "      <td>9.23050</td>\n",
       "    </tr>\n",
       "    <tr>\n",
       "      <th>0.23855755894590927</th>\n",
       "      <td>8.31600</td>\n",
       "      <td>8.33175</td>\n",
       "      <td>8.69225</td>\n",
       "      <td>8.60625</td>\n",
       "      <td>8.60950</td>\n",
       "    </tr>\n",
       "    <tr>\n",
       "      <th>0.24743589743589656</th>\n",
       "      <td>8.26100</td>\n",
       "      <td>8.26900</td>\n",
       "      <td>8.65900</td>\n",
       "      <td>8.56250</td>\n",
       "      <td>8.53875</td>\n",
       "    </tr>\n",
       "    <tr>\n",
       "      <th rowspan=\"8\" valign=\"top\">[10]</th>\n",
       "      <th rowspan=\"8\" valign=\"top\">20</th>\n",
       "      <th rowspan=\"8\" valign=\"top\">15</th>\n",
       "      <th rowspan=\"8\" valign=\"top\">20</th>\n",
       "      <th rowspan=\"8\" valign=\"top\">20</th>\n",
       "      <th rowspan=\"4\" valign=\"top\">0</th>\n",
       "      <th>0.3391933815925602</th>\n",
       "      <td>7.37325</td>\n",
       "      <td>7.37950</td>\n",
       "      <td>7.86300</td>\n",
       "      <td>7.69900</td>\n",
       "      <td>7.69925</td>\n",
       "    </tr>\n",
       "    <tr>\n",
       "      <th>0.5828377230246419</th>\n",
       "      <td>7.67900</td>\n",
       "      <td>7.63175</td>\n",
       "      <td>8.22025</td>\n",
       "      <td>7.87725</td>\n",
       "      <td>7.85475</td>\n",
       "    </tr>\n",
       "    <tr>\n",
       "      <th>0.6727014554490616</th>\n",
       "      <td>7.75500</td>\n",
       "      <td>7.72575</td>\n",
       "      <td>8.43000</td>\n",
       "      <td>7.95625</td>\n",
       "      <td>7.89850</td>\n",
       "    </tr>\n",
       "    <tr>\n",
       "      <th>0.7524980784012376</th>\n",
       "      <td>8.10400</td>\n",
       "      <td>8.18025</td>\n",
       "      <td>8.50550</td>\n",
       "      <td>8.26075</td>\n",
       "      <td>8.25575</td>\n",
       "    </tr>\n",
       "    <tr>\n",
       "      <th rowspan=\"4\" valign=\"top\">0.3</th>\n",
       "      <th>0.3060288335517725</th>\n",
       "      <td>8.37450</td>\n",
       "      <td>8.49525</td>\n",
       "      <td>8.87675</td>\n",
       "      <td>8.76000</td>\n",
       "      <td>8.72375</td>\n",
       "    </tr>\n",
       "    <tr>\n",
       "      <th>0.31988261188553957</th>\n",
       "      <td>8.61800</td>\n",
       "      <td>8.58625</td>\n",
       "      <td>8.92700</td>\n",
       "      <td>8.81800</td>\n",
       "      <td>8.80175</td>\n",
       "    </tr>\n",
       "    <tr>\n",
       "      <th>0.3522267206477724</th>\n",
       "      <td>8.85600</td>\n",
       "      <td>8.83525</td>\n",
       "      <td>9.20575</td>\n",
       "      <td>9.07525</td>\n",
       "      <td>9.06950</td>\n",
       "    </tr>\n",
       "    <tr>\n",
       "      <th>0.37382661512976384</th>\n",
       "      <td>8.90450</td>\n",
       "      <td>8.86400</td>\n",
       "      <td>9.31675</td>\n",
       "      <td>9.14750</td>\n",
       "      <td>9.12050</td>\n",
       "    </tr>\n",
       "    <tr>\n",
       "      <th rowspan=\"8\" valign=\"top\">[8]</th>\n",
       "      <th rowspan=\"8\" valign=\"top\">20</th>\n",
       "      <th rowspan=\"8\" valign=\"top\">15</th>\n",
       "      <th rowspan=\"8\" valign=\"top\">20</th>\n",
       "      <th rowspan=\"8\" valign=\"top\">20</th>\n",
       "      <th rowspan=\"4\" valign=\"top\">0</th>\n",
       "      <th>0.27054955378111994</th>\n",
       "      <td>7.69725</td>\n",
       "      <td>7.66600</td>\n",
       "      <td>8.19825</td>\n",
       "      <td>8.05425</td>\n",
       "      <td>8.05650</td>\n",
       "    </tr>\n",
       "    <tr>\n",
       "      <th>0.553338762214985</th>\n",
       "      <td>7.98125</td>\n",
       "      <td>8.04125</td>\n",
       "      <td>8.65525</td>\n",
       "      <td>8.31550</td>\n",
       "      <td>8.27925</td>\n",
       "    </tr>\n",
       "    <tr>\n",
       "      <th>0.6682361463237972</th>\n",
       "      <td>7.82650</td>\n",
       "      <td>7.75925</td>\n",
       "      <td>8.44950</td>\n",
       "      <td>7.98825</td>\n",
       "      <td>7.94725</td>\n",
       "    </tr>\n",
       "    <tr>\n",
       "      <th>0.671406003159556</th>\n",
       "      <td>8.53600</td>\n",
       "      <td>8.55150</td>\n",
       "      <td>8.86800</td>\n",
       "      <td>8.65550</td>\n",
       "      <td>8.64300</td>\n",
       "    </tr>\n",
       "    <tr>\n",
       "      <th rowspan=\"4\" valign=\"top\">0.3</th>\n",
       "      <th>0.3019583070120038</th>\n",
       "      <td>8.81975</td>\n",
       "      <td>8.77650</td>\n",
       "      <td>9.17225</td>\n",
       "      <td>9.05275</td>\n",
       "      <td>9.05000</td>\n",
       "    </tr>\n",
       "    <tr>\n",
       "      <th>0.31339401820546503</th>\n",
       "      <td>8.96975</td>\n",
       "      <td>8.97150</td>\n",
       "      <td>9.35600</td>\n",
       "      <td>9.23550</td>\n",
       "      <td>9.18750</td>\n",
       "    </tr>\n",
       "    <tr>\n",
       "      <th>0.3896490184414078</th>\n",
       "      <td>8.68200</td>\n",
       "      <td>8.61000</td>\n",
       "      <td>9.03025</td>\n",
       "      <td>8.86650</td>\n",
       "      <td>8.81700</td>\n",
       "    </tr>\n",
       "    <tr>\n",
       "      <th>0.5092250922509249</th>\n",
       "      <td>9.11775</td>\n",
       "      <td>9.16150</td>\n",
       "      <td>9.56800</td>\n",
       "      <td>9.36100</td>\n",
       "      <td>9.34875</td>\n",
       "    </tr>\n",
       "  </tbody>\n",
       "</table>\n",
       "</div>"
      ],
      "text/plain": [
       "                                                                                                                rew-Random  \\\n",
       "m_G_prcnt FAIR_CLUSTER_IDS horizon resources ppl_per_cluster cluster_subset_counts noise fairness_cost                       \n",
       "10        [10, 35]         20      15        20              20                    0     0.04774774774774691       7.44750   \n",
       "                                                                                         0.10272443054935096       7.08325   \n",
       "                                                                                         0.16202229299362936       7.52125   \n",
       "                                                                                         0.20767004341533918       7.92400   \n",
       "                                                                                   0.3   0.024128686327083468      8.76425   \n",
       "                                                                                         0.03959843837143942       8.75500   \n",
       "                                                                                         0.061996280223183105      8.50950   \n",
       "                                                                                         0.09728363866077702       8.15800   \n",
       "          [10, 8, 35]      20      15        20              20                    0     0.005122950819671135      8.19800   \n",
       "                                                                                         0.05649717514124555       6.72500   \n",
       "                                                                                         0.06531816266329586       6.69625   \n",
       "                                                                                         0.07104477611940493       6.65150   \n",
       "                                                                                   0.3   0.04067796610169636       8.45350   \n",
       "                                                                                         0.06657789613848349       9.02825   \n",
       "                                                                                         0.07142857142857248       8.31600   \n",
       "                                                                                         0.10897435897435635       8.26100   \n",
       "          [10]             20      15        20              20                    0     0.06256463288521448       7.37325   \n",
       "                                                                                         0.10322854715378142       7.67900   \n",
       "                                                                                         0.1231806886758968        7.75500   \n",
       "                                                                                         0.1890853189853983        8.10400   \n",
       "                                                                                   0.3   0.01325234676974103       8.90450   \n",
       "                                                                                         0.04652686762778827       8.37450   \n",
       "                                                                                         0.04915627292736154       8.61800   \n",
       "                                                                                         0.07152496626180951       8.85600   \n",
       "          [8]              20      15        20              20                    0     0.05415309446254158       7.98125   \n",
       "                                                                                         0.06059182714889815       7.69725   \n",
       "                                                                                         0.11952191235059945       7.82650   \n",
       "                                                                                         0.16113744075829076       8.53600   \n",
       "                                                                                   0.3   0.0037902716361295817     8.81975   \n",
       "                                                                                         0.054616384915476573      8.96975   \n",
       "                                                                                         0.06334563345633941       9.11775   \n",
       "                                                                                         0.14277215942891217       8.68200   \n",
       "20        [10, 35]         20      15        20              20                    0     0.10405405405405325       7.44750   \n",
       "                                                                                         0.19160339437248697       7.08325   \n",
       "                                                                                         0.2778662420382171        7.52125   \n",
       "                                                                                         0.3654124457308264        7.92400   \n",
       "                                                                                   0.3   0.07306190741773183       8.75500   \n",
       "                                                                                         0.10353378797272265       8.50950   \n",
       "                                                                                         0.1061276058117535        8.15800   \n",
       "                                                                                         0.12935656836461004       8.76425   \n",
       "          [10, 8, 35]      20      15        20              20                    0     0.01690573770491511       8.19800   \n",
       "                                                                                         0.15701492537313314       6.65150   \n",
       "                                                                                         0.19165580182528966       6.72500   \n",
       "                                                                                         0.22039612305099307       6.69625   \n",
       "                                                                                   0.3   0.08958837772397528       8.45350   \n",
       "                                                                                         0.10263522884881839       8.31600   \n",
       "                                                                                         0.10585885486018652       9.02825   \n",
       "                                                                                         0.14294871794871838       8.26100   \n",
       "          [10]             20      15        20              20                    0     0.10444674250258171       7.37325   \n",
       "                                                                                         0.22047578589634537       7.67900   \n",
       "                                                                                         0.26801561945332253       7.75500   \n",
       "                                                                                         0.38124519600307777       8.10400   \n",
       "                                                                                   0.3   0.04196576477084136       8.90450   \n",
       "                                                                                         0.1071166544387346        8.61800   \n",
       "                                                                                         0.16464237516869568       8.85600   \n",
       "                                                                                         0.166448230668417         8.37450   \n",
       "          [8]              20      15        20              20                    0     0.1183654297792429        7.69725   \n",
       "                                                                                         0.20195439739414267       7.98125   \n",
       "                                                                                         0.258601955813113         7.82650   \n",
       "                                                                                         0.3380726698262152        8.53600   \n",
       "                                                                                   0.3   0.05874921036007809       8.81975   \n",
       "                                                                                         0.12808842652795985       8.96975   \n",
       "                                                                                         0.16359163591636564       9.11775   \n",
       "                                                                                         0.18381915526472561       8.68200   \n",
       "30        [10, 35]         20      15        20              20                    0     0.1337837837837841        7.44750   \n",
       "                                                                                         0.34122376060741205       7.08325   \n",
       "                                                                                         0.39968152866242          7.52125   \n",
       "                                                                                         0.50506512301013          7.92400   \n",
       "                                                                                   0.3   0.08588957055214921       8.75500   \n",
       "                                                                                         0.14008042895442122       8.76425   \n",
       "                                                                                         0.155610663360197         8.50950   \n",
       "                                                                                         0.17182564750474075       8.15800   \n",
       "          [10, 8, 35]      20      15        20              20                    0     0.03842213114753897       8.19800   \n",
       "                                                                                         0.22686567164178822       6.65150   \n",
       "                                                                                         0.2979351032448379        6.69625   \n",
       "                                                                                         0.3024771838331149        6.72500   \n",
       "                                                                                   0.3   0.11719128329298008       8.45350   \n",
       "                                                                                         0.17110519307589875       9.02825   \n",
       "                                                                                         0.17683772538141646       8.31600   \n",
       "                                                                                         0.18717948717948507       8.26100   \n",
       "          [10]             20      15        20              20                    0     0.2088934850051726        7.37325   \n",
       "                                                                                         0.3920985556499572        7.67900   \n",
       "                                                                                         0.4114305999290046        7.75500   \n",
       "                                                                                         0.5103766333589578        8.10400   \n",
       "                                                                                   0.3   0.13859745996686448       8.90450   \n",
       "                                                                                         0.1606749816581045        8.61800   \n",
       "                                                                                         0.18421052631579174       8.85600   \n",
       "                                                                                         0.21166448230668394       8.37450   \n",
       "          [8]              20      15        20              20                    0     0.13809300140911338       7.69725   \n",
       "                                                                                         0.26669381107492374       7.98125   \n",
       "                                                                                         0.4313654473017002        7.82650   \n",
       "                                                                                         0.43996840442337115       8.53600   \n",
       "                                                                                   0.3   0.1566970091027302        8.96975   \n",
       "                                                                                         0.17372078332280408       8.81975   \n",
       "                                                                                         0.24152290303391125       8.68200   \n",
       "                                                                                         0.24784747847479088       9.11775   \n",
       "50        [10, 35]         20      15        20              20                    0     0.27027027027026945       7.44750   \n",
       "                                                                                         0.5774899508709224        7.08325   \n",
       "                                                                                         0.6265923566878981        7.52125   \n",
       "                                                                                         0.7532561505065092        7.92400   \n",
       "                                                                                   0.3   0.26101505856106894       8.75500   \n",
       "                                                                                         0.28932406822489193       8.15800   \n",
       "                                                                                         0.3093614383136983        8.50950   \n",
       "                                                                                         0.3190348525469168        8.76425   \n",
       "          [10, 8, 35]      20      15        20              20                    0     0.1880122950819667        8.19800   \n",
       "                                                                                         0.38746268656716454       6.65150   \n",
       "                                                                                         0.4863042562157589        6.69625   \n",
       "                                                                                         0.4893524554541474        6.72500   \n",
       "                                                                                   0.3   0.21065375302663156       8.45350   \n",
       "                                                                                         0.23102529960053056       9.02825   \n",
       "                                                                                         0.23855755894590927       8.31600   \n",
       "                                                                                         0.24743589743589656       8.26100   \n",
       "          [10]             20      15        20              20                    0     0.3391933815925602        7.37325   \n",
       "                                                                                         0.5828377230246419        7.67900   \n",
       "                                                                                         0.6727014554490616        7.75500   \n",
       "                                                                                         0.7524980784012376        8.10400   \n",
       "                                                                                   0.3   0.3060288335517725        8.37450   \n",
       "                                                                                         0.31988261188553957       8.61800   \n",
       "                                                                                         0.3522267206477724        8.85600   \n",
       "                                                                                         0.37382661512976384       8.90450   \n",
       "          [8]              20      15        20              20                    0     0.27054955378111994       7.69725   \n",
       "                                                                                         0.553338762214985         7.98125   \n",
       "                                                                                         0.6682361463237972        7.82650   \n",
       "                                                                                         0.671406003159556         8.53600   \n",
       "                                                                                   0.3   0.3019583070120038        8.81975   \n",
       "                                                                                         0.31339401820546503       8.96975   \n",
       "                                                                                         0.3896490184414078        8.68200   \n",
       "                                                                                         0.5092250922509249        9.11775   \n",
       "\n",
       "                                                                                                                 rew-RR  \\\n",
       "m_G_prcnt FAIR_CLUSTER_IDS horizon resources ppl_per_cluster cluster_subset_counts noise fairness_cost                    \n",
       "10        [10, 35]         20      15        20              20                    0     0.04774774774774691    7.42600   \n",
       "                                                                                         0.10272443054935096    7.06325   \n",
       "                                                                                         0.16202229299362936    7.55450   \n",
       "                                                                                         0.20767004341533918    7.90400   \n",
       "                                                                                   0.3   0.024128686327083468   8.75825   \n",
       "                                                                                         0.03959843837143942    8.73350   \n",
       "                                                                                         0.061996280223183105   8.44850   \n",
       "                                                                                         0.09728363866077702    8.11875   \n",
       "          [10, 8, 35]      20      15        20              20                    0     0.005122950819671135   8.19950   \n",
       "                                                                                         0.05649717514124555    6.72775   \n",
       "                                                                                         0.06531816266329586    6.69100   \n",
       "                                                                                         0.07104477611940493    6.61400   \n",
       "                                                                                   0.3   0.04067796610169636    8.43150   \n",
       "                                                                                         0.06657789613848349    8.95700   \n",
       "                                                                                         0.07142857142857248    8.33175   \n",
       "                                                                                         0.10897435897435635    8.26900   \n",
       "          [10]             20      15        20              20                    0     0.06256463288521448    7.37950   \n",
       "                                                                                         0.10322854715378142    7.63175   \n",
       "                                                                                         0.1231806886758968     7.72575   \n",
       "                                                                                         0.1890853189853983     8.18025   \n",
       "                                                                                   0.3   0.01325234676974103    8.86400   \n",
       "                                                                                         0.04652686762778827    8.49525   \n",
       "                                                                                         0.04915627292736154    8.58625   \n",
       "                                                                                         0.07152496626180951    8.83525   \n",
       "          [8]              20      15        20              20                    0     0.05415309446254158    8.04125   \n",
       "                                                                                         0.06059182714889815    7.66600   \n",
       "                                                                                         0.11952191235059945    7.75925   \n",
       "                                                                                         0.16113744075829076    8.55150   \n",
       "                                                                                   0.3   0.0037902716361295817  8.77650   \n",
       "                                                                                         0.054616384915476573   8.97150   \n",
       "                                                                                         0.06334563345633941    9.16150   \n",
       "                                                                                         0.14277215942891217    8.61000   \n",
       "20        [10, 35]         20      15        20              20                    0     0.10405405405405325    7.42600   \n",
       "                                                                                         0.19160339437248697    7.06325   \n",
       "                                                                                         0.2778662420382171     7.55450   \n",
       "                                                                                         0.3654124457308264     7.90400   \n",
       "                                                                                   0.3   0.07306190741773183    8.73350   \n",
       "                                                                                         0.10353378797272265    8.44850   \n",
       "                                                                                         0.1061276058117535     8.11875   \n",
       "                                                                                         0.12935656836461004    8.75825   \n",
       "          [10, 8, 35]      20      15        20              20                    0     0.01690573770491511    8.19950   \n",
       "                                                                                         0.15701492537313314    6.61400   \n",
       "                                                                                         0.19165580182528966    6.72775   \n",
       "                                                                                         0.22039612305099307    6.69100   \n",
       "                                                                                   0.3   0.08958837772397528    8.43150   \n",
       "                                                                                         0.10263522884881839    8.33175   \n",
       "                                                                                         0.10585885486018652    8.95700   \n",
       "                                                                                         0.14294871794871838    8.26900   \n",
       "          [10]             20      15        20              20                    0     0.10444674250258171    7.37950   \n",
       "                                                                                         0.22047578589634537    7.63175   \n",
       "                                                                                         0.26801561945332253    7.72575   \n",
       "                                                                                         0.38124519600307777    8.18025   \n",
       "                                                                                   0.3   0.04196576477084136    8.86400   \n",
       "                                                                                         0.1071166544387346     8.58625   \n",
       "                                                                                         0.16464237516869568    8.83525   \n",
       "                                                                                         0.166448230668417      8.49525   \n",
       "          [8]              20      15        20              20                    0     0.1183654297792429     7.66600   \n",
       "                                                                                         0.20195439739414267    8.04125   \n",
       "                                                                                         0.258601955813113      7.75925   \n",
       "                                                                                         0.3380726698262152     8.55150   \n",
       "                                                                                   0.3   0.05874921036007809    8.77650   \n",
       "                                                                                         0.12808842652795985    8.97150   \n",
       "                                                                                         0.16359163591636564    9.16150   \n",
       "                                                                                         0.18381915526472561    8.61000   \n",
       "30        [10, 35]         20      15        20              20                    0     0.1337837837837841     7.42600   \n",
       "                                                                                         0.34122376060741205    7.06325   \n",
       "                                                                                         0.39968152866242       7.55450   \n",
       "                                                                                         0.50506512301013       7.90400   \n",
       "                                                                                   0.3   0.08588957055214921    8.73350   \n",
       "                                                                                         0.14008042895442122    8.75825   \n",
       "                                                                                         0.155610663360197      8.44850   \n",
       "                                                                                         0.17182564750474075    8.11875   \n",
       "          [10, 8, 35]      20      15        20              20                    0     0.03842213114753897    8.19950   \n",
       "                                                                                         0.22686567164178822    6.61400   \n",
       "                                                                                         0.2979351032448379     6.69100   \n",
       "                                                                                         0.3024771838331149     6.72775   \n",
       "                                                                                   0.3   0.11719128329298008    8.43150   \n",
       "                                                                                         0.17110519307589875    8.95700   \n",
       "                                                                                         0.17683772538141646    8.33175   \n",
       "                                                                                         0.18717948717948507    8.26900   \n",
       "          [10]             20      15        20              20                    0     0.2088934850051726     7.37950   \n",
       "                                                                                         0.3920985556499572     7.63175   \n",
       "                                                                                         0.4114305999290046     7.72575   \n",
       "                                                                                         0.5103766333589578     8.18025   \n",
       "                                                                                   0.3   0.13859745996686448    8.86400   \n",
       "                                                                                         0.1606749816581045     8.58625   \n",
       "                                                                                         0.18421052631579174    8.83525   \n",
       "                                                                                         0.21166448230668394    8.49525   \n",
       "          [8]              20      15        20              20                    0     0.13809300140911338    7.66600   \n",
       "                                                                                         0.26669381107492374    8.04125   \n",
       "                                                                                         0.4313654473017002     7.75925   \n",
       "                                                                                         0.43996840442337115    8.55150   \n",
       "                                                                                   0.3   0.1566970091027302     8.97150   \n",
       "                                                                                         0.17372078332280408    8.77650   \n",
       "                                                                                         0.24152290303391125    8.61000   \n",
       "                                                                                         0.24784747847479088    9.16150   \n",
       "50        [10, 35]         20      15        20              20                    0     0.27027027027026945    7.42600   \n",
       "                                                                                         0.5774899508709224     7.06325   \n",
       "                                                                                         0.6265923566878981     7.55450   \n",
       "                                                                                         0.7532561505065092     7.90400   \n",
       "                                                                                   0.3   0.26101505856106894    8.73350   \n",
       "                                                                                         0.28932406822489193    8.11875   \n",
       "                                                                                         0.3093614383136983     8.44850   \n",
       "                                                                                         0.3190348525469168     8.75825   \n",
       "          [10, 8, 35]      20      15        20              20                    0     0.1880122950819667     8.19950   \n",
       "                                                                                         0.38746268656716454    6.61400   \n",
       "                                                                                         0.4863042562157589     6.69100   \n",
       "                                                                                         0.4893524554541474     6.72775   \n",
       "                                                                                   0.3   0.21065375302663156    8.43150   \n",
       "                                                                                         0.23102529960053056    8.95700   \n",
       "                                                                                         0.23855755894590927    8.33175   \n",
       "                                                                                         0.24743589743589656    8.26900   \n",
       "          [10]             20      15        20              20                    0     0.3391933815925602     7.37950   \n",
       "                                                                                         0.5828377230246419     7.63175   \n",
       "                                                                                         0.6727014554490616     7.72575   \n",
       "                                                                                         0.7524980784012376     8.18025   \n",
       "                                                                                   0.3   0.3060288335517725     8.49525   \n",
       "                                                                                         0.31988261188553957    8.58625   \n",
       "                                                                                         0.3522267206477724     8.83525   \n",
       "                                                                                         0.37382661512976384    8.86400   \n",
       "          [8]              20      15        20              20                    0     0.27054955378111994    7.66600   \n",
       "                                                                                         0.553338762214985      8.04125   \n",
       "                                                                                         0.6682361463237972     7.75925   \n",
       "                                                                                         0.671406003159556      8.55150   \n",
       "                                                                                   0.3   0.3019583070120038     8.77650   \n",
       "                                                                                         0.31339401820546503    8.97150   \n",
       "                                                                                         0.3896490184414078     8.61000   \n",
       "                                                                                         0.5092250922509249     9.16150   \n",
       "\n",
       "                                                                                                                rew-Whittle  \\\n",
       "m_G_prcnt FAIR_CLUSTER_IDS horizon resources ppl_per_cluster cluster_subset_counts noise fairness_cost                        \n",
       "10        [10, 35]         20      15        20              20                    0     0.04774774774774691        7.98100   \n",
       "                                                                                         0.10272443054935096        7.62300   \n",
       "                                                                                         0.16202229299362936        8.18250   \n",
       "                                                                                         0.20767004341533918        8.24950   \n",
       "                                                                                   0.3   0.024128686327083468       9.13125   \n",
       "                                                                                         0.03959843837143942        9.18175   \n",
       "                                                                                         0.061996280223183105       8.85175   \n",
       "                                                                                         0.09728363866077702        8.51450   \n",
       "          [10, 8, 35]      20      15        20              20                    0     0.005122950819671135       8.68750   \n",
       "                                                                                         0.05649717514124555        7.30300   \n",
       "                                                                                         0.06531816266329586        7.28425   \n",
       "                                                                                         0.07104477611940493        7.03275   \n",
       "                                                                                   0.3   0.04067796610169636        8.94775   \n",
       "                                                                                         0.06657789613848349        9.33250   \n",
       "                                                                                         0.07142857142857248        8.69225   \n",
       "                                                                                         0.10897435897435635        8.65900   \n",
       "          [10]             20      15        20              20                    0     0.06256463288521448        7.86300   \n",
       "                                                                                         0.10322854715378142        8.22025   \n",
       "                                                                                         0.1231806886758968         8.43000   \n",
       "                                                                                         0.1890853189853983         8.50550   \n",
       "                                                                                   0.3   0.01325234676974103        9.31675   \n",
       "                                                                                         0.04652686762778827        8.87675   \n",
       "                                                                                         0.04915627292736154        8.92700   \n",
       "                                                                                         0.07152496626180951        9.20575   \n",
       "          [8]              20      15        20              20                    0     0.05415309446254158        8.65525   \n",
       "                                                                                         0.06059182714889815        8.19825   \n",
       "                                                                                         0.11952191235059945        8.44950   \n",
       "                                                                                         0.16113744075829076        8.86800   \n",
       "                                                                                   0.3   0.0037902716361295817      9.17225   \n",
       "                                                                                         0.054616384915476573       9.35600   \n",
       "                                                                                         0.06334563345633941        9.56800   \n",
       "                                                                                         0.14277215942891217        9.03025   \n",
       "20        [10, 35]         20      15        20              20                    0     0.10405405405405325        7.98100   \n",
       "                                                                                         0.19160339437248697        7.62300   \n",
       "                                                                                         0.2778662420382171         8.18250   \n",
       "                                                                                         0.3654124457308264         8.24950   \n",
       "                                                                                   0.3   0.07306190741773183        9.18175   \n",
       "                                                                                         0.10353378797272265        8.85175   \n",
       "                                                                                         0.1061276058117535         8.51450   \n",
       "                                                                                         0.12935656836461004        9.13125   \n",
       "          [10, 8, 35]      20      15        20              20                    0     0.01690573770491511        8.68750   \n",
       "                                                                                         0.15701492537313314        7.03275   \n",
       "                                                                                         0.19165580182528966        7.30300   \n",
       "                                                                                         0.22039612305099307        7.28425   \n",
       "                                                                                   0.3   0.08958837772397528        8.94775   \n",
       "                                                                                         0.10263522884881839        8.69225   \n",
       "                                                                                         0.10585885486018652        9.33250   \n",
       "                                                                                         0.14294871794871838        8.65900   \n",
       "          [10]             20      15        20              20                    0     0.10444674250258171        7.86300   \n",
       "                                                                                         0.22047578589634537        8.22025   \n",
       "                                                                                         0.26801561945332253        8.43000   \n",
       "                                                                                         0.38124519600307777        8.50550   \n",
       "                                                                                   0.3   0.04196576477084136        9.31675   \n",
       "                                                                                         0.1071166544387346         8.92700   \n",
       "                                                                                         0.16464237516869568        9.20575   \n",
       "                                                                                         0.166448230668417          8.87675   \n",
       "          [8]              20      15        20              20                    0     0.1183654297792429         8.19825   \n",
       "                                                                                         0.20195439739414267        8.65525   \n",
       "                                                                                         0.258601955813113          8.44950   \n",
       "                                                                                         0.3380726698262152         8.86800   \n",
       "                                                                                   0.3   0.05874921036007809        9.17225   \n",
       "                                                                                         0.12808842652795985        9.35600   \n",
       "                                                                                         0.16359163591636564        9.56800   \n",
       "                                                                                         0.18381915526472561        9.03025   \n",
       "30        [10, 35]         20      15        20              20                    0     0.1337837837837841         7.98100   \n",
       "                                                                                         0.34122376060741205        7.62300   \n",
       "                                                                                         0.39968152866242           8.18250   \n",
       "                                                                                         0.50506512301013           8.24950   \n",
       "                                                                                   0.3   0.08588957055214921        9.18175   \n",
       "                                                                                         0.14008042895442122        9.13125   \n",
       "                                                                                         0.155610663360197          8.85175   \n",
       "                                                                                         0.17182564750474075        8.51450   \n",
       "          [10, 8, 35]      20      15        20              20                    0     0.03842213114753897        8.68750   \n",
       "                                                                                         0.22686567164178822        7.03275   \n",
       "                                                                                         0.2979351032448379         7.28425   \n",
       "                                                                                         0.3024771838331149         7.30300   \n",
       "                                                                                   0.3   0.11719128329298008        8.94775   \n",
       "                                                                                         0.17110519307589875        9.33250   \n",
       "                                                                                         0.17683772538141646        8.69225   \n",
       "                                                                                         0.18717948717948507        8.65900   \n",
       "          [10]             20      15        20              20                    0     0.2088934850051726         7.86300   \n",
       "                                                                                         0.3920985556499572         8.22025   \n",
       "                                                                                         0.4114305999290046         8.43000   \n",
       "                                                                                         0.5103766333589578         8.50550   \n",
       "                                                                                   0.3   0.13859745996686448        9.31675   \n",
       "                                                                                         0.1606749816581045         8.92700   \n",
       "                                                                                         0.18421052631579174        9.20575   \n",
       "                                                                                         0.21166448230668394        8.87675   \n",
       "          [8]              20      15        20              20                    0     0.13809300140911338        8.19825   \n",
       "                                                                                         0.26669381107492374        8.65525   \n",
       "                                                                                         0.4313654473017002         8.44950   \n",
       "                                                                                         0.43996840442337115        8.86800   \n",
       "                                                                                   0.3   0.1566970091027302         9.35600   \n",
       "                                                                                         0.17372078332280408        9.17225   \n",
       "                                                                                         0.24152290303391125        9.03025   \n",
       "                                                                                         0.24784747847479088        9.56800   \n",
       "50        [10, 35]         20      15        20              20                    0     0.27027027027026945        7.98100   \n",
       "                                                                                         0.5774899508709224         7.62300   \n",
       "                                                                                         0.6265923566878981         8.18250   \n",
       "                                                                                         0.7532561505065092         8.24950   \n",
       "                                                                                   0.3   0.26101505856106894        9.18175   \n",
       "                                                                                         0.28932406822489193        8.51450   \n",
       "                                                                                         0.3093614383136983         8.85175   \n",
       "                                                                                         0.3190348525469168         9.13125   \n",
       "          [10, 8, 35]      20      15        20              20                    0     0.1880122950819667         8.68750   \n",
       "                                                                                         0.38746268656716454        7.03275   \n",
       "                                                                                         0.4863042562157589         7.28425   \n",
       "                                                                                         0.4893524554541474         7.30300   \n",
       "                                                                                   0.3   0.21065375302663156        8.94775   \n",
       "                                                                                         0.23102529960053056        9.33250   \n",
       "                                                                                         0.23855755894590927        8.69225   \n",
       "                                                                                         0.24743589743589656        8.65900   \n",
       "          [10]             20      15        20              20                    0     0.3391933815925602         7.86300   \n",
       "                                                                                         0.5828377230246419         8.22025   \n",
       "                                                                                         0.6727014554490616         8.43000   \n",
       "                                                                                         0.7524980784012376         8.50550   \n",
       "                                                                                   0.3   0.3060288335517725         8.87675   \n",
       "                                                                                         0.31988261188553957        8.92700   \n",
       "                                                                                         0.3522267206477724         9.20575   \n",
       "                                                                                         0.37382661512976384        9.31675   \n",
       "          [8]              20      15        20              20                    0     0.27054955378111994        8.19825   \n",
       "                                                                                         0.553338762214985          8.65525   \n",
       "                                                                                         0.6682361463237972         8.44950   \n",
       "                                                                                         0.671406003159556          8.86800   \n",
       "                                                                                   0.3   0.3019583070120038         9.17225   \n",
       "                                                                                         0.31339401820546503        9.35600   \n",
       "                                                                                         0.3896490184414078         9.03025   \n",
       "                                                                                         0.5092250922509249         9.56800   \n",
       "\n",
       "                                                                                                                rew-Baseline Quota  \\\n",
       "m_G_prcnt FAIR_CLUSTER_IDS horizon resources ppl_per_cluster cluster_subset_counts noise fairness_cost                               \n",
       "10        [10, 35]         20      15        20              20                    0     0.04774774774774691               7.95450   \n",
       "                                                                                         0.10272443054935096               7.56550   \n",
       "                                                                                         0.16202229299362936               8.08075   \n",
       "                                                                                         0.20767004341533918               8.17775   \n",
       "                                                                                   0.3   0.024128686327083468              9.12225   \n",
       "                                                                                         0.03959843837143942               9.16400   \n",
       "                                                                                         0.061996280223183105              8.82675   \n",
       "                                                                                         0.09728363866077702               8.47600   \n",
       "          [10, 8, 35]      20      15        20              20                    0     0.005122950819671135              8.68500   \n",
       "                                                                                         0.05649717514124555               7.27050   \n",
       "                                                                                         0.06531816266329586               7.24550   \n",
       "                                                                                         0.07104477611940493               7.00300   \n",
       "                                                                                   0.3   0.04067796610169636               8.92675   \n",
       "                                                                                         0.06657789613848349               9.30750   \n",
       "                                                                                         0.07142857142857248               8.66650   \n",
       "                                                                                         0.10897435897435635               8.61650   \n",
       "          [10]             20      15        20              20                    0     0.06256463288521448               7.83275   \n",
       "                                                                                         0.10322854715378142               8.15950   \n",
       "                                                                                         0.1231806886758968                8.34325   \n",
       "                                                                                         0.1890853189853983                8.44400   \n",
       "                                                                                   0.3   0.01325234676974103               9.31075   \n",
       "                                                                                         0.04652686762778827               8.85900   \n",
       "                                                                                         0.04915627292736154               8.91025   \n",
       "                                                                                         0.07152496626180951               9.17925   \n",
       "          [8]              20      15        20              20                    0     0.05415309446254158               8.62200   \n",
       "                                                                                         0.06059182714889815               8.16600   \n",
       "                                                                                         0.11952191235059945               8.36700   \n",
       "                                                                                         0.16113744075829076               8.81700   \n",
       "                                                                                   0.3   0.0037902716361295817             9.17075   \n",
       "                                                                                         0.054616384915476573              9.33500   \n",
       "                                                                                         0.06334563345633941               9.54225   \n",
       "                                                                                         0.14277215942891217               8.97025   \n",
       "20        [10, 35]         20      15        20              20                    0     0.10405405405405325               7.92325   \n",
       "                                                                                         0.19160339437248697               7.51575   \n",
       "                                                                                         0.2778662420382171                8.00800   \n",
       "                                                                                         0.3654124457308264                8.12325   \n",
       "                                                                                   0.3   0.07306190741773183               9.14900   \n",
       "                                                                                         0.10353378797272265               8.81000   \n",
       "                                                                                         0.1061276058117535                8.47250   \n",
       "                                                                                         0.12935656836461004               9.08300   \n",
       "          [10, 8, 35]      20      15        20              20                    0     0.01690573770491511               8.67925   \n",
       "                                                                                         0.15701492537313314               6.96700   \n",
       "                                                                                         0.19165580182528966               7.19275   \n",
       "                                                                                         0.22039612305099307               7.15350   \n",
       "                                                                                   0.3   0.08958837772397528               8.90150   \n",
       "                                                                                         0.10263522884881839               8.65525   \n",
       "                                                                                         0.10585885486018652               9.29275   \n",
       "                                                                                         0.14294871794871838               8.60325   \n",
       "          [10]             20      15        20              20                    0     0.10444674250258171               7.81250   \n",
       "                                                                                         0.22047578589634537               8.09050   \n",
       "                                                                                         0.26801561945332253               8.24125   \n",
       "                                                                                         0.38124519600307777               8.38150   \n",
       "                                                                                   0.3   0.04196576477084136               9.29775   \n",
       "                                                                                         0.1071166544387346                8.89050   \n",
       "                                                                                         0.16464237516869568               9.14475   \n",
       "                                                                                         0.166448230668417                 8.81325   \n",
       "          [8]              20      15        20              20                    0     0.1183654297792429                8.13525   \n",
       "                                                                                         0.20195439739414267               8.53125   \n",
       "                                                                                         0.258601955813113                 8.27100   \n",
       "                                                                                         0.3380726698262152                8.76100   \n",
       "                                                                                   0.3   0.05874921036007809               9.14900   \n",
       "                                                                                         0.12808842652795985               9.30675   \n",
       "                                                                                         0.16359163591636564               9.50150   \n",
       "                                                                                         0.18381915526472561               8.95300   \n",
       "30        [10, 35]         20      15        20              20                    0     0.1337837837837841                7.90675   \n",
       "                                                                                         0.34122376060741205               7.43200   \n",
       "                                                                                         0.39968152866242                  7.93150   \n",
       "                                                                                         0.50506512301013                  8.07500   \n",
       "                                                                                   0.3   0.08588957055214921               9.14325   \n",
       "                                                                                         0.14008042895442122               9.07900   \n",
       "                                                                                         0.155610663360197                 8.78900   \n",
       "                                                                                         0.17182564750474075               8.44650   \n",
       "          [10, 8, 35]      20      15        20              20                    0     0.03842213114753897               8.66875   \n",
       "                                                                                         0.22686567164178822               6.93775   \n",
       "                                                                                         0.2979351032448379                7.10750   \n",
       "                                                                                         0.3024771838331149                7.12900   \n",
       "                                                                                   0.3   0.11719128329298008               8.88725   \n",
       "                                                                                         0.17110519307589875               9.26825   \n",
       "                                                                                         0.17683772538141646               8.62850   \n",
       "                                                                                         0.18717948717948507               8.58600   \n",
       "          [10]             20      15        20              20                    0     0.2088934850051726                7.76200   \n",
       "                                                                                         0.3920985556499572                7.98950   \n",
       "                                                                                         0.4114305999290046                8.14025   \n",
       "                                                                                         0.5103766333589578                8.33950   \n",
       "                                                                                   0.3   0.13859745996686448               9.25400   \n",
       "                                                                                         0.1606749816581045                8.87225   \n",
       "                                                                                         0.18421052631579174               9.13750   \n",
       "                                                                                         0.21166448230668394               8.79600   \n",
       "          [8]              20      15        20              20                    0     0.13809300140911338               8.12475   \n",
       "                                                                                         0.26669381107492374               8.49150   \n",
       "                                                                                         0.4313654473017002                8.15175   \n",
       "                                                                                         0.43996840442337115               8.72875   \n",
       "                                                                                   0.3   0.1566970091027302                9.29575   \n",
       "                                                                                         0.17372078332280408               9.10350   \n",
       "                                                                                         0.24152290303391125               8.92875   \n",
       "                                                                                         0.24784747847479088               9.46725   \n",
       "50        [10, 35]         20      15        20              20                    0     0.27027027027026945               7.83100   \n",
       "                                                                                         0.5774899508709224                7.29975   \n",
       "                                                                                         0.6265923566878981                7.78900   \n",
       "                                                                                         0.7532561505065092                7.98925   \n",
       "                                                                                   0.3   0.26101505856106894               9.06475   \n",
       "                                                                                         0.28932406822489193               8.40000   \n",
       "                                                                                         0.3093614383136983                8.72700   \n",
       "                                                                                         0.3190348525469168                9.01225   \n",
       "          [10, 8, 35]      20      15        20              20                    0     0.1880122950819667                8.59575   \n",
       "                                                                                         0.38746268656716454               6.87050   \n",
       "                                                                                         0.4863042562157589                6.99575   \n",
       "                                                                                         0.4893524554541474                7.02150   \n",
       "                                                                                   0.3   0.21065375302663156               8.83900   \n",
       "                                                                                         0.23102529960053056               9.24575   \n",
       "                                                                                         0.23855755894590927               8.60625   \n",
       "                                                                                         0.24743589743589656               8.56250   \n",
       "          [10]             20      15        20              20                    0     0.3391933815925602                7.69900   \n",
       "                                                                                         0.5828377230246419                7.87725   \n",
       "                                                                                         0.6727014554490616                7.95625   \n",
       "                                                                                         0.7524980784012376                8.26075   \n",
       "                                                                                   0.3   0.3060288335517725                8.76000   \n",
       "                                                                                         0.31988261188553957               8.81800   \n",
       "                                                                                         0.3522267206477724                9.07525   \n",
       "                                                                                         0.37382661512976384               9.14750   \n",
       "          [8]              20      15        20              20                    0     0.27054955378111994               8.05425   \n",
       "                                                                                         0.553338762214985                 8.31550   \n",
       "                                                                                         0.6682361463237972                7.98825   \n",
       "                                                                                         0.671406003159556                 8.65550   \n",
       "                                                                                   0.3   0.3019583070120038                9.05275   \n",
       "                                                                                         0.31339401820546503               9.23550   \n",
       "                                                                                         0.3896490184414078                8.86650   \n",
       "                                                                                         0.5092250922509249                9.36100   \n",
       "\n",
       "                                                                                                                rew-Big-LP  \n",
       "m_G_prcnt FAIR_CLUSTER_IDS horizon resources ppl_per_cluster cluster_subset_counts noise fairness_cost                      \n",
       "10        [10, 35]         20      15        20              20                    0     0.04774774774774691       7.94975  \n",
       "                                                                                         0.10272443054935096       7.55925  \n",
       "                                                                                         0.16202229299362936       8.09425  \n",
       "                                                                                         0.20767004341533918       8.17825  \n",
       "                                                                                   0.3   0.024128686327083468      9.11100  \n",
       "                                                                                         0.03959843837143942       9.16450  \n",
       "                                                                                         0.061996280223183105      8.82000  \n",
       "                                                                                         0.09728363866077702       8.47650  \n",
       "          [10, 8, 35]      20      15        20              20                    0     0.005122950819671135      8.68675  \n",
       "                                                                                         0.05649717514124555       7.29375  \n",
       "                                                                                         0.06531816266329586       7.24975  \n",
       "                                                                                         0.07104477611940493       6.99250  \n",
       "                                                                                   0.3   0.04067796610169636       8.93475  \n",
       "                                                                                         0.06657789613848349       9.31000  \n",
       "                                                                                         0.07142857142857248       8.68450  \n",
       "                                                                                         0.10897435897435635       8.62500  \n",
       "          [10]             20      15        20              20                    0     0.06256463288521448       7.84150  \n",
       "                                                                                         0.10322854715378142       8.13875  \n",
       "                                                                                         0.1231806886758968        8.32375  \n",
       "                                                                                         0.1890853189853983        8.42425  \n",
       "                                                                                   0.3   0.01325234676974103       9.29925  \n",
       "                                                                                         0.04652686762778827       8.83475  \n",
       "                                                                                         0.04915627292736154       8.90250  \n",
       "                                                                                         0.07152496626180951       9.16300  \n",
       "          [8]              20      15        20              20                    0     0.05415309446254158       8.60850  \n",
       "                                                                                         0.06059182714889815       8.16200  \n",
       "                                                                                         0.11952191235059945       8.32525  \n",
       "                                                                                         0.16113744075829076       8.81800  \n",
       "                                                                                   0.3   0.0037902716361295817     9.16325  \n",
       "                                                                                         0.054616384915476573      9.31475  \n",
       "                                                                                         0.06334563345633941       9.53275  \n",
       "                                                                                         0.14277215942891217       8.97850  \n",
       "20        [10, 35]         20      15        20              20                    0     0.10405405405405325       7.93150  \n",
       "                                                                                         0.19160339437248697       7.47575  \n",
       "                                                                                         0.2778662420382171        7.98950  \n",
       "                                                                                         0.3654124457308264        8.12675  \n",
       "                                                                                   0.3   0.07306190741773183       9.13050  \n",
       "                                                                                         0.10353378797272265       8.77900  \n",
       "                                                                                         0.1061276058117535        8.48025  \n",
       "                                                                                         0.12935656836461004       9.08825  \n",
       "          [10, 8, 35]      20      15        20              20                    0     0.01690573770491511       8.68550  \n",
       "                                                                                         0.15701492537313314       6.97650  \n",
       "                                                                                         0.19165580182528966       7.19375  \n",
       "                                                                                         0.22039612305099307       7.17175  \n",
       "                                                                                   0.3   0.08958837772397528       8.90250  \n",
       "                                                                                         0.10263522884881839       8.65425  \n",
       "                                                                                         0.10585885486018652       9.29125  \n",
       "                                                                                         0.14294871794871838       8.59200  \n",
       "          [10]             20      15        20              20                    0     0.10444674250258171       7.80950  \n",
       "                                                                                         0.22047578589634537       8.03725  \n",
       "                                                                                         0.26801561945332253       8.21525  \n",
       "                                                                                         0.38124519600307777       8.38025  \n",
       "                                                                                   0.3   0.04196576477084136       9.24100  \n",
       "                                                                                         0.1071166544387346        8.90600  \n",
       "                                                                                         0.16464237516869568       9.14450  \n",
       "                                                                                         0.166448230668417         8.80825  \n",
       "          [8]              20      15        20              20                    0     0.1183654297792429        8.13525  \n",
       "                                                                                         0.20195439739414267       8.49450  \n",
       "                                                                                         0.258601955813113         8.24475  \n",
       "                                                                                         0.3380726698262152        8.75450  \n",
       "                                                                                   0.3   0.05874921036007809       9.14425  \n",
       "                                                                                         0.12808842652795985       9.30900  \n",
       "                                                                                         0.16359163591636564       9.50950  \n",
       "                                                                                         0.18381915526472561       8.95350  \n",
       "30        [10, 35]         20      15        20              20                    0     0.1337837837837841        7.89975  \n",
       "                                                                                         0.34122376060741205       7.40500  \n",
       "                                                                                         0.39968152866242          7.90000  \n",
       "                                                                                         0.50506512301013          8.08475  \n",
       "                                                                                   0.3   0.08588957055214921       9.12000  \n",
       "                                                                                         0.14008042895442122       9.05700  \n",
       "                                                                                         0.155610663360197         8.77900  \n",
       "                                                                                         0.17182564750474075       8.45075  \n",
       "          [10, 8, 35]      20      15        20              20                    0     0.03842213114753897       8.68250  \n",
       "                                                                                         0.22686567164178822       6.93675  \n",
       "                                                                                         0.2979351032448379        7.10000  \n",
       "                                                                                         0.3024771838331149        7.12975  \n",
       "                                                                                   0.3   0.11719128329298008       8.88225  \n",
       "                                                                                         0.17110519307589875       9.26225  \n",
       "                                                                                         0.17683772538141646       8.64200  \n",
       "                                                                                         0.18717948717948507       8.58100  \n",
       "          [10]             20      15        20              20                    0     0.2088934850051726        7.77375  \n",
       "                                                                                         0.3920985556499572        7.98275  \n",
       "                                                                                         0.4114305999290046        8.12600  \n",
       "                                                                                         0.5103766333589578        8.32500  \n",
       "                                                                                   0.3   0.13859745996686448       9.24575  \n",
       "                                                                                         0.1606749816581045        8.87250  \n",
       "                                                                                         0.18421052631579174       9.11925  \n",
       "                                                                                         0.21166448230668394       8.79825  \n",
       "          [8]              20      15        20              20                    0     0.13809300140911338       8.12300  \n",
       "                                                                                         0.26669381107492374       8.42775  \n",
       "                                                                                         0.4313654473017002        8.11725  \n",
       "                                                                                         0.43996840442337115       8.70125  \n",
       "                                                                                   0.3   0.1566970091027302        9.26325  \n",
       "                                                                                         0.17372078332280408       9.09800  \n",
       "                                                                                         0.24152290303391125       8.90650  \n",
       "                                                                                         0.24784747847479088       9.47100  \n",
       "50        [10, 35]         20      15        20              20                    0     0.27027027027026945       7.82075  \n",
       "                                                                                         0.5774899508709224        7.21500  \n",
       "                                                                                         0.6265923566878981        7.76750  \n",
       "                                                                                         0.7532561505065092        7.98800  \n",
       "                                                                                   0.3   0.26101505856106894       9.02700  \n",
       "                                                                                         0.28932406822489193       8.37350  \n",
       "                                                                                         0.3093614383136983        8.71650  \n",
       "                                                                                         0.3190348525469168        9.00325  \n",
       "          [10, 8, 35]      20      15        20              20                    0     0.1880122950819667        8.59825  \n",
       "                                                                                         0.38746268656716454       6.81750  \n",
       "                                                                                         0.4863042562157589        6.97375  \n",
       "                                                                                         0.4893524554541474        6.98925  \n",
       "                                                                                   0.3   0.21065375302663156       8.79200  \n",
       "                                                                                         0.23102529960053056       9.23050  \n",
       "                                                                                         0.23855755894590927       8.60950  \n",
       "                                                                                         0.24743589743589656       8.53875  \n",
       "          [10]             20      15        20              20                    0     0.3391933815925602        7.69925  \n",
       "                                                                                         0.5828377230246419        7.85475  \n",
       "                                                                                         0.6727014554490616        7.89850  \n",
       "                                                                                         0.7524980784012376        8.25575  \n",
       "                                                                                   0.3   0.3060288335517725        8.72375  \n",
       "                                                                                         0.31988261188553957       8.80175  \n",
       "                                                                                         0.3522267206477724        9.06950  \n",
       "                                                                                         0.37382661512976384       9.12050  \n",
       "          [8]              20      15        20              20                    0     0.27054955378111994       8.05650  \n",
       "                                                                                         0.553338762214985         8.27925  \n",
       "                                                                                         0.6682361463237972        7.94725  \n",
       "                                                                                         0.671406003159556         8.64300  \n",
       "                                                                                   0.3   0.3019583070120038        9.05000  \n",
       "                                                                                         0.31339401820546503       9.18750  \n",
       "                                                                                         0.3896490184414078        8.81700  \n",
       "                                                                                         0.5092250922509249        9.34875  "
      ]
     },
     "execution_count": 1320,
     "metadata": {},
     "output_type": "execute_result"
    }
   ],
   "source": [
    "\n",
    "## Summary averaged over only seed\n",
    "pd.options.display.max_rows=10000\n",
    "exp_cols = [col for col in exp_out.columns if col not in rew_cols]\n",
    "exp_out[exp_cols] = exp_out[exp_cols].astype(str)\n",
    "exp_out.groupby([col for col in exp_cols if col not in ['seed']])[rew_cols].mean()"
   ]
  },
  {
   "cell_type": "code",
   "execution_count": null,
   "metadata": {},
   "outputs": [],
   "source": []
  },
  {
   "cell_type": "markdown",
   "metadata": {},
   "source": [
    "## Analyze whittle indices w.r.t clusters"
   ]
  },
  {
   "cell_type": "code",
   "execution_count": 1078,
   "metadata": {},
   "outputs": [
    {
     "data": {
      "text/plain": [
       "(array([0.25208282, 0.25208282, 0.25208282, 0.25208282, 0.25208282,\n",
       "        0.25208282, 0.25208282, 0.25208282, 0.25208282, 0.25208282]),\n",
       " array([0.82823181, 0.82823181, 0.82823181, 0.82823181, 0.82823181,\n",
       "        0.82823181, 0.82823181, 0.82823181, 0.82823181, 0.82823181]))"
      ]
     },
     "execution_count": 1078,
     "metadata": {},
     "output_type": "execute_result"
    }
   ],
   "source": [
    "whittle_cluster = pd.DataFrame(w_small, columns = ['whittle_NE', 'whittle_E'])\n",
    "whittle_cluster['cluster'] = cluster_ids_small\n",
    "whittle_cluster.drop_duplicates()\n",
    "\n",
    "whittle_cluster['worst'] = whittle_cluster.iloc[:, :2].min(axis=1)\n",
    "whittle_cluster['best'] = whittle_cluster.iloc[:, :2].max(axis=1)\n",
    "np.sort(whittle_cluster['worst'])[-10:], np.sort(whittle_cluster['best'])[-10:]"
   ]
  },
  {
   "cell_type": "code",
   "execution_count": 1081,
   "metadata": {},
   "outputs": [
    {
     "data": {
      "text/html": [
       "<div>\n",
       "<style scoped>\n",
       "    .dataframe tbody tr th:only-of-type {\n",
       "        vertical-align: middle;\n",
       "    }\n",
       "\n",
       "    .dataframe tbody tr th {\n",
       "        vertical-align: top;\n",
       "    }\n",
       "\n",
       "    .dataframe thead th {\n",
       "        text-align: right;\n",
       "    }\n",
       "</style>\n",
       "<table border=\"1\" class=\"dataframe\">\n",
       "  <thead>\n",
       "    <tr style=\"text-align: right;\">\n",
       "      <th></th>\n",
       "      <th>cluster</th>\n",
       "      <th>count</th>\n",
       "      <th>P(E, I, E)</th>\n",
       "      <th>P(E, I, NE)</th>\n",
       "      <th>P(NE, I, E)</th>\n",
       "      <th>P(NE, I, NE)</th>\n",
       "      <th>P(E, A, E)</th>\n",
       "      <th>P(E, A, NE)</th>\n",
       "      <th>P(NE, A, E)</th>\n",
       "      <th>P(NE, A, NE)</th>\n",
       "      <th>whittle_NE</th>\n",
       "      <th>whittle_E</th>\n",
       "      <th>worst</th>\n",
       "      <th>best</th>\n",
       "    </tr>\n",
       "  </thead>\n",
       "  <tbody>\n",
       "    <tr>\n",
       "      <th>7</th>\n",
       "      <td>12.0</td>\n",
       "      <td>54.0</td>\n",
       "      <td>0.600000</td>\n",
       "      <td>0.400000</td>\n",
       "      <td>0.466667</td>\n",
       "      <td>0.533333</td>\n",
       "      <td>0.791741</td>\n",
       "      <td>0.208259</td>\n",
       "      <td>0.094943</td>\n",
       "      <td>0.905057</td>\n",
       "      <td>0.620995</td>\n",
       "      <td>-0.545204</td>\n",
       "      <td>-0.545204</td>\n",
       "      <td>0.620995</td>\n",
       "    </tr>\n",
       "    <tr>\n",
       "      <th>3</th>\n",
       "      <td>4.0</td>\n",
       "      <td>129.0</td>\n",
       "      <td>0.333333</td>\n",
       "      <td>0.666667</td>\n",
       "      <td>0.176471</td>\n",
       "      <td>0.823529</td>\n",
       "      <td>0.501182</td>\n",
       "      <td>0.498818</td>\n",
       "      <td>0.048505</td>\n",
       "      <td>0.951495</td>\n",
       "      <td>0.142818</td>\n",
       "      <td>-0.451195</td>\n",
       "      <td>-0.451195</td>\n",
       "      <td>0.142818</td>\n",
       "    </tr>\n",
       "    <tr>\n",
       "      <th>12</th>\n",
       "      <td>18.0</td>\n",
       "      <td>126.0</td>\n",
       "      <td>0.384615</td>\n",
       "      <td>0.615385</td>\n",
       "      <td>0.434783</td>\n",
       "      <td>0.565217</td>\n",
       "      <td>0.345044</td>\n",
       "      <td>0.654956</td>\n",
       "      <td>0.169838</td>\n",
       "      <td>0.830162</td>\n",
       "      <td>0.224579</td>\n",
       "      <td>-0.221558</td>\n",
       "      <td>-0.221558</td>\n",
       "      <td>0.224579</td>\n",
       "    </tr>\n",
       "    <tr>\n",
       "      <th>28</th>\n",
       "      <td>37.0</td>\n",
       "      <td>42.0</td>\n",
       "      <td>0.827096</td>\n",
       "      <td>0.172904</td>\n",
       "      <td>0.714286</td>\n",
       "      <td>0.285714</td>\n",
       "      <td>0.674897</td>\n",
       "      <td>0.325103</td>\n",
       "      <td>0.052029</td>\n",
       "      <td>0.947971</td>\n",
       "      <td>0.824566</td>\n",
       "      <td>-0.212509</td>\n",
       "      <td>-0.212509</td>\n",
       "      <td>0.824566</td>\n",
       "    </tr>\n",
       "    <tr>\n",
       "      <th>14</th>\n",
       "      <td>20.0</td>\n",
       "      <td>81.0</td>\n",
       "      <td>0.583333</td>\n",
       "      <td>0.416667</td>\n",
       "      <td>0.833333</td>\n",
       "      <td>0.166667</td>\n",
       "      <td>0.580409</td>\n",
       "      <td>0.419591</td>\n",
       "      <td>0.575661</td>\n",
       "      <td>0.424339</td>\n",
       "      <td>0.347382</td>\n",
       "      <td>-0.157028</td>\n",
       "      <td>-0.157028</td>\n",
       "      <td>0.347382</td>\n",
       "    </tr>\n",
       "    <tr>\n",
       "      <th>1</th>\n",
       "      <td>2.0</td>\n",
       "      <td>104.0</td>\n",
       "      <td>0.600000</td>\n",
       "      <td>0.400000</td>\n",
       "      <td>0.631579</td>\n",
       "      <td>0.368421</td>\n",
       "      <td>0.560425</td>\n",
       "      <td>0.439575</td>\n",
       "      <td>0.441054</td>\n",
       "      <td>0.558946</td>\n",
       "      <td>0.215088</td>\n",
       "      <td>-0.083786</td>\n",
       "      <td>-0.083786</td>\n",
       "      <td>0.215088</td>\n",
       "    </tr>\n",
       "    <tr>\n",
       "      <th>13</th>\n",
       "      <td>19.0</td>\n",
       "      <td>106.0</td>\n",
       "      <td>0.500000</td>\n",
       "      <td>0.500000</td>\n",
       "      <td>0.692308</td>\n",
       "      <td>0.307692</td>\n",
       "      <td>0.322002</td>\n",
       "      <td>0.677998</td>\n",
       "      <td>0.346485</td>\n",
       "      <td>0.653515</td>\n",
       "      <td>0.254211</td>\n",
       "      <td>-0.078079</td>\n",
       "      <td>-0.078079</td>\n",
       "      <td>0.254211</td>\n",
       "    </tr>\n",
       "    <tr>\n",
       "      <th>29</th>\n",
       "      <td>38.0</td>\n",
       "      <td>78.0</td>\n",
       "      <td>0.666667</td>\n",
       "      <td>0.333333</td>\n",
       "      <td>0.466667</td>\n",
       "      <td>0.533333</td>\n",
       "      <td>0.594595</td>\n",
       "      <td>0.405405</td>\n",
       "      <td>0.223521</td>\n",
       "      <td>0.776479</td>\n",
       "      <td>0.265198</td>\n",
       "      <td>-0.076897</td>\n",
       "      <td>-0.076897</td>\n",
       "      <td>0.265198</td>\n",
       "    </tr>\n",
       "    <tr>\n",
       "      <th>11</th>\n",
       "      <td>17.0</td>\n",
       "      <td>22.0</td>\n",
       "      <td>0.250000</td>\n",
       "      <td>0.750000</td>\n",
       "      <td>0.666667</td>\n",
       "      <td>0.333333</td>\n",
       "      <td>0.208333</td>\n",
       "      <td>0.791667</td>\n",
       "      <td>0.572222</td>\n",
       "      <td>0.427778</td>\n",
       "      <td>0.071495</td>\n",
       "      <td>-0.035034</td>\n",
       "      <td>-0.035034</td>\n",
       "      <td>0.071495</td>\n",
       "    </tr>\n",
       "    <tr>\n",
       "      <th>15</th>\n",
       "      <td>21.0</td>\n",
       "      <td>95.0</td>\n",
       "      <td>0.833333</td>\n",
       "      <td>0.166667</td>\n",
       "      <td>0.800000</td>\n",
       "      <td>0.200000</td>\n",
       "      <td>0.667750</td>\n",
       "      <td>0.332250</td>\n",
       "      <td>0.390370</td>\n",
       "      <td>0.609630</td>\n",
       "      <td>0.452606</td>\n",
       "      <td>-0.030930</td>\n",
       "      <td>-0.030930</td>\n",
       "      <td>0.452606</td>\n",
       "    </tr>\n",
       "    <tr>\n",
       "      <th>8</th>\n",
       "      <td>13.0</td>\n",
       "      <td>97.0</td>\n",
       "      <td>0.750000</td>\n",
       "      <td>0.250000</td>\n",
       "      <td>0.714286</td>\n",
       "      <td>0.285714</td>\n",
       "      <td>0.533273</td>\n",
       "      <td>0.466727</td>\n",
       "      <td>0.293578</td>\n",
       "      <td>0.706422</td>\n",
       "      <td>0.380714</td>\n",
       "      <td>-0.023361</td>\n",
       "      <td>-0.023361</td>\n",
       "      <td>0.380714</td>\n",
       "    </tr>\n",
       "    <tr>\n",
       "      <th>5</th>\n",
       "      <td>10.0</td>\n",
       "      <td>304.0</td>\n",
       "      <td>0.152199</td>\n",
       "      <td>0.847801</td>\n",
       "      <td>0.142857</td>\n",
       "      <td>0.857143</td>\n",
       "      <td>0.000000</td>\n",
       "      <td>1.000000</td>\n",
       "      <td>0.032706</td>\n",
       "      <td>0.967294</td>\n",
       "      <td>0.000000</td>\n",
       "      <td>0.000000</td>\n",
       "      <td>0.000000</td>\n",
       "      <td>0.000000</td>\n",
       "    </tr>\n",
       "    <tr>\n",
       "      <th>17</th>\n",
       "      <td>23.0</td>\n",
       "      <td>178.0</td>\n",
       "      <td>0.500000</td>\n",
       "      <td>0.500000</td>\n",
       "      <td>0.222222</td>\n",
       "      <td>0.777778</td>\n",
       "      <td>0.457050</td>\n",
       "      <td>0.542950</td>\n",
       "      <td>0.159701</td>\n",
       "      <td>0.840299</td>\n",
       "      <td>0.050217</td>\n",
       "      <td>0.011185</td>\n",
       "      <td>0.011185</td>\n",
       "      <td>0.050217</td>\n",
       "    </tr>\n",
       "    <tr>\n",
       "      <th>6</th>\n",
       "      <td>11.0</td>\n",
       "      <td>63.0</td>\n",
       "      <td>0.941176</td>\n",
       "      <td>0.058824</td>\n",
       "      <td>0.787724</td>\n",
       "      <td>0.212276</td>\n",
       "      <td>0.871253</td>\n",
       "      <td>0.128747</td>\n",
       "      <td>0.597523</td>\n",
       "      <td>0.402477</td>\n",
       "      <td>0.259201</td>\n",
       "      <td>0.020325</td>\n",
       "      <td>0.020325</td>\n",
       "      <td>0.259201</td>\n",
       "    </tr>\n",
       "    <tr>\n",
       "      <th>10</th>\n",
       "      <td>16.0</td>\n",
       "      <td>58.0</td>\n",
       "      <td>0.947368</td>\n",
       "      <td>0.052632</td>\n",
       "      <td>1.000000</td>\n",
       "      <td>0.000000</td>\n",
       "      <td>0.884824</td>\n",
       "      <td>0.115176</td>\n",
       "      <td>1.000000</td>\n",
       "      <td>0.000000</td>\n",
       "      <td>-0.085815</td>\n",
       "      <td>0.038025</td>\n",
       "      <td>-0.085815</td>\n",
       "      <td>0.038025</td>\n",
       "    </tr>\n",
       "    <tr>\n",
       "      <th>4</th>\n",
       "      <td>6.0</td>\n",
       "      <td>128.0</td>\n",
       "      <td>0.571429</td>\n",
       "      <td>0.428571</td>\n",
       "      <td>0.428571</td>\n",
       "      <td>0.571429</td>\n",
       "      <td>0.419136</td>\n",
       "      <td>0.580864</td>\n",
       "      <td>0.263838</td>\n",
       "      <td>0.736162</td>\n",
       "      <td>0.103218</td>\n",
       "      <td>0.078568</td>\n",
       "      <td>0.078568</td>\n",
       "      <td>0.103218</td>\n",
       "    </tr>\n",
       "    <tr>\n",
       "      <th>22</th>\n",
       "      <td>30.0</td>\n",
       "      <td>133.0</td>\n",
       "      <td>0.503969</td>\n",
       "      <td>0.496031</td>\n",
       "      <td>0.235294</td>\n",
       "      <td>0.764706</td>\n",
       "      <td>0.351770</td>\n",
       "      <td>0.648230</td>\n",
       "      <td>0.072468</td>\n",
       "      <td>0.927532</td>\n",
       "      <td>0.114452</td>\n",
       "      <td>0.093292</td>\n",
       "      <td>0.093292</td>\n",
       "      <td>0.114452</td>\n",
       "    </tr>\n",
       "    <tr>\n",
       "      <th>19</th>\n",
       "      <td>26.0</td>\n",
       "      <td>65.0</td>\n",
       "      <td>0.857143</td>\n",
       "      <td>0.142857</td>\n",
       "      <td>0.750000</td>\n",
       "      <td>0.250000</td>\n",
       "      <td>0.714614</td>\n",
       "      <td>0.285386</td>\n",
       "      <td>0.664207</td>\n",
       "      <td>0.335793</td>\n",
       "      <td>-0.012283</td>\n",
       "      <td>0.100052</td>\n",
       "      <td>-0.012283</td>\n",
       "      <td>0.100052</td>\n",
       "    </tr>\n",
       "    <tr>\n",
       "      <th>27</th>\n",
       "      <td>36.0</td>\n",
       "      <td>34.0</td>\n",
       "      <td>1.000000</td>\n",
       "      <td>0.000000</td>\n",
       "      <td>0.400000</td>\n",
       "      <td>0.600000</td>\n",
       "      <td>0.913696</td>\n",
       "      <td>0.086304</td>\n",
       "      <td>0.076923</td>\n",
       "      <td>0.923077</td>\n",
       "      <td>0.828232</td>\n",
       "      <td>0.120392</td>\n",
       "      <td>0.120392</td>\n",
       "      <td>0.828232</td>\n",
       "    </tr>\n",
       "    <tr>\n",
       "      <th>21</th>\n",
       "      <td>28.0</td>\n",
       "      <td>102.0</td>\n",
       "      <td>0.700000</td>\n",
       "      <td>0.300000</td>\n",
       "      <td>0.615385</td>\n",
       "      <td>0.384615</td>\n",
       "      <td>0.458232</td>\n",
       "      <td>0.541768</td>\n",
       "      <td>0.379988</td>\n",
       "      <td>0.620012</td>\n",
       "      <td>0.124466</td>\n",
       "      <td>0.137077</td>\n",
       "      <td>0.124466</td>\n",
       "      <td>0.137077</td>\n",
       "    </tr>\n",
       "    <tr>\n",
       "      <th>25</th>\n",
       "      <td>34.0</td>\n",
       "      <td>31.0</td>\n",
       "      <td>0.600000</td>\n",
       "      <td>0.400000</td>\n",
       "      <td>0.333333</td>\n",
       "      <td>0.666667</td>\n",
       "      <td>0.710720</td>\n",
       "      <td>0.289280</td>\n",
       "      <td>0.965347</td>\n",
       "      <td>0.034653</td>\n",
       "      <td>-0.882812</td>\n",
       "      <td>0.145004</td>\n",
       "      <td>-0.882812</td>\n",
       "      <td>0.145004</td>\n",
       "    </tr>\n",
       "    <tr>\n",
       "      <th>16</th>\n",
       "      <td>22.0</td>\n",
       "      <td>49.0</td>\n",
       "      <td>0.333333</td>\n",
       "      <td>0.666667</td>\n",
       "      <td>0.500000</td>\n",
       "      <td>0.500000</td>\n",
       "      <td>0.000000</td>\n",
       "      <td>1.000000</td>\n",
       "      <td>0.288230</td>\n",
       "      <td>0.711770</td>\n",
       "      <td>0.039116</td>\n",
       "      <td>0.280739</td>\n",
       "      <td>0.039116</td>\n",
       "      <td>0.280739</td>\n",
       "    </tr>\n",
       "    <tr>\n",
       "      <th>23</th>\n",
       "      <td>31.0</td>\n",
       "      <td>75.0</td>\n",
       "      <td>0.500000</td>\n",
       "      <td>0.500000</td>\n",
       "      <td>0.500000</td>\n",
       "      <td>0.500000</td>\n",
       "      <td>0.201884</td>\n",
       "      <td>0.798116</td>\n",
       "      <td>0.403134</td>\n",
       "      <td>0.596866</td>\n",
       "      <td>-0.064926</td>\n",
       "      <td>0.333542</td>\n",
       "      <td>-0.064926</td>\n",
       "      <td>0.333542</td>\n",
       "    </tr>\n",
       "    <tr>\n",
       "      <th>26</th>\n",
       "      <td>35.0</td>\n",
       "      <td>440.0</td>\n",
       "      <td>0.250000</td>\n",
       "      <td>0.750000</td>\n",
       "      <td>0.142857</td>\n",
       "      <td>0.857143</td>\n",
       "      <td>0.000000</td>\n",
       "      <td>1.000000</td>\n",
       "      <td>0.093764</td>\n",
       "      <td>0.906236</td>\n",
       "      <td>-0.003605</td>\n",
       "      <td>0.394157</td>\n",
       "      <td>-0.003605</td>\n",
       "      <td>0.394157</td>\n",
       "    </tr>\n",
       "    <tr>\n",
       "      <th>9</th>\n",
       "      <td>15.0</td>\n",
       "      <td>34.0</td>\n",
       "      <td>0.833333</td>\n",
       "      <td>0.166667</td>\n",
       "      <td>0.500000</td>\n",
       "      <td>0.500000</td>\n",
       "      <td>0.558678</td>\n",
       "      <td>0.441322</td>\n",
       "      <td>0.731302</td>\n",
       "      <td>0.268698</td>\n",
       "      <td>-0.587753</td>\n",
       "      <td>0.412399</td>\n",
       "      <td>-0.587753</td>\n",
       "      <td>0.412399</td>\n",
       "    </tr>\n",
       "    <tr>\n",
       "      <th>2</th>\n",
       "      <td>3.0</td>\n",
       "      <td>204.0</td>\n",
       "      <td>0.250000</td>\n",
       "      <td>0.750000</td>\n",
       "      <td>0.157895</td>\n",
       "      <td>0.842105</td>\n",
       "      <td>0.000000</td>\n",
       "      <td>1.000000</td>\n",
       "      <td>0.180547</td>\n",
       "      <td>0.819453</td>\n",
       "      <td>-0.074402</td>\n",
       "      <td>0.465172</td>\n",
       "      <td>-0.074402</td>\n",
       "      <td>0.465172</td>\n",
       "    </tr>\n",
       "    <tr>\n",
       "      <th>18</th>\n",
       "      <td>24.0</td>\n",
       "      <td>87.0</td>\n",
       "      <td>1.000000</td>\n",
       "      <td>0.000000</td>\n",
       "      <td>0.428571</td>\n",
       "      <td>0.571429</td>\n",
       "      <td>0.601955</td>\n",
       "      <td>0.398045</td>\n",
       "      <td>0.132278</td>\n",
       "      <td>0.867722</td>\n",
       "      <td>0.252083</td>\n",
       "      <td>0.465698</td>\n",
       "      <td>0.252083</td>\n",
       "      <td>0.465698</td>\n",
       "    </tr>\n",
       "    <tr>\n",
       "      <th>24</th>\n",
       "      <td>32.0</td>\n",
       "      <td>46.0</td>\n",
       "      <td>1.000000</td>\n",
       "      <td>0.000000</td>\n",
       "      <td>0.714286</td>\n",
       "      <td>0.285714</td>\n",
       "      <td>0.436080</td>\n",
       "      <td>0.563920</td>\n",
       "      <td>0.625413</td>\n",
       "      <td>0.374587</td>\n",
       "      <td>-0.350891</td>\n",
       "      <td>0.587952</td>\n",
       "      <td>-0.350891</td>\n",
       "      <td>0.587952</td>\n",
       "    </tr>\n",
       "    <tr>\n",
       "      <th>0</th>\n",
       "      <td>0.0</td>\n",
       "      <td>169.0</td>\n",
       "      <td>0.666667</td>\n",
       "      <td>0.333333</td>\n",
       "      <td>0.466667</td>\n",
       "      <td>0.533333</td>\n",
       "      <td>0.153001</td>\n",
       "      <td>0.846999</td>\n",
       "      <td>0.258012</td>\n",
       "      <td>0.741988</td>\n",
       "      <td>-0.013618</td>\n",
       "      <td>0.590164</td>\n",
       "      <td>-0.013618</td>\n",
       "      <td>0.590164</td>\n",
       "    </tr>\n",
       "    <tr>\n",
       "      <th>20</th>\n",
       "      <td>27.0</td>\n",
       "      <td>169.0</td>\n",
       "      <td>0.777778</td>\n",
       "      <td>0.222222</td>\n",
       "      <td>0.388889</td>\n",
       "      <td>0.611111</td>\n",
       "      <td>0.284938</td>\n",
       "      <td>0.715062</td>\n",
       "      <td>0.235178</td>\n",
       "      <td>0.764822</td>\n",
       "      <td>-0.040573</td>\n",
       "      <td>0.630928</td>\n",
       "      <td>-0.040573</td>\n",
       "      <td>0.630928</td>\n",
       "    </tr>\n",
       "  </tbody>\n",
       "</table>\n",
       "</div>"
      ],
      "text/plain": [
       "    cluster  count  P(E, I, E)  P(E, I, NE)  P(NE, I, E)  P(NE, I, NE)  \\\n",
       "7      12.0   54.0    0.600000     0.400000     0.466667      0.533333   \n",
       "3       4.0  129.0    0.333333     0.666667     0.176471      0.823529   \n",
       "12     18.0  126.0    0.384615     0.615385     0.434783      0.565217   \n",
       "28     37.0   42.0    0.827096     0.172904     0.714286      0.285714   \n",
       "14     20.0   81.0    0.583333     0.416667     0.833333      0.166667   \n",
       "1       2.0  104.0    0.600000     0.400000     0.631579      0.368421   \n",
       "13     19.0  106.0    0.500000     0.500000     0.692308      0.307692   \n",
       "29     38.0   78.0    0.666667     0.333333     0.466667      0.533333   \n",
       "11     17.0   22.0    0.250000     0.750000     0.666667      0.333333   \n",
       "15     21.0   95.0    0.833333     0.166667     0.800000      0.200000   \n",
       "8      13.0   97.0    0.750000     0.250000     0.714286      0.285714   \n",
       "5      10.0  304.0    0.152199     0.847801     0.142857      0.857143   \n",
       "17     23.0  178.0    0.500000     0.500000     0.222222      0.777778   \n",
       "6      11.0   63.0    0.941176     0.058824     0.787724      0.212276   \n",
       "10     16.0   58.0    0.947368     0.052632     1.000000      0.000000   \n",
       "4       6.0  128.0    0.571429     0.428571     0.428571      0.571429   \n",
       "22     30.0  133.0    0.503969     0.496031     0.235294      0.764706   \n",
       "19     26.0   65.0    0.857143     0.142857     0.750000      0.250000   \n",
       "27     36.0   34.0    1.000000     0.000000     0.400000      0.600000   \n",
       "21     28.0  102.0    0.700000     0.300000     0.615385      0.384615   \n",
       "25     34.0   31.0    0.600000     0.400000     0.333333      0.666667   \n",
       "16     22.0   49.0    0.333333     0.666667     0.500000      0.500000   \n",
       "23     31.0   75.0    0.500000     0.500000     0.500000      0.500000   \n",
       "26     35.0  440.0    0.250000     0.750000     0.142857      0.857143   \n",
       "9      15.0   34.0    0.833333     0.166667     0.500000      0.500000   \n",
       "2       3.0  204.0    0.250000     0.750000     0.157895      0.842105   \n",
       "18     24.0   87.0    1.000000     0.000000     0.428571      0.571429   \n",
       "24     32.0   46.0    1.000000     0.000000     0.714286      0.285714   \n",
       "0       0.0  169.0    0.666667     0.333333     0.466667      0.533333   \n",
       "20     27.0  169.0    0.777778     0.222222     0.388889      0.611111   \n",
       "\n",
       "    P(E, A, E)  P(E, A, NE)  P(NE, A, E)  P(NE, A, NE)  whittle_NE  whittle_E  \\\n",
       "7     0.791741     0.208259     0.094943      0.905057    0.620995  -0.545204   \n",
       "3     0.501182     0.498818     0.048505      0.951495    0.142818  -0.451195   \n",
       "12    0.345044     0.654956     0.169838      0.830162    0.224579  -0.221558   \n",
       "28    0.674897     0.325103     0.052029      0.947971    0.824566  -0.212509   \n",
       "14    0.580409     0.419591     0.575661      0.424339    0.347382  -0.157028   \n",
       "1     0.560425     0.439575     0.441054      0.558946    0.215088  -0.083786   \n",
       "13    0.322002     0.677998     0.346485      0.653515    0.254211  -0.078079   \n",
       "29    0.594595     0.405405     0.223521      0.776479    0.265198  -0.076897   \n",
       "11    0.208333     0.791667     0.572222      0.427778    0.071495  -0.035034   \n",
       "15    0.667750     0.332250     0.390370      0.609630    0.452606  -0.030930   \n",
       "8     0.533273     0.466727     0.293578      0.706422    0.380714  -0.023361   \n",
       "5     0.000000     1.000000     0.032706      0.967294    0.000000   0.000000   \n",
       "17    0.457050     0.542950     0.159701      0.840299    0.050217   0.011185   \n",
       "6     0.871253     0.128747     0.597523      0.402477    0.259201   0.020325   \n",
       "10    0.884824     0.115176     1.000000      0.000000   -0.085815   0.038025   \n",
       "4     0.419136     0.580864     0.263838      0.736162    0.103218   0.078568   \n",
       "22    0.351770     0.648230     0.072468      0.927532    0.114452   0.093292   \n",
       "19    0.714614     0.285386     0.664207      0.335793   -0.012283   0.100052   \n",
       "27    0.913696     0.086304     0.076923      0.923077    0.828232   0.120392   \n",
       "21    0.458232     0.541768     0.379988      0.620012    0.124466   0.137077   \n",
       "25    0.710720     0.289280     0.965347      0.034653   -0.882812   0.145004   \n",
       "16    0.000000     1.000000     0.288230      0.711770    0.039116   0.280739   \n",
       "23    0.201884     0.798116     0.403134      0.596866   -0.064926   0.333542   \n",
       "26    0.000000     1.000000     0.093764      0.906236   -0.003605   0.394157   \n",
       "9     0.558678     0.441322     0.731302      0.268698   -0.587753   0.412399   \n",
       "2     0.000000     1.000000     0.180547      0.819453   -0.074402   0.465172   \n",
       "18    0.601955     0.398045     0.132278      0.867722    0.252083   0.465698   \n",
       "24    0.436080     0.563920     0.625413      0.374587   -0.350891   0.587952   \n",
       "0     0.153001     0.846999     0.258012      0.741988   -0.013618   0.590164   \n",
       "20    0.284938     0.715062     0.235178      0.764822   -0.040573   0.630928   \n",
       "\n",
       "       worst      best  \n",
       "7  -0.545204  0.620995  \n",
       "3  -0.451195  0.142818  \n",
       "12 -0.221558  0.224579  \n",
       "28 -0.212509  0.824566  \n",
       "14 -0.157028  0.347382  \n",
       "1  -0.083786  0.215088  \n",
       "13 -0.078079  0.254211  \n",
       "29 -0.076897  0.265198  \n",
       "11 -0.035034  0.071495  \n",
       "15 -0.030930  0.452606  \n",
       "8  -0.023361  0.380714  \n",
       "5   0.000000  0.000000  \n",
       "17  0.011185  0.050217  \n",
       "6   0.020325  0.259201  \n",
       "10 -0.085815  0.038025  \n",
       "4   0.078568  0.103218  \n",
       "22  0.093292  0.114452  \n",
       "19 -0.012283  0.100052  \n",
       "27  0.120392  0.828232  \n",
       "21  0.124466  0.137077  \n",
       "25 -0.882812  0.145004  \n",
       "16  0.039116  0.280739  \n",
       "23 -0.064926  0.333542  \n",
       "26 -0.003605  0.394157  \n",
       "9  -0.587753  0.412399  \n",
       "2  -0.074402  0.465172  \n",
       "18  0.252083  0.465698  \n",
       "24 -0.350891  0.587952  \n",
       "0  -0.013618  0.590164  \n",
       "20 -0.040573  0.630928  "
      ]
     },
     "execution_count": 1081,
     "metadata": {},
     "output_type": "execute_result"
    }
   ],
   "source": [
    "pd.merge(cluster_transition_probabilities,\n",
    "        whittle_cluster.drop_duplicates()).sort_values('whittle_E')"
   ]
  },
  {
   "cell_type": "code",
   "execution_count": null,
   "metadata": {},
   "outputs": [],
   "source": []
  },
  {
   "cell_type": "markdown",
   "metadata": {},
   "source": [
    "### Meaningful Clusters"
   ]
  },
  {
   "cell_type": "code",
   "execution_count": 714,
   "metadata": {},
   "outputs": [
    {
     "data": {
      "text/html": [
       "<div>\n",
       "<style scoped>\n",
       "    .dataframe tbody tr th:only-of-type {\n",
       "        vertical-align: middle;\n",
       "    }\n",
       "\n",
       "    .dataframe tbody tr th {\n",
       "        vertical-align: top;\n",
       "    }\n",
       "\n",
       "    .dataframe thead th {\n",
       "        text-align: right;\n",
       "    }\n",
       "</style>\n",
       "<table border=\"1\" class=\"dataframe\">\n",
       "  <thead>\n",
       "    <tr style=\"text-align: right;\">\n",
       "      <th></th>\n",
       "      <th>cluster</th>\n",
       "      <th>count</th>\n",
       "      <th>P(E, I, E)</th>\n",
       "      <th>P(E, I, NE)</th>\n",
       "      <th>P(NE, I, E)</th>\n",
       "      <th>P(NE, I, NE)</th>\n",
       "      <th>P(E, A, E)</th>\n",
       "      <th>P(E, A, NE)</th>\n",
       "      <th>P(NE, A, E)</th>\n",
       "      <th>P(NE, A, NE)</th>\n",
       "    </tr>\n",
       "  </thead>\n",
       "  <tbody>\n",
       "    <tr>\n",
       "      <th>0</th>\n",
       "      <td>0.0</td>\n",
       "      <td>169.0</td>\n",
       "      <td>0.666667</td>\n",
       "      <td>0.333333</td>\n",
       "      <td>0.466667</td>\n",
       "      <td>0.533333</td>\n",
       "      <td>0.153001</td>\n",
       "      <td>0.846999</td>\n",
       "      <td>0.258012</td>\n",
       "      <td>0.741988</td>\n",
       "    </tr>\n",
       "    <tr>\n",
       "      <th>8</th>\n",
       "      <td>8.0</td>\n",
       "      <td>75.0</td>\n",
       "      <td>0.636364</td>\n",
       "      <td>0.363636</td>\n",
       "      <td>0.545455</td>\n",
       "      <td>0.454545</td>\n",
       "      <td>0.390496</td>\n",
       "      <td>0.609504</td>\n",
       "      <td>0.493551</td>\n",
       "      <td>0.506449</td>\n",
       "    </tr>\n",
       "    <tr>\n",
       "      <th>10</th>\n",
       "      <td>10.0</td>\n",
       "      <td>304.0</td>\n",
       "      <td>0.152199</td>\n",
       "      <td>0.847801</td>\n",
       "      <td>0.142857</td>\n",
       "      <td>0.857143</td>\n",
       "      <td>0.000000</td>\n",
       "      <td>1.000000</td>\n",
       "      <td>0.032706</td>\n",
       "      <td>0.967294</td>\n",
       "    </tr>\n",
       "    <tr>\n",
       "      <th>32</th>\n",
       "      <td>32.0</td>\n",
       "      <td>46.0</td>\n",
       "      <td>1.000000</td>\n",
       "      <td>0.000000</td>\n",
       "      <td>0.714286</td>\n",
       "      <td>0.285714</td>\n",
       "      <td>0.436080</td>\n",
       "      <td>0.563920</td>\n",
       "      <td>0.625413</td>\n",
       "      <td>0.374587</td>\n",
       "    </tr>\n",
       "    <tr>\n",
       "      <th>35</th>\n",
       "      <td>35.0</td>\n",
       "      <td>440.0</td>\n",
       "      <td>0.250000</td>\n",
       "      <td>0.750000</td>\n",
       "      <td>0.142857</td>\n",
       "      <td>0.857143</td>\n",
       "      <td>0.000000</td>\n",
       "      <td>1.000000</td>\n",
       "      <td>0.093764</td>\n",
       "      <td>0.906236</td>\n",
       "    </tr>\n",
       "  </tbody>\n",
       "</table>\n",
       "</div>"
      ],
      "text/plain": [
       "    cluster  count  P(E, I, E)  P(E, I, NE)  P(NE, I, E)  P(NE, I, NE)  \\\n",
       "0       0.0  169.0    0.666667     0.333333     0.466667      0.533333   \n",
       "8       8.0   75.0    0.636364     0.363636     0.545455      0.454545   \n",
       "10     10.0  304.0    0.152199     0.847801     0.142857      0.857143   \n",
       "32     32.0   46.0    1.000000     0.000000     0.714286      0.285714   \n",
       "35     35.0  440.0    0.250000     0.750000     0.142857      0.857143   \n",
       "\n",
       "    P(E, A, E)  P(E, A, NE)  P(NE, A, E)  P(NE, A, NE)  \n",
       "0     0.153001     0.846999     0.258012      0.741988  \n",
       "8     0.390496     0.609504     0.493551      0.506449  \n",
       "10    0.000000     1.000000     0.032706      0.967294  \n",
       "32    0.436080     0.563920     0.625413      0.374587  \n",
       "35    0.000000     1.000000     0.093764      0.906236  "
      ]
     },
     "execution_count": 714,
     "metadata": {},
     "output_type": "execute_result"
    }
   ],
   "source": [
    "cluster_transition_probabilities[(cluster_transition_probabilities['P(E, I, E)']> cluster_transition_probabilities['P(E, A, E)']) &\n",
    "                                (cluster_transition_probabilities['P(NE, I, E)']> cluster_transition_probabilities['P(NE, A, E)']) &\n",
    "                                (cluster_transition_probabilities['P(NE, A, E)']> cluster_transition_probabilities['P(E, A, E)']) &\n",
    "                                ((cluster_transition_probabilities['P(E, I, E)']> cluster_transition_probabilities['P(NE, I, E)']))]\n"
   ]
  },
  {
   "cell_type": "code",
   "execution_count": null,
   "metadata": {},
   "outputs": [],
   "source": [
    "e i e > ne i e > ne a e > e a e > "
   ]
  },
  {
   "cell_type": "code",
   "execution_count": null,
   "metadata": {},
   "outputs": [],
   "source": [
    "cluster_transition_probabilities[(cluster_transition_probabilities['P(E, I, E)']> cluster_transition_probabilities['P(NE, I, E)']) & \n",
    "                                (cluster_transition_probabilities['P(NE, I, E)']> cluster_transition_probabilities['P(NE, A, E)']) &\n",
    "                                (cluster_transition_probabilities['P(NE, A, E)']> cluster_transition_probabilities['P(E, A, E)']) &\n",
    "                                (cluster_transition_probabilities['P(E, I, E)']> cluster_transition_probabilities['P(E, A, E)'])]\n"
   ]
  }
 ],
 "metadata": {
  "colab": {
   "collapsed_sections": [],
   "name": "engagement_simulator.ipynb",
   "provenance": []
  },
  "kernelspec": {
   "display_name": "Python 3",
   "language": "python",
   "name": "python3"
  },
  "language_info": {
   "codemirror_mode": {
    "name": "ipython",
    "version": 3
   },
   "file_extension": ".py",
   "mimetype": "text/x-python",
   "name": "python",
   "nbconvert_exporter": "python",
   "pygments_lexer": "ipython3",
   "version": "3.8.8"
  }
 },
 "nbformat": 4,
 "nbformat_minor": 1
}
