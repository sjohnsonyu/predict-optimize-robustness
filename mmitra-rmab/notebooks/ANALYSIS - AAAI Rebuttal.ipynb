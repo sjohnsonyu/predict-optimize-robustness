{
 "cells": [
  {
   "cell_type": "code",
   "execution_count": 1,
   "id": "59c6d3bb",
   "metadata": {},
   "outputs": [],
   "source": [
    "import pandas as pd\n",
    "import numpy as np"
   ]
  },
  {
   "cell_type": "code",
   "execution_count": 2,
   "id": "5c721cae",
   "metadata": {},
   "outputs": [],
   "source": [
    "transitions = pd.read_csv(\"may_data/RMAB_one_month/weekly_transitions_SI_single_group.csv\")"
   ]
  },
  {
   "cell_type": "code",
   "execution_count": 3,
   "id": "b71cbc6e",
   "metadata": {},
   "outputs": [
    {
     "data": {
      "text/html": [
       "<div>\n",
       "<style scoped>\n",
       "    .dataframe tbody tr th:only-of-type {\n",
       "        vertical-align: middle;\n",
       "    }\n",
       "\n",
       "    .dataframe tbody tr th {\n",
       "        vertical-align: top;\n",
       "    }\n",
       "\n",
       "    .dataframe thead th {\n",
       "        text-align: right;\n",
       "    }\n",
       "</style>\n",
       "<table border=\"1\" class=\"dataframe\">\n",
       "  <thead>\n",
       "    <tr style=\"text-align: right;\">\n",
       "      <th></th>\n",
       "      <th>Unnamed: 0</th>\n",
       "      <th>user_id</th>\n",
       "      <th>pre-action state</th>\n",
       "      <th>action</th>\n",
       "      <th>post-action state</th>\n",
       "    </tr>\n",
       "  </thead>\n",
       "  <tbody>\n",
       "    <tr>\n",
       "      <th>0</th>\n",
       "      <td>0</td>\n",
       "      <td>2276450</td>\n",
       "      <td>L</td>\n",
       "      <td>No Intervention</td>\n",
       "      <td>L</td>\n",
       "    </tr>\n",
       "    <tr>\n",
       "      <th>1</th>\n",
       "      <td>1</td>\n",
       "      <td>2276450</td>\n",
       "      <td>L</td>\n",
       "      <td>No Intervention</td>\n",
       "      <td>H</td>\n",
       "    </tr>\n",
       "    <tr>\n",
       "      <th>2</th>\n",
       "      <td>2</td>\n",
       "      <td>2276450</td>\n",
       "      <td>H</td>\n",
       "      <td>No Intervention</td>\n",
       "      <td>H</td>\n",
       "    </tr>\n",
       "    <tr>\n",
       "      <th>3</th>\n",
       "      <td>3</td>\n",
       "      <td>2276450</td>\n",
       "      <td>H</td>\n",
       "      <td>No Intervention</td>\n",
       "      <td>H</td>\n",
       "    </tr>\n",
       "    <tr>\n",
       "      <th>4</th>\n",
       "      <td>4</td>\n",
       "      <td>2276450</td>\n",
       "      <td>H</td>\n",
       "      <td>No Intervention</td>\n",
       "      <td>H</td>\n",
       "    </tr>\n",
       "    <tr>\n",
       "      <th>...</th>\n",
       "      <td>...</td>\n",
       "      <td>...</td>\n",
       "      <td>...</td>\n",
       "      <td>...</td>\n",
       "      <td>...</td>\n",
       "    </tr>\n",
       "    <tr>\n",
       "      <th>121933</th>\n",
       "      <td>121933</td>\n",
       "      <td>2302937</td>\n",
       "      <td>H</td>\n",
       "      <td>No Intervention</td>\n",
       "      <td>H</td>\n",
       "    </tr>\n",
       "    <tr>\n",
       "      <th>121934</th>\n",
       "      <td>121934</td>\n",
       "      <td>2302937</td>\n",
       "      <td>H</td>\n",
       "      <td>No Intervention</td>\n",
       "      <td>H</td>\n",
       "    </tr>\n",
       "    <tr>\n",
       "      <th>121935</th>\n",
       "      <td>121935</td>\n",
       "      <td>2302937</td>\n",
       "      <td>H</td>\n",
       "      <td>No Intervention</td>\n",
       "      <td>H</td>\n",
       "    </tr>\n",
       "    <tr>\n",
       "      <th>121936</th>\n",
       "      <td>121936</td>\n",
       "      <td>2302937</td>\n",
       "      <td>H</td>\n",
       "      <td>No Intervention</td>\n",
       "      <td>H</td>\n",
       "    </tr>\n",
       "    <tr>\n",
       "      <th>121937</th>\n",
       "      <td>121937</td>\n",
       "      <td>2302937</td>\n",
       "      <td>H</td>\n",
       "      <td>No Intervention</td>\n",
       "      <td>H</td>\n",
       "    </tr>\n",
       "  </tbody>\n",
       "</table>\n",
       "<p>121938 rows × 5 columns</p>\n",
       "</div>"
      ],
      "text/plain": [
       "        Unnamed: 0  user_id pre-action state           action  \\\n",
       "0                0  2276450                L  No Intervention   \n",
       "1                1  2276450                L  No Intervention   \n",
       "2                2  2276450                H  No Intervention   \n",
       "3                3  2276450                H  No Intervention   \n",
       "4                4  2276450                H  No Intervention   \n",
       "...            ...      ...              ...              ...   \n",
       "121933      121933  2302937                H  No Intervention   \n",
       "121934      121934  2302937                H  No Intervention   \n",
       "121935      121935  2302937                H  No Intervention   \n",
       "121936      121936  2302937                H  No Intervention   \n",
       "121937      121937  2302937                H  No Intervention   \n",
       "\n",
       "       post-action state  \n",
       "0                      L  \n",
       "1                      H  \n",
       "2                      H  \n",
       "3                      H  \n",
       "4                      H  \n",
       "...                  ...  \n",
       "121933                 H  \n",
       "121934                 H  \n",
       "121935                 H  \n",
       "121936                 H  \n",
       "121937                 H  \n",
       "\n",
       "[121938 rows x 5 columns]"
      ]
     },
     "execution_count": 3,
     "metadata": {},
     "output_type": "execute_result"
    }
   ],
   "source": [
    "transitions"
   ]
  },
  {
   "cell_type": "code",
   "execution_count": 11,
   "id": "7f03f050",
   "metadata": {},
   "outputs": [
    {
     "data": {
      "text/plain": [
       "0.9920943430267841"
      ]
     },
     "execution_count": 11,
     "metadata": {},
     "output_type": "execute_result"
    }
   ],
   "source": [
    "transitions[transitions['action']=='No Intervention'].shape[0]/\\\n",
    "transitions.shape[0]"
   ]
  },
  {
   "cell_type": "code",
   "execution_count": 29,
   "id": "8fff7c9d",
   "metadata": {},
   "outputs": [
    {
     "data": {
      "text/plain": [
       "0.9642857142857143"
      ]
     },
     "execution_count": 29,
     "metadata": {},
     "output_type": "execute_result"
    }
   ],
   "source": [
    "(transitions[transitions['action']=='No Intervention'].groupby(['user_id'])['user_id'].count()/\\\n",
    "transitions.groupby(['user_id'])['user_id'].count()).min()"
   ]
  },
  {
   "cell_type": "code",
   "execution_count": null,
   "id": "56f0ed14",
   "metadata": {},
   "outputs": [],
   "source": []
  }
 ],
 "metadata": {
  "kernelspec": {
   "display_name": "Python 3",
   "language": "python",
   "name": "python3"
  },
  "language_info": {
   "codemirror_mode": {
    "name": "ipython",
    "version": 3
   },
   "file_extension": ".py",
   "mimetype": "text/x-python",
   "name": "python",
   "nbconvert_exporter": "python",
   "pygments_lexer": "ipython3",
   "version": "3.8.8"
  }
 },
 "nbformat": 4,
 "nbformat_minor": 5
}
