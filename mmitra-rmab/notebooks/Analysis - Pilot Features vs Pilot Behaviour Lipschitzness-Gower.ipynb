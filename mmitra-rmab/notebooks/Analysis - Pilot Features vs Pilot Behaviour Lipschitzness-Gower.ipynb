{
 "cells": [
  {
   "cell_type": "code",
   "execution_count": 1,
   "id": "038c40db",
   "metadata": {},
   "outputs": [],
   "source": [
    "import argparse\n",
    "import matplotlib.pyplot as plt\n",
    "import numpy as np\n",
    "import pandas as pd\n",
    "import pickle\n",
    "import tqdm \n",
    "from collections import defaultdict\n",
    "\n",
    "from itertools import combinations"
   ]
  },
  {
   "cell_type": "code",
   "execution_count": 2,
   "id": "8f471faf",
   "metadata": {},
   "outputs": [],
   "source": [
    "from jupyterthemes import jtplot\n",
    "\n",
    "# choose which theme to inherit plotting style from\n",
    "# onedork | grade3 | oceans16 | chesterish | monokai | solarizedl | solarizedd\n",
    "jtplot.style(theme='grade3')"
   ]
  },
  {
   "cell_type": "code",
   "execution_count": 3,
   "id": "819ab7de",
   "metadata": {},
   "outputs": [],
   "source": [
    "df = pd.read_csv('outputs/analysis_lists/all_analysis_week_12.csv')\n",
    "reg = pd.read_csv('feb16-mar15_data/beneficiary/ai_registration-20210216-20210315.csv', sep='\\t')\n",
    "interv_df = pd.read_csv('outputs/interventions.csv')\n",
    "analysis_df = pd.read_csv('outputs/state-cluster-whittle-E_C.csv')\n",
    "pilot_trans_df_small = pd.read_csv('outputs/pilot_transitions.csv')\n",
    "pilot_trans_df = pd.read_csv('outputs/pilot_transitions_5months.csv')"
   ]
  },
  {
   "cell_type": "code",
   "execution_count": 4,
   "id": "8967f0e5",
   "metadata": {},
   "outputs": [
    {
     "name": "stderr",
     "output_type": "stream",
     "text": [
      "/Users/vermashresth/opt/anaconda3/lib/python3.8/site-packages/sklearn/base.py:310: UserWarning: Trying to unpickle estimator DecisionTreeClassifier from version 0.23.2 when using version 0.24.2. This might lead to breaking code or invalid results. Use at your own risk.\n",
      "  warnings.warn(\n",
      "/Users/vermashresth/opt/anaconda3/lib/python3.8/site-packages/sklearn/base.py:310: UserWarning: Trying to unpickle estimator RandomForestClassifier from version 0.23.2 when using version 0.24.2. This might lead to breaking code or invalid results. Use at your own risk.\n",
      "  warnings.warn(\n"
     ]
    }
   ],
   "source": [
    "with open('policy_dump.pkl', 'rb') as fr:\n",
    "  pilot_user_ids, pilot_static_features, cls, cluster_transition_probabilities, m_values, q_values = pickle.load(fr)\n",
    "fr.close()"
   ]
  },
  {
   "cell_type": "code",
   "execution_count": null,
   "id": "774c4d10",
   "metadata": {},
   "outputs": [],
   "source": []
  },
  {
   "cell_type": "code",
   "execution_count": 5,
   "id": "b8bf63ec",
   "metadata": {},
   "outputs": [
    {
     "name": "stderr",
     "output_type": "stream",
     "text": [
      "100%|██████████| 23008/23008 [03:40<00:00, 104.54it/s]\n"
     ]
    }
   ],
   "source": [
    "def get_transition_probabilities(beneficiaries, transitions, min_support=5):\n",
    "    transitions = transitions[transitions['user_id'].isin(beneficiaries)]\n",
    "\n",
    "    i_transitions = transitions[transitions['action']=='Intervention']\n",
    "    n_i_transitions = transitions[transitions['action']=='No Intervention']\n",
    "\n",
    "    i_L = i_transitions[i_transitions['pre-action state']==\"L\"]\n",
    "    i_H = i_transitions[i_transitions['pre-action state']==\"H\"]\n",
    "\n",
    "    i_L_L = i_L[i_L['post-action state']==\"L\"]\n",
    "    i_L_H = i_L[i_L['post-action state']==\"H\"]\n",
    "\n",
    "    i_H_L = i_H[i_H['post-action state']==\"L\"]\n",
    "    i_H_H = i_H[i_H['post-action state']==\"H\"]\n",
    "\n",
    "    n_i_L = n_i_transitions[n_i_transitions['pre-action state']==\"L\"]\n",
    "    n_i_H = n_i_transitions[n_i_transitions['pre-action state']==\"H\"]\n",
    "\n",
    "    n_i_L_L = n_i_L[n_i_L['post-action state']==\"L\"]\n",
    "    n_i_L_H = n_i_L[n_i_L['post-action state']==\"H\"]\n",
    "\n",
    "    n_i_H_L = n_i_H[n_i_H['post-action state']==\"L\"]\n",
    "    n_i_H_H = n_i_H[n_i_H['post-action state']==\"H\"]\n",
    "\n",
    "    transition_probabilities = dict()\n",
    "    if i_L.shape[0] >= min_support:\n",
    "        transition_probabilities['P(L, I, L)'] = i_L_L.shape[0] / i_L.shape[0]\n",
    "        transition_probabilities['P(L, I, H)'] = i_L_H.shape[0] / i_L.shape[0]\n",
    "    else:\n",
    "        transition_probabilities['P(L, I, L)'] = np.nan\n",
    "        transition_probabilities['P(L, I, H)'] = np.nan\n",
    "\n",
    "    if i_H.shape[0] >= min_support:\n",
    "        transition_probabilities['P(H, I, L)'] = i_H_L.shape[0] / i_H.shape[0]\n",
    "        transition_probabilities['P(H, I, H)'] = i_H_H.shape[0] / i_H.shape[0]\n",
    "    else:\n",
    "        transition_probabilities['P(H, I, L)'] = np.nan\n",
    "        transition_probabilities['P(H, I, H)'] = np.nan\n",
    "    \n",
    "    if n_i_L.shape[0] >= min_support:\n",
    "        transition_probabilities['P(L, N, L)'] = n_i_L_L.shape[0] / n_i_L.shape[0]\n",
    "        transition_probabilities['P(L, N, H)'] = n_i_L_H.shape[0] / n_i_L.shape[0]\n",
    "    else:\n",
    "        transition_probabilities['P(L, N, L)'] = np.nan\n",
    "        transition_probabilities['P(L, N, H)'] = np.nan\n",
    "\n",
    "    if n_i_H.shape[0] >= min_support:\n",
    "        transition_probabilities['P(H, N, L)'] = n_i_H_L.shape[0] / n_i_H.shape[0]\n",
    "        transition_probabilities['P(H, N, H)'] = n_i_H_H.shape[0] / n_i_H.shape[0]\n",
    "    else:\n",
    "        transition_probabilities['P(H, N, L)'] = np.nan\n",
    "        transition_probabilities['P(H, N, H)'] = np.nan\n",
    "\n",
    "    return transition_probabilities, {'P(L, I, L)': i_L_L.shape[0], 'P(L, I, H)': i_L_H.shape[0], 'P(H, I, L)': i_H_L.shape[0], 'P(H, I, H)': i_H_H.shape[0], 'P(L, N, L)': n_i_L_L.shape[0], 'P(L, N, H)': n_i_L_H.shape[0], 'P(H, N, L)': n_i_H_L.shape[0], 'P(H, N, H)': n_i_H_H.shape[0]}\n",
    "user_probs, sup = get_transition_probabilities([pilot_user_ids[0]], pilot_trans_df)\n",
    "\n",
    "all_probs = pd.DataFrame(columns = ['user_id'] + list(user_probs.keys()))\n",
    "for user_id in tqdm.tqdm(pilot_user_ids):\n",
    "        user_probs, sup = get_transition_probabilities([user_id], pilot_trans_df)\n",
    "        user_probs['user_id'] = user_id\n",
    "        all_probs = all_probs.append(user_probs, ignore_index=True)"
   ]
  },
  {
   "cell_type": "code",
   "execution_count": 7,
   "id": "cb7a7ab3",
   "metadata": {},
   "outputs": [
    {
     "data": {
      "text/plain": [
       "10159"
      ]
     },
     "execution_count": 7,
     "metadata": {},
     "output_type": "execute_result"
    }
   ],
   "source": [
    "bool_vec = (~all_probs['P(L, N, L)'].isna()) & (~all_probs['P(H, N, L)'].isna())\n",
    "bool_vec.sum()"
   ]
  },
  {
   "cell_type": "code",
   "execution_count": 8,
   "id": "33c6dd92",
   "metadata": {},
   "outputs": [],
   "source": [
    "def gower_dist_func(x, y, **kwargs):\n",
    "    dist = 0\n",
    "#     print(x)\n",
    "#     print(kwargs['ranges'])\n",
    "    for i in range(len(x)):\n",
    "        if kwargs['is_cat_vector'][i]:\n",
    "            if x[i]==y[i]:\n",
    "                feature_dist = 0\n",
    "            else:\n",
    "                feature_dist = 1\n",
    "        else:\n",
    "                feature_dist = np.abs(x[i]-y[i]) / kwargs['ranges'][i]\n",
    "        dist+=feature_dist\n",
    "    return dist"
   ]
  },
  {
   "cell_type": "code",
   "execution_count": 49,
   "id": "280ffed2",
   "metadata": {},
   "outputs": [
    {
     "data": {
      "text/plain": [
       "array([[  0, 183, 985, ..., 127, 993, 150],\n",
       "       [  1, 730,   9, ..., 942, 913,  91],\n",
       "       [  2, 341, 239, ..., 809, 799, 913],\n",
       "       ...,\n",
       "       [997, 525, 866, ..., 425, 704, 996],\n",
       "       [998, 188, 564, ..., 573, 164, 490],\n",
       "       [999, 944, 145, ..., 449, 758, 974]])"
      ]
     },
     "execution_count": 49,
     "metadata": {},
     "output_type": "execute_result"
    }
   ],
   "source": [
    "from sklearn.neighbors import DistanceMetric\n",
    "from sklearn.preprocessing import normalize\n",
    "\n",
    "from sklearn.neighbors import NearestNeighbors\n",
    "import numpy as np\n",
    "\n",
    "cat_bool = np.ones(pilot_static_features.shape[1]).astype(bool)\n",
    "cat_bool[[0, 2, 3, 4, 5, 6, 7]] = False\n",
    "\n",
    "Xd = pd.DataFrame(pilot_static_features[bool_vec][:1000])\n",
    "\n",
    "ranges = np.ptp(pilot_static_features, axis=0)\n",
    "nbrs = NearestNeighbors(n_neighbors=30, metric=gower_dist_func,\n",
    "                        metric_params={\n",
    "                                      \"ranges\":ranges,\n",
    "                                      \"is_cat_vector\":cat_bool}).\\\n",
    "                        fit(Xd.values)\n",
    "distances, indices = nbrs.kneighbors(Xd.values)\n",
    "indices\n",
    "# distances, indices = nbrs.kneighbors(gower_distance(Xd))"
   ]
  },
  {
   "cell_type": "code",
   "execution_count": 53,
   "id": "27ca70ab",
   "metadata": {
    "scrolled": false
   },
   "outputs": [
    {
     "name": "stderr",
     "output_type": "stream",
     "text": [
      "0it [00:00, ?it/s]<ipython-input-53-474f8402b2a7>:20: SettingWithCopyWarning: \n",
      "A value is trying to be set on a copy of a slice from a DataFrame.\n",
      "Try using .loc[row_indexer,col_indexer] = value instead\n",
      "\n",
      "See the caveats in the documentation: https://pandas.pydata.org/pandas-docs/stable/user_guide/indexing.html#returning-a-view-versus-a-copy\n",
      "  neigh_trans_df[\"user_id\"] = base_benef\n",
      "20it [00:00, 188.27it/s]\n"
     ]
    },
    {
     "data": {
      "image/png": "[encoded data removed]",
      "text/plain": [
       "<Figure size 864x576 with 1 Axes>"
      ]
     },
     "metadata": {},
     "output_type": "display_data"
    }
   ],
   "source": [
    "\n",
    "plt.figure(figsize=(12, 8))\n",
    "subset_idx = all_probs[bool_vec].index\n",
    "min_non_nan_points = 5\n",
    "dist_thresh = 4\n",
    "\n",
    "for idx, i in tqdm.tqdm(enumerate(subset_idx)):\n",
    "#     if idx<100:\n",
    "#         continue\n",
    "    if idx>=20:\n",
    "        break\n",
    "    if idx%2==0:\n",
    "        continue\n",
    "    base_benef = pilot_user_ids[bool_vec][indices[idx][0]]\n",
    "    neigh_benefs = pilot_user_ids[bool_vec][indices[idx][1:]]\n",
    "    nearest_n = len(distances[idx][distances[idx]<dist_thresh])\n",
    "    if nearest_n<min_non_nan_points:\n",
    "        continue\n",
    "    neigh_benefs = neigh_benefs[:nearest_n]\n",
    "    neigh_trans_df = pilot_trans_df[pilot_trans_df.user_id.isin(neigh_benefs)]\n",
    "    neigh_trans_df[\"user_id\"] = base_benef\n",
    "\n",
    "    base_trans_probs = all_probs[all_probs.user_id==base_benef][['P(L, N, L)', 'P(H, N, L)']]\n",
    "    neigh_trans_probs = all_probs[all_probs.user_id.isin(neigh_benefs)][['P(L, N, L)', 'P(H, N, L)']]\n",
    "\n",
    "    if pd.isna(base_trans_probs).values.sum():\n",
    "        continue\n",
    "    if (~neigh_trans_probs.iloc[:, 0].isna() & ~neigh_trans_probs.iloc[:, 1].isna()).sum() < min_non_nan_points:\n",
    "        continue\n",
    "#     print('non nan',\n",
    "#          (~neigh_trans_probs.iloc[:, 0].isna() & ~neigh_trans_probs.iloc[:, 1].isna()).sum())\n",
    "    e = np.random.uniform(0, 0.01, neigh_trans_probs.shape)\n",
    "    my_plot = plt.scatter(neigh_trans_probs.iloc[:, 0]+e[:, 0],\n",
    "                neigh_trans_probs.iloc[:, 1]+e[:, 1],\n",
    "               label=str(i), s=100, alpha=0.8)\n",
    "    plt.scatter(base_trans_probs.values[0][0], base_trans_probs.values[0][1],\n",
    "                marker='*', label='', alpha=1,\n",
    "                color=my_plot.get_facecolors()[0], s=1050)\n",
    "#     print('good')\n",
    "plt.legend(fontsize=10)\n",
    "plt.grid(b=None)\n"
   ]
  },
  {
   "cell_type": "code",
   "execution_count": 19,
   "id": "4ce104f7",
   "metadata": {},
   "outputs": [
    {
     "data": {
      "text/plain": [
       "array([0.        , 2.1025641 , 2.37468982, 2.50951199, 2.80851943,\n",
       "       2.81513647, 2.99793217, 3.21588089, 4.01075269, 4.07526881,\n",
       "       4.07940446, 4.08767576, 4.12820513, 4.12820513, 4.26716294,\n",
       "       4.44499586, 4.44913151, 4.54301075, 4.57485525, 4.57485525,\n",
       "       4.6025641 , 4.60918114, 4.61331679, 4.65425972, 4.71174524,\n",
       "       4.73118279, 4.78205128, 4.79528536, 4.80314308, 4.82092638])"
      ]
     },
     "execution_count": 19,
     "metadata": {},
     "output_type": "execute_result"
    }
   ],
   "source": [
    "distances[0]"
   ]
  },
  {
   "cell_type": "code",
   "execution_count": null,
   "id": "d7e203b3",
   "metadata": {},
   "outputs": [],
   "source": []
  },
  {
   "cell_type": "code",
   "execution_count": 48,
   "id": "5f295345",
   "metadata": {},
   "outputs": [
    {
     "name": "stderr",
     "output_type": "stream",
     "text": [
      "0it [00:00, ?it/s]<ipython-input-48-7de72e4f278c>:19: SettingWithCopyWarning: \n",
      "A value is trying to be set on a copy of a slice from a DataFrame.\n",
      "Try using .loc[row_indexer,col_indexer] = value instead\n",
      "\n",
      "See the caveats in the documentation: https://pandas.pydata.org/pandas-docs/stable/user_guide/indexing.html#returning-a-view-versus-a-copy\n",
      "  neigh_trans_df[\"user_id\"] = base_benef\n",
      "56it [00:00, 274.93it/s]"
     ]
    },
    {
     "name": "stdout",
     "output_type": "stream",
     "text": [
      "neighbors mean: [0.66119245 0.37705489], std: [0.20738224 0.22805339] \n",
      "base:  [[0.83333333 0.07142857]]\n",
      "random mean: [0.67459358 0.35727605], std: [0.22571918 0.16783976] \n",
      "\n",
      "neighbors mean: [0.55723304 0.4783189 ], std: [0.29191728 0.16185148] \n",
      "base:  [[0.42857143 0.35714286]]\n",
      "random mean: [0.67926402 0.35452705], std: [0.23218458 0.16326614] \n",
      "\n",
      "neighbors mean: [0.64094775 0.33711801], std: [0.23956364 0.18402741] \n",
      "base:  [[0.71428571 0.66666667]]\n",
      "random mean: [0.66655342 0.3610102 ], std: [0.22225891 0.16962553] \n",
      "\n",
      "neighbors mean: [0.63585859 0.38583639], std: [0.18090602 0.19967222] \n",
      "base:  [[0.76923077 0.42857143]]\n",
      "random mean: [0.68276868 0.35935953], std: [0.23006148 0.17532878] \n",
      "\n",
      "neighbors mean: [0.63368519 0.38236624], std: [0.2190313  0.21763451] \n",
      "base:  [[0.92857143 0.14285714]]\n",
      "random mean: [0.67345842 0.36639578], std: [0.23128014 0.16553614] \n",
      "\n",
      "neighbors mean: [0.65588474 0.3844971 ], std: [0.23254619 0.19331977] \n",
      "base:  [[0.42857143 0.23076923]]\n",
      "random mean: [0.6700618 0.3573697], std: [0.23168771 0.16093852] \n",
      "\n",
      "neighbors mean: [0.71861345 0.39890318], std: [0.20157549 0.18513383] \n",
      "base:  [[0.6   0.125]]\n",
      "random mean: [0.6798549  0.35752135], std: [0.22321654 0.16590126] \n",
      "\n",
      "neighbors mean: [0.61818182 0.3984871 ], std: [0.15002514 0.20509589] \n",
      "base:  [[0.71428571 0.21428571]]\n",
      "random mean: [0.67970383 0.36267902], std: [0.22261216 0.170198  ] \n",
      "\n",
      "neighbors mean: [0.61134243 0.35083181], std: [0.17155426 0.26842617] \n",
      "base:  [[0.16666667 0.33333333]]\n",
      "random mean: [0.68419931 0.35252489], std: [0.22396878 0.17001339] \n",
      "\n",
      "neighbors mean: [0.52136752 0.54633838], std: [0.22693759 0.15996199] \n",
      "base:  [[0.14285714 0.5       ]]\n",
      "random mean: [0.67131702 0.35702365], std: [0.22881565 0.15931191] \n",
      "\n",
      "neighbors mean: [0.72979243 0.46255411], std: [0.10830288 0.24001294] \n",
      "base:  [[0.57142857 0.23076923]]\n",
      "random mean: [0.6742063  0.36231885], std: [0.2258794 0.1664583] \n",
      "\n",
      "neighbors mean: [0.62460317 0.38740079], std: [0.1744747 0.2496342] \n",
      "base:  [[0.7 0.3]]\n",
      "random mean: [0.67462145 0.36423116], std: [0.22855154 0.17075003] \n",
      "\n",
      "neighbors mean: [0.675      0.54537037], std: [0.22399467 0.14675152] \n",
      "base:  [[0.5        0.14285714]]\n",
      "random mean: [0.68232392 0.35865089], std: [0.22684221 0.16231225] \n",
      "\n",
      "neighbors mean: [0.6320211  0.39263393], std: [0.2793554  0.21551329] \n",
      "base:  [[0.78571429 0.57142857]]\n",
      "random mean: [0.67141841 0.35573638], std: [0.2299539  0.16817414] \n",
      "\n",
      "neighbors mean: [0.65014812 0.46836717], std: [0.28177806 0.25587482] \n",
      "base:  [[0.6        0.36363636]]\n",
      "random mean: [0.67430417 0.35087349], std: [0.23160047 0.16163302] \n",
      "\n",
      "neighbors mean: [0.6590812  0.40918803], std: [0.17868543 0.15384983] \n",
      "base:  [[0.73333333 0.8       ]]\n",
      "random mean: [0.67346934 0.35496572], std: [0.23177118 0.16392024] \n",
      "\n"
     ]
    },
    {
     "name": "stderr",
     "output_type": "stream",
     "text": [
      "\r",
      "86it [00:00, 276.95it/s]"
     ]
    },
    {
     "name": "stdout",
     "output_type": "stream",
     "text": [
      "neighbors mean: [0.60440917 0.54140212], std: [0.15006041 0.25331265] \n",
      "base:  [[0.5 0.5]]\n",
      "random mean: [0.68378454 0.37202249], std: [0.2205449  0.16975361] \n",
      "\n",
      "neighbors mean: [0.62361369 0.4204932 ], std: [0.12834246 0.22200837] \n",
      "base:  [[0.75 0.5 ]]\n",
      "random mean: [0.67969235 0.36326155], std: [0.219412   0.16812392] \n",
      "\n",
      "neighbors mean: [0.65690374 0.48264791], std: [0.24039933 0.17398616] \n",
      "base:  [[0.71428571 0.14285714]]\n",
      "random mean: [0.67062575 0.36711423], std: [0.2277015  0.16776832] \n",
      "\n",
      "neighbors mean: [0.62657224 0.49530678], std: [0.22272156 0.16364373] \n",
      "base:  [[0.875      0.08333333]]\n",
      "random mean: [0.68157004 0.35963395], std: [0.22066134 0.17057499] \n",
      "\n",
      "neighbors mean: [0.67687302 0.37848217], std: [0.19318078 0.22159192] \n",
      "base:  [[0.7        0.27272727]]\n",
      "random mean: [0.68113887 0.36504683], std: [0.22672434 0.16638979] \n",
      "\n",
      "neighbors mean: [0.65595238 0.3280506 ], std: [0.16842609 0.12409187] \n",
      "base:  [[0.73333333 0.83333333]]\n",
      "random mean: [0.6745507 0.3541302], std: [0.23024781 0.16476826] \n",
      "\n",
      "neighbors mean: [0.63289953 0.39748649], std: [0.22877008 0.23319224] \n",
      "base:  [[0.8    0.0625]]\n",
      "random mean: [0.67544239 0.35813003], std: [0.22942653 0.16586386] \n",
      "\n",
      "neighbors mean: [0.69634039 0.29790534], std: [0.10790437 0.20700898] \n",
      "base:  [[0.66666667 0.83333333]]\n",
      "random mean: [0.68355091 0.35665665], std: [0.22232826 0.16743959] \n",
      "\n",
      "neighbors mean: [0.58909424 0.3432967 ], std: [0.2517824  0.25946938] \n",
      "base:  [[0.5        0.30769231]]\n",
      "random mean: [0.6695099  0.36769464], std: [0.22827434 0.1707431 ] \n",
      "\n",
      "neighbors mean: [0.70778729 0.38062771], std: [0.17378812 0.26395737] \n",
      "base:  [[0.76923077 0.375     ]]\n",
      "random mean: [0.67106227 0.35786517], std: [0.22622013 0.16778692] \n",
      "\n",
      "neighbors mean: [0.60542929 0.3888855 ], std: [0.18055205 0.19906876] \n",
      "base:  [[0.85714286 0.5       ]]\n",
      "random mean: [0.6733768  0.35448203], std: [0.22787571 0.16252542] \n",
      "\n",
      "neighbors mean: [0.65557015 0.37931452], std: [0.22397993 0.23336814] \n",
      "base:  [[0.33333333 0.35714286]]\n",
      "random mean: [0.68115819 0.36380035], std: [0.21599908 0.16758745] \n",
      "\n",
      "neighbors mean: [0.56644903 0.50894819], std: [0.24204298 0.30867357] \n",
      "base:  [[0.83333333 0.22222222]]\n",
      "random mean: [0.66947843 0.35659523], std: [0.22402352 0.16621362] \n",
      "\n",
      "neighbors mean: [0.62552547 0.41328929], std: [0.14528111 0.2630035 ] \n",
      "base:  [[0.81818182 0.2       ]]\n",
      "random mean: [0.68172633 0.35849195], std: [0.22578081 0.16636231] \n",
      "\n",
      "neighbors mean: [0.57781266 0.46303855], std: [0.2367246  0.31232583] \n",
      "base:  [[0.54545455 0.6       ]]\n",
      "random mean: [0.68752394 0.35513271], std: [0.22850002 0.17261478] \n",
      "\n",
      "neighbors mean: [0.69519988 0.35411255], std: [0.1668532  0.24641728] \n",
      "base:  [[0.73333333 0.66666667]]\n",
      "random mean: [0.67723374 0.34944097], std: [0.23151514 0.16549099] \n",
      "\n",
      "neighbors mean: [0.751537  0.4694234], std: [0.14032921 0.25279154] \n",
      "base:  [[0.25       0.53846154]]\n",
      "random mean: [0.68738926 0.35632345], std: [0.2185943  0.16680338] \n",
      "\n",
      "neighbors mean: [0.71819279 0.46147186], std: [0.13372327 0.25942783] \n",
      "base:  [[0.9375 0.4   ]]\n"
     ]
    },
    {
     "name": "stderr",
     "output_type": "stream",
     "text": [
      "160it [00:00, 306.97it/s]"
     ]
    },
    {
     "name": "stdout",
     "output_type": "stream",
     "text": [
      "random mean: [0.68123203 0.35356312], std: [0.2222706  0.15880027] \n",
      "\n",
      "neighbors mean: [0.65300226 0.40072445], std: [0.19473163 0.24321173] \n",
      "base:  [[0.75       0.33333333]]\n",
      "random mean: [0.68230269 0.36294395], std: [0.21770711 0.16532726] \n",
      "\n",
      "neighbors mean: [0.6547619  0.34139194], std: [0.19956017 0.18253864] \n",
      "base:  [[0.25       0.46153846]]\n",
      "random mean: [0.67170139 0.35302732], std: [0.22574345 0.16038176] \n",
      "\n",
      "neighbors mean: [0.63744579 0.36199801], std: [0.22614251 0.19499607] \n",
      "base:  [[0.66666667 0.71428571]]\n",
      "random mean: [0.67926378 0.36545288], std: [0.22058366 0.16646634] \n",
      "\n",
      "neighbors mean: [0.59838911 0.44657738], std: [0.25281722 0.34990711] \n",
      "base:  [[0.55555556 0.33333333]]\n",
      "random mean: [0.68155108 0.35614119], std: [0.2240728  0.16379559] \n",
      "\n",
      "neighbors mean: [0.55775235 0.48831169], std: [0.22312115 0.25567805] \n",
      "base:  [[0.6   0.125]]\n",
      "random mean: [0.69184506 0.35235096], std: [0.2270296  0.16560252] \n",
      "\n",
      "neighbors mean: [0.53861833 0.42226486], std: [0.29574711 0.17584679] \n",
      "base:  [[0.66666667 0.55555556]]\n",
      "random mean: [0.67417392 0.35920455], std: [0.2300267  0.16110383] \n",
      "\n",
      "neighbors mean: [0.59586386 0.45907738], std: [0.20250967 0.34106078] \n",
      "base:  [[0.33333333 0.26666667]]\n",
      "random mean: [0.67845701 0.35797148], std: [0.223918   0.16822797] \n",
      "\n",
      "neighbors mean: [0.7125     0.43022487], std: [0.17222142 0.2604253 ] \n",
      "base:  [[0.5        0.41666667]]\n",
      "random mean: [0.69460679 0.35038662], std: [0.21806351 0.16794606] \n",
      "\n",
      "neighbors mean: [0.61847458 0.49967532], std: [0.22176726 0.29116823] \n",
      "base:  [[0.8 0.2]]\n",
      "random mean: [0.67821348 0.37372437], std: [0.22027708 0.16947076] \n",
      "\n",
      "neighbors mean: [0.57251082 0.4317384 ], std: [0.16715333 0.28190006] \n",
      "base:  [[0.86666667 0.5       ]]\n",
      "random mean: [0.68355346 0.35260526], std: [0.22076536 0.17036853] \n",
      "\n",
      "neighbors mean: [0.63219697 0.33041667], std: [0.17612555 0.22749008] \n",
      "base:  [[0.71428571 0.83333333]]\n",
      "random mean: [0.67995567 0.36624254], std: [0.22350733 0.16502226] \n",
      "\n",
      "neighbors mean: [0.56887686 0.34371286], std: [0.19984452 0.25061344] \n",
      "base:  [[0.69230769 0.71428571]]\n",
      "random mean: [0.6764457  0.36048105], std: [0.23362638 0.1655863 ] \n",
      "\n",
      "neighbors mean: [0.61448551 0.46215986], std: [0.26919984 0.33354213] \n",
      "base:  [[0.875      0.07692308]]\n",
      "random mean: [0.68164869 0.3606957 ], std: [0.22856404 0.16348986] \n",
      "\n",
      "neighbors mean: [0.66247456 0.3549062 ], std: [0.213954   0.12684475] \n",
      "base:  [[0.73333333 0.83333333]]\n",
      "random mean: [0.67601308 0.35832943], std: [0.22624926 0.16826669] \n",
      "\n",
      "neighbors mean: [0.54168852 0.42947573], std: [0.16528181 0.21322474] \n",
      "base:  [[0.69230769 0.71428571]]\n",
      "random mean: [0.67098264 0.35445424], std: [0.22601947 0.17247536] \n",
      "\n",
      "neighbors mean: [0.65326191 0.36408823], std: [0.22095456 0.21620093] \n",
      "base:  [[0.4        0.63636364]]\n",
      "random mean: [0.67225444 0.36367076], std: [0.22905185 0.16152275] \n",
      "\n",
      "neighbors mean: [0.63799208 0.33941686], std: [0.23805523 0.18780618] \n",
      "base:  [[0.8 0.6]]\n",
      "random mean: [0.67042947 0.35525627], std: [0.23377052 0.17235452] \n",
      "\n",
      "neighbors mean: [0.68620269 0.4297619 ], std: [0.17185294 0.15615218] \n",
      "base:  [[0.83333333 0.33333333]]\n"
     ]
    },
    {
     "name": "stderr",
     "output_type": "stream",
     "text": [
      "200it [00:00, 310.22it/s]"
     ]
    },
    {
     "name": "stdout",
     "output_type": "stream",
     "text": [
      "random mean: [0.68005459 0.36411059], std: [0.22486141 0.16804144] \n",
      "\n",
      "neighbors mean: [0.67118326 0.3047619 ], std: [0.20189578 0.17545284] \n",
      "base:  [[0.5        0.28571429]]\n",
      "random mean: [0.67714065 0.35658173], std: [0.22947022 0.16282416] \n",
      "\n",
      "neighbors mean: [0.56365079 0.34709957], std: [0.2323052  0.15567489] \n",
      "base:  [[0.81818182 0.2       ]]\n",
      "random mean: [0.68491493 0.35166829], std: [0.22451269 0.16646274] \n",
      "\n"
     ]
    },
    {
     "name": "stderr",
     "output_type": "stream",
     "text": [
      "\n"
     ]
    }
   ],
   "source": [
    "\n",
    "subset_idx = all_probs[bool_vec].index\n",
    "min_non_nan_points = 5\n",
    "dist_thresh = 4\n",
    "\n",
    "for idx, i in tqdm.tqdm(enumerate(subset_idx)):\n",
    "    if idx>=200:\n",
    "        break\n",
    "    if idx%2==0:\n",
    "        continue\n",
    "    base_benef = pilot_user_ids[bool_vec][indices[idx][0]]\n",
    "    neigh_benefs = pilot_user_ids[bool_vec][indices[idx][1:]]\n",
    "    nearest_n = len(distances[idx][distances[idx]<dist_thresh])\n",
    "\n",
    "    if nearest_n<min_non_nan_points:\n",
    "        continue\n",
    "        \n",
    "    neigh_benefs = neigh_benefs[:nearest_n]\n",
    "    neigh_trans_df = pilot_trans_df[pilot_trans_df.user_id.isin(neigh_benefs)]\n",
    "    neigh_trans_df[\"user_id\"] = base_benef\n",
    "\n",
    "    base_trans_probs = all_probs[all_probs.user_id==base_benef][['P(L, N, L)', 'P(H, N, L)']]\n",
    "    neigh_trans_probs = all_probs[all_probs.user_id.isin(neigh_benefs)][['P(L, N, L)', 'P(H, N, L)']]\n",
    "\n",
    "    if pd.isna(base_trans_probs).values.sum():\n",
    "        continue\n",
    "    non_nan_points = (~neigh_trans_probs.iloc[:, 0].isna() & ~neigh_trans_probs.iloc[:, 1].isna())\n",
    "    \n",
    "    if non_nan_points.sum() < min_non_nan_points:\n",
    "        continue\n",
    "\n",
    "    e = np.random.uniform(0, 0.01, neigh_trans_probs.shape)\n",
    "    std = neigh_trans_probs[non_nan_points].std().values\n",
    "    mean = neigh_trans_probs[non_nan_points].mean().values\n",
    "    print(f'neighbors mean: {mean}, std: {std} ')\n",
    "    print('base: ', base_trans_probs.values )\n",
    "    \n",
    "    random_pts = all_probs[~all_probs[['P(L, N, L)', 'P(H, N, L)']].isna().\\\n",
    "                           sum(axis=1).astype(bool)].sample(1000)\\\n",
    "                          [['P(L, N, L)', 'P(H, N, L)']]\n",
    "    std = random_pts.std().values\n",
    "    mean = random_pts.mean().values\n",
    "    print(f'random mean: {mean}, std: {std} \\n')\n",
    "\n"
   ]
  },
  {
   "cell_type": "code",
   "execution_count": null,
   "id": "79141684",
   "metadata": {},
   "outputs": [],
   "source": []
  },
  {
   "cell_type": "code",
   "execution_count": null,
   "id": "9d55a825",
   "metadata": {},
   "outputs": [],
   "source": []
  },
  {
   "cell_type": "code",
   "execution_count": null,
   "id": "d4407994",
   "metadata": {},
   "outputs": [],
   "source": []
  }
 ],
 "metadata": {
  "kernelspec": {
   "display_name": "Python 3",
   "language": "python",
   "name": "python3"
  },
  "language_info": {
   "codemirror_mode": {
    "name": "ipython",
    "version": 3
   },
   "file_extension": ".py",
   "mimetype": "text/x-python",
   "name": "python",
   "nbconvert_exporter": "python",
   "pygments_lexer": "ipython3",
   "version": "3.8.8"
  }
 },
 "nbformat": 4,
 "nbformat_minor": 5
}
